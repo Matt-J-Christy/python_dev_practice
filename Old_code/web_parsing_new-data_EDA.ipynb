{
 "cells": [
  {
   "cell_type": "markdown",
   "metadata": {},
   "source": [
    "## Web Scraping and Writing to Google Sheets\n",
    "    1. Get the data and parse with requests, lxml and Beatiful Soup \n",
    "    2. Data wrange into dictionaries \n",
    "    3. Create Pandas DF and clean the data\n",
    "    4. Write to Google Sheets "
   ]
  },
  {
   "cell_type": "code",
   "execution_count": 1,
   "metadata": {},
   "outputs": [],
   "source": [
    "from requests import get \n",
    "import lxml.html as lh\n",
    "import pandas as pd\n",
    "from bs4 import BeautifulSoup "
   ]
  },
  {
   "cell_type": "code",
   "execution_count": 2,
   "metadata": {},
   "outputs": [],
   "source": [
    "#imputing URL and creating header creds for parsing \n",
    "url = 'http://www.nfl.com/stats/weeklyleaders?week=15&season=2019&type=REG&showCategory=Rushing'\n",
    "my_header = {'User-Agent': 'Mozilla/5.0 (Windows NT 10.0; Win64; x64) AppleWebKit/537.36 (KHTML, like Gecko) Chrome/78.0.3904.97 Safari/537.36'}\n"
   ]
  },
  {
   "cell_type": "code",
   "execution_count": 3,
   "metadata": {},
   "outputs": [],
   "source": [
    "#grabbing the HTML and getting text \n",
    "fantasy_page = get(url, headers = my_header)\n",
    "\n",
    "doc = lh.fromstring(fantasy_page.content)"
   ]
  },
  {
   "cell_type": "code",
   "execution_count": 4,
   "metadata": {},
   "outputs": [
    {
     "name": "stdout",
     "output_type": "stream",
     "text": [
      "<Response [200]>\n"
     ]
    }
   ],
   "source": [
    "print(fantasy_page)"
   ]
  },
  {
   "cell_type": "markdown",
   "metadata": {},
   "source": [
    "Response == 200 means the page scraped successfully "
   ]
  },
  {
   "cell_type": "code",
   "execution_count": 5,
   "metadata": {},
   "outputs": [],
   "source": [
    "#parsing table elements in the HTML inside the pattern \"//tr\" --> this is a table element \n",
    "\n",
    "table_elements = doc.xpath('//tr')"
   ]
  },
  {
   "cell_type": "code",
   "execution_count": 6,
   "metadata": {},
   "outputs": [],
   "source": [
    "#[len(T) for T in table_elements[:-1]]"
   ]
  },
  {
   "cell_type": "code",
   "execution_count": 7,
   "metadata": {},
   "outputs": [],
   "source": [
    "title = doc.xpath('//tr//th')"
   ]
  },
  {
   "cell_type": "code",
   "execution_count": 8,
   "metadata": {},
   "outputs": [],
   "source": [
    "colnames = []\n",
    "\n",
    "n = len(title)\n",
    "\n",
    "for i in range(0, n):\n",
    "    name = title[i].text_content()\n",
    "    colnames.append(name)\n",
    "    #print(i) \n"
   ]
  },
  {
   "cell_type": "code",
   "execution_count": 9,
   "metadata": {},
   "outputs": [
    {
     "data": {
      "text/plain": [
       "9"
      ]
     },
     "execution_count": 9,
     "metadata": {},
     "output_type": "execute_result"
    }
   ],
   "source": [
    "len(colnames)"
   ]
  },
  {
   "cell_type": "code",
   "execution_count": 10,
   "metadata": {},
   "outputs": [],
   "source": [
    "#creating an empty array to insert the table elements \n",
    "cols = []\n",
    "\n",
    "i = 0 #setting the increment \n",
    "\n",
    "for j in range(0, len(colnames)):\n",
    "    i+1\n",
    "    name = colnames[j] #getting the column name from the HTML table \n",
    "    #print('%d:\"%s\"'% (i, name))\n",
    "    cols.append((name, []))\n",
    "    "
   ]
  },
  {
   "cell_type": "code",
   "execution_count": 11,
   "metadata": {},
   "outputs": [],
   "source": [
    "#Since out first row is the header, data is stored on the second row onwards\n",
    "\n",
    "for j in range(1,len(table_elements)):\n",
    "    #T is our j'th row\n",
    "    T=table_elements[j]\n",
    "    \n",
    "    #If row is not of size 24, the //tr data is not from our table \n",
    "    if len(T)!=len(colnames):\n",
    "        break\n",
    "    \n",
    "    #i is the index of our column\n",
    "    i=0\n",
    "    \n",
    "    #Iterate through each element of the row\n",
    "    for t in T.iterchildren():\n",
    "        data=t.text_content() \n",
    "\n",
    "        #Append the data to the empty list of the i'th column\n",
    "        cols[i][1].append(data)\n",
    "        #Increment i for the next column\n",
    "        i+=1"
   ]
  },
  {
   "cell_type": "code",
   "execution_count": 58,
   "metadata": {},
   "outputs": [],
   "source": [
    "#creating a dictionary for the columns in the parsed table \n",
    "Dict={title:column for (title,column) in cols}\n",
    "\n",
    "df=pd.DataFrame(Dict)"
   ]
  },
  {
   "cell_type": "code",
   "execution_count": 59,
   "metadata": {},
   "outputs": [
    {
     "data": {
      "text/html": [
       "<div>\n",
       "<style scoped>\n",
       "    .dataframe tbody tr th:only-of-type {\n",
       "        vertical-align: middle;\n",
       "    }\n",
       "\n",
       "    .dataframe tbody tr th {\n",
       "        vertical-align: top;\n",
       "    }\n",
       "\n",
       "    .dataframe thead th {\n",
       "        text-align: right;\n",
       "    }\n",
       "</style>\n",
       "<table border=\"1\" class=\"dataframe\">\n",
       "  <thead>\n",
       "    <tr style=\"text-align: right;\">\n",
       "      <th></th>\n",
       "      <th>Name</th>\n",
       "      <th>Team</th>\n",
       "      <th>Opp</th>\n",
       "      <th>Score</th>\n",
       "      <th>\\nAtt</th>\n",
       "      <th>\\nYds</th>\n",
       "      <th>\\nAvg</th>\n",
       "      <th>\\nTD</th>\n",
       "      <th>\\nFUM</th>\n",
       "    </tr>\n",
       "  </thead>\n",
       "  <tbody>\n",
       "    <tr>\n",
       "      <th>0</th>\n",
       "      <td>\\r\\n\\tKenyan Drake\\r\\n</td>\n",
       "      <td>\\r\\n\\tARI\\r\\n</td>\n",
       "      <td>\\r\\nvs CLE\\r\\n</td>\n",
       "      <td>\\r\\n\\r\\n\\tW\\r\\n\\t\\r\\n\\t\\r\\n\\r\\n 38-24\\r\\n\\r\\n\\...</td>\n",
       "      <td>22</td>\n",
       "      <td>137</td>\n",
       "      <td>6.2</td>\n",
       "      <td>4</td>\n",
       "      <td>0</td>\n",
       "    </tr>\n",
       "    <tr>\n",
       "      <th>1</th>\n",
       "      <td>\\r\\n\\tJoe Mixon\\r\\n</td>\n",
       "      <td>\\r\\n\\tCIN\\r\\n</td>\n",
       "      <td>\\r\\nvs NE\\r\\n</td>\n",
       "      <td>\\r\\n\\r\\n\\t\\r\\n\\tL\\r\\n\\t\\r\\n\\r\\n 13-34\\r\\n\\r\\n\\...</td>\n",
       "      <td>25</td>\n",
       "      <td>136</td>\n",
       "      <td>5.4</td>\n",
       "      <td>0</td>\n",
       "      <td>0</td>\n",
       "    </tr>\n",
       "    <tr>\n",
       "      <th>2</th>\n",
       "      <td>\\r\\n\\tChris Carson\\r\\n</td>\n",
       "      <td>\\r\\n\\tSEA\\r\\n</td>\n",
       "      <td>\\r\\n@ CAR\\r\\n</td>\n",
       "      <td>\\r\\n\\r\\n\\tW\\r\\n\\t\\r\\n\\t\\r\\n\\r\\n 30-24\\r\\n\\r\\n\\...</td>\n",
       "      <td>24</td>\n",
       "      <td>133</td>\n",
       "      <td>5.5</td>\n",
       "      <td>2</td>\n",
       "      <td>0</td>\n",
       "    </tr>\n",
       "    <tr>\n",
       "      <th>3</th>\n",
       "      <td>\\r\\n\\tTony Pollard\\r\\n</td>\n",
       "      <td>\\r\\n\\tDAL\\r\\n</td>\n",
       "      <td>\\r\\nvs LA\\r\\n</td>\n",
       "      <td>\\r\\n\\r\\n\\tW\\r\\n\\t\\r\\n\\t\\r\\n\\r\\n 44-21\\r\\n\\r\\n\\...</td>\n",
       "      <td>12</td>\n",
       "      <td>131</td>\n",
       "      <td>10.9</td>\n",
       "      <td>1</td>\n",
       "      <td>0</td>\n",
       "    </tr>\n",
       "    <tr>\n",
       "      <th>4</th>\n",
       "      <td>\\r\\n\\tNick Chubb\\r\\n</td>\n",
       "      <td>\\r\\n\\tCLE\\r\\n</td>\n",
       "      <td>\\r\\n@ ARI\\r\\n</td>\n",
       "      <td>\\r\\n\\r\\n\\t\\r\\n\\tL\\r\\n\\t\\r\\n\\r\\n 24-38\\r\\n\\r\\n\\...</td>\n",
       "      <td>17</td>\n",
       "      <td>127</td>\n",
       "      <td>7.5</td>\n",
       "      <td>1</td>\n",
       "      <td>0</td>\n",
       "    </tr>\n",
       "    <tr>\n",
       "      <th>...</th>\n",
       "      <td>...</td>\n",
       "      <td>...</td>\n",
       "      <td>...</td>\n",
       "      <td>...</td>\n",
       "      <td>...</td>\n",
       "      <td>...</td>\n",
       "      <td>...</td>\n",
       "      <td>...</td>\n",
       "      <td>...</td>\n",
       "    </tr>\n",
       "    <tr>\n",
       "      <th>391</th>\n",
       "      <td>\\r\\n\\tRussell Wilson\\r\\n</td>\n",
       "      <td>\\r\\n\\tSEA\\r\\n</td>\n",
       "      <td>\\r\\n@ CAR\\r\\n</td>\n",
       "      <td>\\r\\n\\r\\n\\tW\\r\\n\\t\\r\\n\\t\\r\\n\\r\\n 30-24\\r\\n\\r\\n\\...</td>\n",
       "      <td>3</td>\n",
       "      <td>-1</td>\n",
       "      <td>-0.3</td>\n",
       "      <td>0</td>\n",
       "      <td>0</td>\n",
       "    </tr>\n",
       "    <tr>\n",
       "      <th>392</th>\n",
       "      <td>\\r\\n\\tTom Brady\\r\\n</td>\n",
       "      <td>\\r\\n\\tNE\\r\\n</td>\n",
       "      <td>\\r\\n@ CIN\\r\\n</td>\n",
       "      <td>\\r\\n\\r\\n\\tW\\r\\n\\t\\r\\n\\t\\r\\n\\r\\n 34-13\\r\\n\\r\\n\\...</td>\n",
       "      <td>2</td>\n",
       "      <td>-2</td>\n",
       "      <td>-1.0</td>\n",
       "      <td>0</td>\n",
       "      <td>0</td>\n",
       "    </tr>\n",
       "    <tr>\n",
       "      <th>393</th>\n",
       "      <td>\\r\\n\\tElijhaa Penny\\r\\n</td>\n",
       "      <td>\\r\\n\\tNYG\\r\\n</td>\n",
       "      <td>\\r\\nvs MIA\\r\\n</td>\n",
       "      <td>\\r\\n\\r\\n\\tW\\r\\n\\t\\r\\n\\t\\r\\n\\r\\n 36-20\\r\\n\\r\\n\\...</td>\n",
       "      <td>1</td>\n",
       "      <td>-2</td>\n",
       "      <td>-2.0</td>\n",
       "      <td>0</td>\n",
       "      <td>0</td>\n",
       "    </tr>\n",
       "    <tr>\n",
       "      <th>394</th>\n",
       "      <td>\\r\\n\\tTeddy Bridgewater\\r\\n</td>\n",
       "      <td>\\r\\n\\tNO\\r\\n</td>\n",
       "      <td>\\r\\nvs IND\\r\\n</td>\n",
       "      <td>\\r\\n\\r\\n\\tW\\r\\n\\t\\r\\n\\t\\r\\n\\r\\n 34-7\\r\\n\\r\\n\\t...</td>\n",
       "      <td>3</td>\n",
       "      <td>-3</td>\n",
       "      <td>-1.0</td>\n",
       "      <td>0</td>\n",
       "      <td>0</td>\n",
       "    </tr>\n",
       "    <tr>\n",
       "      <th>395</th>\n",
       "      <td>\\r\\n\\tSean Mannion\\r\\n</td>\n",
       "      <td>\\r\\n\\tMIN\\r\\n</td>\n",
       "      <td>\\r\\n@ LAC\\r\\n</td>\n",
       "      <td>\\r\\n\\r\\n\\tW\\r\\n\\t\\r\\n\\t\\r\\n\\r\\n 39-10\\r\\n\\r\\n\\...</td>\n",
       "      <td>3</td>\n",
       "      <td>-3</td>\n",
       "      <td>-1.0</td>\n",
       "      <td>0</td>\n",
       "      <td>0</td>\n",
       "    </tr>\n",
       "  </tbody>\n",
       "</table>\n",
       "<p>396 rows × 9 columns</p>\n",
       "</div>"
      ],
      "text/plain": [
       "                            Name           Team             Opp  \\\n",
       "0         \\r\\n\\tKenyan Drake\\r\\n  \\r\\n\\tARI\\r\\n  \\r\\nvs CLE\\r\\n   \n",
       "1            \\r\\n\\tJoe Mixon\\r\\n  \\r\\n\\tCIN\\r\\n   \\r\\nvs NE\\r\\n   \n",
       "2         \\r\\n\\tChris Carson\\r\\n  \\r\\n\\tSEA\\r\\n   \\r\\n@ CAR\\r\\n   \n",
       "3         \\r\\n\\tTony Pollard\\r\\n  \\r\\n\\tDAL\\r\\n   \\r\\nvs LA\\r\\n   \n",
       "4           \\r\\n\\tNick Chubb\\r\\n  \\r\\n\\tCLE\\r\\n   \\r\\n@ ARI\\r\\n   \n",
       "..                           ...            ...             ...   \n",
       "391     \\r\\n\\tRussell Wilson\\r\\n  \\r\\n\\tSEA\\r\\n   \\r\\n@ CAR\\r\\n   \n",
       "392          \\r\\n\\tTom Brady\\r\\n   \\r\\n\\tNE\\r\\n   \\r\\n@ CIN\\r\\n   \n",
       "393      \\r\\n\\tElijhaa Penny\\r\\n  \\r\\n\\tNYG\\r\\n  \\r\\nvs MIA\\r\\n   \n",
       "394  \\r\\n\\tTeddy Bridgewater\\r\\n   \\r\\n\\tNO\\r\\n  \\r\\nvs IND\\r\\n   \n",
       "395       \\r\\n\\tSean Mannion\\r\\n  \\r\\n\\tMIN\\r\\n   \\r\\n@ LAC\\r\\n   \n",
       "\n",
       "                                                 Score \\nAtt \\nYds \\nAvg \\nTD  \\\n",
       "0    \\r\\n\\r\\n\\tW\\r\\n\\t\\r\\n\\t\\r\\n\\r\\n 38-24\\r\\n\\r\\n\\...    22   137   6.2    4   \n",
       "1    \\r\\n\\r\\n\\t\\r\\n\\tL\\r\\n\\t\\r\\n\\r\\n 13-34\\r\\n\\r\\n\\...    25   136   5.4    0   \n",
       "2    \\r\\n\\r\\n\\tW\\r\\n\\t\\r\\n\\t\\r\\n\\r\\n 30-24\\r\\n\\r\\n\\...    24   133   5.5    2   \n",
       "3    \\r\\n\\r\\n\\tW\\r\\n\\t\\r\\n\\t\\r\\n\\r\\n 44-21\\r\\n\\r\\n\\...    12   131  10.9    1   \n",
       "4    \\r\\n\\r\\n\\t\\r\\n\\tL\\r\\n\\t\\r\\n\\r\\n 24-38\\r\\n\\r\\n\\...    17   127   7.5    1   \n",
       "..                                                 ...   ...   ...   ...  ...   \n",
       "391  \\r\\n\\r\\n\\tW\\r\\n\\t\\r\\n\\t\\r\\n\\r\\n 30-24\\r\\n\\r\\n\\...     3    -1  -0.3    0   \n",
       "392  \\r\\n\\r\\n\\tW\\r\\n\\t\\r\\n\\t\\r\\n\\r\\n 34-13\\r\\n\\r\\n\\...     2    -2  -1.0    0   \n",
       "393  \\r\\n\\r\\n\\tW\\r\\n\\t\\r\\n\\t\\r\\n\\r\\n 36-20\\r\\n\\r\\n\\...     1    -2  -2.0    0   \n",
       "394  \\r\\n\\r\\n\\tW\\r\\n\\t\\r\\n\\t\\r\\n\\r\\n 34-7\\r\\n\\r\\n\\t...     3    -3  -1.0    0   \n",
       "395  \\r\\n\\r\\n\\tW\\r\\n\\t\\r\\n\\t\\r\\n\\r\\n 39-10\\r\\n\\r\\n\\...     3    -3  -1.0    0   \n",
       "\n",
       "    \\nFUM  \n",
       "0       0  \n",
       "1       0  \n",
       "2       0  \n",
       "3       0  \n",
       "4       0  \n",
       "..    ...  \n",
       "391     0  \n",
       "392     0  \n",
       "393     0  \n",
       "394     0  \n",
       "395     0  \n",
       "\n",
       "[396 rows x 9 columns]"
      ]
     },
     "execution_count": 59,
     "metadata": {},
     "output_type": "execute_result"
    }
   ],
   "source": [
    "df"
   ]
  },
  {
   "cell_type": "markdown",
   "metadata": {},
   "source": [
    "### Light data cleaning \n",
    "    1. Dropping the \"Rk\" row because it is empty \n",
    "    2. Dropping a blank column used for formatting in the HTML "
   ]
  },
  {
   "cell_type": "code",
   "execution_count": 61,
   "metadata": {},
   "outputs": [],
   "source": [
    "escapes = ''.join([chr(char) for char in range(1, 32)])\n",
    "\n",
    "translator = str.maketrans('', '', escapes)"
   ]
  },
  {
   "cell_type": "code",
   "execution_count": 62,
   "metadata": {},
   "outputs": [],
   "source": [
    "df.columns = df.columns.str.translate(translator)"
   ]
  },
  {
   "cell_type": "code",
   "execution_count": 63,
   "metadata": {},
   "outputs": [],
   "source": [
    "fixed = ['Name', 'Team', 'Opp', 'Score']\n",
    "\n",
    "for i in fixed:\n",
    "    df.loc[:, i] = df.loc[:, i].str.translate(translator)"
   ]
  },
  {
   "cell_type": "code",
   "execution_count": 64,
   "metadata": {},
   "outputs": [
    {
     "data": {
      "text/html": [
       "<div>\n",
       "<style scoped>\n",
       "    .dataframe tbody tr th:only-of-type {\n",
       "        vertical-align: middle;\n",
       "    }\n",
       "\n",
       "    .dataframe tbody tr th {\n",
       "        vertical-align: top;\n",
       "    }\n",
       "\n",
       "    .dataframe thead th {\n",
       "        text-align: right;\n",
       "    }\n",
       "</style>\n",
       "<table border=\"1\" class=\"dataframe\">\n",
       "  <thead>\n",
       "    <tr style=\"text-align: right;\">\n",
       "      <th></th>\n",
       "      <th>Name</th>\n",
       "      <th>Team</th>\n",
       "      <th>Opp</th>\n",
       "      <th>Score</th>\n",
       "      <th>Att</th>\n",
       "      <th>Yds</th>\n",
       "      <th>Avg</th>\n",
       "      <th>TD</th>\n",
       "      <th>FUM</th>\n",
       "    </tr>\n",
       "  </thead>\n",
       "  <tbody>\n",
       "    <tr>\n",
       "      <th>0</th>\n",
       "      <td>Kenyan Drake</td>\n",
       "      <td>ARI</td>\n",
       "      <td>vs CLE</td>\n",
       "      <td>W 38-24</td>\n",
       "      <td>22</td>\n",
       "      <td>137</td>\n",
       "      <td>6.2</td>\n",
       "      <td>4</td>\n",
       "      <td>0</td>\n",
       "    </tr>\n",
       "    <tr>\n",
       "      <th>1</th>\n",
       "      <td>Joe Mixon</td>\n",
       "      <td>CIN</td>\n",
       "      <td>vs NE</td>\n",
       "      <td>L 13-34</td>\n",
       "      <td>25</td>\n",
       "      <td>136</td>\n",
       "      <td>5.4</td>\n",
       "      <td>0</td>\n",
       "      <td>0</td>\n",
       "    </tr>\n",
       "    <tr>\n",
       "      <th>2</th>\n",
       "      <td>Chris Carson</td>\n",
       "      <td>SEA</td>\n",
       "      <td>@ CAR</td>\n",
       "      <td>W 30-24</td>\n",
       "      <td>24</td>\n",
       "      <td>133</td>\n",
       "      <td>5.5</td>\n",
       "      <td>2</td>\n",
       "      <td>0</td>\n",
       "    </tr>\n",
       "    <tr>\n",
       "      <th>3</th>\n",
       "      <td>Tony Pollard</td>\n",
       "      <td>DAL</td>\n",
       "      <td>vs LA</td>\n",
       "      <td>W 44-21</td>\n",
       "      <td>12</td>\n",
       "      <td>131</td>\n",
       "      <td>10.9</td>\n",
       "      <td>1</td>\n",
       "      <td>0</td>\n",
       "    </tr>\n",
       "    <tr>\n",
       "      <th>4</th>\n",
       "      <td>Nick Chubb</td>\n",
       "      <td>CLE</td>\n",
       "      <td>@ ARI</td>\n",
       "      <td>L 24-38</td>\n",
       "      <td>17</td>\n",
       "      <td>127</td>\n",
       "      <td>7.5</td>\n",
       "      <td>1</td>\n",
       "      <td>0</td>\n",
       "    </tr>\n",
       "    <tr>\n",
       "      <th>...</th>\n",
       "      <td>...</td>\n",
       "      <td>...</td>\n",
       "      <td>...</td>\n",
       "      <td>...</td>\n",
       "      <td>...</td>\n",
       "      <td>...</td>\n",
       "      <td>...</td>\n",
       "      <td>...</td>\n",
       "      <td>...</td>\n",
       "    </tr>\n",
       "    <tr>\n",
       "      <th>391</th>\n",
       "      <td>Russell Wilson</td>\n",
       "      <td>SEA</td>\n",
       "      <td>@ CAR</td>\n",
       "      <td>W 30-24</td>\n",
       "      <td>3</td>\n",
       "      <td>-1</td>\n",
       "      <td>-0.3</td>\n",
       "      <td>0</td>\n",
       "      <td>0</td>\n",
       "    </tr>\n",
       "    <tr>\n",
       "      <th>392</th>\n",
       "      <td>Tom Brady</td>\n",
       "      <td>NE</td>\n",
       "      <td>@ CIN</td>\n",
       "      <td>W 34-13</td>\n",
       "      <td>2</td>\n",
       "      <td>-2</td>\n",
       "      <td>-1.0</td>\n",
       "      <td>0</td>\n",
       "      <td>0</td>\n",
       "    </tr>\n",
       "    <tr>\n",
       "      <th>393</th>\n",
       "      <td>Elijhaa Penny</td>\n",
       "      <td>NYG</td>\n",
       "      <td>vs MIA</td>\n",
       "      <td>W 36-20</td>\n",
       "      <td>1</td>\n",
       "      <td>-2</td>\n",
       "      <td>-2.0</td>\n",
       "      <td>0</td>\n",
       "      <td>0</td>\n",
       "    </tr>\n",
       "    <tr>\n",
       "      <th>394</th>\n",
       "      <td>Teddy Bridgewater</td>\n",
       "      <td>NO</td>\n",
       "      <td>vs IND</td>\n",
       "      <td>W 34-7</td>\n",
       "      <td>3</td>\n",
       "      <td>-3</td>\n",
       "      <td>-1.0</td>\n",
       "      <td>0</td>\n",
       "      <td>0</td>\n",
       "    </tr>\n",
       "    <tr>\n",
       "      <th>395</th>\n",
       "      <td>Sean Mannion</td>\n",
       "      <td>MIN</td>\n",
       "      <td>@ LAC</td>\n",
       "      <td>W 39-10</td>\n",
       "      <td>3</td>\n",
       "      <td>-3</td>\n",
       "      <td>-1.0</td>\n",
       "      <td>0</td>\n",
       "      <td>0</td>\n",
       "    </tr>\n",
       "  </tbody>\n",
       "</table>\n",
       "<p>396 rows × 9 columns</p>\n",
       "</div>"
      ],
      "text/plain": [
       "                  Name Team     Opp     Score Att  Yds   Avg TD FUM\n",
       "0         Kenyan Drake  ARI  vs CLE  W 38-24   22  137   6.2  4   0\n",
       "1            Joe Mixon  CIN   vs NE  L 13-34   25  136   5.4  0   0\n",
       "2         Chris Carson  SEA   @ CAR  W 30-24   24  133   5.5  2   0\n",
       "3         Tony Pollard  DAL   vs LA  W 44-21   12  131  10.9  1   0\n",
       "4           Nick Chubb  CLE   @ ARI  L 24-38   17  127   7.5  1   0\n",
       "..                 ...  ...     ...       ...  ..  ...   ... ..  ..\n",
       "391     Russell Wilson  SEA   @ CAR  W 30-24    3   -1  -0.3  0   0\n",
       "392          Tom Brady   NE   @ CIN  W 34-13    2   -2  -1.0  0   0\n",
       "393      Elijhaa Penny  NYG  vs MIA  W 36-20    1   -2  -2.0  0   0\n",
       "394  Teddy Bridgewater   NO  vs IND   W 34-7    3   -3  -1.0  0   0\n",
       "395       Sean Mannion  MIN   @ LAC  W 39-10    3   -3  -1.0  0   0\n",
       "\n",
       "[396 rows x 9 columns]"
      ]
     },
     "execution_count": 64,
     "metadata": {},
     "output_type": "execute_result"
    }
   ],
   "source": [
    "df"
   ]
  },
  {
   "cell_type": "markdown",
   "metadata": {},
   "source": [
    "#### Data Validation with Pydantic "
   ]
  },
  {
   "cell_type": "code",
   "execution_count": 65,
   "metadata": {},
   "outputs": [
    {
     "data": {
      "text/plain": [
       "Index(['Name', 'Team', 'Opp', 'Score', 'Att', 'Yds', 'Avg', 'TD', 'FUM'], dtype='object')"
      ]
     },
     "execution_count": 65,
     "metadata": {},
     "output_type": "execute_result"
    }
   ],
   "source": [
    "df.columns"
   ]
  },
  {
   "cell_type": "code",
   "execution_count": 66,
   "metadata": {},
   "outputs": [],
   "source": [
    "from pydantic import BaseModel\n",
    "\n",
    "class scrapped_passing(BaseModel):\n",
    "    Name: str\n",
    "    Team: str\n",
    "    Opp: str \n",
    "    Score: str \n",
    "    Comp: int \n",
    "    Att: int \n",
    "    Yds: float\n",
    "    TD: int \n",
    "    Int: int\n",
    "    Sck: int\n",
    "    FUM: int\n",
    "    Rate: float\n",
    "\n",
    "class scrapped_recieving(BaseModel):\n",
    "    Name: str\n",
    "    Team: str\n",
    "    Opp: str \n",
    "    Score: str\n",
    "    Rec: int \n",
    "    Yds: float\n",
    "    Avg: float \n",
    "    TD: int\n",
    "    Fum: int \n",
    "        \n",
    "class scrapped_rushing(BaseModel):\n",
    "    Name: str\n",
    "    Team: str\n",
    "    Opp: str \n",
    "    Score: str\n",
    "    Rec: int \n",
    "    Yds: float\n",
    "    Avg: float \n",
    "    TD: int\n",
    "    Fum: int "
   ]
  },
  {
   "cell_type": "code",
   "execution_count": 67,
   "metadata": {},
   "outputs": [
    {
     "ename": "KeyError",
     "evalue": "'Comp'",
     "output_type": "error",
     "traceback": [
      "\u001b[1;31m---------------------------------------------------------------------------\u001b[0m",
      "\u001b[1;31mKeyError\u001b[0m                                  Traceback (most recent call last)",
      "\u001b[1;32m~\\.julia\\conda\\3\\lib\\site-packages\\pandas\\core\\indexes\\base.py\u001b[0m in \u001b[0;36mget_loc\u001b[1;34m(self, key, method, tolerance)\u001b[0m\n\u001b[0;32m   2896\u001b[0m             \u001b[1;32mtry\u001b[0m\u001b[1;33m:\u001b[0m\u001b[1;33m\u001b[0m\u001b[1;33m\u001b[0m\u001b[0m\n\u001b[1;32m-> 2897\u001b[1;33m                 \u001b[1;32mreturn\u001b[0m \u001b[0mself\u001b[0m\u001b[1;33m.\u001b[0m\u001b[0m_engine\u001b[0m\u001b[1;33m.\u001b[0m\u001b[0mget_loc\u001b[0m\u001b[1;33m(\u001b[0m\u001b[0mkey\u001b[0m\u001b[1;33m)\u001b[0m\u001b[1;33m\u001b[0m\u001b[1;33m\u001b[0m\u001b[0m\n\u001b[0m\u001b[0;32m   2898\u001b[0m             \u001b[1;32mexcept\u001b[0m \u001b[0mKeyError\u001b[0m\u001b[1;33m:\u001b[0m\u001b[1;33m\u001b[0m\u001b[1;33m\u001b[0m\u001b[0m\n",
      "\u001b[1;32mpandas\\_libs\\index.pyx\u001b[0m in \u001b[0;36mpandas._libs.index.IndexEngine.get_loc\u001b[1;34m()\u001b[0m\n",
      "\u001b[1;32mpandas\\_libs\\index.pyx\u001b[0m in \u001b[0;36mpandas._libs.index.IndexEngine.get_loc\u001b[1;34m()\u001b[0m\n",
      "\u001b[1;32mpandas\\_libs\\hashtable_class_helper.pxi\u001b[0m in \u001b[0;36mpandas._libs.hashtable.PyObjectHashTable.get_item\u001b[1;34m()\u001b[0m\n",
      "\u001b[1;32mpandas\\_libs\\hashtable_class_helper.pxi\u001b[0m in \u001b[0;36mpandas._libs.hashtable.PyObjectHashTable.get_item\u001b[1;34m()\u001b[0m\n",
      "\u001b[1;31mKeyError\u001b[0m: 'Comp'",
      "\nDuring handling of the above exception, another exception occurred:\n",
      "\u001b[1;31mKeyError\u001b[0m                                  Traceback (most recent call last)",
      "\u001b[1;32m<ipython-input-67-c92ec56491da>\u001b[0m in \u001b[0;36m<module>\u001b[1;34m\u001b[0m\n\u001b[0;32m      3\u001b[0m                \u001b[0mOpp\u001b[0m \u001b[1;33m=\u001b[0m \u001b[0mdf\u001b[0m\u001b[1;33m.\u001b[0m\u001b[0mloc\u001b[0m\u001b[1;33m[\u001b[0m\u001b[1;33m:\u001b[0m\u001b[1;33m,\u001b[0m \u001b[1;34m'Opp'\u001b[0m\u001b[1;33m]\u001b[0m\u001b[1;33m,\u001b[0m\u001b[1;33m\u001b[0m\u001b[1;33m\u001b[0m\u001b[0m\n\u001b[0;32m      4\u001b[0m                \u001b[0mScore\u001b[0m \u001b[1;33m=\u001b[0m \u001b[0mdf\u001b[0m\u001b[1;33m.\u001b[0m\u001b[0mloc\u001b[0m\u001b[1;33m[\u001b[0m\u001b[1;33m:\u001b[0m\u001b[1;33m,\u001b[0m \u001b[1;34m'Score'\u001b[0m\u001b[1;33m]\u001b[0m\u001b[1;33m,\u001b[0m\u001b[1;33m\u001b[0m\u001b[1;33m\u001b[0m\u001b[0m\n\u001b[1;32m----> 5\u001b[1;33m                \u001b[0mComp\u001b[0m \u001b[1;33m=\u001b[0m \u001b[0mdf\u001b[0m\u001b[1;33m.\u001b[0m\u001b[0mloc\u001b[0m\u001b[1;33m[\u001b[0m\u001b[1;33m:\u001b[0m\u001b[1;33m,\u001b[0m \u001b[1;34m'Comp'\u001b[0m\u001b[1;33m]\u001b[0m\u001b[1;33m,\u001b[0m\u001b[1;33m\u001b[0m\u001b[1;33m\u001b[0m\u001b[0m\n\u001b[0m\u001b[0;32m      6\u001b[0m                \u001b[0mAtt\u001b[0m \u001b[1;33m=\u001b[0m \u001b[0mdf\u001b[0m\u001b[1;33m.\u001b[0m\u001b[0mloc\u001b[0m\u001b[1;33m[\u001b[0m\u001b[1;33m:\u001b[0m\u001b[1;33m,\u001b[0m \u001b[1;34m'Att'\u001b[0m\u001b[1;33m]\u001b[0m\u001b[1;33m,\u001b[0m\u001b[1;33m\u001b[0m\u001b[1;33m\u001b[0m\u001b[0m\n\u001b[0;32m      7\u001b[0m                \u001b[0mTds\u001b[0m \u001b[1;33m=\u001b[0m \u001b[0mdf\u001b[0m\u001b[1;33m.\u001b[0m\u001b[0mloc\u001b[0m\u001b[1;33m[\u001b[0m\u001b[1;33m:\u001b[0m\u001b[1;33m,\u001b[0m \u001b[1;34m'Yds'\u001b[0m\u001b[1;33m]\u001b[0m\u001b[1;33m,\u001b[0m\u001b[1;33m\u001b[0m\u001b[1;33m\u001b[0m\u001b[0m\n",
      "\u001b[1;32m~\\.julia\\conda\\3\\lib\\site-packages\\pandas\\core\\indexing.py\u001b[0m in \u001b[0;36m__getitem__\u001b[1;34m(self, key)\u001b[0m\n\u001b[0;32m   1416\u001b[0m                 \u001b[1;32mexcept\u001b[0m \u001b[1;33m(\u001b[0m\u001b[0mKeyError\u001b[0m\u001b[1;33m,\u001b[0m \u001b[0mIndexError\u001b[0m\u001b[1;33m,\u001b[0m \u001b[0mAttributeError\u001b[0m\u001b[1;33m)\u001b[0m\u001b[1;33m:\u001b[0m\u001b[1;33m\u001b[0m\u001b[1;33m\u001b[0m\u001b[0m\n\u001b[0;32m   1417\u001b[0m                     \u001b[1;32mpass\u001b[0m\u001b[1;33m\u001b[0m\u001b[1;33m\u001b[0m\u001b[0m\n\u001b[1;32m-> 1418\u001b[1;33m             \u001b[1;32mreturn\u001b[0m \u001b[0mself\u001b[0m\u001b[1;33m.\u001b[0m\u001b[0m_getitem_tuple\u001b[0m\u001b[1;33m(\u001b[0m\u001b[0mkey\u001b[0m\u001b[1;33m)\u001b[0m\u001b[1;33m\u001b[0m\u001b[1;33m\u001b[0m\u001b[0m\n\u001b[0m\u001b[0;32m   1419\u001b[0m         \u001b[1;32melse\u001b[0m\u001b[1;33m:\u001b[0m\u001b[1;33m\u001b[0m\u001b[1;33m\u001b[0m\u001b[0m\n\u001b[0;32m   1420\u001b[0m             \u001b[1;31m# we by definition only have the 0th axis\u001b[0m\u001b[1;33m\u001b[0m\u001b[1;33m\u001b[0m\u001b[1;33m\u001b[0m\u001b[0m\n",
      "\u001b[1;32m~\\.julia\\conda\\3\\lib\\site-packages\\pandas\\core\\indexing.py\u001b[0m in \u001b[0;36m_getitem_tuple\u001b[1;34m(self, tup)\u001b[0m\n\u001b[0;32m    803\u001b[0m     \u001b[1;32mdef\u001b[0m \u001b[0m_getitem_tuple\u001b[0m\u001b[1;33m(\u001b[0m\u001b[0mself\u001b[0m\u001b[1;33m,\u001b[0m \u001b[0mtup\u001b[0m\u001b[1;33m)\u001b[0m\u001b[1;33m:\u001b[0m\u001b[1;33m\u001b[0m\u001b[1;33m\u001b[0m\u001b[0m\n\u001b[0;32m    804\u001b[0m         \u001b[1;32mtry\u001b[0m\u001b[1;33m:\u001b[0m\u001b[1;33m\u001b[0m\u001b[1;33m\u001b[0m\u001b[0m\n\u001b[1;32m--> 805\u001b[1;33m             \u001b[1;32mreturn\u001b[0m \u001b[0mself\u001b[0m\u001b[1;33m.\u001b[0m\u001b[0m_getitem_lowerdim\u001b[0m\u001b[1;33m(\u001b[0m\u001b[0mtup\u001b[0m\u001b[1;33m)\u001b[0m\u001b[1;33m\u001b[0m\u001b[1;33m\u001b[0m\u001b[0m\n\u001b[0m\u001b[0;32m    806\u001b[0m         \u001b[1;32mexcept\u001b[0m \u001b[0mIndexingError\u001b[0m\u001b[1;33m:\u001b[0m\u001b[1;33m\u001b[0m\u001b[1;33m\u001b[0m\u001b[0m\n\u001b[0;32m    807\u001b[0m             \u001b[1;32mpass\u001b[0m\u001b[1;33m\u001b[0m\u001b[1;33m\u001b[0m\u001b[0m\n",
      "\u001b[1;32m~\\.julia\\conda\\3\\lib\\site-packages\\pandas\\core\\indexing.py\u001b[0m in \u001b[0;36m_getitem_lowerdim\u001b[1;34m(self, tup)\u001b[0m\n\u001b[0;32m    927\u001b[0m         \u001b[1;32mfor\u001b[0m \u001b[0mi\u001b[0m\u001b[1;33m,\u001b[0m \u001b[0mkey\u001b[0m \u001b[1;32min\u001b[0m \u001b[0menumerate\u001b[0m\u001b[1;33m(\u001b[0m\u001b[0mtup\u001b[0m\u001b[1;33m)\u001b[0m\u001b[1;33m:\u001b[0m\u001b[1;33m\u001b[0m\u001b[1;33m\u001b[0m\u001b[0m\n\u001b[0;32m    928\u001b[0m             \u001b[1;32mif\u001b[0m \u001b[0mis_label_like\u001b[0m\u001b[1;33m(\u001b[0m\u001b[0mkey\u001b[0m\u001b[1;33m)\u001b[0m \u001b[1;32mor\u001b[0m \u001b[0misinstance\u001b[0m\u001b[1;33m(\u001b[0m\u001b[0mkey\u001b[0m\u001b[1;33m,\u001b[0m \u001b[0mtuple\u001b[0m\u001b[1;33m)\u001b[0m\u001b[1;33m:\u001b[0m\u001b[1;33m\u001b[0m\u001b[1;33m\u001b[0m\u001b[0m\n\u001b[1;32m--> 929\u001b[1;33m                 \u001b[0msection\u001b[0m \u001b[1;33m=\u001b[0m \u001b[0mself\u001b[0m\u001b[1;33m.\u001b[0m\u001b[0m_getitem_axis\u001b[0m\u001b[1;33m(\u001b[0m\u001b[0mkey\u001b[0m\u001b[1;33m,\u001b[0m \u001b[0maxis\u001b[0m\u001b[1;33m=\u001b[0m\u001b[0mi\u001b[0m\u001b[1;33m)\u001b[0m\u001b[1;33m\u001b[0m\u001b[1;33m\u001b[0m\u001b[0m\n\u001b[0m\u001b[0;32m    930\u001b[0m \u001b[1;33m\u001b[0m\u001b[0m\n\u001b[0;32m    931\u001b[0m                 \u001b[1;31m# we have yielded a scalar ?\u001b[0m\u001b[1;33m\u001b[0m\u001b[1;33m\u001b[0m\u001b[1;33m\u001b[0m\u001b[0m\n",
      "\u001b[1;32m~\\.julia\\conda\\3\\lib\\site-packages\\pandas\\core\\indexing.py\u001b[0m in \u001b[0;36m_getitem_axis\u001b[1;34m(self, key, axis)\u001b[0m\n\u001b[0;32m   1848\u001b[0m         \u001b[1;31m# fall thru to straight lookup\u001b[0m\u001b[1;33m\u001b[0m\u001b[1;33m\u001b[0m\u001b[1;33m\u001b[0m\u001b[0m\n\u001b[0;32m   1849\u001b[0m         \u001b[0mself\u001b[0m\u001b[1;33m.\u001b[0m\u001b[0m_validate_key\u001b[0m\u001b[1;33m(\u001b[0m\u001b[0mkey\u001b[0m\u001b[1;33m,\u001b[0m \u001b[0maxis\u001b[0m\u001b[1;33m)\u001b[0m\u001b[1;33m\u001b[0m\u001b[1;33m\u001b[0m\u001b[0m\n\u001b[1;32m-> 1850\u001b[1;33m         \u001b[1;32mreturn\u001b[0m \u001b[0mself\u001b[0m\u001b[1;33m.\u001b[0m\u001b[0m_get_label\u001b[0m\u001b[1;33m(\u001b[0m\u001b[0mkey\u001b[0m\u001b[1;33m,\u001b[0m \u001b[0maxis\u001b[0m\u001b[1;33m=\u001b[0m\u001b[0maxis\u001b[0m\u001b[1;33m)\u001b[0m\u001b[1;33m\u001b[0m\u001b[1;33m\u001b[0m\u001b[0m\n\u001b[0m\u001b[0;32m   1851\u001b[0m \u001b[1;33m\u001b[0m\u001b[0m\n\u001b[0;32m   1852\u001b[0m \u001b[1;33m\u001b[0m\u001b[0m\n",
      "\u001b[1;32m~\\.julia\\conda\\3\\lib\\site-packages\\pandas\\core\\indexing.py\u001b[0m in \u001b[0;36m_get_label\u001b[1;34m(self, label, axis)\u001b[0m\n\u001b[0;32m    158\u001b[0m             \u001b[1;32mraise\u001b[0m \u001b[0mIndexingError\u001b[0m\u001b[1;33m(\u001b[0m\u001b[1;34m\"no slices here, handle elsewhere\"\u001b[0m\u001b[1;33m)\u001b[0m\u001b[1;33m\u001b[0m\u001b[1;33m\u001b[0m\u001b[0m\n\u001b[0;32m    159\u001b[0m \u001b[1;33m\u001b[0m\u001b[0m\n\u001b[1;32m--> 160\u001b[1;33m         \u001b[1;32mreturn\u001b[0m \u001b[0mself\u001b[0m\u001b[1;33m.\u001b[0m\u001b[0mobj\u001b[0m\u001b[1;33m.\u001b[0m\u001b[0m_xs\u001b[0m\u001b[1;33m(\u001b[0m\u001b[0mlabel\u001b[0m\u001b[1;33m,\u001b[0m \u001b[0maxis\u001b[0m\u001b[1;33m=\u001b[0m\u001b[0maxis\u001b[0m\u001b[1;33m)\u001b[0m\u001b[1;33m\u001b[0m\u001b[1;33m\u001b[0m\u001b[0m\n\u001b[0m\u001b[0;32m    161\u001b[0m \u001b[1;33m\u001b[0m\u001b[0m\n\u001b[0;32m    162\u001b[0m     \u001b[1;32mdef\u001b[0m \u001b[0m_get_loc\u001b[0m\u001b[1;33m(\u001b[0m\u001b[0mself\u001b[0m\u001b[1;33m,\u001b[0m \u001b[0mkey\u001b[0m\u001b[1;33m:\u001b[0m \u001b[0mint\u001b[0m\u001b[1;33m,\u001b[0m \u001b[0maxis\u001b[0m\u001b[1;33m:\u001b[0m \u001b[0mint\u001b[0m\u001b[1;33m)\u001b[0m\u001b[1;33m:\u001b[0m\u001b[1;33m\u001b[0m\u001b[1;33m\u001b[0m\u001b[0m\n",
      "\u001b[1;32m~\\.julia\\conda\\3\\lib\\site-packages\\pandas\\core\\generic.py\u001b[0m in \u001b[0;36mxs\u001b[1;34m(self, key, axis, level, drop_level)\u001b[0m\n\u001b[0;32m   3727\u001b[0m \u001b[1;33m\u001b[0m\u001b[0m\n\u001b[0;32m   3728\u001b[0m         \u001b[1;32mif\u001b[0m \u001b[0maxis\u001b[0m \u001b[1;33m==\u001b[0m \u001b[1;36m1\u001b[0m\u001b[1;33m:\u001b[0m\u001b[1;33m\u001b[0m\u001b[1;33m\u001b[0m\u001b[0m\n\u001b[1;32m-> 3729\u001b[1;33m             \u001b[1;32mreturn\u001b[0m \u001b[0mself\u001b[0m\u001b[1;33m[\u001b[0m\u001b[0mkey\u001b[0m\u001b[1;33m]\u001b[0m\u001b[1;33m\u001b[0m\u001b[1;33m\u001b[0m\u001b[0m\n\u001b[0m\u001b[0;32m   3730\u001b[0m \u001b[1;33m\u001b[0m\u001b[0m\n\u001b[0;32m   3731\u001b[0m         \u001b[0mself\u001b[0m\u001b[1;33m.\u001b[0m\u001b[0m_consolidate_inplace\u001b[0m\u001b[1;33m(\u001b[0m\u001b[1;33m)\u001b[0m\u001b[1;33m\u001b[0m\u001b[1;33m\u001b[0m\u001b[0m\n",
      "\u001b[1;32m~\\.julia\\conda\\3\\lib\\site-packages\\pandas\\core\\frame.py\u001b[0m in \u001b[0;36m__getitem__\u001b[1;34m(self, key)\u001b[0m\n\u001b[0;32m   2993\u001b[0m             \u001b[1;32mif\u001b[0m \u001b[0mself\u001b[0m\u001b[1;33m.\u001b[0m\u001b[0mcolumns\u001b[0m\u001b[1;33m.\u001b[0m\u001b[0mnlevels\u001b[0m \u001b[1;33m>\u001b[0m \u001b[1;36m1\u001b[0m\u001b[1;33m:\u001b[0m\u001b[1;33m\u001b[0m\u001b[1;33m\u001b[0m\u001b[0m\n\u001b[0;32m   2994\u001b[0m                 \u001b[1;32mreturn\u001b[0m \u001b[0mself\u001b[0m\u001b[1;33m.\u001b[0m\u001b[0m_getitem_multilevel\u001b[0m\u001b[1;33m(\u001b[0m\u001b[0mkey\u001b[0m\u001b[1;33m)\u001b[0m\u001b[1;33m\u001b[0m\u001b[1;33m\u001b[0m\u001b[0m\n\u001b[1;32m-> 2995\u001b[1;33m             \u001b[0mindexer\u001b[0m \u001b[1;33m=\u001b[0m \u001b[0mself\u001b[0m\u001b[1;33m.\u001b[0m\u001b[0mcolumns\u001b[0m\u001b[1;33m.\u001b[0m\u001b[0mget_loc\u001b[0m\u001b[1;33m(\u001b[0m\u001b[0mkey\u001b[0m\u001b[1;33m)\u001b[0m\u001b[1;33m\u001b[0m\u001b[1;33m\u001b[0m\u001b[0m\n\u001b[0m\u001b[0;32m   2996\u001b[0m             \u001b[1;32mif\u001b[0m \u001b[0mis_integer\u001b[0m\u001b[1;33m(\u001b[0m\u001b[0mindexer\u001b[0m\u001b[1;33m)\u001b[0m\u001b[1;33m:\u001b[0m\u001b[1;33m\u001b[0m\u001b[1;33m\u001b[0m\u001b[0m\n\u001b[0;32m   2997\u001b[0m                 \u001b[0mindexer\u001b[0m \u001b[1;33m=\u001b[0m \u001b[1;33m[\u001b[0m\u001b[0mindexer\u001b[0m\u001b[1;33m]\u001b[0m\u001b[1;33m\u001b[0m\u001b[1;33m\u001b[0m\u001b[0m\n",
      "\u001b[1;32m~\\.julia\\conda\\3\\lib\\site-packages\\pandas\\core\\indexes\\base.py\u001b[0m in \u001b[0;36mget_loc\u001b[1;34m(self, key, method, tolerance)\u001b[0m\n\u001b[0;32m   2897\u001b[0m                 \u001b[1;32mreturn\u001b[0m \u001b[0mself\u001b[0m\u001b[1;33m.\u001b[0m\u001b[0m_engine\u001b[0m\u001b[1;33m.\u001b[0m\u001b[0mget_loc\u001b[0m\u001b[1;33m(\u001b[0m\u001b[0mkey\u001b[0m\u001b[1;33m)\u001b[0m\u001b[1;33m\u001b[0m\u001b[1;33m\u001b[0m\u001b[0m\n\u001b[0;32m   2898\u001b[0m             \u001b[1;32mexcept\u001b[0m \u001b[0mKeyError\u001b[0m\u001b[1;33m:\u001b[0m\u001b[1;33m\u001b[0m\u001b[1;33m\u001b[0m\u001b[0m\n\u001b[1;32m-> 2899\u001b[1;33m                 \u001b[1;32mreturn\u001b[0m \u001b[0mself\u001b[0m\u001b[1;33m.\u001b[0m\u001b[0m_engine\u001b[0m\u001b[1;33m.\u001b[0m\u001b[0mget_loc\u001b[0m\u001b[1;33m(\u001b[0m\u001b[0mself\u001b[0m\u001b[1;33m.\u001b[0m\u001b[0m_maybe_cast_indexer\u001b[0m\u001b[1;33m(\u001b[0m\u001b[0mkey\u001b[0m\u001b[1;33m)\u001b[0m\u001b[1;33m)\u001b[0m\u001b[1;33m\u001b[0m\u001b[1;33m\u001b[0m\u001b[0m\n\u001b[0m\u001b[0;32m   2900\u001b[0m         \u001b[0mindexer\u001b[0m \u001b[1;33m=\u001b[0m \u001b[0mself\u001b[0m\u001b[1;33m.\u001b[0m\u001b[0mget_indexer\u001b[0m\u001b[1;33m(\u001b[0m\u001b[1;33m[\u001b[0m\u001b[0mkey\u001b[0m\u001b[1;33m]\u001b[0m\u001b[1;33m,\u001b[0m \u001b[0mmethod\u001b[0m\u001b[1;33m=\u001b[0m\u001b[0mmethod\u001b[0m\u001b[1;33m,\u001b[0m \u001b[0mtolerance\u001b[0m\u001b[1;33m=\u001b[0m\u001b[0mtolerance\u001b[0m\u001b[1;33m)\u001b[0m\u001b[1;33m\u001b[0m\u001b[1;33m\u001b[0m\u001b[0m\n\u001b[0;32m   2901\u001b[0m         \u001b[1;32mif\u001b[0m \u001b[0mindexer\u001b[0m\u001b[1;33m.\u001b[0m\u001b[0mndim\u001b[0m \u001b[1;33m>\u001b[0m \u001b[1;36m1\u001b[0m \u001b[1;32mor\u001b[0m \u001b[0mindexer\u001b[0m\u001b[1;33m.\u001b[0m\u001b[0msize\u001b[0m \u001b[1;33m>\u001b[0m \u001b[1;36m1\u001b[0m\u001b[1;33m:\u001b[0m\u001b[1;33m\u001b[0m\u001b[1;33m\u001b[0m\u001b[0m\n",
      "\u001b[1;32mpandas\\_libs\\index.pyx\u001b[0m in \u001b[0;36mpandas._libs.index.IndexEngine.get_loc\u001b[1;34m()\u001b[0m\n",
      "\u001b[1;32mpandas\\_libs\\index.pyx\u001b[0m in \u001b[0;36mpandas._libs.index.IndexEngine.get_loc\u001b[1;34m()\u001b[0m\n",
      "\u001b[1;32mpandas\\_libs\\hashtable_class_helper.pxi\u001b[0m in \u001b[0;36mpandas._libs.hashtable.PyObjectHashTable.get_item\u001b[1;34m()\u001b[0m\n",
      "\u001b[1;32mpandas\\_libs\\hashtable_class_helper.pxi\u001b[0m in \u001b[0;36mpandas._libs.hashtable.PyObjectHashTable.get_item\u001b[1;34m()\u001b[0m\n",
      "\u001b[1;31mKeyError\u001b[0m: 'Comp'"
     ]
    }
   ],
   "source": [
    "scraped_passing(Name = df.loc[:, 'Name'],\n",
    "               Team = df.loc[:, 'Team'],\n",
    "               Opp = df.loc[:, 'Opp'],\n",
    "               Score = df.loc[:, 'Score'],\n",
    "               Comp = df.loc[:, 'Comp'],\n",
    "               Att = df.loc[:, 'Att'],\n",
    "               Tds = df.loc[:, 'Yds'],\n",
    "               TD = df.loc[:, 'TD'],\n",
    "               Int = df.loc[:, 'Int'],\n",
    "               Sck = df.loc[:, 'Sck'],\n",
    "               FUM = df.loc[:, 'FUM'],\n",
    "               Rate = df.loc[:, 'Rate'])"
   ]
  },
  {
   "cell_type": "code",
   "execution_count": null,
   "metadata": {},
   "outputs": [],
   "source": [
    "df.dtypes"
   ]
  },
  {
   "cell_type": "code",
   "execution_count": null,
   "metadata": {},
   "outputs": [],
   "source": [
    "#Grapping Parameters for looping \n",
    "n_rows = df.shape[0]\n",
    "n_cols = df.shape[1]"
   ]
  },
  {
   "cell_type": "code",
   "execution_count": null,
   "metadata": {},
   "outputs": [],
   "source": [
    "#import library\n",
    "import gspread \n",
    "#Service client credential from oauth2client\n",
    "from oauth2client.service_account import ServiceAccountCredentials\n",
    "# Print nicely\n",
    "import pprint\n",
    "#Create scope\n",
    "scope = ['https://spreadsheets.google.com/feeds', 'https://www.googleapis.com/auth/drive']\n",
    "#create some credential using that scope and content of startup_funding.json\n",
    "creds = ServiceAccountCredentials.from_json_keyfile_name('quickstart/g_sheet_creds.json',scope)\n",
    "#create gspread authorize using that credential\n",
    "client = gspread.authorize(creds)"
   ]
  },
  {
   "cell_type": "code",
   "execution_count": null,
   "metadata": {},
   "outputs": [],
   "source": [
    "# creating a new sheet to drop the data \n",
    "#new_sheet = client.create('target_sheet')\n",
    "\n",
    "#new_sheet.share('players@fantasy-data-build.iam.gserviceaccount.com', perm_type='user', role='writer')"
   ]
  },
  {
   "cell_type": "code",
   "execution_count": null,
   "metadata": {},
   "outputs": [],
   "source": [
    "#sheet = client.open('target_sheet')\n",
    "\n",
    "#ws = sheet.get_worksheet(0)"
   ]
  },
  {
   "cell_type": "code",
   "execution_count": null,
   "metadata": {},
   "outputs": [],
   "source": [
    "#Now will can access our google sheets we call client.open on StartupName\n",
    "test_url = 'ttps://docs.google.com/spreadsheets/d/1253330Gq5L7fnSb9e7rz0ka7fjXGfe4F9I2AzUkkz3w/edit?folder=0AHsp7iQa2x1DUk9PVA#gid=0'\n",
    "sheet = client.open_by_url(test_url)\n",
    "\n",
    "ws = sheet.get_worksheet(0)\n",
    "\n",
    "#Access all of the record inside that\n",
    "#result = sheet.get_all_record()\n",
    "\n",
    "shaped_data = df.transpose()\n",
    "\n",
    "ws.insert_row(df.columns.tolist(), 1)\n",
    "\n",
    "for i in range(1, n_rows): \n",
    "    row = df.iloc[i-1].tolist()\n",
    "    index = i+1\n",
    "    ws.insert_row(row, index)\n",
    "    print(i)\n"
   ]
  },
  {
   "cell_type": "code",
   "execution_count": null,
   "metadata": {},
   "outputs": [],
   "source": []
  }
 ],
 "metadata": {
  "kernelspec": {
   "display_name": "Python 3",
   "language": "python",
   "name": "python3"
  },
  "language_info": {
   "codemirror_mode": {
    "name": "ipython",
    "version": 3
   },
   "file_extension": ".py",
   "mimetype": "text/x-python",
   "name": "python",
   "nbconvert_exporter": "python",
   "pygments_lexer": "ipython3",
   "version": "3.6.9"
  }
 },
 "nbformat": 4,
 "nbformat_minor": 4
}
