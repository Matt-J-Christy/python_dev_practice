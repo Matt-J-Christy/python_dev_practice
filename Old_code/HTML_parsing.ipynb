{
 "cells": [
  {
   "cell_type": "code",
   "execution_count": 21,
   "metadata": {},
   "outputs": [],
   "source": [
    "from urllib.parse import urlparse\n",
    "\n",
    "url = 'http://www.nfl.com/stats/weeklyleaders?week=15&season=2019&showCategory=Passing'\n",
    "\n",
    "out = urlparse(url)"
   ]
  },
  {
   "cell_type": "code",
   "execution_count": 22,
   "metadata": {},
   "outputs": [
    {
     "data": {
      "text/plain": [
       "ParseResult(scheme='http', netloc='www.nfl.com', path='/stats/weeklyleaders', params='', query='week=15&season=2019&showCategory=Passing', fragment='')"
      ]
     },
     "execution_count": 22,
     "metadata": {},
     "output_type": "execute_result"
    }
   ],
   "source": [
    "out"
   ]
  },
  {
   "cell_type": "code",
   "execution_count": 23,
   "metadata": {},
   "outputs": [
    {
     "data": {
      "text/plain": [
       "'http'"
      ]
     },
     "execution_count": 23,
     "metadata": {},
     "output_type": "execute_result"
    }
   ],
   "source": [
    "out.scheme"
   ]
  },
  {
   "cell_type": "code",
   "execution_count": 24,
   "metadata": {},
   "outputs": [
    {
     "name": "stdout",
     "output_type": "stream",
     "text": [
      "ParseResult(scheme='http', netloc='www.nfl.com', path='/stats/weeklyleaders', params='', query='week=15&season=2019&showCategory=Passing', fragment='')\n"
     ]
    }
   ],
   "source": [
    "print(out)"
   ]
  },
  {
   "cell_type": "code",
   "execution_count": 31,
   "metadata": {},
   "outputs": [],
   "source": [
    "base_url = 'http://www.nfl.com/stats/weeklyleaders?season=2019?'\n",
    "\n",
    "weeks = [x for x in range(1,17)]\n",
    "\n",
    "stat_cat = ['Passing', 'Rushing', 'Receiving']\n",
    "\n",
    "urls = []\n",
    "\n",
    "names =[]\n",
    "\n",
    "for i in weeks:\n",
    "    for j in stat_cat:\n",
    "        full_url = base_url+'?='+str(i)+'?='+j\n",
    "        urls.append(full_url)\n",
    "        name = '2019_' + 'week_' + str(i) + '_' + j\n",
    "        names.append(name)"
   ]
  },
  {
   "cell_type": "code",
   "execution_count": 32,
   "metadata": {},
   "outputs": [
    {
     "data": {
      "text/plain": [
       "['2019_week_1_Passing',\n",
       " '2019_week_1_Rushing',\n",
       " '2019_week_1_Receiving',\n",
       " '2019_week_2_Passing',\n",
       " '2019_week_2_Rushing',\n",
       " '2019_week_2_Receiving',\n",
       " '2019_week_3_Passing',\n",
       " '2019_week_3_Rushing',\n",
       " '2019_week_3_Receiving',\n",
       " '2019_week_4_Passing',\n",
       " '2019_week_4_Rushing',\n",
       " '2019_week_4_Receiving',\n",
       " '2019_week_5_Passing',\n",
       " '2019_week_5_Rushing',\n",
       " '2019_week_5_Receiving',\n",
       " '2019_week_6_Passing',\n",
       " '2019_week_6_Rushing',\n",
       " '2019_week_6_Receiving',\n",
       " '2019_week_7_Passing',\n",
       " '2019_week_7_Rushing',\n",
       " '2019_week_7_Receiving',\n",
       " '2019_week_8_Passing',\n",
       " '2019_week_8_Rushing',\n",
       " '2019_week_8_Receiving',\n",
       " '2019_week_9_Passing',\n",
       " '2019_week_9_Rushing',\n",
       " '2019_week_9_Receiving',\n",
       " '2019_week_10_Passing',\n",
       " '2019_week_10_Rushing',\n",
       " '2019_week_10_Receiving',\n",
       " '2019_week_11_Passing',\n",
       " '2019_week_11_Rushing',\n",
       " '2019_week_11_Receiving',\n",
       " '2019_week_12_Passing',\n",
       " '2019_week_12_Rushing',\n",
       " '2019_week_12_Receiving',\n",
       " '2019_week_13_Passing',\n",
       " '2019_week_13_Rushing',\n",
       " '2019_week_13_Receiving',\n",
       " '2019_week_14_Passing',\n",
       " '2019_week_14_Rushing',\n",
       " '2019_week_14_Receiving',\n",
       " '2019_week_15_Passing',\n",
       " '2019_week_15_Rushing',\n",
       " '2019_week_15_Receiving',\n",
       " '2019_week_16_Passing',\n",
       " '2019_week_16_Rushing',\n",
       " '2019_week_16_Receiving']"
      ]
     },
     "execution_count": 32,
     "metadata": {},
     "output_type": "execute_result"
    }
   ],
   "source": [
    "names"
   ]
  }
 ],
 "metadata": {
  "kernelspec": {
   "display_name": "Python 3",
   "language": "python",
   "name": "python3"
  },
  "language_info": {
   "codemirror_mode": {
    "name": "ipython",
    "version": 3
   },
   "file_extension": ".py",
   "mimetype": "text/x-python",
   "name": "python",
   "nbconvert_exporter": "python",
   "pygments_lexer": "ipython3",
   "version": "3.6.9"
  }
 },
 "nbformat": 4,
 "nbformat_minor": 4
}
