{
 "cells": [
  {
   "cell_type": "code",
   "execution_count": 21,
   "metadata": {},
   "outputs": [],
   "source": [
    "from urllib.parse import urlparse\n",
    "\n",
    "url = 'http://www.nfl.com/stats/weeklyleaders?week=15&season=2019&showCategory=Passing'\n",
    "\n",
    "out = urlparse(url)"
   ]
  },
  {
   "cell_type": "code",
   "execution_count": 22,
   "metadata": {},
   "outputs": [
    {
     "data": {
      "text/plain": [
       "ParseResult(scheme='http', netloc='www.nfl.com', path='/stats/weeklyleaders', params='', query='week=15&season=2019&showCategory=Passing', fragment='')"
      ]
     },
     "execution_count": 22,
     "metadata": {},
     "output_type": "execute_result"
    }
   ],
   "source": [
    "out"
   ]
  },
  {
   "cell_type": "code",
   "execution_count": 23,
   "metadata": {},
   "outputs": [
    {
     "data": {
      "text/plain": [
       "'http'"
      ]
     },
     "execution_count": 23,
     "metadata": {},
     "output_type": "execute_result"
    }
   ],
   "source": [
    "out.scheme"
   ]
  },
  {
   "cell_type": "code",
   "execution_count": 24,
   "metadata": {},
   "outputs": [
    {
     "name": "stdout",
     "output_type": "stream",
     "text": [
      "ParseResult(scheme='http', netloc='www.nfl.com', path='/stats/weeklyleaders', params='', query='week=15&season=2019&showCategory=Passing', fragment='')\n"
     ]
    }
   ],
   "source": [
    "print(out)"
   ]
  },
  {
   "cell_type": "code",
   "execution_count": 26,
   "metadata": {},
   "outputs": [
    {
     "name": "stdout",
     "output_type": "stream",
     "text": [
      "http://www.nfl.com/stats/weeklyleaders?season=2019??=1?=Passing\n",
      "http://www.nfl.com/stats/weeklyleaders?season=2019??=1?=Rushing\n",
      "http://www.nfl.com/stats/weeklyleaders?season=2019??=1?=Receiving\n",
      "http://www.nfl.com/stats/weeklyleaders?season=2019??=2?=Passing\n",
      "http://www.nfl.com/stats/weeklyleaders?season=2019??=2?=Rushing\n",
      "http://www.nfl.com/stats/weeklyleaders?season=2019??=2?=Receiving\n",
      "http://www.nfl.com/stats/weeklyleaders?season=2019??=3?=Passing\n",
      "http://www.nfl.com/stats/weeklyleaders?season=2019??=3?=Rushing\n",
      "http://www.nfl.com/stats/weeklyleaders?season=2019??=3?=Receiving\n",
      "http://www.nfl.com/stats/weeklyleaders?season=2019??=4?=Passing\n",
      "http://www.nfl.com/stats/weeklyleaders?season=2019??=4?=Rushing\n",
      "http://www.nfl.com/stats/weeklyleaders?season=2019??=4?=Receiving\n",
      "http://www.nfl.com/stats/weeklyleaders?season=2019??=5?=Passing\n",
      "http://www.nfl.com/stats/weeklyleaders?season=2019??=5?=Rushing\n",
      "http://www.nfl.com/stats/weeklyleaders?season=2019??=5?=Receiving\n",
      "http://www.nfl.com/stats/weeklyleaders?season=2019??=6?=Passing\n",
      "http://www.nfl.com/stats/weeklyleaders?season=2019??=6?=Rushing\n",
      "http://www.nfl.com/stats/weeklyleaders?season=2019??=6?=Receiving\n",
      "http://www.nfl.com/stats/weeklyleaders?season=2019??=7?=Passing\n",
      "http://www.nfl.com/stats/weeklyleaders?season=2019??=7?=Rushing\n",
      "http://www.nfl.com/stats/weeklyleaders?season=2019??=7?=Receiving\n",
      "http://www.nfl.com/stats/weeklyleaders?season=2019??=8?=Passing\n",
      "http://www.nfl.com/stats/weeklyleaders?season=2019??=8?=Rushing\n",
      "http://www.nfl.com/stats/weeklyleaders?season=2019??=8?=Receiving\n",
      "http://www.nfl.com/stats/weeklyleaders?season=2019??=9?=Passing\n",
      "http://www.nfl.com/stats/weeklyleaders?season=2019??=9?=Rushing\n",
      "http://www.nfl.com/stats/weeklyleaders?season=2019??=9?=Receiving\n",
      "http://www.nfl.com/stats/weeklyleaders?season=2019??=10?=Passing\n",
      "http://www.nfl.com/stats/weeklyleaders?season=2019??=10?=Rushing\n",
      "http://www.nfl.com/stats/weeklyleaders?season=2019??=10?=Receiving\n",
      "http://www.nfl.com/stats/weeklyleaders?season=2019??=11?=Passing\n",
      "http://www.nfl.com/stats/weeklyleaders?season=2019??=11?=Rushing\n",
      "http://www.nfl.com/stats/weeklyleaders?season=2019??=11?=Receiving\n",
      "http://www.nfl.com/stats/weeklyleaders?season=2019??=12?=Passing\n",
      "http://www.nfl.com/stats/weeklyleaders?season=2019??=12?=Rushing\n",
      "http://www.nfl.com/stats/weeklyleaders?season=2019??=12?=Receiving\n",
      "http://www.nfl.com/stats/weeklyleaders?season=2019??=13?=Passing\n",
      "http://www.nfl.com/stats/weeklyleaders?season=2019??=13?=Rushing\n",
      "http://www.nfl.com/stats/weeklyleaders?season=2019??=13?=Receiving\n",
      "http://www.nfl.com/stats/weeklyleaders?season=2019??=14?=Passing\n",
      "http://www.nfl.com/stats/weeklyleaders?season=2019??=14?=Rushing\n",
      "http://www.nfl.com/stats/weeklyleaders?season=2019??=14?=Receiving\n",
      "http://www.nfl.com/stats/weeklyleaders?season=2019??=15?=Passing\n",
      "http://www.nfl.com/stats/weeklyleaders?season=2019??=15?=Rushing\n",
      "http://www.nfl.com/stats/weeklyleaders?season=2019??=15?=Receiving\n",
      "http://www.nfl.com/stats/weeklyleaders?season=2019??=16?=Passing\n",
      "http://www.nfl.com/stats/weeklyleaders?season=2019??=16?=Rushing\n",
      "http://www.nfl.com/stats/weeklyleaders?season=2019??=16?=Receiving\n"
     ]
    }
   ],
   "source": [
    "base_url = 'http://www.nfl.com/stats/weeklyleaders?season=2019?'\n",
    "\n",
    "weeks = [x for x in range(1,17)]\n",
    "\n",
    "stat_cat = ['Passing', 'Rushing', 'Receiving']\n",
    "\n",
    "urls = []\n",
    "\n",
    "names =[]\n",
    "\n",
    "for i in weeks:\n",
    "    for j in stat_cat:\n",
    "        full_url = base_url+'?='+str(i)+'?='+j\n",
    "        urls.append(full_url)\n",
    "        name = '2019_' + 'week_' + str(i) + stat_cat[i]\n",
    "        names.append(name)"
   ]
  },
  {
   "cell_type": "code",
   "execution_count": 27,
   "metadata": {},
   "outputs": [
    {
     "data": {
      "text/plain": [
       "['http://www.nfl.com/stats/weeklyleaders?season=2019??=1?=Passing',\n",
       " 'http://www.nfl.com/stats/weeklyleaders?season=2019??=1?=Rushing',\n",
       " 'http://www.nfl.com/stats/weeklyleaders?season=2019??=1?=Receiving',\n",
       " 'http://www.nfl.com/stats/weeklyleaders?season=2019??=2?=Passing',\n",
       " 'http://www.nfl.com/stats/weeklyleaders?season=2019??=2?=Rushing',\n",
       " 'http://www.nfl.com/stats/weeklyleaders?season=2019??=2?=Receiving',\n",
       " 'http://www.nfl.com/stats/weeklyleaders?season=2019??=3?=Passing',\n",
       " 'http://www.nfl.com/stats/weeklyleaders?season=2019??=3?=Rushing',\n",
       " 'http://www.nfl.com/stats/weeklyleaders?season=2019??=3?=Receiving',\n",
       " 'http://www.nfl.com/stats/weeklyleaders?season=2019??=4?=Passing',\n",
       " 'http://www.nfl.com/stats/weeklyleaders?season=2019??=4?=Rushing',\n",
       " 'http://www.nfl.com/stats/weeklyleaders?season=2019??=4?=Receiving',\n",
       " 'http://www.nfl.com/stats/weeklyleaders?season=2019??=5?=Passing',\n",
       " 'http://www.nfl.com/stats/weeklyleaders?season=2019??=5?=Rushing',\n",
       " 'http://www.nfl.com/stats/weeklyleaders?season=2019??=5?=Receiving',\n",
       " 'http://www.nfl.com/stats/weeklyleaders?season=2019??=6?=Passing',\n",
       " 'http://www.nfl.com/stats/weeklyleaders?season=2019??=6?=Rushing',\n",
       " 'http://www.nfl.com/stats/weeklyleaders?season=2019??=6?=Receiving',\n",
       " 'http://www.nfl.com/stats/weeklyleaders?season=2019??=7?=Passing',\n",
       " 'http://www.nfl.com/stats/weeklyleaders?season=2019??=7?=Rushing',\n",
       " 'http://www.nfl.com/stats/weeklyleaders?season=2019??=7?=Receiving',\n",
       " 'http://www.nfl.com/stats/weeklyleaders?season=2019??=8?=Passing',\n",
       " 'http://www.nfl.com/stats/weeklyleaders?season=2019??=8?=Rushing',\n",
       " 'http://www.nfl.com/stats/weeklyleaders?season=2019??=8?=Receiving',\n",
       " 'http://www.nfl.com/stats/weeklyleaders?season=2019??=9?=Passing',\n",
       " 'http://www.nfl.com/stats/weeklyleaders?season=2019??=9?=Rushing',\n",
       " 'http://www.nfl.com/stats/weeklyleaders?season=2019??=9?=Receiving',\n",
       " 'http://www.nfl.com/stats/weeklyleaders?season=2019??=10?=Passing',\n",
       " 'http://www.nfl.com/stats/weeklyleaders?season=2019??=10?=Rushing',\n",
       " 'http://www.nfl.com/stats/weeklyleaders?season=2019??=10?=Receiving',\n",
       " 'http://www.nfl.com/stats/weeklyleaders?season=2019??=11?=Passing',\n",
       " 'http://www.nfl.com/stats/weeklyleaders?season=2019??=11?=Rushing',\n",
       " 'http://www.nfl.com/stats/weeklyleaders?season=2019??=11?=Receiving',\n",
       " 'http://www.nfl.com/stats/weeklyleaders?season=2019??=12?=Passing',\n",
       " 'http://www.nfl.com/stats/weeklyleaders?season=2019??=12?=Rushing',\n",
       " 'http://www.nfl.com/stats/weeklyleaders?season=2019??=12?=Receiving',\n",
       " 'http://www.nfl.com/stats/weeklyleaders?season=2019??=13?=Passing',\n",
       " 'http://www.nfl.com/stats/weeklyleaders?season=2019??=13?=Rushing',\n",
       " 'http://www.nfl.com/stats/weeklyleaders?season=2019??=13?=Receiving',\n",
       " 'http://www.nfl.com/stats/weeklyleaders?season=2019??=14?=Passing',\n",
       " 'http://www.nfl.com/stats/weeklyleaders?season=2019??=14?=Rushing',\n",
       " 'http://www.nfl.com/stats/weeklyleaders?season=2019??=14?=Receiving',\n",
       " 'http://www.nfl.com/stats/weeklyleaders?season=2019??=15?=Passing',\n",
       " 'http://www.nfl.com/stats/weeklyleaders?season=2019??=15?=Rushing',\n",
       " 'http://www.nfl.com/stats/weeklyleaders?season=2019??=15?=Receiving',\n",
       " 'http://www.nfl.com/stats/weeklyleaders?season=2019??=16?=Passing',\n",
       " 'http://www.nfl.com/stats/weeklyleaders?season=2019??=16?=Rushing',\n",
       " 'http://www.nfl.com/stats/weeklyleaders?season=2019??=16?=Receiving']"
      ]
     },
     "execution_count": 27,
     "metadata": {},
     "output_type": "execute_result"
    }
   ],
   "source": [
    "urls"
   ]
  }
 ],
 "metadata": {
  "kernelspec": {
   "display_name": "Python 3",
   "language": "python",
   "name": "python3"
  },
  "language_info": {
   "codemirror_mode": {
    "name": "ipython",
    "version": 3
   },
   "file_extension": ".py",
   "mimetype": "text/x-python",
   "name": "python",
   "nbconvert_exporter": "python",
   "pygments_lexer": "ipython3",
   "version": "3.6.9"
  }
 },
 "nbformat": 4,
 "nbformat_minor": 4
}
