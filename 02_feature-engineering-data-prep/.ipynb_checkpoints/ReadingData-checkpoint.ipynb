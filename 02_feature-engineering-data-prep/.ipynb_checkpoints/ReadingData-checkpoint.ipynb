{
 "cells": [
  {
   "cell_type": "markdown",
   "metadata": {},
   "source": [
    "1. read in gsheets\n",
    "2. aggregate at the player - week level \n",
    "3. score by week \n",
    "4. write data "
   ]
  },
  {
   "cell_type": "code",
   "execution_count": 1,
   "metadata": {},
   "outputs": [],
   "source": [
    "#import library\n",
    "import gspread \n",
    "#Service client credential from oauth2client\n",
    "from oauth2client.service_account import ServiceAccountCredentials\n",
    "# Print nicely\n",
    "import pprint\n",
    "#Create scope\n",
    "scope = ['https://spreadsheets.google.com/feeds', 'https://www.googleapis.com/auth/drive']\n",
    "#create some credential using that scope and content of startup_funding.json\n",
    "creds = ServiceAccountCredentials.from_json_keyfile_name('../quickstart/g_sheet_creds.json',scope)\n",
    "#create gspread authorize using that credential\n",
    "client = gspread.authorize(creds)"
   ]
  },
  {
   "cell_type": "code",
   "execution_count": 2,
   "metadata": {},
   "outputs": [],
   "source": [
    "import pandas as pd \n",
    "import numpy as np"
   ]
  },
  {
   "cell_type": "markdown",
   "metadata": {},
   "source": [
    "#### Passing"
   ]
  },
  {
   "cell_type": "code",
   "execution_count": 4,
   "metadata": {},
   "outputs": [],
   "source": [
    "passing = client.open('passing').sheet1\n",
    "passing = passing.get_all_values()\n",
    "pass_df = pd.DataFrame(passing, columns = passing.pop(0))"
   ]
  },
  {
   "cell_type": "code",
   "execution_count": 5,
   "metadata": {},
   "outputs": [
    {
     "data": {
      "text/html": [
       "<div>\n",
       "<style scoped>\n",
       "    .dataframe tbody tr th:only-of-type {\n",
       "        vertical-align: middle;\n",
       "    }\n",
       "\n",
       "    .dataframe tbody tr th {\n",
       "        vertical-align: top;\n",
       "    }\n",
       "\n",
       "    .dataframe thead th {\n",
       "        text-align: right;\n",
       "    }\n",
       "</style>\n",
       "<table border=\"1\" class=\"dataframe\">\n",
       "  <thead>\n",
       "    <tr style=\"text-align: right;\">\n",
       "      <th></th>\n",
       "      <th>Name</th>\n",
       "      <th>Team</th>\n",
       "      <th>Opp</th>\n",
       "      <th>Score</th>\n",
       "      <th>Comp</th>\n",
       "      <th>Att</th>\n",
       "      <th>Yds</th>\n",
       "      <th>TD</th>\n",
       "      <th>Int</th>\n",
       "      <th>Sck</th>\n",
       "      <th>FUM</th>\n",
       "      <th>Rate</th>\n",
       "    </tr>\n",
       "  </thead>\n",
       "  <tbody>\n",
       "    <tr>\n",
       "      <th>0</th>\n",
       "      <td>Andy Dalton</td>\n",
       "      <td>CIN</td>\n",
       "      <td>@ SEA</td>\n",
       "      <td>L 20-21</td>\n",
       "      <td>35</td>\n",
       "      <td>51</td>\n",
       "      <td>418</td>\n",
       "      <td>2</td>\n",
       "      <td>0</td>\n",
       "      <td>5</td>\n",
       "      <td>2</td>\n",
       "      <td>106.5</td>\n",
       "    </tr>\n",
       "    <tr>\n",
       "      <th>1</th>\n",
       "      <td>Dak Prescott</td>\n",
       "      <td>DAL</td>\n",
       "      <td>vs NYG</td>\n",
       "      <td>W 35-17</td>\n",
       "      <td>25</td>\n",
       "      <td>32</td>\n",
       "      <td>405</td>\n",
       "      <td>4</td>\n",
       "      <td>0</td>\n",
       "      <td>0</td>\n",
       "      <td>0</td>\n",
       "      <td>158.3</td>\n",
       "    </tr>\n",
       "    <tr>\n",
       "      <th>2</th>\n",
       "      <td>Matthew Stafford</td>\n",
       "      <td>DET</td>\n",
       "      <td>@ ARI</td>\n",
       "      <td>T 27-27</td>\n",
       "      <td>27</td>\n",
       "      <td>45</td>\n",
       "      <td>385</td>\n",
       "      <td>3</td>\n",
       "      <td>0</td>\n",
       "      <td>3</td>\n",
       "      <td>1</td>\n",
       "      <td>110.0</td>\n",
       "    </tr>\n",
       "    <tr>\n",
       "      <th>3</th>\n",
       "      <td>Case Keenum</td>\n",
       "      <td>WAS</td>\n",
       "      <td>@ PHI</td>\n",
       "      <td>L 27-32</td>\n",
       "      <td>30</td>\n",
       "      <td>44</td>\n",
       "      <td>380</td>\n",
       "      <td>3</td>\n",
       "      <td>0</td>\n",
       "      <td>1</td>\n",
       "      <td>0</td>\n",
       "      <td>117.6</td>\n",
       "    </tr>\n",
       "    <tr>\n",
       "      <th>4</th>\n",
       "      <td>Patrick Mahomes</td>\n",
       "      <td>KC</td>\n",
       "      <td>@ JAX</td>\n",
       "      <td>W 40-26</td>\n",
       "      <td>25</td>\n",
       "      <td>33</td>\n",
       "      <td>378</td>\n",
       "      <td>3</td>\n",
       "      <td>0</td>\n",
       "      <td>0</td>\n",
       "      <td>0</td>\n",
       "      <td>143.2</td>\n",
       "    </tr>\n",
       "  </tbody>\n",
       "</table>\n",
       "</div>"
      ],
      "text/plain": [
       "               Name Team     Opp     Score Comp Att  Yds TD Int Sck FUM   Rate\n",
       "0       Andy Dalton  CIN   @ SEA  L 20-21    35  51  418  2   0   5   2  106.5\n",
       "1      Dak Prescott  DAL  vs NYG  W 35-17    25  32  405  4   0   0   0  158.3\n",
       "2  Matthew Stafford  DET   @ ARI  T 27-27    27  45  385  3   0   3   1  110.0\n",
       "3       Case Keenum  WAS   @ PHI  L 27-32    30  44  380  3   0   1   0  117.6\n",
       "4   Patrick Mahomes   KC   @ JAX  W 40-26    25  33  378  3   0   0   0  143.2"
      ]
     },
     "execution_count": 5,
     "metadata": {},
     "output_type": "execute_result"
    }
   ],
   "source": [
    "pass_df.head()"
   ]
  },
  {
   "cell_type": "code",
   "execution_count": 6,
   "metadata": {},
   "outputs": [],
   "source": [
    "floats = ['Comp', 'Att', 'Yds', 'TD', 'Int', 'Sck', 'FUM', 'Rate']\n",
    "\n",
    "pass_df[floats] = pass_df[floats].astype(float)"
   ]
  },
  {
   "cell_type": "code",
   "execution_count": 7,
   "metadata": {},
   "outputs": [],
   "source": [
    "pass_df[\"300yd_flag\"] = np.where(pass_df['Yds'] >= 300, 1, 0)"
   ]
  },
  {
   "cell_type": "markdown",
   "metadata": {},
   "source": [
    "#### Rushing "
   ]
  },
  {
   "cell_type": "code",
   "execution_count": null,
   "metadata": {},
   "outputs": [],
   "source": [
    "rush = client.open('rushing').sheet1\n",
    "rush = rush.get_all_values()\n",
    "rush_df = pd.DataFram(rush, rush.pop(0))"
   ]
  },
  {
   "cell_type": "code",
   "execution_count": null,
   "metadata": {},
   "outputs": [],
   "source": [
    "floats2 = ['Yds', 'TD', 'FUM']\n",
    "rush_df = rush_df[floats2].astype(float)"
   ]
  },
  {
   "cell_type": "code",
   "execution_count": null,
   "metadata": {},
   "outputs": [],
   "source": [
    "rush_df['100yd_flag'] = np.where(rush_df['Yds'] >= 100, 1, 0)"
   ]
  },
  {
   "cell_type": "markdown",
   "metadata": {},
   "source": [
    "#### Receiving "
   ]
  },
  {
   "cell_type": "code",
   "execution_count": null,
   "metadata": {},
   "outputs": [],
   "source": [
    "rec = client.open('receiving').sheet1\n",
    "rec = rec.get_all_values()\n",
    "rec_df = pd.DataFrame(rec, rec.pop(0))"
   ]
  },
  {
   "cell_type": "code",
   "execution_count": null,
   "metadata": {},
   "outputs": [],
   "source": [
    "rec_df = rec_df[floats2].astype(float)"
   ]
  },
  {
   "cell_type": "code",
   "execution_count": null,
   "metadata": {},
   "outputs": [],
   "source": [
    "rec_df['100yd_flag'] = np.where(rec_df['Yds'] >= 100, 1, 0)"
   ]
  },
  {
   "cell_type": "markdown",
   "metadata": {},
   "source": [
    "### Score the data "
   ]
  },
  {
   "cell_type": "markdown",
   "metadata": {},
   "source": [
    "#### Passing "
   ]
  },
  {
   "cell_type": "code",
   "execution_count": 8,
   "metadata": {},
   "outputs": [],
   "source": [
    "def passing_pts(df):\n",
    "    #declaring the scoring parameters for passing stats \n",
    "    pts = {\n",
    "        \"yds\":.04,\n",
    "        \"td\":4,\n",
    "        \"300yd\":3, \n",
    "        \"int\":-1,\n",
    "        \"fumble\":-1\n",
    "            }\n",
    "    #applyting to the data \n",
    "    score = df[\"Yds\"]*pts['yds'] + df['TD'] * pts['td'] \n",
    "    + df['Int'] * pts['int'] + df['FUM'] * pts['fumble']\n",
    "    + df['300yd_flag']*pts['300yd']\n",
    "    \n",
    "    return(score)"
   ]
  },
  {
   "cell_type": "code",
   "execution_count": 9,
   "metadata": {},
   "outputs": [],
   "source": [
    "pass_df['passing_fantasy_pts'] = passing_pts(pass_df)"
   ]
  },
  {
   "cell_type": "code",
   "execution_count": 12,
   "metadata": {},
   "outputs": [
    {
     "data": {
      "text/html": [
       "<div>\n",
       "<style scoped>\n",
       "    .dataframe tbody tr th:only-of-type {\n",
       "        vertical-align: middle;\n",
       "    }\n",
       "\n",
       "    .dataframe tbody tr th {\n",
       "        vertical-align: top;\n",
       "    }\n",
       "\n",
       "    .dataframe thead th {\n",
       "        text-align: right;\n",
       "    }\n",
       "</style>\n",
       "<table border=\"1\" class=\"dataframe\">\n",
       "  <thead>\n",
       "    <tr style=\"text-align: right;\">\n",
       "      <th></th>\n",
       "      <th>Name</th>\n",
       "      <th>Team</th>\n",
       "      <th>Opp</th>\n",
       "      <th>Score</th>\n",
       "      <th>Comp</th>\n",
       "      <th>Att</th>\n",
       "      <th>Yds</th>\n",
       "      <th>TD</th>\n",
       "      <th>Int</th>\n",
       "      <th>Sck</th>\n",
       "      <th>FUM</th>\n",
       "      <th>Rate</th>\n",
       "      <th>300yd_flag</th>\n",
       "      <th>fantasy_pts</th>\n",
       "    </tr>\n",
       "  </thead>\n",
       "  <tbody>\n",
       "    <tr>\n",
       "      <th>0</th>\n",
       "      <td>Andy Dalton</td>\n",
       "      <td>CIN</td>\n",
       "      <td>@ SEA</td>\n",
       "      <td>L 20-21</td>\n",
       "      <td>35.0</td>\n",
       "      <td>51.0</td>\n",
       "      <td>418.0</td>\n",
       "      <td>2.0</td>\n",
       "      <td>0.0</td>\n",
       "      <td>5.0</td>\n",
       "      <td>2.0</td>\n",
       "      <td>106.5</td>\n",
       "      <td>1</td>\n",
       "      <td>24.72</td>\n",
       "    </tr>\n",
       "    <tr>\n",
       "      <th>1</th>\n",
       "      <td>Dak Prescott</td>\n",
       "      <td>DAL</td>\n",
       "      <td>vs NYG</td>\n",
       "      <td>W 35-17</td>\n",
       "      <td>25.0</td>\n",
       "      <td>32.0</td>\n",
       "      <td>405.0</td>\n",
       "      <td>4.0</td>\n",
       "      <td>0.0</td>\n",
       "      <td>0.0</td>\n",
       "      <td>0.0</td>\n",
       "      <td>158.3</td>\n",
       "      <td>1</td>\n",
       "      <td>32.20</td>\n",
       "    </tr>\n",
       "    <tr>\n",
       "      <th>2</th>\n",
       "      <td>Matthew Stafford</td>\n",
       "      <td>DET</td>\n",
       "      <td>@ ARI</td>\n",
       "      <td>T 27-27</td>\n",
       "      <td>27.0</td>\n",
       "      <td>45.0</td>\n",
       "      <td>385.0</td>\n",
       "      <td>3.0</td>\n",
       "      <td>0.0</td>\n",
       "      <td>3.0</td>\n",
       "      <td>1.0</td>\n",
       "      <td>110.0</td>\n",
       "      <td>1</td>\n",
       "      <td>27.40</td>\n",
       "    </tr>\n",
       "    <tr>\n",
       "      <th>3</th>\n",
       "      <td>Case Keenum</td>\n",
       "      <td>WAS</td>\n",
       "      <td>@ PHI</td>\n",
       "      <td>L 27-32</td>\n",
       "      <td>30.0</td>\n",
       "      <td>44.0</td>\n",
       "      <td>380.0</td>\n",
       "      <td>3.0</td>\n",
       "      <td>0.0</td>\n",
       "      <td>1.0</td>\n",
       "      <td>0.0</td>\n",
       "      <td>117.6</td>\n",
       "      <td>1</td>\n",
       "      <td>27.20</td>\n",
       "    </tr>\n",
       "    <tr>\n",
       "      <th>4</th>\n",
       "      <td>Patrick Mahomes</td>\n",
       "      <td>KC</td>\n",
       "      <td>@ JAX</td>\n",
       "      <td>W 40-26</td>\n",
       "      <td>25.0</td>\n",
       "      <td>33.0</td>\n",
       "      <td>378.0</td>\n",
       "      <td>3.0</td>\n",
       "      <td>0.0</td>\n",
       "      <td>0.0</td>\n",
       "      <td>0.0</td>\n",
       "      <td>143.2</td>\n",
       "      <td>1</td>\n",
       "      <td>27.12</td>\n",
       "    </tr>\n",
       "  </tbody>\n",
       "</table>\n",
       "</div>"
      ],
      "text/plain": [
       "               Name Team     Opp     Score  Comp   Att    Yds   TD  Int  Sck  \\\n",
       "0       Andy Dalton  CIN   @ SEA  L 20-21   35.0  51.0  418.0  2.0  0.0  5.0   \n",
       "1      Dak Prescott  DAL  vs NYG  W 35-17   25.0  32.0  405.0  4.0  0.0  0.0   \n",
       "2  Matthew Stafford  DET   @ ARI  T 27-27   27.0  45.0  385.0  3.0  0.0  3.0   \n",
       "3       Case Keenum  WAS   @ PHI  L 27-32   30.0  44.0  380.0  3.0  0.0  1.0   \n",
       "4   Patrick Mahomes   KC   @ JAX  W 40-26   25.0  33.0  378.0  3.0  0.0  0.0   \n",
       "\n",
       "   FUM   Rate  300yd_flag  fantasy_pts  \n",
       "0  2.0  106.5           1        24.72  \n",
       "1  0.0  158.3           1        32.20  \n",
       "2  1.0  110.0           1        27.40  \n",
       "3  0.0  117.6           1        27.20  \n",
       "4  0.0  143.2           1        27.12  "
      ]
     },
     "execution_count": 12,
     "metadata": {},
     "output_type": "execute_result"
    }
   ],
   "source": [
    "pass_df.head()"
   ]
  },
  {
   "cell_type": "markdown",
   "metadata": {},
   "source": [
    "#### Rushing & Receiving "
   ]
  },
  {
   "cell_type": "code",
   "execution_count": null,
   "metadata": {},
   "outputs": [],
   "source": [
    "def receiving_rush_pts(df): \n",
    "    pts = {\n",
    "        \"yds\":.1,\n",
    "        \"td\":6,\n",
    "        \"100yds\":3,\n",
    "        \"fumble\":-1,\n",
    "        \"2pt\": 2\n",
    "    }\n",
    "\n",
    "    score = df[\"Yds\"]*pts['yds'] + df['TD'] * pts['td']\n",
    "    + df['FUM'] * pts['fumble'] + df['100yd_flag']*pts['100yd']\n",
    "\n",
    "    return(score)"
   ]
  },
  {
   "cell_type": "code",
   "execution_count": null,
   "metadata": {},
   "outputs": [],
   "source": [
    "rush_df['rush_fantasy_pts'] = receiving_rush_pts(rush_df)"
   ]
  },
  {
   "cell_type": "code",
   "execution_count": null,
   "metadata": {},
   "outputs": [],
   "source": [
    "rec_df['rec_fantasy_pts'] = receiving_rush_pts(rec_df)"
   ]
  },
  {
   "cell_type": "markdown",
   "metadata": {},
   "source": [
    "### Join the Data"
   ]
  },
  {
   "cell_type": "code",
   "execution_count": null,
   "metadata": {},
   "outputs": [],
   "source": [
    "full_df = pd.merge(pass_df, rush_df, rec_df, \n",
    "                   how = 'outer',\n",
    "                   on = ['Name', 'Team', 'Opp', 'Score']) "
   ]
  }
 ],
 "metadata": {
  "kernelspec": {
   "display_name": "Python 3",
   "language": "python",
   "name": "python3"
  },
  "language_info": {
   "codemirror_mode": {
    "name": "ipython",
    "version": 3
   },
   "file_extension": ".py",
   "mimetype": "text/x-python",
   "name": "python",
   "nbconvert_exporter": "python",
   "pygments_lexer": "ipython3",
   "version": "3.6.9"
  }
 },
 "nbformat": 4,
 "nbformat_minor": 4
}
