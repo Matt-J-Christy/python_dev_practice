{
 "cells": [
  {
   "cell_type": "markdown",
   "metadata": {},
   "source": [
    "# Feature Engineering for Receiving Data "
   ]
  },
  {
   "cell_type": "code",
   "execution_count": 1,
   "metadata": {},
   "outputs": [],
   "source": [
    "#importing various libraries \n",
    "import gspread \n",
    "#Service client credential from oauth2client\n",
    "from oauth2client.service_account import ServiceAccountCredentials\n",
    "# Print nicely\n",
    "import pprint\n",
    "#Create scope\n",
    "scope = ['https://spreadsheets.google.com/feeds', 'https://www.googleapis.com/auth/drive']\n",
    "#create some credential using that scope and content of startup_funding.json\n",
    "creds = ServiceAccountCredentials.from_json_keyfile_name('../quickstart/g_sheet_creds.json',scope)\n",
    "#create gspread authorize using that credential\n",
    "client = gspread.authorize(creds)\n",
    "my_email = 'matthewjchristy66@gmail.com'"
   ]
  },
  {
   "cell_type": "code",
   "execution_count": 2,
   "metadata": {},
   "outputs": [],
   "source": [
    "#data manipulation \n",
    "import pandas as pd \n",
    "import numpy as np"
   ]
  },
  {
   "cell_type": "code",
   "execution_count": 3,
   "metadata": {},
   "outputs": [],
   "source": [
    "def read_file(sheet_name):\n",
    "    out = client.open(sheet_name).sheet1\n",
    "    out = out.get_all_values()\n",
    "    out = pd.DataFrame(out, columns = out.pop(0))\n",
    "    return(out)"
   ]
  },
  {
   "cell_type": "code",
   "execution_count": 4,
   "metadata": {},
   "outputs": [],
   "source": [
    "rec = read_file(sheet_name = 'receiving_processed_step1')"
   ]
  },
  {
   "cell_type": "code",
   "execution_count": 5,
   "metadata": {},
   "outputs": [],
   "source": [
    "rrf = ['Yds', 'TD', 'FUM']\n",
    "rec[rrf] = rec[rrf].astype(float)\n",
    "rec['rec_fantasy_pts'] = rec['rec_fantasy_pts'].astype(float)"
   ]
  },
  {
   "cell_type": "code",
   "execution_count": 6,
   "metadata": {},
   "outputs": [
    {
     "data": {
      "text/html": [
       "<div>\n",
       "<style scoped>\n",
       "    .dataframe tbody tr th:only-of-type {\n",
       "        vertical-align: middle;\n",
       "    }\n",
       "\n",
       "    .dataframe tbody tr th {\n",
       "        vertical-align: top;\n",
       "    }\n",
       "\n",
       "    .dataframe thead th {\n",
       "        text-align: right;\n",
       "    }\n",
       "</style>\n",
       "<table border=\"1\" class=\"dataframe\">\n",
       "  <thead>\n",
       "    <tr style=\"text-align: right;\">\n",
       "      <th></th>\n",
       "      <th>Name</th>\n",
       "      <th>Week</th>\n",
       "      <th>Team</th>\n",
       "      <th>Opp</th>\n",
       "      <th>Score</th>\n",
       "      <th>Rec</th>\n",
       "      <th>Yds</th>\n",
       "      <th>Avg</th>\n",
       "      <th>TD</th>\n",
       "      <th>FUM</th>\n",
       "      <th>100yd_flag</th>\n",
       "      <th>rec_fantasy_pts</th>\n",
       "    </tr>\n",
       "  </thead>\n",
       "  <tbody>\n",
       "    <tr>\n",
       "      <th>0</th>\n",
       "      <td>Sammy Watkins</td>\n",
       "      <td>1</td>\n",
       "      <td>KC</td>\n",
       "      <td>@ JAX</td>\n",
       "      <td>W 40-26</td>\n",
       "      <td>9</td>\n",
       "      <td>198.0</td>\n",
       "      <td>22.0</td>\n",
       "      <td>3.0</td>\n",
       "      <td>0.0</td>\n",
       "      <td>1</td>\n",
       "      <td>37.8</td>\n",
       "    </tr>\n",
       "    <tr>\n",
       "      <th>1</th>\n",
       "      <td>Michael Gallup</td>\n",
       "      <td>1</td>\n",
       "      <td>DAL</td>\n",
       "      <td>vs NYG</td>\n",
       "      <td>W 35-17</td>\n",
       "      <td>7</td>\n",
       "      <td>158.0</td>\n",
       "      <td>22.6</td>\n",
       "      <td>0.0</td>\n",
       "      <td>0.0</td>\n",
       "      <td>1</td>\n",
       "      <td>15.8</td>\n",
       "    </tr>\n",
       "    <tr>\n",
       "      <th>2</th>\n",
       "      <td>John Ross</td>\n",
       "      <td>1</td>\n",
       "      <td>CIN</td>\n",
       "      <td>@ SEA</td>\n",
       "      <td>L 20-21</td>\n",
       "      <td>7</td>\n",
       "      <td>158.0</td>\n",
       "      <td>22.6</td>\n",
       "      <td>2.0</td>\n",
       "      <td>0.0</td>\n",
       "      <td>1</td>\n",
       "      <td>27.8</td>\n",
       "    </tr>\n",
       "    <tr>\n",
       "      <th>3</th>\n",
       "      <td>DeSean Jackson</td>\n",
       "      <td>1</td>\n",
       "      <td>PHI</td>\n",
       "      <td>vs WAS</td>\n",
       "      <td>W 32-27</td>\n",
       "      <td>8</td>\n",
       "      <td>154.0</td>\n",
       "      <td>19.2</td>\n",
       "      <td>2.0</td>\n",
       "      <td>0.0</td>\n",
       "      <td>1</td>\n",
       "      <td>27.4</td>\n",
       "    </tr>\n",
       "    <tr>\n",
       "      <th>4</th>\n",
       "      <td>Marquise Brown</td>\n",
       "      <td>1</td>\n",
       "      <td>BAL</td>\n",
       "      <td>@ MIA</td>\n",
       "      <td>W 59-10</td>\n",
       "      <td>4</td>\n",
       "      <td>147.0</td>\n",
       "      <td>36.8</td>\n",
       "      <td>2.0</td>\n",
       "      <td>0.0</td>\n",
       "      <td>1</td>\n",
       "      <td>26.7</td>\n",
       "    </tr>\n",
       "  </tbody>\n",
       "</table>\n",
       "</div>"
      ],
      "text/plain": [
       "             Name Week Team     Opp     Score Rec    Yds   Avg   TD  FUM  \\\n",
       "0   Sammy Watkins    1   KC   @ JAX  W 40-26    9  198.0  22.0  3.0  0.0   \n",
       "1  Michael Gallup    1  DAL  vs NYG  W 35-17    7  158.0  22.6  0.0  0.0   \n",
       "2       John Ross    1  CIN   @ SEA  L 20-21    7  158.0  22.6  2.0  0.0   \n",
       "3  DeSean Jackson    1  PHI  vs WAS  W 32-27    8  154.0  19.2  2.0  0.0   \n",
       "4  Marquise Brown    1  BAL   @ MIA  W 59-10    4  147.0  36.8  2.0  0.0   \n",
       "\n",
       "  100yd_flag  rec_fantasy_pts  \n",
       "0          1             37.8  \n",
       "1          1             15.8  \n",
       "2          1             27.8  \n",
       "3          1             27.4  \n",
       "4          1             26.7  "
      ]
     },
     "execution_count": 6,
     "metadata": {},
     "output_type": "execute_result"
    }
   ],
   "source": [
    "rec.head()"
   ]
  },
  {
   "cell_type": "markdown",
   "metadata": {},
   "source": [
    "### Feature Eng"
   ]
  },
  {
   "cell_type": "code",
   "execution_count": 7,
   "metadata": {},
   "outputs": [],
   "source": [
    "cols = ['Yds', 'TD', 'rec_fantasy_pts']\n",
    "lag3 = ['lag3_' + ''.join(x) for x in cols]\n",
    "lag2 = ['lag2_' + ''.join(x) for x in cols]\n",
    "# getting prior week data \n",
    "prior_week = ['last_week_' + ''.join(x) for x in ['Yds', 'TD', 'rec_fantasy_pts']]"
   ]
  },
  {
   "cell_type": "markdown",
   "metadata": {},
   "source": [
    "#### Getting data for imputation"
   ]
  },
  {
   "cell_type": "code",
   "execution_count": 8,
   "metadata": {},
   "outputs": [],
   "source": [
    "rec_recap = read_file('2018_receiving_recap')\n",
    "rec_recap[['Yds/G', 'TD', '2018_ppg']] = rec_recap[['Yds/G', 'TD', '2018_ppg']].astype(float)\n",
    "rec_recap = rec_recap.rename(columns = {\"Player\":\"Name\", 'TD':'total_td', 'Int':'total_int', 'FUM':'total_fum'})\n",
    "rec_recap = rec_recap.drop('Team', axis = 1)"
   ]
  },
  {
   "cell_type": "code",
   "execution_count": 9,
   "metadata": {},
   "outputs": [],
   "source": [
    "joined = pd.merge(rec, rec_recap, on = 'Name', how = 'inner')\n",
    "joined = joined.drop_duplicates()"
   ]
  },
  {
   "cell_type": "markdown",
   "metadata": {},
   "source": [
    "#### Lagging variables for inference"
   ]
  },
  {
   "cell_type": "code",
   "execution_count": 10,
   "metadata": {},
   "outputs": [],
   "source": [
    "#creating a moving avg function \n",
    "def move_avg(df, smooth_col, group_vals, window):\n",
    "    out = df.groupby(group_vals, as_index = False)[smooth_col].rolling(window = window).mean()\n",
    "    out = out.reset_index(level = 0, drop = True)\n",
    "    return(out)"
   ]
  },
  {
   "cell_type": "code",
   "execution_count": 11,
   "metadata": {},
   "outputs": [],
   "source": [
    "joined[lag3] = move_avg(df = joined, smooth_col=cols, group_vals = 'Name', window = 3)\n",
    "joined[lag2] = move_avg(df = joined, smooth_col = cols, group_vals = 'Name', window = 2)"
   ]
  },
  {
   "cell_type": "code",
   "execution_count": 12,
   "metadata": {},
   "outputs": [],
   "source": [
    "joined[prior_week] = joined.groupby('Name')[['Yds', 'TD', 'rec_fantasy_pts']].shift(periods = 1, axis = 0)"
   ]
  },
  {
   "cell_type": "code",
   "execution_count": 17,
   "metadata": {},
   "outputs": [],
   "source": [
    "big_list = lag3 + lag2\n",
    "joined[big_list] = joined.groupby('Name')[big_list].shift(periods = 1, axis = 0)"
   ]
  },
  {
   "cell_type": "markdown",
   "metadata": {},
   "source": [
    "#### Getting Ratios & Imputing"
   ]
  },
  {
   "cell_type": "code",
   "execution_count": 20,
   "metadata": {},
   "outputs": [],
   "source": [
    "joined.lag2_Yds = joined['lag2_Yds'].fillna(joined['Yds/G'])\n",
    "joined.lag2_TD = joined['lag2_TD'].fillna(joined['total_td']/16)\n",
    "joined.lag2_rec_fantasy_pts = joined['lag2_rec_fantasy_pts'].fillna(joined['2018_ppg'])"
   ]
  },
  {
   "cell_type": "code",
   "execution_count": 21,
   "metadata": {},
   "outputs": [],
   "source": [
    "joined.lag3_Yds = joined['lag3_Yds'].fillna(joined['Yds/G'])\n",
    "joined.lag3_TD = joined['lag3_TD'].fillna(joined['total_td']/16)\n",
    "joined.lag3_rec_fantasy_pts = joined['lag3_rec_fantasy_pts'].fillna(joined['2018_ppg'])"
   ]
  },
  {
   "cell_type": "code",
   "execution_count": 22,
   "metadata": {},
   "outputs": [],
   "source": [
    "joined.last_week_Yds = joined['last_week_Yds'].fillna(joined['Yds/G'])\n",
    "joined.last_week_TD = joined['last_week_TD'].fillna(joined['total_td']/16)\n",
    "joined.last_week_rec_fantasy_pts = joined['last_week_rec_fantasy_pts'].fillna(joined['2018_ppg'])"
   ]
  },
  {
   "cell_type": "code",
   "execution_count": 23,
   "metadata": {},
   "outputs": [],
   "source": [
    "joined['yds_ration'] = joined.lag2_Yds/joined.lag3_Yds\n",
    "joined['fantasy_pts_ratio'] = joined.lag2_rec_fantasy_pts/joined.lag3_rec_fantasy_pts"
   ]
  },
  {
   "cell_type": "markdown",
   "metadata": {},
   "source": [
    "### Finalizing Data for Modeling"
   ]
  },
  {
   "cell_type": "code",
   "execution_count": 24,
   "metadata": {},
   "outputs": [],
   "source": [
    "drop_vars = ['Yds/G', 'total_td', '2018_ppg', 'Team', 'Avg', '100yd_flag']"
   ]
  },
  {
   "cell_type": "code",
   "execution_count": 25,
   "metadata": {},
   "outputs": [
    {
     "name": "stdout",
     "output_type": "stream",
     "text": [
      "(1656, 21)\n"
     ]
    }
   ],
   "source": [
    "final_data = joined.drop(drop_vars, axis = 1)\n",
    "print(final_data.shape)"
   ]
  },
  {
   "cell_type": "markdown",
   "metadata": {},
   "source": [
    "### Writing the data "
   ]
  },
  {
   "cell_type": "code",
   "execution_count": 26,
   "metadata": {},
   "outputs": [],
   "source": [
    "# %load ../01_data-acq/write_function.py\n",
    "def writer(data, sheet_name, share_email):\n",
    "    #preparing the data to be written \n",
    "    data = data.fillna('na')\n",
    "    data = data.astype(str)\n",
    "    \n",
    "    #Grabbing Parameters for looping \n",
    "    n_rows = data.shape[0]\n",
    "    n_cols = data.shape[1]\n",
    "    \n",
    "    #creating sheets\n",
    "     #Now will can access our google sheets we call client.open on StartupName\n",
    "    sheet = client.create(sheet_name) \n",
    "    sheet.share(share_email,  perm_type='user', role='writer') #sharing my email \n",
    "    \n",
    "    #getting cell list to batch update\n",
    "    import string\n",
    "    end_col = string.ascii_uppercase[n_cols - 1]\n",
    "    end_row = n_rows + 1\n",
    "    \n",
    "    sheet_range = 'A1:'+ end_col + str(end_row)\n",
    "    \n",
    "    #turning df to one long list \n",
    "    df_as_list = data.stack().tolist()\n",
    "    df_as_list = data.columns.tolist() + df_as_list\n",
    "    \n",
    "    #getting the target sheet \n",
    "    ws = sheet.get_worksheet(0)\n",
    "    cell_list = ws.range(sheet_range)\n",
    "    \n",
    "    #writing df list to cell range list \n",
    "    for i in range(0, len(cell_list)):\n",
    "        cell_list[i].value = df_as_list[i]\n",
    "        \n",
    "    #batch updating \n",
    "    ws.update_cells(cell_list)"
   ]
  },
  {
   "cell_type": "code",
   "execution_count": 28,
   "metadata": {},
   "outputs": [],
   "source": [
    "writer(data  = final_data, sheet_name = 'receiving_data_model_ready', share_email = my_email)"
   ]
  }
 ],
 "metadata": {
  "kernelspec": {
   "display_name": "Python 3",
   "language": "python",
   "name": "python3"
  },
  "language_info": {
   "codemirror_mode": {
    "name": "ipython",
    "version": 3
   },
   "file_extension": ".py",
   "mimetype": "text/x-python",
   "name": "python",
   "nbconvert_exporter": "python",
   "pygments_lexer": "ipython3",
   "version": "3.6.9"
  }
 },
 "nbformat": 4,
 "nbformat_minor": 4
}
