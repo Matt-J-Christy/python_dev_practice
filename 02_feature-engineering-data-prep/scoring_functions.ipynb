{
 "cells": [
  {
   "cell_type": "markdown",
   "metadata": {},
   "source": [
    "### Creating scoring function \n",
    "    1. Passing \n",
    "    2. Recieving \n",
    "    3. Rushing \n",
    " \n",
    " 3 functions used together based on the data provided then add up for total points "
   ]
  },
  {
   "cell_type": "code",
   "execution_count": 1,
   "metadata": {},
   "outputs": [],
   "source": [
    "#import library\n",
    "import gspread \n",
    "#Service client credential from oauth2client\n",
    "from oauth2client.service_account import ServiceAccountCredentials\n",
    "# Print nicely\n",
    "import pprint\n",
    "#Create scope\n",
    "scope = ['https://spreadsheets.google.com/feeds', 'https://www.googleapis.com/auth/drive']\n",
    "#create some credential using that scope and content of startup_funding.json\n",
    "creds = ServiceAccountCredentials.from_json_keyfile_name('quickstart/g_sheet_creds.json',scope)\n",
    "#create gspread authorize using that credential\n",
    "client = gspread.authorize(creds)"
   ]
  },
  {
   "cell_type": "code",
   "execution_count": 2,
   "metadata": {},
   "outputs": [],
   "source": [
    "#getting the data \n",
    "\n",
    "sheet_url = 'https://docs.google.com/spreadsheets/d/11D57-HeQYujW7vZtN0MXsGpyNgWj45Q87BPiAD9CNCk/edit#gid=0'\n",
    "\n",
    "sheet = client.open_by_url(sheet_url).sheet1\n",
    "\n",
    "passing = sheet.get_all_values()\n"
   ]
  },
  {
   "cell_type": "code",
   "execution_count": 3,
   "metadata": {},
   "outputs": [
    {
     "name": "stdout",
     "output_type": "stream",
     "text": [
      "['Rk', 'Player', 'Pos', 'Age', 'Date', 'Lg', 'Tm', 'Opp', 'Result', 'G#', 'Week', 'Day', 'Cmp', 'Att', 'Cmp%', 'Yds', 'TD', 'Int', 'Rate', 'Sk', 'Y/A', 'AY/A']\n"
     ]
    }
   ],
   "source": [
    "colnames = passing.pop(0)\n",
    "print(colnames)"
   ]
  },
  {
   "cell_type": "code",
   "execution_count": 4,
   "metadata": {},
   "outputs": [
    {
     "data": {
      "text/html": [
       "<div>\n",
       "<style scoped>\n",
       "    .dataframe tbody tr th:only-of-type {\n",
       "        vertical-align: middle;\n",
       "    }\n",
       "\n",
       "    .dataframe tbody tr th {\n",
       "        vertical-align: top;\n",
       "    }\n",
       "\n",
       "    .dataframe thead th {\n",
       "        text-align: right;\n",
       "    }\n",
       "</style>\n",
       "<table border=\"1\" class=\"dataframe\">\n",
       "  <thead>\n",
       "    <tr style=\"text-align: right;\">\n",
       "      <th></th>\n",
       "      <th>Rk</th>\n",
       "      <th>Player</th>\n",
       "      <th>Pos</th>\n",
       "      <th>Age</th>\n",
       "      <th>Date</th>\n",
       "      <th>Lg</th>\n",
       "      <th>Tm</th>\n",
       "      <th>Opp</th>\n",
       "      <th>Result</th>\n",
       "      <th>G#</th>\n",
       "      <th>...</th>\n",
       "      <th>Cmp</th>\n",
       "      <th>Att</th>\n",
       "      <th>Cmp%</th>\n",
       "      <th>Yds</th>\n",
       "      <th>TD</th>\n",
       "      <th>Int</th>\n",
       "      <th>Rate</th>\n",
       "      <th>Sk</th>\n",
       "      <th>Y/A</th>\n",
       "      <th>AY/A</th>\n",
       "    </tr>\n",
       "  </thead>\n",
       "  <tbody>\n",
       "    <tr>\n",
       "      <th>0</th>\n",
       "      <td>1</td>\n",
       "      <td>Julian Edelman</td>\n",
       "      <td>WR</td>\n",
       "      <td>33.179</td>\n",
       "      <td>2019-11-17</td>\n",
       "      <td>NFL</td>\n",
       "      <td>NWE</td>\n",
       "      <td>PHI</td>\n",
       "      <td>W 17-10</td>\n",
       "      <td>10</td>\n",
       "      <td>...</td>\n",
       "      <td>1</td>\n",
       "      <td>1</td>\n",
       "      <td>100.00</td>\n",
       "      <td>0</td>\n",
       "      <td>1</td>\n",
       "      <td>0</td>\n",
       "      <td>158.3</td>\n",
       "      <td>0</td>\n",
       "      <td>15.00</td>\n",
       "      <td>35.00</td>\n",
       "    </tr>\n",
       "    <tr>\n",
       "      <th>1</th>\n",
       "      <td>2</td>\n",
       "      <td>Lamar Jackson</td>\n",
       "      <td>QB</td>\n",
       "      <td>22.314</td>\n",
       "      <td>2019-11-17</td>\n",
       "      <td>NFL</td>\n",
       "      <td>BAL</td>\n",
       "      <td>HOU</td>\n",
       "      <td>W 41-7</td>\n",
       "      <td>10</td>\n",
       "      <td>...</td>\n",
       "      <td>17</td>\n",
       "      <td>24</td>\n",
       "      <td>70.83</td>\n",
       "      <td>0</td>\n",
       "      <td>4</td>\n",
       "      <td>0</td>\n",
       "      <td>139.2</td>\n",
       "      <td>0</td>\n",
       "      <td>9.25</td>\n",
       "      <td>12.58</td>\n",
       "    </tr>\n",
       "    <tr>\n",
       "      <th>2</th>\n",
       "      <td>3</td>\n",
       "      <td>Kirk Cousins</td>\n",
       "      <td>QB</td>\n",
       "      <td>31.090</td>\n",
       "      <td>2019-11-17</td>\n",
       "      <td>NFL</td>\n",
       "      <td>MIN</td>\n",
       "      <td>DEN</td>\n",
       "      <td>W 27-23</td>\n",
       "      <td>11</td>\n",
       "      <td>...</td>\n",
       "      <td>29</td>\n",
       "      <td>35</td>\n",
       "      <td>82.86</td>\n",
       "      <td>35</td>\n",
       "      <td>3</td>\n",
       "      <td>0</td>\n",
       "      <td>133.2</td>\n",
       "      <td>5</td>\n",
       "      <td>9.11</td>\n",
       "      <td>10.83</td>\n",
       "    </tr>\n",
       "    <tr>\n",
       "      <th>3</th>\n",
       "      <td>4</td>\n",
       "      <td>Drew Brees</td>\n",
       "      <td>QB</td>\n",
       "      <td>40.306</td>\n",
       "      <td>2019-11-17</td>\n",
       "      <td>NFL</td>\n",
       "      <td>NOR</td>\n",
       "      <td>TAM</td>\n",
       "      <td>W 34-17</td>\n",
       "      <td>10</td>\n",
       "      <td>...</td>\n",
       "      <td>28</td>\n",
       "      <td>35</td>\n",
       "      <td>80.00</td>\n",
       "      <td>0</td>\n",
       "      <td>3</td>\n",
       "      <td>0</td>\n",
       "      <td>122.4</td>\n",
       "      <td>0</td>\n",
       "      <td>6.51</td>\n",
       "      <td>8.23</td>\n",
       "    </tr>\n",
       "    <tr>\n",
       "      <th>4</th>\n",
       "      <td>5</td>\n",
       "      <td>Sam Darnold</td>\n",
       "      <td>QB</td>\n",
       "      <td>22.165</td>\n",
       "      <td>2019-11-17</td>\n",
       "      <td>NFL</td>\n",
       "      <td>NYJ</td>\n",
       "      <td>WAS</td>\n",
       "      <td>W 34-17</td>\n",
       "      <td>10</td>\n",
       "      <td>...</td>\n",
       "      <td>19</td>\n",
       "      <td>30</td>\n",
       "      <td>63.33</td>\n",
       "      <td>8</td>\n",
       "      <td>4</td>\n",
       "      <td>1</td>\n",
       "      <td>121.3</td>\n",
       "      <td>2</td>\n",
       "      <td>9.77</td>\n",
       "      <td>10.93</td>\n",
       "    </tr>\n",
       "  </tbody>\n",
       "</table>\n",
       "<p>5 rows × 22 columns</p>\n",
       "</div>"
      ],
      "text/plain": [
       "  Rk          Player Pos     Age        Date   Lg   Tm  Opp   Result  G#  ...  \\\n",
       "0  1  Julian Edelman  WR  33.179  2019-11-17  NFL  NWE  PHI  W 17-10  10  ...   \n",
       "1  2   Lamar Jackson  QB  22.314  2019-11-17  NFL  BAL  HOU   W 41-7  10  ...   \n",
       "2  3    Kirk Cousins  QB  31.090  2019-11-17  NFL  MIN  DEN  W 27-23  11  ...   \n",
       "3  4      Drew Brees  QB  40.306  2019-11-17  NFL  NOR  TAM  W 34-17  10  ...   \n",
       "4  5     Sam Darnold  QB  22.165  2019-11-17  NFL  NYJ  WAS  W 34-17  10  ...   \n",
       "\n",
       "  Cmp Att    Cmp% Yds TD Int   Rate Sk    Y/A   AY/A  \n",
       "0   1   1  100.00   0  1   0  158.3  0  15.00  35.00  \n",
       "1  17  24   70.83   0  4   0  139.2  0   9.25  12.58  \n",
       "2  29  35   82.86  35  3   0  133.2  5   9.11  10.83  \n",
       "3  28  35   80.00   0  3   0  122.4  0   6.51   8.23  \n",
       "4  19  30   63.33   8  4   1  121.3  2   9.77  10.93  \n",
       "\n",
       "[5 rows x 22 columns]"
      ]
     },
     "execution_count": 4,
     "metadata": {},
     "output_type": "execute_result"
    }
   ],
   "source": [
    "import pandas as pd \n",
    "\n",
    "df = pd.DataFrame(passing, columns=colnames)\n",
    "df.head()"
   ]
  },
  {
   "cell_type": "code",
   "execution_count": null,
   "metadata": {},
   "outputs": [],
   "source": [
    "def passing_pts(df):\n",
    "    #declaring the scoring parameters for passing stats \n",
    "    pts = {\n",
    "        \"yds\":.04,\n",
    "        \"td\":4,\n",
    "        \"300yd\":3, \n",
    "        \"int\":-1,\n",
    "        \"fumble\":-1\n",
    "            }\n",
    "    #applyting to the data \n",
    "    score = df[\"Yds\"]"
   ]
  },
  {
   "cell_type": "code",
   "execution_count": null,
   "metadata": {},
   "outputs": [],
   "source": [
    "def receiving_rush_pts(df): \n",
    "    pts = {\n",
    "        \"yds\":.1,\n",
    "        \"td\":6.,\n",
    "        \"100yds\":3,\n",
    "        \"fumble\":-1,\n",
    "        \"2pt\": 2\n",
    "    }"
   ]
  },
  {
   "cell_type": "code",
   "execution_count": 5,
   "metadata": {},
   "outputs": [
    {
     "data": {
      "text/plain": [
       "29.487179487179485"
      ]
     },
     "execution_count": 5,
     "metadata": {},
     "output_type": "execute_result"
    }
   ],
   "source": [
    "92000/60/52"
   ]
  },
  {
   "cell_type": "code",
   "execution_count": 33,
   "metadata": {},
   "outputs": [
    {
     "data": {
      "text/plain": [
       "0      0\n",
       "1      0\n",
       "2     35\n",
       "3      0\n",
       "4      8\n",
       "5      0\n",
       "6      0\n",
       "7     10\n",
       "8     16\n",
       "9     19\n",
       "10    18\n",
       "11    19\n",
       "12    19\n",
       "13     0\n",
       "14     4\n",
       "15    17\n",
       "16    43\n",
       "17    43\n",
       "18     0\n",
       "19     0\n",
       "20    23\n",
       "21    40\n",
       "22     2\n",
       "23     0\n",
       "24     7\n",
       "25     2\n",
       "26    49\n",
       "27     8\n",
       "28    15\n",
       "29     8\n",
       "30    55\n",
       "31     4\n",
       "32    10\n",
       "33     0\n",
       "34    42\n",
       "35    43\n",
       "Name: Yds, dtype: object"
      ]
     },
     "execution_count": 33,
     "metadata": {},
     "output_type": "execute_result"
    }
   ],
   "source": [
    "df[\"Yds\"]"
   ]
  }
 ],
 "metadata": {
  "kernelspec": {
   "display_name": "Python 3",
   "language": "python",
   "name": "python3"
  },
  "language_info": {
   "codemirror_mode": {
    "name": "ipython",
    "version": 3
   },
   "file_extension": ".py",
   "mimetype": "text/x-python",
   "name": "python",
   "nbconvert_exporter": "python",
   "pygments_lexer": "ipython3",
   "version": "3.6.9"
  }
 },
 "nbformat": 4,
 "nbformat_minor": 4
}
