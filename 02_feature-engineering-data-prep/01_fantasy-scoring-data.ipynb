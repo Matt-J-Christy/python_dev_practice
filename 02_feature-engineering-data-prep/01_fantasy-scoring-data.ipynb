{
 "cells": [
  {
   "cell_type": "markdown",
   "metadata": {},
   "source": [
    "## Scoreing Fantasy Performance"
   ]
  },
  {
   "cell_type": "markdown",
   "metadata": {},
   "source": [
    "1. read in gsheets\n",
    "2. aggregate at the player - week level \n",
    "3. score by week\n",
    "5. filter players with very low season long scores\n",
    "4. write data "
   ]
  },
  {
   "cell_type": "code",
   "execution_count": 1,
   "metadata": {},
   "outputs": [],
   "source": [
    "#import library\n",
    "import gspread \n",
    "#Service client credential from oauth2client\n",
    "from oauth2client.service_account import ServiceAccountCredentials\n",
    "#Create scope\n",
    "scope = ['https://spreadsheets.google.com/feeds', 'https://www.googleapis.com/auth/drive']\n",
    "#create some credential using that scope and content of startup_funding.json\n",
    "creds = ServiceAccountCredentials.from_json_keyfile_name('../g_sheet_creds.json',scope)\n",
    "#create gspread authorize using that credential\n",
    "client = gspread.authorize(creds)\n",
    "my_email = 'matthewjchristy66@gmail.com'"
   ]
  },
  {
   "cell_type": "code",
   "execution_count": 2,
   "metadata": {},
   "outputs": [],
   "source": [
    "import pandas as pd\n",
    "import numpy as np\n",
    "from helper_funcs import passing_pts, receiving_rush_pts, writer"
   ]
  },
  {
   "cell_type": "markdown",
   "metadata": {},
   "source": [
    "#### Passing"
   ]
  },
  {
   "cell_type": "code",
   "execution_count": 6,
   "metadata": {},
   "outputs": [],
   "source": [
    "passing = client.open('passing').sheet1\n",
    "passing = passing.get_all_values()\n",
    "pass_df = pd.DataFrame(passing, columns = passing.pop(0))"
   ]
  },
  {
   "cell_type": "code",
   "execution_count": 7,
   "metadata": {},
   "outputs": [],
   "source": [
    "floats = ['Comp', 'Att', 'Yds', 'TD', 'Int', 'Sck', 'FUM', 'Rate']\n",
    "\n",
    "pass_df[floats] = pass_df[floats].astype(float)\n",
    "pass_df[\"300yd_flag\"] = np.where(pass_df['Yds'] >= 300, 1, 0)\n",
    "pass_df['passing_fantasy_pts'] = passing_pts(pass_df)"
   ]
  },
  {
   "cell_type": "code",
   "execution_count": 8,
   "metadata": {},
   "outputs": [
    {
     "data": {
      "text/html": [
       "<div>\n",
       "<style scoped>\n",
       "    .dataframe tbody tr th:only-of-type {\n",
       "        vertical-align: middle;\n",
       "    }\n",
       "\n",
       "    .dataframe tbody tr th {\n",
       "        vertical-align: top;\n",
       "    }\n",
       "\n",
       "    .dataframe thead th {\n",
       "        text-align: right;\n",
       "    }\n",
       "</style>\n",
       "<table border=\"1\" class=\"dataframe\">\n",
       "  <thead>\n",
       "    <tr style=\"text-align: right;\">\n",
       "      <th></th>\n",
       "      <th>Name</th>\n",
       "      <th>Week</th>\n",
       "      <th>Team</th>\n",
       "      <th>Opp</th>\n",
       "      <th>Score</th>\n",
       "      <th>Comp</th>\n",
       "      <th>Att</th>\n",
       "      <th>Yds</th>\n",
       "      <th>TD</th>\n",
       "      <th>Int</th>\n",
       "      <th>Sck</th>\n",
       "      <th>FUM</th>\n",
       "      <th>Rate</th>\n",
       "      <th>300yd_flag</th>\n",
       "      <th>passing_fantasy_pts</th>\n",
       "    </tr>\n",
       "  </thead>\n",
       "  <tbody>\n",
       "    <tr>\n",
       "      <th>0</th>\n",
       "      <td>Andy Dalton</td>\n",
       "      <td>1</td>\n",
       "      <td>CIN</td>\n",
       "      <td>@ SEA</td>\n",
       "      <td>L 20-21</td>\n",
       "      <td>35.0</td>\n",
       "      <td>51.0</td>\n",
       "      <td>418.0</td>\n",
       "      <td>2.0</td>\n",
       "      <td>0.0</td>\n",
       "      <td>5.0</td>\n",
       "      <td>2.0</td>\n",
       "      <td>106.5</td>\n",
       "      <td>1</td>\n",
       "      <td>25.72</td>\n",
       "    </tr>\n",
       "    <tr>\n",
       "      <th>1</th>\n",
       "      <td>Dak Prescott</td>\n",
       "      <td>1</td>\n",
       "      <td>DAL</td>\n",
       "      <td>vs NYG</td>\n",
       "      <td>W 35-17</td>\n",
       "      <td>25.0</td>\n",
       "      <td>32.0</td>\n",
       "      <td>405.0</td>\n",
       "      <td>4.0</td>\n",
       "      <td>0.0</td>\n",
       "      <td>0.0</td>\n",
       "      <td>0.0</td>\n",
       "      <td>158.3</td>\n",
       "      <td>1</td>\n",
       "      <td>35.20</td>\n",
       "    </tr>\n",
       "    <tr>\n",
       "      <th>2</th>\n",
       "      <td>Matthew Stafford</td>\n",
       "      <td>1</td>\n",
       "      <td>DET</td>\n",
       "      <td>@ ARI</td>\n",
       "      <td>T 27-27</td>\n",
       "      <td>27.0</td>\n",
       "      <td>45.0</td>\n",
       "      <td>385.0</td>\n",
       "      <td>3.0</td>\n",
       "      <td>0.0</td>\n",
       "      <td>3.0</td>\n",
       "      <td>1.0</td>\n",
       "      <td>110.0</td>\n",
       "      <td>1</td>\n",
       "      <td>29.40</td>\n",
       "    </tr>\n",
       "    <tr>\n",
       "      <th>3</th>\n",
       "      <td>Case Keenum</td>\n",
       "      <td>1</td>\n",
       "      <td>WAS</td>\n",
       "      <td>@ PHI</td>\n",
       "      <td>L 27-32</td>\n",
       "      <td>30.0</td>\n",
       "      <td>44.0</td>\n",
       "      <td>380.0</td>\n",
       "      <td>3.0</td>\n",
       "      <td>0.0</td>\n",
       "      <td>1.0</td>\n",
       "      <td>0.0</td>\n",
       "      <td>117.6</td>\n",
       "      <td>1</td>\n",
       "      <td>30.20</td>\n",
       "    </tr>\n",
       "    <tr>\n",
       "      <th>4</th>\n",
       "      <td>Patrick Mahomes</td>\n",
       "      <td>1</td>\n",
       "      <td>KC</td>\n",
       "      <td>@ JAX</td>\n",
       "      <td>W 40-26</td>\n",
       "      <td>25.0</td>\n",
       "      <td>33.0</td>\n",
       "      <td>378.0</td>\n",
       "      <td>3.0</td>\n",
       "      <td>0.0</td>\n",
       "      <td>0.0</td>\n",
       "      <td>0.0</td>\n",
       "      <td>143.2</td>\n",
       "      <td>1</td>\n",
       "      <td>30.12</td>\n",
       "    </tr>\n",
       "  </tbody>\n",
       "</table>\n",
       "</div>"
      ],
      "text/plain": [
       "               Name Week Team     Opp     Score  Comp   Att    Yds   TD  Int  \\\n",
       "0       Andy Dalton    1  CIN   @ SEA  L 20-21   35.0  51.0  418.0  2.0  0.0   \n",
       "1      Dak Prescott    1  DAL  vs NYG  W 35-17   25.0  32.0  405.0  4.0  0.0   \n",
       "2  Matthew Stafford    1  DET   @ ARI  T 27-27   27.0  45.0  385.0  3.0  0.0   \n",
       "3       Case Keenum    1  WAS   @ PHI  L 27-32   30.0  44.0  380.0  3.0  0.0   \n",
       "4   Patrick Mahomes    1   KC   @ JAX  W 40-26   25.0  33.0  378.0  3.0  0.0   \n",
       "\n",
       "   Sck  FUM   Rate  300yd_flag  passing_fantasy_pts  \n",
       "0  5.0  2.0  106.5           1                25.72  \n",
       "1  0.0  0.0  158.3           1                35.20  \n",
       "2  3.0  1.0  110.0           1                29.40  \n",
       "3  1.0  0.0  117.6           1                30.20  \n",
       "4  0.0  0.0  143.2           1                30.12  "
      ]
     },
     "execution_count": 8,
     "metadata": {},
     "output_type": "execute_result"
    }
   ],
   "source": [
    "pass_df.head()"
   ]
  },
  {
   "cell_type": "markdown",
   "metadata": {},
   "source": [
    "#### Rushing "
   ]
  },
  {
   "cell_type": "code",
   "execution_count": 9,
   "metadata": {},
   "outputs": [],
   "source": [
    "rush = client.open('rushing').sheet1\n",
    "rush = rush.get_all_values()\n",
    "rush_df = pd.DataFrame(rush, columns = rush.pop(0))"
   ]
  },
  {
   "cell_type": "code",
   "execution_count": 10,
   "metadata": {},
   "outputs": [],
   "source": [
    "rush_df[['Yds', 'TD', 'FUM']] = rush_df[['Yds', 'TD', 'FUM']].astype(float)\n",
    "rush_df['100yd_flag'] = np.where(rush_df['Yds'] >= 100, 1, 0).astype(float)\n",
    "rush_df['rush_fantasy_pts'] = receiving_rush_pts(rush_df)"
   ]
  },
  {
   "cell_type": "code",
   "execution_count": 11,
   "metadata": {},
   "outputs": [
    {
     "data": {
      "text/html": [
       "<div>\n",
       "<style scoped>\n",
       "    .dataframe tbody tr th:only-of-type {\n",
       "        vertical-align: middle;\n",
       "    }\n",
       "\n",
       "    .dataframe tbody tr th {\n",
       "        vertical-align: top;\n",
       "    }\n",
       "\n",
       "    .dataframe thead th {\n",
       "        text-align: right;\n",
       "    }\n",
       "</style>\n",
       "<table border=\"1\" class=\"dataframe\">\n",
       "  <thead>\n",
       "    <tr style=\"text-align: right;\">\n",
       "      <th></th>\n",
       "      <th>Name</th>\n",
       "      <th>Week</th>\n",
       "      <th>Team</th>\n",
       "      <th>Opp</th>\n",
       "      <th>Score</th>\n",
       "      <th>Att</th>\n",
       "      <th>Yds</th>\n",
       "      <th>Avg</th>\n",
       "      <th>TD</th>\n",
       "      <th>FUM</th>\n",
       "      <th>100yd_flag</th>\n",
       "      <th>rush_fantasy_pts</th>\n",
       "    </tr>\n",
       "  </thead>\n",
       "  <tbody>\n",
       "    <tr>\n",
       "      <th>0</th>\n",
       "      <td>Marlon Mack</td>\n",
       "      <td>1</td>\n",
       "      <td>IND</td>\n",
       "      <td>@ LAC</td>\n",
       "      <td>L 24-30</td>\n",
       "      <td>25</td>\n",
       "      <td>174.0</td>\n",
       "      <td>7.0</td>\n",
       "      <td>1.0</td>\n",
       "      <td>0.0</td>\n",
       "      <td>1.0</td>\n",
       "      <td>23.4</td>\n",
       "    </tr>\n",
       "    <tr>\n",
       "      <th>1</th>\n",
       "      <td>Christian McCaffrey</td>\n",
       "      <td>1</td>\n",
       "      <td>CAR</td>\n",
       "      <td>vs LA</td>\n",
       "      <td>L 27-30</td>\n",
       "      <td>19</td>\n",
       "      <td>128.0</td>\n",
       "      <td>6.7</td>\n",
       "      <td>2.0</td>\n",
       "      <td>0.0</td>\n",
       "      <td>1.0</td>\n",
       "      <td>24.8</td>\n",
       "    </tr>\n",
       "    <tr>\n",
       "      <th>2</th>\n",
       "      <td>Saquon Barkley</td>\n",
       "      <td>1</td>\n",
       "      <td>NYG</td>\n",
       "      <td>@ DAL</td>\n",
       "      <td>L 17-35</td>\n",
       "      <td>11</td>\n",
       "      <td>120.0</td>\n",
       "      <td>10.9</td>\n",
       "      <td>0.0</td>\n",
       "      <td>0.0</td>\n",
       "      <td>1.0</td>\n",
       "      <td>12.0</td>\n",
       "    </tr>\n",
       "    <tr>\n",
       "      <th>3</th>\n",
       "      <td>Dalvin Cook</td>\n",
       "      <td>1</td>\n",
       "      <td>MIN</td>\n",
       "      <td>vs ATL</td>\n",
       "      <td>W 28-12</td>\n",
       "      <td>21</td>\n",
       "      <td>111.0</td>\n",
       "      <td>5.3</td>\n",
       "      <td>2.0</td>\n",
       "      <td>0.0</td>\n",
       "      <td>1.0</td>\n",
       "      <td>23.1</td>\n",
       "    </tr>\n",
       "    <tr>\n",
       "      <th>4</th>\n",
       "      <td>Mark Ingram</td>\n",
       "      <td>1</td>\n",
       "      <td>BAL</td>\n",
       "      <td>@ MIA</td>\n",
       "      <td>W 59-10</td>\n",
       "      <td>14</td>\n",
       "      <td>107.0</td>\n",
       "      <td>7.6</td>\n",
       "      <td>2.0</td>\n",
       "      <td>0.0</td>\n",
       "      <td>1.0</td>\n",
       "      <td>22.7</td>\n",
       "    </tr>\n",
       "  </tbody>\n",
       "</table>\n",
       "</div>"
      ],
      "text/plain": [
       "                  Name Week Team     Opp     Score Att    Yds   Avg   TD  FUM  \\\n",
       "0          Marlon Mack    1  IND   @ LAC  L 24-30   25  174.0   7.0  1.0  0.0   \n",
       "1  Christian McCaffrey    1  CAR   vs LA  L 27-30   19  128.0   6.7  2.0  0.0   \n",
       "2       Saquon Barkley    1  NYG   @ DAL  L 17-35   11  120.0  10.9  0.0  0.0   \n",
       "3          Dalvin Cook    1  MIN  vs ATL  W 28-12   21  111.0   5.3  2.0  0.0   \n",
       "4          Mark Ingram    1  BAL   @ MIA  W 59-10   14  107.0   7.6  2.0  0.0   \n",
       "\n",
       "   100yd_flag  rush_fantasy_pts  \n",
       "0         1.0              23.4  \n",
       "1         1.0              24.8  \n",
       "2         1.0              12.0  \n",
       "3         1.0              23.1  \n",
       "4         1.0              22.7  "
      ]
     },
     "execution_count": 11,
     "metadata": {},
     "output_type": "execute_result"
    }
   ],
   "source": [
    "rush_df.head()"
   ]
  },
  {
   "cell_type": "markdown",
   "metadata": {},
   "source": [
    "#### Receiving "
   ]
  },
  {
   "cell_type": "code",
   "execution_count": 12,
   "metadata": {},
   "outputs": [],
   "source": [
    "rec = client.open('receiving').sheet1\n",
    "rec = rec.get_all_values()\n",
    "rec_df = pd.DataFrame(rec, columns = rec.pop(0))"
   ]
  },
  {
   "cell_type": "code",
   "execution_count": 13,
   "metadata": {},
   "outputs": [],
   "source": [
    "rec_df[['Yds', 'TD', 'FUM']] = rec_df[['Yds', 'TD', 'FUM']].astype(float)\n",
    "rec_df['100yd_flag'] = np.where(rec_df['Yds'] >= 100, 1, 0).astype(float)\n",
    "rec_df['rec_fantasy_pts'] = receiving_rush_pts(rec_df)"
   ]
  },
  {
   "cell_type": "code",
   "execution_count": 14,
   "metadata": {},
   "outputs": [
    {
     "data": {
      "text/html": [
       "<div>\n",
       "<style scoped>\n",
       "    .dataframe tbody tr th:only-of-type {\n",
       "        vertical-align: middle;\n",
       "    }\n",
       "\n",
       "    .dataframe tbody tr th {\n",
       "        vertical-align: top;\n",
       "    }\n",
       "\n",
       "    .dataframe thead th {\n",
       "        text-align: right;\n",
       "    }\n",
       "</style>\n",
       "<table border=\"1\" class=\"dataframe\">\n",
       "  <thead>\n",
       "    <tr style=\"text-align: right;\">\n",
       "      <th></th>\n",
       "      <th>Name</th>\n",
       "      <th>Week</th>\n",
       "      <th>Team</th>\n",
       "      <th>Opp</th>\n",
       "      <th>Score</th>\n",
       "      <th>Rec</th>\n",
       "      <th>Yds</th>\n",
       "      <th>Avg</th>\n",
       "      <th>TD</th>\n",
       "      <th>FUM</th>\n",
       "      <th>100yd_flag</th>\n",
       "      <th>rec_fantasy_pts</th>\n",
       "    </tr>\n",
       "  </thead>\n",
       "  <tbody>\n",
       "    <tr>\n",
       "      <th>0</th>\n",
       "      <td>Sammy Watkins</td>\n",
       "      <td>1</td>\n",
       "      <td>KC</td>\n",
       "      <td>@ JAX</td>\n",
       "      <td>W 40-26</td>\n",
       "      <td>9</td>\n",
       "      <td>198.0</td>\n",
       "      <td>22.0</td>\n",
       "      <td>3.0</td>\n",
       "      <td>0.0</td>\n",
       "      <td>1.0</td>\n",
       "      <td>37.8</td>\n",
       "    </tr>\n",
       "    <tr>\n",
       "      <th>1</th>\n",
       "      <td>Michael Gallup</td>\n",
       "      <td>1</td>\n",
       "      <td>DAL</td>\n",
       "      <td>vs NYG</td>\n",
       "      <td>W 35-17</td>\n",
       "      <td>7</td>\n",
       "      <td>158.0</td>\n",
       "      <td>22.6</td>\n",
       "      <td>0.0</td>\n",
       "      <td>0.0</td>\n",
       "      <td>1.0</td>\n",
       "      <td>15.8</td>\n",
       "    </tr>\n",
       "    <tr>\n",
       "      <th>2</th>\n",
       "      <td>John Ross</td>\n",
       "      <td>1</td>\n",
       "      <td>CIN</td>\n",
       "      <td>@ SEA</td>\n",
       "      <td>L 20-21</td>\n",
       "      <td>7</td>\n",
       "      <td>158.0</td>\n",
       "      <td>22.6</td>\n",
       "      <td>2.0</td>\n",
       "      <td>0.0</td>\n",
       "      <td>1.0</td>\n",
       "      <td>27.8</td>\n",
       "    </tr>\n",
       "    <tr>\n",
       "      <th>3</th>\n",
       "      <td>DeSean Jackson</td>\n",
       "      <td>1</td>\n",
       "      <td>PHI</td>\n",
       "      <td>vs WAS</td>\n",
       "      <td>W 32-27</td>\n",
       "      <td>8</td>\n",
       "      <td>154.0</td>\n",
       "      <td>19.2</td>\n",
       "      <td>2.0</td>\n",
       "      <td>0.0</td>\n",
       "      <td>1.0</td>\n",
       "      <td>27.4</td>\n",
       "    </tr>\n",
       "    <tr>\n",
       "      <th>4</th>\n",
       "      <td>Marquise Brown</td>\n",
       "      <td>1</td>\n",
       "      <td>BAL</td>\n",
       "      <td>@ MIA</td>\n",
       "      <td>W 59-10</td>\n",
       "      <td>4</td>\n",
       "      <td>147.0</td>\n",
       "      <td>36.8</td>\n",
       "      <td>2.0</td>\n",
       "      <td>0.0</td>\n",
       "      <td>1.0</td>\n",
       "      <td>26.7</td>\n",
       "    </tr>\n",
       "  </tbody>\n",
       "</table>\n",
       "</div>"
      ],
      "text/plain": [
       "             Name Week Team     Opp     Score Rec    Yds   Avg   TD  FUM  \\\n",
       "0   Sammy Watkins    1   KC   @ JAX  W 40-26    9  198.0  22.0  3.0  0.0   \n",
       "1  Michael Gallup    1  DAL  vs NYG  W 35-17    7  158.0  22.6  0.0  0.0   \n",
       "2       John Ross    1  CIN   @ SEA  L 20-21    7  158.0  22.6  2.0  0.0   \n",
       "3  DeSean Jackson    1  PHI  vs WAS  W 32-27    8  154.0  19.2  2.0  0.0   \n",
       "4  Marquise Brown    1  BAL   @ MIA  W 59-10    4  147.0  36.8  2.0  0.0   \n",
       "\n",
       "   100yd_flag  rec_fantasy_pts  \n",
       "0         1.0             37.8  \n",
       "1         1.0             15.8  \n",
       "2         1.0             27.8  \n",
       "3         1.0             27.4  \n",
       "4         1.0             26.7  "
      ]
     },
     "execution_count": 14,
     "metadata": {},
     "output_type": "execute_result"
    }
   ],
   "source": [
    "rec_df.head()"
   ]
  },
  {
   "cell_type": "markdown",
   "metadata": {},
   "source": [
    "#### Filtering the data for low / no scores"
   ]
  },
  {
   "cell_type": "code",
   "execution_count": 15,
   "metadata": {},
   "outputs": [],
   "source": [
    "pass_pts_agg = pass_df.groupby('Name')['passing_fantasy_pts'].sum().to_frame().rename(columns = {'passing_fantasy_pts':'szn_pts_total'})\n",
    "pass_pts_agg.szn_pts_total = pass_pts_agg.szn_pts_total.astype(float)"
   ]
  },
  {
   "cell_type": "code",
   "execution_count": 18,
   "metadata": {},
   "outputs": [
    {
     "name": "stdout",
     "output_type": "stream",
     "text": [
      "       szn_pts_total\n",
      "count     108.000000\n",
      "mean       75.902222\n",
      "std       105.433707\n",
      "min        -1.000000\n",
      "25%         0.430000\n",
      "50%         6.940000\n",
      "75%       184.650000\n",
      "max       334.360000\n",
      "points filter to remove players with very low season long totals: 6.9399999999999995\n"
     ]
    }
   ],
   "source": [
    "print(pass_pts_agg.describe())\n",
    "\n",
    "pass_filter = pass_pts_agg.loc[:, 'szn_pts_total'].quantile(.5)\n",
    "\n",
    "print(f\"points filter to remove players with very low season long totals: {pass_filter}\")"
   ]
  },
  {
   "cell_type": "code",
   "execution_count": 24,
   "metadata": {},
   "outputs": [],
   "source": [
    "dropnames = pass_pts_agg.loc[pass_pts_agg['szn_pts_total'] < pass_filter]\n",
    "pass_f = pass_df[~pass_df.Name.isin(dropnames)]"
   ]
  },
  {
   "cell_type": "code",
   "execution_count": 21,
   "metadata": {},
   "outputs": [],
   "source": [
    "rec_agg = rec_df.groupby('Name')['rec_fantasy_pts'].sum().to_frame().rename(columns = {'rec_fantasy_pts':'szn_pts_total'})\n",
    "\n",
    "rec_agg.szn_pts_total = rec_agg.szn_pts_total.astype(float)\n",
    "dropnames = rec_agg.loc[rec_agg[ 'szn_pts_total'] < rec_agg.loc[:, 'szn_pts_total'].quantile(.5), :]\n",
    "rec_f = rec_df[~rec_df.Name.isin(dropnames)]"
   ]
  },
  {
   "cell_type": "code",
   "execution_count": 22,
   "metadata": {},
   "outputs": [],
   "source": [
    "rush_agg = rush_df.groupby('Name')['rush_fantasy_pts'].sum().to_frame().rename(columns = {'rush_fantasy_pts':'szn_pts_total'})\n",
    "\n",
    "rush_agg.szn_pts_total = rush_agg.szn_pts_total.astype(float)\n",
    "dropnames = rush_agg.loc[rush_agg[ 'szn_pts_total'] < rush_agg.loc[:, 'szn_pts_total'].quantile(.5), :]\n",
    "rush_f = rush_df[~rush_df.Name.isin(dropnames)]"
   ]
  },
  {
   "cell_type": "markdown",
   "metadata": {},
   "source": [
    "### Write the Data"
   ]
  },
  {
   "cell_type": "code",
   "execution_count": 28,
   "metadata": {},
   "outputs": [],
   "source": [
    "writer(data = pass_f, sheet_name = 'passing_processed_step1', share_email = my_email)\n",
    "\n",
    "writer(data = rush_f, sheet_name = 'rushing_processed_step1', share_email = my_email)\n",
    "\n",
    "writer(data = rec_f, sheet_name = 'receiving_processed_step1', share_email = my_email)"
   ]
  }
 ],
 "metadata": {
  "kernelspec": {
   "display_name": "Python 3",
   "language": "python",
   "name": "python3"
  },
  "language_info": {
   "codemirror_mode": {
    "name": "ipython",
    "version": 3
   },
   "file_extension": ".py",
   "mimetype": "text/x-python",
   "name": "python",
   "nbconvert_exporter": "python",
   "pygments_lexer": "ipython3",
   "version": "3.6.9"
  }
 },
 "nbformat": 4,
 "nbformat_minor": 4
}
