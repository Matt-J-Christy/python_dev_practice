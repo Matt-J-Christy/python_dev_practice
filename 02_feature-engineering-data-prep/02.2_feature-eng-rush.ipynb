{
 "cells": [
  {
   "cell_type": "markdown",
   "metadata": {},
   "source": [
    "## Feature Engineering for rushing data "
   ]
  },
  {
   "cell_type": "code",
   "execution_count": 1,
   "metadata": {},
   "outputs": [],
   "source": [
    "#importing various libraries \n",
    "import gspread \n",
    "#Service client credential from oauth2client\n",
    "from oauth2client.service_account import ServiceAccountCredentials\n",
    "# Print nicely\n",
    "import pprint\n",
    "#Create scope\n",
    "scope = ['https://spreadsheets.google.com/feeds', 'https://www.googleapis.com/auth/drive']\n",
    "#create some credential using that scope and content of startup_funding.json\n",
    "creds = ServiceAccountCredentials.from_json_keyfile_name('../quickstart/g_sheet_creds.json',scope)\n",
    "#create gspread authorize using that credential\n",
    "client = gspread.authorize(creds)\n",
    "my_email = 'matthewjchristy66@gmail.com'"
   ]
  },
  {
   "cell_type": "code",
   "execution_count": 2,
   "metadata": {},
   "outputs": [],
   "source": [
    "#data manipulation \n",
    "import pandas as pd \n",
    "import numpy as np\n",
    "\n",
    "def read_file(sheet_name):\n",
    "    out = client.open(sheet_name).sheet1\n",
    "    out = out.get_all_values()\n",
    "    out = pd.DataFrame(out, columns = out.pop(0))\n",
    "    return(out)\n",
    "\n",
    "#creating a moving avg function \n",
    "def move_avg(df, smooth_col, group_vals, window):\n",
    "    out = df.groupby(group_vals, as_index = False)[smooth_col].rolling(window = window).mean()\n",
    "    out = out.reset_index(level = 0, drop = True)\n",
    "    return(out)"
   ]
  },
  {
   "cell_type": "code",
   "execution_count": 3,
   "metadata": {},
   "outputs": [],
   "source": [
    "rush = read_file(sheet_name= 'rushing_processed_step1')"
   ]
  },
  {
   "cell_type": "code",
   "execution_count": 4,
   "metadata": {},
   "outputs": [],
   "source": [
    "rrf = ['Yds', 'TD', 'FUM']\n",
    "rush[rrf] = rush[rrf].astype(float)\n",
    "rush['rush_fantasy_pts'] = rush['rush_fantasy_pts'].astype(float)"
   ]
  },
  {
   "cell_type": "markdown",
   "metadata": {},
   "source": [
    "## Rush Feature Eng "
   ]
  },
  {
   "cell_type": "code",
   "execution_count": 5,
   "metadata": {},
   "outputs": [],
   "source": [
    "import matplotlib.pyplot as plt\n",
    "import statsmodels.api as sm\n",
    "from statsmodels.graphics.tsaplots import plot_acf, plot_pacf"
   ]
  },
  {
   "cell_type": "code",
   "execution_count": 6,
   "metadata": {},
   "outputs": [],
   "source": [
    "series = rush.rush_fantasy_pts"
   ]
  },
  {
   "cell_type": "code",
   "execution_count": 7,
   "metadata": {},
   "outputs": [
    {
     "data": {
      "image/png": "[encoded data removed]",
      "text/plain": [
       "<matplotlib.figure.Figure at 0x20796174978>"
      ]
     },
     "metadata": {
      "needs_background": "light"
     },
     "output_type": "display_data"
    },
    {
     "data": {
      "image/png": "[encoded data removed]",
      "text/plain": [
       "<matplotlib.figure.Figure at 0x20796411390>"
      ]
     },
     "metadata": {
      "needs_background": "light"
     },
     "output_type": "display_data"
    }
   ],
   "source": [
    "plot_acf(series)\n",
    "plt.show()\n",
    "\n",
    "plot_pacf(series)\n",
    "plt.show()"
   ]
  },
  {
   "cell_type": "code",
   "execution_count": 8,
   "metadata": {},
   "outputs": [],
   "source": [
    "rush_recap = read_file('2018_rushing_recap')\n",
    "rush_recap[['Yds/G', 'TD', '2018_ppg']] = rush_recap[['Yds/G', 'TD', '2018_ppg']].astype(float)\n",
    "rush_recap = rush_recap.rename(columns = {\"Player\":\"Name\", 'TD':'total_td', 'Int':'total_int', 'FUM':'total_fum'})\n",
    "rush_recap = rush_recap.drop('Team', axis = 1)"
   ]
  },
  {
   "cell_type": "code",
   "execution_count": 9,
   "metadata": {},
   "outputs": [],
   "source": [
    "cols = ['Yds', 'TD', 'rush_fantasy_pts']\n",
    "lag3 = ['lag3_' + ''.join(x) for x in cols]\n",
    "lag2 = ['lag2_' + ''.join(x) for x in cols]\n",
    "# getting prior week data \n",
    "prior_week = ['last_week_' + ''.join(x) for x in ['Yds', 'TD', 'rush_fantasy_pts']]"
   ]
  },
  {
   "cell_type": "code",
   "execution_count": 10,
   "metadata": {},
   "outputs": [],
   "source": [
    "joined = pd.merge(rush, rush_recap, on = 'Name', how = 'inner')\n",
    "joined = joined.drop_duplicates()"
   ]
  },
  {
   "cell_type": "code",
   "execution_count": 11,
   "metadata": {},
   "outputs": [],
   "source": [
    "joined[lag3] = move_avg(df = joined, smooth_col=cols, group_vals = 'Name', window = 3)\n",
    "joined[lag2] = move_avg(df = joined, smooth_col = cols, group_vals = 'Name', window = 2)\n",
    "joined[prior_week] = joined.groupby('Name')[['Yds', 'TD', 'rush_fantasy_pts']].shift(periods = 1, axis = 0)\n",
    "big_list = lag3 + lag2\n",
    "joined[big_list] = joined.groupby('Name')[big_list].shift(periods = 1, axis = 0)"
   ]
  },
  {
   "cell_type": "code",
   "execution_count": 12,
   "metadata": {},
   "outputs": [],
   "source": [
    "joined.lag2_Yds = joined['lag2_Yds'].fillna(joined['Yds/G'])\n",
    "joined.lag2_TD = joined['lag2_TD'].fillna(joined['total_td']/16)\n",
    "joined.lag2_rush_fantasy_pts = joined['lag2_rush_fantasy_pts'].fillna(joined['2018_ppg'])"
   ]
  },
  {
   "cell_type": "code",
   "execution_count": 13,
   "metadata": {},
   "outputs": [],
   "source": [
    "joined.lag3_Yds = joined['lag3_Yds'].fillna(joined['Yds/G'])\n",
    "joined.lag3_TD = joined['lag3_TD'].fillna(joined['total_td']/16)\n",
    "joined.lag3_rush_fantasy_pts = joined['lag3_rush_fantasy_pts'].fillna(joined['2018_ppg'])"
   ]
  },
  {
   "cell_type": "code",
   "execution_count": 14,
   "metadata": {},
   "outputs": [],
   "source": [
    "joined.last_week_Yds = joined['last_week_Yds'].fillna(joined['Yds/G'])\n",
    "joined.last_week_TD = joined['last_week_TD'].fillna(joined['total_td']/16)\n",
    "joined.last_week_rush_fantasy_pts = joined['last_week_rush_fantasy_pts'].fillna(joined['2018_ppg'])"
   ]
  },
  {
   "cell_type": "code",
   "execution_count": 15,
   "metadata": {},
   "outputs": [],
   "source": [
    "joined['yds_ratio'] = joined.lag2_Yds/joined.lag3_Yds\n",
    "joined['fantasy_pts_ratio'] = joined.lag2_rush_fantasy_pts/joined.lag3_rush_fantasy_pts"
   ]
  },
  {
   "cell_type": "code",
   "execution_count": 16,
   "metadata": {},
   "outputs": [
    {
     "name": "stdout",
     "output_type": "stream",
     "text": [
      "(1223, 21)\n"
     ]
    }
   ],
   "source": [
    "drop_vars = ['Yds/G', 'total_td', '2018_ppg', 'Team', 'Avg', '100yd_flag']\n",
    "final_data = joined.drop(drop_vars, axis = 1)\n",
    "print(final_data.shape)"
   ]
  },
  {
   "cell_type": "markdown",
   "metadata": {},
   "source": [
    "### Writing the file to gsheets"
   ]
  },
  {
   "cell_type": "code",
   "execution_count": 17,
   "metadata": {},
   "outputs": [],
   "source": [
    "# %load ../01_data-acq/write_function.py\n",
    "def writer(data, sheet_name, share_email):\n",
    "    #preparing the data to be written \n",
    "    data = data.fillna('na')\n",
    "    data = data.astype(str)\n",
    "    \n",
    "    #Grabbing Parameters for looping \n",
    "    n_rows = data.shape[0]\n",
    "    n_cols = data.shape[1]\n",
    "    \n",
    "    #creating sheets\n",
    "     #Now will can access our google sheets we call client.open on StartupName\n",
    "    sheet = client.create(sheet_name) \n",
    "    sheet.share(share_email,  perm_type='user', role='writer') #sharing my email \n",
    "    \n",
    "    #getting cell list to batch update\n",
    "    import string\n",
    "    end_col = string.ascii_uppercase[n_cols - 1]\n",
    "    end_row = n_rows + 1\n",
    "    \n",
    "    sheet_range = 'A1:'+ end_col + str(end_row)\n",
    "    \n",
    "    #turning df to one long list \n",
    "    df_as_list = data.stack().tolist()\n",
    "    df_as_list = data.columns.tolist() + df_as_list\n",
    "    \n",
    "    #getting the target sheet \n",
    "    ws = sheet.get_worksheet(0)\n",
    "    cell_list = ws.range(sheet_range)\n",
    "    \n",
    "    #writing df list to cell range list \n",
    "    for i in range(0, len(cell_list)):\n",
    "        cell_list[i].value = df_as_list[i]\n",
    "        \n",
    "    #batch updating \n",
    "    ws.update_cells(cell_list)"
   ]
  },
  {
   "cell_type": "code",
   "execution_count": 18,
   "metadata": {},
   "outputs": [],
   "source": [
    "writer(data = final_data, sheet_name = 'rushing_data_model_ready', share_email = my_email)"
   ]
  }
 ],
 "metadata": {
  "kernelspec": {
   "display_name": "Python 3",
   "language": "python",
   "name": "python3"
  },
  "language_info": {
   "codemirror_mode": {
    "name": "ipython",
    "version": 3
   },
   "file_extension": ".py",
   "mimetype": "text/x-python",
   "name": "python",
   "nbconvert_exporter": "python",
   "pygments_lexer": "ipython3",
   "version": "3.6.9"
  }
 },
 "nbformat": 4,
 "nbformat_minor": 4
}
