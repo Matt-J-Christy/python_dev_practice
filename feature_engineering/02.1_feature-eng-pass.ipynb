{
 "cells": [
  {
   "cell_type": "markdown",
   "metadata": {},
   "source": [
    "### Feature Engineering for Modeling "
   ]
  },
  {
   "cell_type": "markdown",
   "metadata": {},
   "source": [
    "### Steps to feature engineer: \n",
    "1. create candidate features \n",
    "    1. 4 week prior avgerage: points, yds, touches, touchdowns, fumbles, qbr \n",
    "        * impute missing data with 2018 stats\n",
    "    2. opp win record, opp avg def pts allowed \n",
    "    3. isStarter, isHurt \n",
    "2. create incemental refresh schedule \n",
    "3. write final data set to Google Drive"
   ]
  },
  {
   "cell_type": "markdown",
   "metadata": {},
   "source": [
    "### This notebook accomplishes step 1.A & writes the data "
   ]
  },
  {
   "cell_type": "markdown",
   "metadata": {},
   "source": [
    "Loading utility functions"
   ]
  },
  {
   "cell_type": "code",
   "execution_count": 1,
   "metadata": {},
   "outputs": [],
   "source": [
    "#importing various libraries \n",
    "import gspread \n",
    "#Service client credential from oauth2client\n",
    "from oauth2client.service_account import ServiceAccountCredentials\n",
    "#Create scope\n",
    "scope = ['https://spreadsheets.google.com/feeds', 'https://www.googleapis.com/auth/drive']\n",
    "#create some credential using that scope and content of startup_funding.json\n",
    "creds = ServiceAccountCredentials.from_json_keyfile_name('../g_sheet_creds.json',scope)\n",
    "#create gspread authorize using that credential\n",
    "client = gspread.authorize(creds)\n",
    "my_email = 'matthewjchristy66@gmail.com'"
   ]
  },
  {
   "cell_type": "code",
   "execution_count": 2,
   "metadata": {},
   "outputs": [],
   "source": [
    "#data manipulation \n",
    "import pandas as pd \n",
    "import numpy as np"
   ]
  },
  {
   "cell_type": "code",
   "execution_count": 3,
   "metadata": {},
   "outputs": [],
   "source": [
    "def read_file(sheet_name):\n",
    "    out = client.open(sheet_name).sheet1\n",
    "    out = out.get_all_values()\n",
    "    out = pd.DataFrame(out, columns = out.pop(0))\n",
    "    return(out)\n",
    "\n",
    "#creating a moving avg function \n",
    "def move_avg(df, smooth_col, group_vals, window):\n",
    "    out = df.groupby(group_vals, as_index = False)[smooth_col].rolling(window = window).mean()\n",
    "    out = out.reset_index(level = 0, drop = True)\n",
    "    return(out)"
   ]
  },
  {
   "cell_type": "markdown",
   "metadata": {},
   "source": [
    "### Data Acq and Prep for Eng. "
   ]
  },
  {
   "cell_type": "code",
   "execution_count": 4,
   "metadata": {},
   "outputs": [],
   "source": [
    "#grabbing data for modeling \n",
    "passing = read_file(sheet_name = 'passing_processed_step1')"
   ]
  },
  {
   "cell_type": "code",
   "execution_count": 5,
   "metadata": {},
   "outputs": [],
   "source": [
    "#light cleaning \n",
    "pf = ['Comp', 'Att', 'Yds', 'TD', 'Int', 'Sck', 'FUM', 'Rate', 'passing_fantasy_pts']\n",
    "passing[pf] = passing[pf].astype(float)"
   ]
  },
  {
   "cell_type": "markdown",
   "metadata": {},
   "source": [
    "## Passing Feature Eng"
   ]
  },
  {
   "cell_type": "code",
   "execution_count": 6,
   "metadata": {},
   "outputs": [],
   "source": [
    "import matplotlib.pyplot as plt\n",
    "import statsmodels.api as sm\n",
    "from statsmodels.graphics.tsaplots import plot_acf, plot_pacf\n",
    "series = passing.passing_fantasy_pts"
   ]
  },
  {
   "cell_type": "code",
   "execution_count": 7,
   "metadata": {},
   "outputs": [
    {
     "data": {
      "image/png": "[encoded data removed]",
      "text/plain": [
       "<Figure size 432x288 with 1 Axes>"
      ]
     },
     "metadata": {
      "needs_background": "light"
     },
     "output_type": "display_data"
    }
   ],
   "source": [
    "plot_acf(series, title = 'Passing Pts No Lag')\n",
    "plt.show()"
   ]
  },
  {
   "cell_type": "markdown",
   "metadata": {},
   "source": [
    "### Getting Lag Features"
   ]
  },
  {
   "cell_type": "code",
   "execution_count": 8,
   "metadata": {},
   "outputs": [],
   "source": [
    "cols = ['Yds', 'TD', 'Rate', 'passing_fantasy_pts']\n",
    "lag3 = ['lag3_' + ''.join(x) for x in cols]\n",
    "lag2 = ['lag2_' + ''.join(x) for x in cols]"
   ]
  },
  {
   "cell_type": "code",
   "execution_count": 9,
   "metadata": {},
   "outputs": [],
   "source": [
    "passing[lag3] = move_avg(df=passing, smooth_col=cols, group_vals='Name', window=3)\n",
    "passing[lag2] = move_avg(df = passing, smooth_col=cols, group_vals='Name', window=2)"
   ]
  },
  {
   "cell_type": "markdown",
   "metadata": {},
   "source": [
    "### Adding 2018 Recap Data for Imputation"
   ]
  },
  {
   "cell_type": "code",
   "execution_count": 10,
   "metadata": {},
   "outputs": [],
   "source": [
    "pass_recap = read_file(sheet_name = '2018_passing_recap')"
   ]
  },
  {
   "cell_type": "code",
   "execution_count": 11,
   "metadata": {},
   "outputs": [],
   "source": [
    "pass_recap[['Yds/G', 'TD', 'Int', 'Rate', '2018_ppg']] = pass_recap[['Yds/G', 'TD', 'Int', 'Rate', '2018_ppg']].astype(float)\n",
    "pass_recap = pass_recap.rename(columns = {\"Player\":\"Name\", 'TD':'total_td', 'Int':'total_int', 'Rate':'avg_rate'})\n",
    "pass_recap = pass_recap.drop('Team', axis = 1)"
   ]
  },
  {
   "cell_type": "code",
   "execution_count": 12,
   "metadata": {},
   "outputs": [],
   "source": [
    "joined = pd.merge(passing, pass_recap, on = 'Name', how = 'inner')\n",
    "joined = joined.drop_duplicates()"
   ]
  },
  {
   "cell_type": "markdown",
   "metadata": {},
   "source": [
    "### Using `fillna()` method to coalesce the target columns"
   ]
  },
  {
   "cell_type": "code",
   "execution_count": 13,
   "metadata": {},
   "outputs": [],
   "source": [
    "fill_vars = lag2 + lag3"
   ]
  },
  {
   "cell_type": "markdown",
   "metadata": {},
   "source": [
    "### Lagging the data to actually use for prediction \n",
    "- use `df.shift(periods = 1)` for the measured data \n",
    "- impute again to recover missing rows \n",
    "- user prior year data for week 1\n",
    "- use week 1 + prior year data for week 2\n",
    "    - generate column of prior week data "
   ]
  },
  {
   "cell_type": "code",
   "execution_count": 14,
   "metadata": {},
   "outputs": [],
   "source": [
    "joined[fill_vars] = joined.groupby('Name')[fill_vars].shift(periods = 1, axis = 0)"
   ]
  },
  {
   "cell_type": "code",
   "execution_count": 15,
   "metadata": {},
   "outputs": [],
   "source": [
    "joined.lag2_Yds = joined['lag2_Yds'].fillna(joined['Yds/G'])\n",
    "joined.lag2_TD  = joined['lag2_TD'].fillna(joined['total_td']/16)\n",
    "joined.lag2_Rate = joined['lag2_Rate'].fillna(joined['avg_rate'])\n",
    "joined.lag2_passing_fantasy_pts = joined['lag2_passing_fantasy_pts'].fillna(joined['2018_ppg'])"
   ]
  },
  {
   "cell_type": "code",
   "execution_count": 16,
   "metadata": {},
   "outputs": [],
   "source": [
    "joined.lag3_Yds = joined['lag3_Yds'].fillna(joined['Yds/G'])\n",
    "joined.lag3_TD  = joined['lag3_TD'].fillna(joined['total_td']/16)\n",
    "joined.lag3_Rate = joined['lag3_Rate'].fillna(joined['avg_rate'])\n",
    "joined.lag3_passing_fantasy_pts = joined['lag3_passing_fantasy_pts'].fillna(joined['2018_ppg'])"
   ]
  },
  {
   "cell_type": "code",
   "execution_count": 17,
   "metadata": {},
   "outputs": [
    {
     "data": {
      "text/plain": [
       "['last_week_TD', 'last_week_Rate', 'last_week_passing_fantasy_pts']"
      ]
     },
     "execution_count": 17,
     "metadata": {},
     "output_type": "execute_result"
    }
   ],
   "source": [
    "#Getting the prior week stats lagged \n",
    "cols2 = ['TD', 'Rate', 'passing_fantasy_pts']\n",
    "prior_week = ['last_week_' + ''.join(x) for x in cols2]\n",
    "prior_week"
   ]
  },
  {
   "cell_type": "code",
   "execution_count": 18,
   "metadata": {},
   "outputs": [],
   "source": [
    "joined[prior_week] = joined.groupby('Name')[cols2].shift(periods = 1, axis = 0)"
   ]
  },
  {
   "cell_type": "code",
   "execution_count": 19,
   "metadata": {},
   "outputs": [],
   "source": [
    "joined.last_week_TD  = joined['last_week_TD'].fillna(joined['total_td']/16)\n",
    "joined.last_week_Rate = joined['last_week_Rate'].fillna(joined['avg_rate'])\n",
    "joined.last_week_passing_fantasy_pts = joined['last_week_passing_fantasy_pts'].fillna(joined['2018_ppg'])"
   ]
  },
  {
   "cell_type": "code",
   "execution_count": 20,
   "metadata": {},
   "outputs": [],
   "source": [
    "joined['yds_ratio'] = joined.lag2_Yds/joined.lag3_Yds\n",
    "joined['rate_ratio'] = joined.lag2_Rate/joined.lag3_Rate\n",
    "joined['fantasy_pts_ratio'] = joined.lag2_passing_fantasy_pts/joined.lag3_passing_fantasy_pts"
   ]
  },
  {
   "cell_type": "code",
   "execution_count": 21,
   "metadata": {},
   "outputs": [],
   "source": [
    "passing_almost_final = joined.drop(pass_recap.columns.drop('Name'), axis = 1)"
   ]
  },
  {
   "cell_type": "code",
   "execution_count": 22,
   "metadata": {},
   "outputs": [
    {
     "data": {
      "text/html": [
       "<div>\n",
       "<style scoped>\n",
       "    .dataframe tbody tr th:only-of-type {\n",
       "        vertical-align: middle;\n",
       "    }\n",
       "\n",
       "    .dataframe tbody tr th {\n",
       "        vertical-align: top;\n",
       "    }\n",
       "\n",
       "    .dataframe thead th {\n",
       "        text-align: right;\n",
       "    }\n",
       "</style>\n",
       "<table border=\"1\" class=\"dataframe\">\n",
       "  <thead>\n",
       "    <tr style=\"text-align: right;\">\n",
       "      <th></th>\n",
       "      <th>Name</th>\n",
       "      <th>Week</th>\n",
       "      <th>Team</th>\n",
       "      <th>Opp</th>\n",
       "      <th>Score</th>\n",
       "      <th>Comp</th>\n",
       "      <th>Att</th>\n",
       "      <th>Yds</th>\n",
       "      <th>TD</th>\n",
       "      <th>Int</th>\n",
       "      <th>Sck</th>\n",
       "      <th>FUM</th>\n",
       "      <th>Rate</th>\n",
       "      <th>300yd_flag</th>\n",
       "      <th>passing_fantasy_pts</th>\n",
       "      <th>lag3_Yds</th>\n",
       "      <th>lag3_TD</th>\n",
       "      <th>lag3_Rate</th>\n",
       "      <th>lag3_passing_fantasy_pts</th>\n",
       "      <th>lag2_Yds</th>\n",
       "      <th>lag2_TD</th>\n",
       "      <th>lag2_Rate</th>\n",
       "      <th>lag2_passing_fantasy_pts</th>\n",
       "      <th>last_week_TD</th>\n",
       "      <th>last_week_Rate</th>\n",
       "      <th>last_week_passing_fantasy_pts</th>\n",
       "      <th>yds_ratio</th>\n",
       "      <th>rate_ratio</th>\n",
       "      <th>fantasy_pts_ratio</th>\n",
       "    </tr>\n",
       "  </thead>\n",
       "  <tbody>\n",
       "    <tr>\n",
       "      <th>0</th>\n",
       "      <td>Andy Dalton</td>\n",
       "      <td>1</td>\n",
       "      <td>CIN</td>\n",
       "      <td>@ SEA</td>\n",
       "      <td>L 20-21</td>\n",
       "      <td>35.0</td>\n",
       "      <td>51.0</td>\n",
       "      <td>418.0</td>\n",
       "      <td>2.0</td>\n",
       "      <td>0.0</td>\n",
       "      <td>5.0</td>\n",
       "      <td>2.0</td>\n",
       "      <td>106.5</td>\n",
       "      <td>1</td>\n",
       "      <td>24.72</td>\n",
       "      <td>233.300000</td>\n",
       "      <td>1.312500</td>\n",
       "      <td>89.600000</td>\n",
       "      <td>13.8945</td>\n",
       "      <td>233.3</td>\n",
       "      <td>1.3125</td>\n",
       "      <td>89.60</td>\n",
       "      <td>13.8945</td>\n",
       "      <td>1.3125</td>\n",
       "      <td>89.6</td>\n",
       "      <td>13.8945</td>\n",
       "      <td>1.000000</td>\n",
       "      <td>1.000000</td>\n",
       "      <td>1.000000</td>\n",
       "    </tr>\n",
       "    <tr>\n",
       "      <th>2</th>\n",
       "      <td>Andy Dalton</td>\n",
       "      <td>2</td>\n",
       "      <td>CIN</td>\n",
       "      <td>vs SF</td>\n",
       "      <td>L 17-41</td>\n",
       "      <td>26.0</td>\n",
       "      <td>42.0</td>\n",
       "      <td>311.0</td>\n",
       "      <td>2.0</td>\n",
       "      <td>1.0</td>\n",
       "      <td>4.0</td>\n",
       "      <td>0.0</td>\n",
       "      <td>90.5</td>\n",
       "      <td>1</td>\n",
       "      <td>20.44</td>\n",
       "      <td>233.300000</td>\n",
       "      <td>1.312500</td>\n",
       "      <td>89.600000</td>\n",
       "      <td>13.8945</td>\n",
       "      <td>233.3</td>\n",
       "      <td>1.3125</td>\n",
       "      <td>89.60</td>\n",
       "      <td>13.8945</td>\n",
       "      <td>2.0000</td>\n",
       "      <td>106.5</td>\n",
       "      <td>24.7200</td>\n",
       "      <td>1.000000</td>\n",
       "      <td>1.000000</td>\n",
       "      <td>1.000000</td>\n",
       "    </tr>\n",
       "    <tr>\n",
       "      <th>4</th>\n",
       "      <td>Andy Dalton</td>\n",
       "      <td>3</td>\n",
       "      <td>CIN</td>\n",
       "      <td>@ BUF</td>\n",
       "      <td>L 17-21</td>\n",
       "      <td>20.0</td>\n",
       "      <td>36.0</td>\n",
       "      <td>250.0</td>\n",
       "      <td>1.0</td>\n",
       "      <td>2.0</td>\n",
       "      <td>2.0</td>\n",
       "      <td>0.0</td>\n",
       "      <td>63.4</td>\n",
       "      <td>0</td>\n",
       "      <td>14.00</td>\n",
       "      <td>233.300000</td>\n",
       "      <td>1.312500</td>\n",
       "      <td>89.600000</td>\n",
       "      <td>13.8945</td>\n",
       "      <td>364.5</td>\n",
       "      <td>2.0000</td>\n",
       "      <td>98.50</td>\n",
       "      <td>22.5800</td>\n",
       "      <td>2.0000</td>\n",
       "      <td>90.5</td>\n",
       "      <td>20.4400</td>\n",
       "      <td>1.562366</td>\n",
       "      <td>1.099330</td>\n",
       "      <td>1.625103</td>\n",
       "    </tr>\n",
       "    <tr>\n",
       "      <th>6</th>\n",
       "      <td>Andy Dalton</td>\n",
       "      <td>4</td>\n",
       "      <td>CIN</td>\n",
       "      <td>@ PIT</td>\n",
       "      <td>L 3-27</td>\n",
       "      <td>21.0</td>\n",
       "      <td>37.0</td>\n",
       "      <td>171.0</td>\n",
       "      <td>0.0</td>\n",
       "      <td>1.0</td>\n",
       "      <td>8.0</td>\n",
       "      <td>1.0</td>\n",
       "      <td>57.4</td>\n",
       "      <td>0</td>\n",
       "      <td>6.84</td>\n",
       "      <td>326.333333</td>\n",
       "      <td>1.666667</td>\n",
       "      <td>86.800000</td>\n",
       "      <td>19.7200</td>\n",
       "      <td>280.5</td>\n",
       "      <td>1.5000</td>\n",
       "      <td>76.95</td>\n",
       "      <td>17.2200</td>\n",
       "      <td>1.0000</td>\n",
       "      <td>63.4</td>\n",
       "      <td>14.0000</td>\n",
       "      <td>0.859551</td>\n",
       "      <td>0.886521</td>\n",
       "      <td>0.873225</td>\n",
       "    </tr>\n",
       "    <tr>\n",
       "      <th>8</th>\n",
       "      <td>Andy Dalton</td>\n",
       "      <td>5</td>\n",
       "      <td>CIN</td>\n",
       "      <td>vs ARI</td>\n",
       "      <td>L 23-26</td>\n",
       "      <td>27.0</td>\n",
       "      <td>38.0</td>\n",
       "      <td>262.0</td>\n",
       "      <td>2.0</td>\n",
       "      <td>0.0</td>\n",
       "      <td>1.0</td>\n",
       "      <td>0.0</td>\n",
       "      <td>107.6</td>\n",
       "      <td>0</td>\n",
       "      <td>18.48</td>\n",
       "      <td>244.000000</td>\n",
       "      <td>1.000000</td>\n",
       "      <td>70.433333</td>\n",
       "      <td>13.7600</td>\n",
       "      <td>210.5</td>\n",
       "      <td>0.5000</td>\n",
       "      <td>60.40</td>\n",
       "      <td>10.4200</td>\n",
       "      <td>0.0000</td>\n",
       "      <td>57.4</td>\n",
       "      <td>6.8400</td>\n",
       "      <td>0.862705</td>\n",
       "      <td>0.857549</td>\n",
       "      <td>0.757267</td>\n",
       "    </tr>\n",
       "  </tbody>\n",
       "</table>\n",
       "</div>"
      ],
      "text/plain": [
       "          Name Week Team     Opp     Score  Comp   Att    Yds   TD  Int  Sck  \\\n",
       "0  Andy Dalton    1  CIN   @ SEA  L 20-21   35.0  51.0  418.0  2.0  0.0  5.0   \n",
       "2  Andy Dalton    2  CIN   vs SF  L 17-41   26.0  42.0  311.0  2.0  1.0  4.0   \n",
       "4  Andy Dalton    3  CIN   @ BUF  L 17-21   20.0  36.0  250.0  1.0  2.0  2.0   \n",
       "6  Andy Dalton    4  CIN   @ PIT   L 3-27   21.0  37.0  171.0  0.0  1.0  8.0   \n",
       "8  Andy Dalton    5  CIN  vs ARI  L 23-26   27.0  38.0  262.0  2.0  0.0  1.0   \n",
       "\n",
       "   FUM   Rate 300yd_flag  passing_fantasy_pts    lag3_Yds   lag3_TD  \\\n",
       "0  2.0  106.5          1                24.72  233.300000  1.312500   \n",
       "2  0.0   90.5          1                20.44  233.300000  1.312500   \n",
       "4  0.0   63.4          0                14.00  233.300000  1.312500   \n",
       "6  1.0   57.4          0                 6.84  326.333333  1.666667   \n",
       "8  0.0  107.6          0                18.48  244.000000  1.000000   \n",
       "\n",
       "   lag3_Rate  lag3_passing_fantasy_pts  lag2_Yds  lag2_TD  lag2_Rate  \\\n",
       "0  89.600000                   13.8945     233.3   1.3125      89.60   \n",
       "2  89.600000                   13.8945     233.3   1.3125      89.60   \n",
       "4  89.600000                   13.8945     364.5   2.0000      98.50   \n",
       "6  86.800000                   19.7200     280.5   1.5000      76.95   \n",
       "8  70.433333                   13.7600     210.5   0.5000      60.40   \n",
       "\n",
       "   lag2_passing_fantasy_pts  last_week_TD  last_week_Rate  \\\n",
       "0                   13.8945        1.3125            89.6   \n",
       "2                   13.8945        2.0000           106.5   \n",
       "4                   22.5800        2.0000            90.5   \n",
       "6                   17.2200        1.0000            63.4   \n",
       "8                   10.4200        0.0000            57.4   \n",
       "\n",
       "   last_week_passing_fantasy_pts  yds_ratio  rate_ratio  fantasy_pts_ratio  \n",
       "0                        13.8945   1.000000    1.000000           1.000000  \n",
       "2                        24.7200   1.000000    1.000000           1.000000  \n",
       "4                        20.4400   1.562366    1.099330           1.625103  \n",
       "6                        14.0000   0.859551    0.886521           0.873225  \n",
       "8                         6.8400   0.862705    0.857549           0.757267  "
      ]
     },
     "execution_count": 22,
     "metadata": {},
     "output_type": "execute_result"
    }
   ],
   "source": [
    "pd.set_option('display.max_columns', None)\n",
    "passing_almost_final.head()"
   ]
  },
  {
   "cell_type": "code",
   "execution_count": 23,
   "metadata": {},
   "outputs": [
    {
     "data": {
      "text/html": [
       "<div>\n",
       "<style scoped>\n",
       "    .dataframe tbody tr th:only-of-type {\n",
       "        vertical-align: middle;\n",
       "    }\n",
       "\n",
       "    .dataframe tbody tr th {\n",
       "        vertical-align: top;\n",
       "    }\n",
       "\n",
       "    .dataframe thead th {\n",
       "        text-align: right;\n",
       "    }\n",
       "</style>\n",
       "<table border=\"1\" class=\"dataframe\">\n",
       "  <thead>\n",
       "    <tr style=\"text-align: right;\">\n",
       "      <th></th>\n",
       "      <th>Name</th>\n",
       "      <th>lag2_passing_fantasy_pts</th>\n",
       "      <th>lag3_passing_fantasy_pts</th>\n",
       "    </tr>\n",
       "  </thead>\n",
       "  <tbody>\n",
       "    <tr>\n",
       "      <th>0</th>\n",
       "      <td>Andy Dalton</td>\n",
       "      <td>13.8945</td>\n",
       "      <td>13.8945</td>\n",
       "    </tr>\n",
       "    <tr>\n",
       "      <th>2</th>\n",
       "      <td>Andy Dalton</td>\n",
       "      <td>13.8945</td>\n",
       "      <td>13.8945</td>\n",
       "    </tr>\n",
       "    <tr>\n",
       "      <th>4</th>\n",
       "      <td>Andy Dalton</td>\n",
       "      <td>22.5800</td>\n",
       "      <td>13.8945</td>\n",
       "    </tr>\n",
       "    <tr>\n",
       "      <th>6</th>\n",
       "      <td>Andy Dalton</td>\n",
       "      <td>17.2200</td>\n",
       "      <td>19.7200</td>\n",
       "    </tr>\n",
       "    <tr>\n",
       "      <th>8</th>\n",
       "      <td>Andy Dalton</td>\n",
       "      <td>10.4200</td>\n",
       "      <td>13.7600</td>\n",
       "    </tr>\n",
       "    <tr>\n",
       "      <th>...</th>\n",
       "      <td>...</td>\n",
       "      <td>...</td>\n",
       "      <td>...</td>\n",
       "    </tr>\n",
       "    <tr>\n",
       "      <th>944</th>\n",
       "      <td>Sam Koch</td>\n",
       "      <td>0.0520</td>\n",
       "      <td>0.0520</td>\n",
       "    </tr>\n",
       "    <tr>\n",
       "      <th>946</th>\n",
       "      <td>Blake Bortles</td>\n",
       "      <td>10.9265</td>\n",
       "      <td>10.9265</td>\n",
       "    </tr>\n",
       "    <tr>\n",
       "      <th>948</th>\n",
       "      <td>Emmanuel Sanders</td>\n",
       "      <td>0.3420</td>\n",
       "      <td>0.3420</td>\n",
       "    </tr>\n",
       "    <tr>\n",
       "      <th>950</th>\n",
       "      <td>Sean Mannion</td>\n",
       "      <td>0.3080</td>\n",
       "      <td>0.3080</td>\n",
       "    </tr>\n",
       "    <tr>\n",
       "      <th>952</th>\n",
       "      <td>Danny Amendola</td>\n",
       "      <td>0.3260</td>\n",
       "      <td>0.3260</td>\n",
       "    </tr>\n",
       "  </tbody>\n",
       "</table>\n",
       "<p>477 rows × 3 columns</p>\n",
       "</div>"
      ],
      "text/plain": [
       "                 Name  lag2_passing_fantasy_pts  lag3_passing_fantasy_pts\n",
       "0         Andy Dalton                   13.8945                   13.8945\n",
       "2         Andy Dalton                   13.8945                   13.8945\n",
       "4         Andy Dalton                   22.5800                   13.8945\n",
       "6         Andy Dalton                   17.2200                   19.7200\n",
       "8         Andy Dalton                   10.4200                   13.7600\n",
       "..                ...                       ...                       ...\n",
       "944          Sam Koch                    0.0520                    0.0520\n",
       "946     Blake Bortles                   10.9265                   10.9265\n",
       "948  Emmanuel Sanders                    0.3420                    0.3420\n",
       "950      Sean Mannion                    0.3080                    0.3080\n",
       "952    Danny Amendola                    0.3260                    0.3260\n",
       "\n",
       "[477 rows x 3 columns]"
      ]
     },
     "execution_count": 23,
     "metadata": {},
     "output_type": "execute_result"
    }
   ],
   "source": [
    "passing_almost_final[['Name', 'lag2_passing_fantasy_pts', 'lag3_passing_fantasy_pts']]"
   ]
  },
  {
   "cell_type": "code",
   "execution_count": 24,
   "metadata": {},
   "outputs": [],
   "source": [
    "drop_vars = ['Comp', 'Att', 'Yds', 'TD', 'Int', 'Sck', 'FUM', 'Rate']"
   ]
  },
  {
   "cell_type": "code",
   "execution_count": 25,
   "metadata": {},
   "outputs": [],
   "source": [
    "passing_final = passing_almost_final.drop(drop_vars, axis = 1)"
   ]
  },
  {
   "cell_type": "markdown",
   "metadata": {},
   "source": [
    "### Writing data to gsheets"
   ]
  },
  {
   "cell_type": "code",
   "execution_count": 26,
   "metadata": {},
   "outputs": [],
   "source": [
    "# %load ../01_data-acq/write_function.py\n",
    "def writer(data, sheet_name, share_email):\n",
    "    #preparing the data to be written \n",
    "    data = data.fillna('na')\n",
    "    data = data.astype(str)\n",
    "    \n",
    "    #Grabbing Parameters for looping \n",
    "    n_rows = data.shape[0]\n",
    "    n_cols = data.shape[1]\n",
    "    \n",
    "    #creating sheets\n",
    "     #Now will can access our google sheets we call client.open on StartupName\n",
    "    sheet = client.create(sheet_name) \n",
    "    sheet.share(share_email,  perm_type='user', role='writer') #sharing my email \n",
    "    \n",
    "    #getting cell list to batch update\n",
    "    import string\n",
    "    end_col = string.ascii_uppercase[n_cols - 1]\n",
    "    end_row = n_rows + 1\n",
    "    \n",
    "    sheet_range = 'A1:'+ end_col + str(end_row)\n",
    "    \n",
    "    #turning df to one long list \n",
    "    df_as_list = data.stack().tolist()\n",
    "    df_as_list = data.columns.tolist() + df_as_list\n",
    "    \n",
    "    #getting the target sheet \n",
    "    ws = sheet.get_worksheet(0)\n",
    "    cell_list = ws.range(sheet_range)\n",
    "    \n",
    "    #writing df list to cell range list \n",
    "    for i in range(0, len(cell_list)):\n",
    "        cell_list[i].value = df_as_list[i]\n",
    "        \n",
    "    #batch updating \n",
    "    ws.update_cells(cell_list)"
   ]
  },
  {
   "cell_type": "code",
   "execution_count": 27,
   "metadata": {},
   "outputs": [],
   "source": [
    "writer(data = passing_final, sheet_name = 'passing_data_model_ready', share_email = my_email)"
   ]
  }
 ],
 "metadata": {
  "kernelspec": {
   "display_name": "Python 3",
   "language": "python",
   "name": "python3"
  },
  "language_info": {
   "codemirror_mode": {
    "name": "ipython",
    "version": 3
   },
   "file_extension": ".py",
   "mimetype": "text/x-python",
   "name": "python",
   "nbconvert_exporter": "python",
   "pygments_lexer": "ipython3",
   "version": "3.6.9"
  }
 },
 "nbformat": 4,
 "nbformat_minor": 4
}
