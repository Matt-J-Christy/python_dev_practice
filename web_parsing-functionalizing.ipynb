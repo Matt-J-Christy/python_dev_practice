{
 "cells": [
  {
   "cell_type": "markdown",
   "metadata": {},
   "source": [
    "## Web Scraping and Writing to Google Sheets\n",
    "    1. Get the data and parse with requests, lxml and Beatiful Soup \n",
    "    2. Data wrange into dictionaries \n",
    "    3. Create Pandas DF and clean the data\n",
    "    4. Write to Google Sheets "
   ]
  },
  {
   "cell_type": "code",
   "execution_count": 1,
   "metadata": {},
   "outputs": [],
   "source": [
    "from requests import get \n",
    "import lxml.html as lh\n",
    "import pandas as pd\n",
    "from bs4 import BeautifulSoup "
   ]
  },
  {
   "cell_type": "code",
   "execution_count": 2,
   "metadata": {},
   "outputs": [],
   "source": [
    "#imputing URL and creating header creds for parsing \n",
    "url = 'http://pfref.com/tiny/J65i5'\n",
    "\n",
    "my_header = {'User-Agent': 'Mozilla/5.0 (Windows NT 10.0; Win64; x64) AppleWebKit/537.36 (KHTML, like Gecko) Chrome/78.0.3904.97 Safari/537.36'}\n"
   ]
  },
  {
   "cell_type": "code",
   "execution_count": 3,
   "metadata": {},
   "outputs": [],
   "source": [
    "#grabbing the HTML and getting text \n",
    "fantasy_page = get(url, headers = my_header)\n",
    "\n",
    "doc = lh.fromstring(fantasy_page.content)"
   ]
  },
  {
   "cell_type": "code",
   "execution_count": 4,
   "metadata": {},
   "outputs": [
    {
     "name": "stdout",
     "output_type": "stream",
     "text": [
      "<Response [200]>\n"
     ]
    }
   ],
   "source": [
    "print(fantasy_page)"
   ]
  },
  {
   "cell_type": "markdown",
   "metadata": {},
   "source": [
    "Response == 200 means the page scraped successfully "
   ]
  },
  {
   "cell_type": "code",
   "execution_count": 5,
   "metadata": {},
   "outputs": [],
   "source": [
    "#parsing table elements in the HTML inside the pattern \"//tr\" --> this is a table element \n",
    "\n",
    "table_elements = doc.xpath('//tr')"
   ]
  },
  {
   "cell_type": "code",
   "execution_count": 15,
   "metadata": {},
   "outputs": [
    {
     "data": {
      "text/plain": [
       "20"
      ]
     },
     "execution_count": 15,
     "metadata": {},
     "output_type": "execute_result"
    }
   ],
   "source": [
    "[len(T) for T in table_elements[:-1]]\n",
    "\n",
    "len(table_elements[1])\n"
   ]
  },
  {
   "cell_type": "code",
   "execution_count": 7,
   "metadata": {},
   "outputs": [],
   "source": [
    "#creating an empty array to insert the table elements \n",
    "cols = []\n",
    "i = 0 #setting the increment \n",
    "\n",
    "for t in table_elements[1]:\n",
    "    i+1\n",
    "    name = t.text_content() #getting the column name from the HTML table \n",
    "    #print('%d:\"%s\"'% (i, name))\n",
    "    cols.append((name, [])); "
   ]
  },
  {
   "cell_type": "code",
   "execution_count": 12,
   "metadata": {},
   "outputs": [
    {
     "data": {
      "text/plain": [
       "'\\n         Rk\\n         Player\\n         Pos\\n         Age\\n         Date\\n         Lg\\n         Tm\\n         \\n         Opp\\n         Result\\n         G#\\n         Week\\n         Day\\n         Tgt\\n         Rec\\n         Yds\\n         Y/R\\n         TD\\n         Ctch%\\n         Y/Tgt\\n      '"
      ]
     },
     "execution_count": 12,
     "metadata": {},
     "output_type": "execute_result"
    }
   ],
   "source": [
    "table_elements[1].text_content()"
   ]
  },
  {
   "cell_type": "code",
   "execution_count": 16,
   "metadata": {},
   "outputs": [],
   "source": [
    "#Since out first row is the header, data is stored on the second row onwards\n",
    "\n",
    "for j in range(1,len(table_elements)):\n",
    "    #T is our j'th row\n",
    "    T=table_elements[j]\n",
    "    \n",
    "    #If row is not of size 24, the //tr data is not from our table \n",
    "    if len(T)!=len(table_elements[1]):\n",
    "        break\n",
    "    \n",
    "    #i is the index of our column\n",
    "    i=0\n",
    "    \n",
    "    #Iterate through each element of the row\n",
    "    for t in T.iterchildren():\n",
    "        data=t.text_content() \n",
    "\n",
    "        #Append the data to the empty list of the i'th column\n",
    "        cols[i][1].append(data)\n",
    "        #Increment i for the next column\n",
    "        i+=1"
   ]
  },
  {
   "cell_type": "code",
   "execution_count": 11,
   "metadata": {},
   "outputs": [],
   "source": [
    "#[len(C) for (title,C) in cols]"
   ]
  },
  {
   "cell_type": "code",
   "execution_count": 17,
   "metadata": {},
   "outputs": [],
   "source": [
    "#creating a dictionary for the columns in the parsed table \n",
    "Dict={title:column for (title,column) in cols}\n",
    "\n",
    "df=pd.DataFrame(Dict)"
   ]
  },
  {
   "cell_type": "code",
   "execution_count": 18,
   "metadata": {},
   "outputs": [
    {
     "data": {
      "text/html": [
       "<div>\n",
       "<style scoped>\n",
       "    .dataframe tbody tr th:only-of-type {\n",
       "        vertical-align: middle;\n",
       "    }\n",
       "\n",
       "    .dataframe tbody tr th {\n",
       "        vertical-align: top;\n",
       "    }\n",
       "\n",
       "    .dataframe thead th {\n",
       "        text-align: right;\n",
       "    }\n",
       "</style>\n",
       "<table border=\"1\" class=\"dataframe\">\n",
       "  <thead>\n",
       "    <tr style=\"text-align: right;\">\n",
       "      <th></th>\n",
       "      <th>Rk</th>\n",
       "      <th>Player</th>\n",
       "      <th>Pos</th>\n",
       "      <th>Age</th>\n",
       "      <th>Date</th>\n",
       "      <th>Lg</th>\n",
       "      <th>Tm</th>\n",
       "      <th></th>\n",
       "      <th>Opp</th>\n",
       "      <th>Result</th>\n",
       "      <th>G#</th>\n",
       "      <th>Week</th>\n",
       "      <th>Day</th>\n",
       "      <th>Tgt</th>\n",
       "      <th>Rec</th>\n",
       "      <th>Yds</th>\n",
       "      <th>Y/R</th>\n",
       "      <th>TD</th>\n",
       "      <th>Ctch%</th>\n",
       "      <th>Y/Tgt</th>\n",
       "    </tr>\n",
       "  </thead>\n",
       "  <tbody>\n",
       "    <tr>\n",
       "      <th>0</th>\n",
       "      <td>Rk</td>\n",
       "      <td>Player</td>\n",
       "      <td>Pos</td>\n",
       "      <td>Age</td>\n",
       "      <td>Date</td>\n",
       "      <td>Lg</td>\n",
       "      <td>Tm</td>\n",
       "      <td></td>\n",
       "      <td>Opp</td>\n",
       "      <td>Result</td>\n",
       "      <td>G#</td>\n",
       "      <td>Week</td>\n",
       "      <td>Day</td>\n",
       "      <td>Tgt</td>\n",
       "      <td>Rec</td>\n",
       "      <td>Yds</td>\n",
       "      <td>Y/R</td>\n",
       "      <td>TD</td>\n",
       "      <td>Ctch%</td>\n",
       "      <td>Y/Tgt</td>\n",
       "    </tr>\n",
       "    <tr>\n",
       "      <th>1</th>\n",
       "      <td>1</td>\n",
       "      <td>Michael Gallup</td>\n",
       "      <td>WR</td>\n",
       "      <td>23.227</td>\n",
       "      <td>2019-11-17</td>\n",
       "      <td>NFL</td>\n",
       "      <td>DAL</td>\n",
       "      <td>@</td>\n",
       "      <td>DET</td>\n",
       "      <td>W 35-27</td>\n",
       "      <td>10</td>\n",
       "      <td>11</td>\n",
       "      <td>Sun</td>\n",
       "      <td>13</td>\n",
       "      <td>9</td>\n",
       "      <td>148</td>\n",
       "      <td>16.44</td>\n",
       "      <td>0</td>\n",
       "      <td>69.2%</td>\n",
       "      <td>11.38</td>\n",
       "    </tr>\n",
       "    <tr>\n",
       "      <th>2</th>\n",
       "      <td>2</td>\n",
       "      <td>Calvin Ridley</td>\n",
       "      <td>WR</td>\n",
       "      <td>24.332</td>\n",
       "      <td>2019-11-17</td>\n",
       "      <td>NFL</td>\n",
       "      <td>ATL</td>\n",
       "      <td>@</td>\n",
       "      <td>CAR</td>\n",
       "      <td>W 29-3</td>\n",
       "      <td>10</td>\n",
       "      <td>11</td>\n",
       "      <td>Sun</td>\n",
       "      <td>8</td>\n",
       "      <td>8</td>\n",
       "      <td>143</td>\n",
       "      <td>17.88</td>\n",
       "      <td>1</td>\n",
       "      <td>100.0%</td>\n",
       "      <td>17.88</td>\n",
       "    </tr>\n",
       "    <tr>\n",
       "      <th>3</th>\n",
       "      <td>3</td>\n",
       "      <td>John Brown</td>\n",
       "      <td>WR</td>\n",
       "      <td>29.228</td>\n",
       "      <td>2019-11-17</td>\n",
       "      <td>NFL</td>\n",
       "      <td>BUF</td>\n",
       "      <td>@</td>\n",
       "      <td>MIA</td>\n",
       "      <td>W 37-20</td>\n",
       "      <td>10</td>\n",
       "      <td>11</td>\n",
       "      <td>Sun</td>\n",
       "      <td>14</td>\n",
       "      <td>9</td>\n",
       "      <td>137</td>\n",
       "      <td>15.22</td>\n",
       "      <td>2</td>\n",
       "      <td>64.3%</td>\n",
       "      <td>9.79</td>\n",
       "    </tr>\n",
       "    <tr>\n",
       "      <th>4</th>\n",
       "      <td>4</td>\n",
       "      <td>DeVante Parker</td>\n",
       "      <td>WR</td>\n",
       "      <td>26.301</td>\n",
       "      <td>2019-11-17</td>\n",
       "      <td>NFL</td>\n",
       "      <td>MIA</td>\n",
       "      <td></td>\n",
       "      <td>BUF</td>\n",
       "      <td>L 20-37</td>\n",
       "      <td>10</td>\n",
       "      <td>11</td>\n",
       "      <td>Sun</td>\n",
       "      <td>10</td>\n",
       "      <td>7</td>\n",
       "      <td>135</td>\n",
       "      <td>19.29</td>\n",
       "      <td>0</td>\n",
       "      <td>70.0%</td>\n",
       "      <td>13.50</td>\n",
       "    </tr>\n",
       "    <tr>\n",
       "      <th>...</th>\n",
       "      <td>...</td>\n",
       "      <td>...</td>\n",
       "      <td>...</td>\n",
       "      <td>...</td>\n",
       "      <td>...</td>\n",
       "      <td>...</td>\n",
       "      <td>...</td>\n",
       "      <td>...</td>\n",
       "      <td>...</td>\n",
       "      <td>...</td>\n",
       "      <td>...</td>\n",
       "      <td>...</td>\n",
       "      <td>...</td>\n",
       "      <td>...</td>\n",
       "      <td>...</td>\n",
       "      <td>...</td>\n",
       "      <td>...</td>\n",
       "      <td>...</td>\n",
       "      <td>...</td>\n",
       "      <td>...</td>\n",
       "    </tr>\n",
       "    <tr>\n",
       "      <th>100</th>\n",
       "      <td>96</td>\n",
       "      <td>LeSean McCoy</td>\n",
       "      <td>RB</td>\n",
       "      <td>31.129</td>\n",
       "      <td>2019-11-18</td>\n",
       "      <td>NFL</td>\n",
       "      <td>KAN</td>\n",
       "      <td>@</td>\n",
       "      <td>LAC</td>\n",
       "      <td>W 24-17</td>\n",
       "      <td>11</td>\n",
       "      <td>11</td>\n",
       "      <td>Mon</td>\n",
       "      <td>6</td>\n",
       "      <td>4</td>\n",
       "      <td>28</td>\n",
       "      <td>7.00</td>\n",
       "      <td>0</td>\n",
       "      <td>66.7%</td>\n",
       "      <td>4.67</td>\n",
       "    </tr>\n",
       "    <tr>\n",
       "      <th>101</th>\n",
       "      <td>97</td>\n",
       "      <td>Eric Ebron</td>\n",
       "      <td>TE</td>\n",
       "      <td>26.221</td>\n",
       "      <td>2019-11-17</td>\n",
       "      <td>NFL</td>\n",
       "      <td>IND</td>\n",
       "      <td></td>\n",
       "      <td>JAX</td>\n",
       "      <td>W 33-13</td>\n",
       "      <td>10</td>\n",
       "      <td>11</td>\n",
       "      <td>Sun</td>\n",
       "      <td>4</td>\n",
       "      <td>4</td>\n",
       "      <td>27</td>\n",
       "      <td>6.75</td>\n",
       "      <td>0</td>\n",
       "      <td>100.0%</td>\n",
       "      <td>6.75</td>\n",
       "    </tr>\n",
       "    <tr>\n",
       "      <th>102</th>\n",
       "      <td>98</td>\n",
       "      <td>Trey Edmunds</td>\n",
       "      <td>TE</td>\n",
       "      <td>24.319</td>\n",
       "      <td>2019-11-14</td>\n",
       "      <td>NFL</td>\n",
       "      <td>PIT</td>\n",
       "      <td>@</td>\n",
       "      <td>CLE</td>\n",
       "      <td>L 7-21</td>\n",
       "      <td>10</td>\n",
       "      <td>11</td>\n",
       "      <td>Thu</td>\n",
       "      <td>3</td>\n",
       "      <td>3</td>\n",
       "      <td>27</td>\n",
       "      <td>9.00</td>\n",
       "      <td>0</td>\n",
       "      <td>100.0%</td>\n",
       "      <td>9.00</td>\n",
       "    </tr>\n",
       "    <tr>\n",
       "      <th>103</th>\n",
       "      <td>99</td>\n",
       "      <td>Patrick Ricard</td>\n",
       "      <td>FB/DL</td>\n",
       "      <td>25.174</td>\n",
       "      <td>2019-11-17</td>\n",
       "      <td>NFL</td>\n",
       "      <td>BAL</td>\n",
       "      <td></td>\n",
       "      <td>HOU</td>\n",
       "      <td>W 41-7</td>\n",
       "      <td>10</td>\n",
       "      <td>11</td>\n",
       "      <td>Sun</td>\n",
       "      <td>3</td>\n",
       "      <td>3</td>\n",
       "      <td>27</td>\n",
       "      <td>9.00</td>\n",
       "      <td>0</td>\n",
       "      <td>100.0%</td>\n",
       "      <td>9.00</td>\n",
       "    </tr>\n",
       "    <tr>\n",
       "      <th>104</th>\n",
       "      <td>100</td>\n",
       "      <td>Kenny Stills</td>\n",
       "      <td>WR</td>\n",
       "      <td>27.209</td>\n",
       "      <td>2019-11-17</td>\n",
       "      <td>NFL</td>\n",
       "      <td>HOU</td>\n",
       "      <td>@</td>\n",
       "      <td>BAL</td>\n",
       "      <td>L 7-41</td>\n",
       "      <td>10</td>\n",
       "      <td>11</td>\n",
       "      <td>Sun</td>\n",
       "      <td>7</td>\n",
       "      <td>4</td>\n",
       "      <td>27</td>\n",
       "      <td>6.75</td>\n",
       "      <td>0</td>\n",
       "      <td>57.1%</td>\n",
       "      <td>3.86</td>\n",
       "    </tr>\n",
       "  </tbody>\n",
       "</table>\n",
       "<p>105 rows × 20 columns</p>\n",
       "</div>"
      ],
      "text/plain": [
       "      Rk          Player    Pos     Age        Date   Lg   Tm     Opp  \\\n",
       "0     Rk          Player    Pos     Age        Date   Lg   Tm     Opp   \n",
       "1      1  Michael Gallup     WR  23.227  2019-11-17  NFL  DAL  @  DET   \n",
       "2      2   Calvin Ridley     WR  24.332  2019-11-17  NFL  ATL  @  CAR   \n",
       "3      3      John Brown     WR  29.228  2019-11-17  NFL  BUF  @  MIA   \n",
       "4      4  DeVante Parker     WR  26.301  2019-11-17  NFL  MIA     BUF   \n",
       "..   ...             ...    ...     ...         ...  ...  ... ..  ...   \n",
       "100   96    LeSean McCoy     RB  31.129  2019-11-18  NFL  KAN  @  LAC   \n",
       "101   97      Eric Ebron     TE  26.221  2019-11-17  NFL  IND     JAX   \n",
       "102   98    Trey Edmunds     TE  24.319  2019-11-14  NFL  PIT  @  CLE   \n",
       "103   99  Patrick Ricard  FB/DL  25.174  2019-11-17  NFL  BAL     HOU   \n",
       "104  100    Kenny Stills     WR  27.209  2019-11-17  NFL  HOU  @  BAL   \n",
       "\n",
       "      Result  G#  Week  Day  Tgt  Rec  Yds    Y/R  TD   Ctch%  Y/Tgt  \n",
       "0     Result  G#  Week  Day  Tgt  Rec  Yds    Y/R  TD   Ctch%  Y/Tgt  \n",
       "1    W 35-27  10    11  Sun   13    9  148  16.44   0   69.2%  11.38  \n",
       "2     W 29-3  10    11  Sun    8    8  143  17.88   1  100.0%  17.88  \n",
       "3    W 37-20  10    11  Sun   14    9  137  15.22   2   64.3%   9.79  \n",
       "4    L 20-37  10    11  Sun   10    7  135  19.29   0   70.0%  13.50  \n",
       "..       ...  ..   ...  ...  ...  ...  ...    ...  ..     ...    ...  \n",
       "100  W 24-17  11    11  Mon    6    4   28   7.00   0   66.7%   4.67  \n",
       "101  W 33-13  10    11  Sun    4    4   27   6.75   0  100.0%   6.75  \n",
       "102   L 7-21  10    11  Thu    3    3   27   9.00   0  100.0%   9.00  \n",
       "103   W 41-7  10    11  Sun    3    3   27   9.00   0  100.0%   9.00  \n",
       "104   L 7-41  10    11  Sun    7    4   27   6.75   0   57.1%   3.86  \n",
       "\n",
       "[105 rows x 20 columns]"
      ]
     },
     "execution_count": 18,
     "metadata": {},
     "output_type": "execute_result"
    }
   ],
   "source": [
    "df"
   ]
  },
  {
   "cell_type": "markdown",
   "metadata": {},
   "source": [
    "### Light data cleaning \n",
    "    1. Dropping the \"Rk\" row because it is empty \n",
    "    2. Dropping a blank column used for formatting in the HTML "
   ]
  },
  {
   "cell_type": "code",
   "execution_count": 19,
   "metadata": {},
   "outputs": [],
   "source": [
    "df = df.drop(df.loc[df[\"Rk\"] == 'Rk'].index)\n",
    "df = df.drop('', 1)"
   ]
  },
  {
   "cell_type": "code",
   "execution_count": 20,
   "metadata": {},
   "outputs": [],
   "source": [
    "#Grapping Parameters for looping \n",
    "n_rows = df.shape[0]\n",
    "n_cols = df.shape[1]"
   ]
  },
  {
   "cell_type": "code",
   "execution_count": 21,
   "metadata": {},
   "outputs": [],
   "source": [
    "#import library\n",
    "import gspread \n",
    "#Service client credential from oauth2client\n",
    "from oauth2client.service_account import ServiceAccountCredentials\n",
    "# Print nicely\n",
    "import pprint\n",
    "#Create scope\n",
    "scope = ['https://spreadsheets.google.com/feeds', 'https://www.googleapis.com/auth/drive']\n",
    "#create some credential using that scope and content of startup_funding.json\n",
    "creds = ServiceAccountCredentials.from_json_keyfile_name('quickstart/g_sheet_creds.json',scope)\n",
    "#create gspread authorize using that credential\n",
    "client = gspread.authorize(creds)"
   ]
  },
  {
   "cell_type": "code",
   "execution_count": 22,
   "metadata": {},
   "outputs": [],
   "source": [
    "# creating a new sheet to drop the data \n",
    "#new_sheet = client.create('target_sheet')\n",
    "\n",
    "#new_sheet.share('players@fantasy-data-build.iam.gserviceaccount.com', perm_type='user', role='writer')"
   ]
  },
  {
   "cell_type": "code",
   "execution_count": 23,
   "metadata": {},
   "outputs": [],
   "source": [
    "#sheet = client.open('target_sheet')\n",
    "\n",
    "#ws = sheet.get_worksheet(0)"
   ]
  },
  {
   "cell_type": "code",
   "execution_count": 27,
   "metadata": {},
   "outputs": [
    {
     "ename": "APIError",
     "evalue": "{\n  \"error\": {\n    \"code\": 429,\n    \"message\": \"Quota exceeded for quota group 'WriteGroup' and limit 'Write requests per user per 100 seconds' of service 'sheets.googleapis.com' for consumer 'project_number:686366856477'.\",\n    \"status\": \"RESOURCE_EXHAUSTED\",\n    \"details\": [\n      {\n        \"@type\": \"type.googleapis.com/google.rpc.Help\",\n        \"links\": [\n          {\n            \"description\": \"Google developer console API key\",\n            \"url\": \"https://console.developers.google.com/project/686366856477/apiui/credential\"\n          }\n        ]\n      }\n    ]\n  }\n}\n",
     "output_type": "error",
     "traceback": [
      "\u001b[1;31m---------------------------------------------------------------------------\u001b[0m",
      "\u001b[1;31mAPIError\u001b[0m                                  Traceback (most recent call last)",
      "\u001b[1;32m<ipython-input-27-ecf670732aaa>\u001b[0m in \u001b[0;36m<module>\u001b[1;34m\u001b[0m\n\u001b[0;32m      9\u001b[0m \u001b[0mshaped_data\u001b[0m \u001b[1;33m=\u001b[0m \u001b[0mdf\u001b[0m\u001b[1;33m.\u001b[0m\u001b[0mtranspose\u001b[0m\u001b[1;33m(\u001b[0m\u001b[1;33m)\u001b[0m\u001b[1;33m\u001b[0m\u001b[1;33m\u001b[0m\u001b[0m\n\u001b[0;32m     10\u001b[0m \u001b[1;33m\u001b[0m\u001b[0m\n\u001b[1;32m---> 11\u001b[1;33m \u001b[0mws\u001b[0m\u001b[1;33m.\u001b[0m\u001b[0minsert_row\u001b[0m\u001b[1;33m(\u001b[0m\u001b[0mdf\u001b[0m\u001b[1;33m.\u001b[0m\u001b[0mcolumns\u001b[0m\u001b[1;33m.\u001b[0m\u001b[0mtolist\u001b[0m\u001b[1;33m(\u001b[0m\u001b[1;33m)\u001b[0m\u001b[1;33m,\u001b[0m \u001b[1;36m1\u001b[0m\u001b[1;33m)\u001b[0m\u001b[1;33m\u001b[0m\u001b[1;33m\u001b[0m\u001b[0m\n\u001b[0m\u001b[0;32m     12\u001b[0m \u001b[1;33m\u001b[0m\u001b[0m\n\u001b[0;32m     13\u001b[0m \u001b[1;32mfor\u001b[0m \u001b[0mi\u001b[0m \u001b[1;32min\u001b[0m \u001b[0mrange\u001b[0m\u001b[1;33m(\u001b[0m\u001b[1;36m1\u001b[0m\u001b[1;33m,\u001b[0m \u001b[0mn_rows\u001b[0m\u001b[1;33m)\u001b[0m\u001b[1;33m:\u001b[0m\u001b[1;33m\u001b[0m\u001b[1;33m\u001b[0m\u001b[0m\n",
      "\u001b[1;32m~\\.julia\\conda\\3\\lib\\site-packages\\gspread\\models.py\u001b[0m in \u001b[0;36minsert_row\u001b[1;34m(self, values, index, value_input_option)\u001b[0m\n\u001b[0;32m    924\u001b[0m         }\n\u001b[0;32m    925\u001b[0m \u001b[1;33m\u001b[0m\u001b[0m\n\u001b[1;32m--> 926\u001b[1;33m         \u001b[0mself\u001b[0m\u001b[1;33m.\u001b[0m\u001b[0mspreadsheet\u001b[0m\u001b[1;33m.\u001b[0m\u001b[0mbatch_update\u001b[0m\u001b[1;33m(\u001b[0m\u001b[0mbody\u001b[0m\u001b[1;33m)\u001b[0m\u001b[1;33m\u001b[0m\u001b[1;33m\u001b[0m\u001b[0m\n\u001b[0m\u001b[0;32m    927\u001b[0m \u001b[1;33m\u001b[0m\u001b[0m\n\u001b[0;32m    928\u001b[0m         \u001b[0mrange_label\u001b[0m \u001b[1;33m=\u001b[0m \u001b[1;34m'%s!%s'\u001b[0m \u001b[1;33m%\u001b[0m \u001b[1;33m(\u001b[0m\u001b[0mself\u001b[0m\u001b[1;33m.\u001b[0m\u001b[0mtitle\u001b[0m\u001b[1;33m,\u001b[0m \u001b[1;34m'A%s'\u001b[0m \u001b[1;33m%\u001b[0m \u001b[0mindex\u001b[0m\u001b[1;33m)\u001b[0m\u001b[1;33m\u001b[0m\u001b[1;33m\u001b[0m\u001b[0m\n",
      "\u001b[1;32m~\\.julia\\conda\\3\\lib\\site-packages\\gspread\\models.py\u001b[0m in \u001b[0;36mbatch_update\u001b[1;34m(self, body)\u001b[0m\n\u001b[0;32m     98\u001b[0m             \u001b[1;34m'post'\u001b[0m\u001b[1;33m,\u001b[0m\u001b[1;33m\u001b[0m\u001b[1;33m\u001b[0m\u001b[0m\n\u001b[0;32m     99\u001b[0m             \u001b[0mSPREADSHEET_BATCH_UPDATE_URL\u001b[0m \u001b[1;33m%\u001b[0m \u001b[0mself\u001b[0m\u001b[1;33m.\u001b[0m\u001b[0mid\u001b[0m\u001b[1;33m,\u001b[0m\u001b[1;33m\u001b[0m\u001b[1;33m\u001b[0m\u001b[0m\n\u001b[1;32m--> 100\u001b[1;33m             \u001b[0mjson\u001b[0m\u001b[1;33m=\u001b[0m\u001b[0mbody\u001b[0m\u001b[1;33m\u001b[0m\u001b[1;33m\u001b[0m\u001b[0m\n\u001b[0m\u001b[0;32m    101\u001b[0m         )\n\u001b[0;32m    102\u001b[0m \u001b[1;33m\u001b[0m\u001b[0m\n",
      "\u001b[1;32m~\\.julia\\conda\\3\\lib\\site-packages\\gspread\\client.py\u001b[0m in \u001b[0;36mrequest\u001b[1;34m(self, method, endpoint, params, data, json, files, headers)\u001b[0m\n\u001b[0;32m     77\u001b[0m             \u001b[1;32mreturn\u001b[0m \u001b[0mresponse\u001b[0m\u001b[1;33m\u001b[0m\u001b[1;33m\u001b[0m\u001b[0m\n\u001b[0;32m     78\u001b[0m         \u001b[1;32melse\u001b[0m\u001b[1;33m:\u001b[0m\u001b[1;33m\u001b[0m\u001b[1;33m\u001b[0m\u001b[0m\n\u001b[1;32m---> 79\u001b[1;33m             \u001b[1;32mraise\u001b[0m \u001b[0mAPIError\u001b[0m\u001b[1;33m(\u001b[0m\u001b[0mresponse\u001b[0m\u001b[1;33m)\u001b[0m\u001b[1;33m\u001b[0m\u001b[1;33m\u001b[0m\u001b[0m\n\u001b[0m\u001b[0;32m     80\u001b[0m \u001b[1;33m\u001b[0m\u001b[0m\n\u001b[0;32m     81\u001b[0m     \u001b[1;32mdef\u001b[0m \u001b[0mlist_spreadsheet_files\u001b[0m\u001b[1;33m(\u001b[0m\u001b[0mself\u001b[0m\u001b[1;33m)\u001b[0m\u001b[1;33m:\u001b[0m\u001b[1;33m\u001b[0m\u001b[1;33m\u001b[0m\u001b[0m\n",
      "\u001b[1;31mAPIError\u001b[0m: {\n  \"error\": {\n    \"code\": 429,\n    \"message\": \"Quota exceeded for quota group 'WriteGroup' and limit 'Write requests per user per 100 seconds' of service 'sheets.googleapis.com' for consumer 'project_number:686366856477'.\",\n    \"status\": \"RESOURCE_EXHAUSTED\",\n    \"details\": [\n      {\n        \"@type\": \"type.googleapis.com/google.rpc.Help\",\n        \"links\": [\n          {\n            \"description\": \"Google developer console API key\",\n            \"url\": \"https://console.developers.google.com/project/686366856477/apiui/credential\"\n          }\n        ]\n      }\n    ]\n  }\n}\n"
     ]
    }
   ],
   "source": [
    "#Now will can access our google sheets we call client.open on StartupName\n",
    "sheet = client.open_by_url('https://docs.google.com/spreadsheets/d/11D57-HeQYujW7vZtN0MXsGpyNgWj45Q87BPiAD9CNCk/edit#gid=0') #2019-q4_fantasy-web-scraping/passing\n",
    "\n",
    "ws = sheet.get_worksheet(0)\n",
    "\n",
    "#Access all of the record inside that\n",
    "#result = sheet.get_all_record()\n",
    "\n",
    "shaped_data = df.transpose()\n",
    "\n",
    "ws.insert_row(df.columns.tolist(), 1)\n",
    "\n",
    "for i in range(1, n_rows): \n",
    "    row = df.iloc[i-1].tolist()\n",
    "    index = i+1\n",
    "    if index == 50:\n",
    "            time.sleep(60)\n",
    "    ws.insert_row(row, index)\n",
    "    print(i)\n"
   ]
  },
  {
   "cell_type": "code",
   "execution_count": null,
   "metadata": {},
   "outputs": [],
   "source": []
  }
 ],
 "metadata": {
  "kernelspec": {
   "display_name": "Python 3",
   "language": "python",
   "name": "python3"
  },
  "language_info": {
   "codemirror_mode": {
    "name": "ipython",
    "version": 3
   },
   "file_extension": ".py",
   "mimetype": "text/x-python",
   "name": "python",
   "nbconvert_exporter": "python",
   "pygments_lexer": "ipython3",
   "version": "3.6.9"
  }
 },
 "nbformat": 4,
 "nbformat_minor": 4
}
