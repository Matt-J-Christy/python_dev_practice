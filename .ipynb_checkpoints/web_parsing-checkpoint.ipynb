{
 "cells": [
  {
   "cell_type": "code",
   "execution_count": 1,
   "metadata": {},
   "outputs": [],
   "source": [
    "from requests import get \n",
    "import lxml.html as lh\n",
    "import pandas as pd\n",
    "from bs4 import BeautifulSoup "
   ]
  },
  {
   "cell_type": "code",
   "execution_count": 2,
   "metadata": {},
   "outputs": [],
   "source": [
    "url = \n",
    "'https://www.pro-football-reference.com/play-index/pgl_finder.cgi?request=1&match=game&year_min=2019&year_max=2019&season_start=1&season_end=-1&age_min=0&age_max=99&game_type=A&league_id=&team_id=&opp_id=&game_num_min=0&game_num_max=99&week_num_min=11&week_num_max=11&game_day_of_week=&game_location=&game_result=&handedness=&is_active=&is_hof=&c1stat=pass_att&c1comp=gt&c1val=1&c2stat=&c2comp=gt&c2val=&c3stat=&c3comp=gt&c3val=&c4stat=&c4comp=gt&c4val=&order_by=pass_rating&from_link=1'\n",
    "\n",
    "my_header = {'User-Agent': 'Mozilla/5.0 (Windows NT 10.0; Win64; x64) AppleWebKit/537.36 (KHTML, like Gecko) Chrome/78.0.3904.97 Safari/537.36'}\n"
   ]
  },
  {
   "cell_type": "code",
   "execution_count": null,
   "metadata": {},
   "outputs": [],
   "source": [
    "fantasy_page = get(url, headers = my_header)\n",
    "\n",
    "doc = lh.fromstring(fantasy_page.content)"
   ]
  },
  {
   "cell_type": "code",
   "execution_count": 4,
   "metadata": {},
   "outputs": [
    {
     "name": "stdout",
     "output_type": "stream",
     "text": [
      "<Response [200]>\n"
     ]
    }
   ],
   "source": [
    "print(fantasy_page)"
   ]
  },
  {
   "cell_type": "code",
   "execution_count": 11,
   "metadata": {},
   "outputs": [],
   "source": [
    "table_elements = doc.xpath('//tr')"
   ]
  },
  {
   "cell_type": "code",
   "execution_count": null,
   "metadata": {},
   "outputs": [],
   "source": [
    "[len(T) for T in table_elements[:-1]]"
   ]
  },
  {
   "cell_type": "code",
   "execution_count": null,
   "metadata": {},
   "outputs": [],
   "source": []
  },
  {
   "cell_type": "code",
   "execution_count": 22,
   "metadata": {},
   "outputs": [
    {
     "name": "stdout",
     "output_type": "stream",
     "text": [
      "0:\"Rk\"\n",
      "0:\"Player\"\n",
      "0:\"Pos\"\n",
      "0:\"Age\"\n",
      "0:\"Date\"\n",
      "0:\"Lg\"\n",
      "0:\"Tm\"\n",
      "0:\"\"\n",
      "0:\"Opp\"\n",
      "0:\"Result\"\n",
      "0:\"G#\"\n",
      "0:\"Week\"\n",
      "0:\"Day\"\n",
      "0:\"Cmp\"\n",
      "0:\"Att\"\n",
      "0:\"Cmp%\"\n",
      "0:\"Yds\"\n",
      "0:\"TD\"\n",
      "0:\"Int\"\n",
      "0:\"Rate\"\n",
      "0:\"Sk\"\n",
      "0:\"Yds\"\n",
      "0:\"Y/A\"\n",
      "0:\"AY/A\"\n"
     ]
    }
   ],
   "source": [
    "cols = []\n",
    "i = 0\n",
    "\n",
    "for t in table_elements[1]:\n",
    "    i+1\n",
    "    name = t.text_content()\n",
    "    print('%d:\"%s\"'% (i, name))\n",
    "    cols.append((name, []))"
   ]
  },
  {
   "cell_type": "code",
   "execution_count": 21,
   "metadata": {},
   "outputs": [
    {
     "data": {
      "text/plain": [
       "'\\n         Rk\\n         Player\\n         Pos\\n         Age\\n         Date\\n         Lg\\n         Tm\\n         \\n         Opp\\n         Result\\n         G#\\n         Week\\n         Day\\n         Cmp\\n         Att\\n         Cmp%\\n         Yds\\n         TD\\n         Int\\n         Rate\\n         Sk\\n         Yds\\n         Y/A\\n         AY/A\\n      '"
      ]
     },
     "execution_count": 21,
     "metadata": {},
     "output_type": "execute_result"
    }
   ],
   "source": [
    "table_elements[1].text_content()"
   ]
  },
  {
   "cell_type": "code",
   "execution_count": 85,
   "metadata": {},
   "outputs": [
    {
     "name": "stdout",
     "output_type": "stream",
     "text": [
      "('Player', ['Player', 'Julian Edelman', 'Lamar Jackson', 'Kirk Cousins', 'Drew Brees', 'Sam Darnold', 'Courtland Sutton', 'Josh Allen', 'Dak Prescott', 'Jimmy Garoppolo', 'Matt Ryan', 'Jeff Driskel', 'Derek Carr', 'Kyler Murray', 'Robert Griffin', 'Baker Mayfield', 'Nick Foles', 'Ryan Fitzpatrick', 'Dwayne Haskins', 'Kenjon Barner', 'Sam Koch', 'Player', 'Jacoby Brissett', 'Carson Wentz', 'Patrick Mahomes', 'Jared Goff', 'Tom Brady', 'Mitchell Trubisky', 'Deshaun Watson', 'Brandon Allen', 'Jameis Winston', 'Philip Rivers', 'Kyle Allen', 'Chase Daniel', 'A.J. McCarron', 'Bilal Powell', 'Ryan Finley', 'Mason Rudolph'])\n"
     ]
    }
   ],
   "source": [
    "print(cols[1])"
   ]
  },
  {
   "cell_type": "code",
   "execution_count": 26,
   "metadata": {},
   "outputs": [],
   "source": [
    "#Since out first row is the header, data is stored on the second row onwards\n",
    "\n",
    "for j in range(1,len(table_elements)):\n",
    "    #T is our j'th row\n",
    "    T=table_elements[j]\n",
    "    \n",
    "    #If row is not of size 10, the //tr data is not from our table \n",
    "    if len(T)!=24:\n",
    "        break\n",
    "    \n",
    "    #i is the index of our column\n",
    "    i=0\n",
    "    \n",
    "    #Iterate through each element of the row\n",
    "    for t in T.iterchildren():\n",
    "        data=t.text_content() \n",
    "\n",
    "        #Append the data to the empty list of the i'th column\n",
    "        cols[i][1].append(data)\n",
    "        #Increment i for the next column\n",
    "        i+=1"
   ]
  },
  {
   "cell_type": "code",
   "execution_count": 65,
   "metadata": {},
   "outputs": [
    {
     "data": {
      "text/plain": [
       "'2Lamar JacksonQB22.3142019-11-17NFLBALHOUW 41-71011Sun172470.8322240139.2179.2512.58'"
      ]
     },
     "execution_count": 65,
     "metadata": {},
     "output_type": "execute_result"
    }
   ],
   "source": [
    "table_elements[3].text_content()"
   ]
  },
  {
   "cell_type": "code",
   "execution_count": 53,
   "metadata": {},
   "outputs": [
    {
     "data": {
      "text/plain": [
       "[38,\n",
       " 38,\n",
       " 38,\n",
       " 38,\n",
       " 38,\n",
       " 38,\n",
       " 38,\n",
       " 38,\n",
       " 38,\n",
       " 38,\n",
       " 38,\n",
       " 38,\n",
       " 38,\n",
       " 38,\n",
       " 38,\n",
       " 38,\n",
       " 38,\n",
       " 38,\n",
       " 38,\n",
       " 38,\n",
       " 38,\n",
       " 38,\n",
       " 38,\n",
       " 38]"
      ]
     },
     "execution_count": 53,
     "metadata": {},
     "output_type": "execute_result"
    }
   ],
   "source": [
    "[len(C) for (title,C) in cols]"
   ]
  },
  {
   "cell_type": "code",
   "execution_count": 103,
   "metadata": {},
   "outputs": [],
   "source": [
    "Dict={title:column for (title,column) in cols}\n",
    "\n",
    "df=pd.DataFrame(Dict)"
   ]
  },
  {
   "cell_type": "code",
   "execution_count": 92,
   "metadata": {},
   "outputs": [
    {
     "data": {
      "text/html": [
       "<div>\n",
       "<style scoped>\n",
       "    .dataframe tbody tr th:only-of-type {\n",
       "        vertical-align: middle;\n",
       "    }\n",
       "\n",
       "    .dataframe tbody tr th {\n",
       "        vertical-align: top;\n",
       "    }\n",
       "\n",
       "    .dataframe thead th {\n",
       "        text-align: right;\n",
       "    }\n",
       "</style>\n",
       "<table border=\"1\" class=\"dataframe\">\n",
       "  <thead>\n",
       "    <tr style=\"text-align: right;\">\n",
       "      <th></th>\n",
       "      <th>Rk</th>\n",
       "      <th>Player</th>\n",
       "      <th>Pos</th>\n",
       "      <th>Age</th>\n",
       "      <th>Date</th>\n",
       "      <th>Lg</th>\n",
       "      <th>Tm</th>\n",
       "      <th></th>\n",
       "      <th>Opp</th>\n",
       "      <th>Result</th>\n",
       "      <th>...</th>\n",
       "      <th>Cmp</th>\n",
       "      <th>Att</th>\n",
       "      <th>Cmp%</th>\n",
       "      <th>Yds</th>\n",
       "      <th>TD</th>\n",
       "      <th>Int</th>\n",
       "      <th>Rate</th>\n",
       "      <th>Sk</th>\n",
       "      <th>Y/A</th>\n",
       "      <th>AY/A</th>\n",
       "    </tr>\n",
       "  </thead>\n",
       "  <tbody>\n",
       "    <tr>\n",
       "      <th>0</th>\n",
       "      <td>Rk</td>\n",
       "      <td>Player</td>\n",
       "      <td>Pos</td>\n",
       "      <td>Age</td>\n",
       "      <td>Date</td>\n",
       "      <td>Lg</td>\n",
       "      <td>Tm</td>\n",
       "      <td></td>\n",
       "      <td>Opp</td>\n",
       "      <td>Result</td>\n",
       "      <td>...</td>\n",
       "      <td>Cmp</td>\n",
       "      <td>Att</td>\n",
       "      <td>Cmp%</td>\n",
       "      <td>Yds</td>\n",
       "      <td>TD</td>\n",
       "      <td>Int</td>\n",
       "      <td>Rate</td>\n",
       "      <td>Sk</td>\n",
       "      <td>Y/A</td>\n",
       "      <td>AY/A</td>\n",
       "    </tr>\n",
       "    <tr>\n",
       "      <th>1</th>\n",
       "      <td>1</td>\n",
       "      <td>Julian Edelman</td>\n",
       "      <td>WR</td>\n",
       "      <td>33.179</td>\n",
       "      <td>2019-11-17</td>\n",
       "      <td>NFL</td>\n",
       "      <td>NWE</td>\n",
       "      <td>@</td>\n",
       "      <td>PHI</td>\n",
       "      <td>W 17-10</td>\n",
       "      <td>...</td>\n",
       "      <td>1</td>\n",
       "      <td>1</td>\n",
       "      <td>100.00</td>\n",
       "      <td>0</td>\n",
       "      <td>1</td>\n",
       "      <td>0</td>\n",
       "      <td>158.3</td>\n",
       "      <td>0</td>\n",
       "      <td>15.00</td>\n",
       "      <td>35.00</td>\n",
       "    </tr>\n",
       "    <tr>\n",
       "      <th>2</th>\n",
       "      <td>2</td>\n",
       "      <td>Lamar Jackson</td>\n",
       "      <td>QB</td>\n",
       "      <td>22.314</td>\n",
       "      <td>2019-11-17</td>\n",
       "      <td>NFL</td>\n",
       "      <td>BAL</td>\n",
       "      <td></td>\n",
       "      <td>HOU</td>\n",
       "      <td>W 41-7</td>\n",
       "      <td>...</td>\n",
       "      <td>17</td>\n",
       "      <td>24</td>\n",
       "      <td>70.83</td>\n",
       "      <td>7</td>\n",
       "      <td>4</td>\n",
       "      <td>0</td>\n",
       "      <td>139.2</td>\n",
       "      <td>1</td>\n",
       "      <td>9.25</td>\n",
       "      <td>12.58</td>\n",
       "    </tr>\n",
       "    <tr>\n",
       "      <th>3</th>\n",
       "      <td>3</td>\n",
       "      <td>Kirk Cousins</td>\n",
       "      <td>QB</td>\n",
       "      <td>31.090</td>\n",
       "      <td>2019-11-17</td>\n",
       "      <td>NFL</td>\n",
       "      <td>MIN</td>\n",
       "      <td></td>\n",
       "      <td>DEN</td>\n",
       "      <td>W 27-23</td>\n",
       "      <td>...</td>\n",
       "      <td>29</td>\n",
       "      <td>35</td>\n",
       "      <td>82.86</td>\n",
       "      <td>35</td>\n",
       "      <td>3</td>\n",
       "      <td>0</td>\n",
       "      <td>133.2</td>\n",
       "      <td>5</td>\n",
       "      <td>9.11</td>\n",
       "      <td>10.83</td>\n",
       "    </tr>\n",
       "    <tr>\n",
       "      <th>4</th>\n",
       "      <td>4</td>\n",
       "      <td>Drew Brees</td>\n",
       "      <td>QB</td>\n",
       "      <td>40.306</td>\n",
       "      <td>2019-11-17</td>\n",
       "      <td>NFL</td>\n",
       "      <td>NOR</td>\n",
       "      <td>@</td>\n",
       "      <td>TAM</td>\n",
       "      <td>W 34-17</td>\n",
       "      <td>...</td>\n",
       "      <td>28</td>\n",
       "      <td>35</td>\n",
       "      <td>80.00</td>\n",
       "      <td>0</td>\n",
       "      <td>3</td>\n",
       "      <td>0</td>\n",
       "      <td>122.4</td>\n",
       "      <td>0</td>\n",
       "      <td>6.51</td>\n",
       "      <td>8.23</td>\n",
       "    </tr>\n",
       "  </tbody>\n",
       "</table>\n",
       "<p>5 rows × 23 columns</p>\n",
       "</div>"
      ],
      "text/plain": [
       "   Rk          Player  Pos     Age        Date   Lg   Tm     Opp   Result  \\\n",
       "0  Rk          Player  Pos     Age        Date   Lg   Tm     Opp   Result   \n",
       "1   1  Julian Edelman   WR  33.179  2019-11-17  NFL  NWE  @  PHI  W 17-10   \n",
       "2   2   Lamar Jackson   QB  22.314  2019-11-17  NFL  BAL     HOU   W 41-7   \n",
       "3   3    Kirk Cousins   QB  31.090  2019-11-17  NFL  MIN     DEN  W 27-23   \n",
       "4   4      Drew Brees   QB  40.306  2019-11-17  NFL  NOR  @  TAM  W 34-17   \n",
       "\n",
       "   ...  Cmp  Att    Cmp%  Yds  TD  Int   Rate  Sk    Y/A   AY/A  \n",
       "0  ...  Cmp  Att    Cmp%  Yds  TD  Int   Rate  Sk    Y/A   AY/A  \n",
       "1  ...    1    1  100.00    0   1    0  158.3   0  15.00  35.00  \n",
       "2  ...   17   24   70.83    7   4    0  139.2   1   9.25  12.58  \n",
       "3  ...   29   35   82.86   35   3    0  133.2   5   9.11  10.83  \n",
       "4  ...   28   35   80.00    0   3    0  122.4   0   6.51   8.23  \n",
       "\n",
       "[5 rows x 23 columns]"
      ]
     },
     "execution_count": 92,
     "metadata": {},
     "output_type": "execute_result"
    }
   ],
   "source": [
    "df.head()"
   ]
  },
  {
   "cell_type": "code",
   "execution_count": 93,
   "metadata": {},
   "outputs": [
    {
     "data": {
      "text/plain": [
       "Int64Index([0, 21], dtype='int64')"
      ]
     },
     "execution_count": 93,
     "metadata": {},
     "output_type": "execute_result"
    }
   ],
   "source": [
    "#df.iloc[0,:]\n",
    "\n",
    "df.loc[df['Rk'] == 'Rk'].index"
   ]
  },
  {
   "cell_type": "code",
   "execution_count": 100,
   "metadata": {},
   "outputs": [],
   "source": [
    "df = df.drop(df.loc[df[\"Rk\"] == 'Rk'].index)\n",
    "\n",
    "df = df.loc[:, ~df.columns.str.contains('')]"
   ]
  },
  {
   "cell_type": "code",
   "execution_count": 101,
   "metadata": {},
   "outputs": [
    {
     "data": {
      "text/plain": [
       "Index([], dtype='object')"
      ]
     },
     "execution_count": 101,
     "metadata": {},
     "output_type": "execute_result"
    }
   ],
   "source": [
    "df.columns"
   ]
  },
  {
   "cell_type": "code",
   "execution_count": 102,
   "metadata": {},
   "outputs": [
    {
     "data": {
      "text/html": [
       "<div>\n",
       "<style scoped>\n",
       "    .dataframe tbody tr th:only-of-type {\n",
       "        vertical-align: middle;\n",
       "    }\n",
       "\n",
       "    .dataframe tbody tr th {\n",
       "        vertical-align: top;\n",
       "    }\n",
       "\n",
       "    .dataframe thead th {\n",
       "        text-align: right;\n",
       "    }\n",
       "</style>\n",
       "<table border=\"1\" class=\"dataframe\">\n",
       "  <thead>\n",
       "    <tr style=\"text-align: right;\">\n",
       "      <th></th>\n",
       "    </tr>\n",
       "  </thead>\n",
       "  <tbody>\n",
       "    <tr>\n",
       "      <th>1</th>\n",
       "    </tr>\n",
       "    <tr>\n",
       "      <th>2</th>\n",
       "    </tr>\n",
       "    <tr>\n",
       "      <th>3</th>\n",
       "    </tr>\n",
       "    <tr>\n",
       "      <th>4</th>\n",
       "    </tr>\n",
       "    <tr>\n",
       "      <th>5</th>\n",
       "    </tr>\n",
       "    <tr>\n",
       "      <th>6</th>\n",
       "    </tr>\n",
       "    <tr>\n",
       "      <th>7</th>\n",
       "    </tr>\n",
       "    <tr>\n",
       "      <th>8</th>\n",
       "    </tr>\n",
       "    <tr>\n",
       "      <th>9</th>\n",
       "    </tr>\n",
       "    <tr>\n",
       "      <th>10</th>\n",
       "    </tr>\n",
       "    <tr>\n",
       "      <th>11</th>\n",
       "    </tr>\n",
       "    <tr>\n",
       "      <th>12</th>\n",
       "    </tr>\n",
       "    <tr>\n",
       "      <th>13</th>\n",
       "    </tr>\n",
       "    <tr>\n",
       "      <th>14</th>\n",
       "    </tr>\n",
       "    <tr>\n",
       "      <th>15</th>\n",
       "    </tr>\n",
       "    <tr>\n",
       "      <th>16</th>\n",
       "    </tr>\n",
       "    <tr>\n",
       "      <th>17</th>\n",
       "    </tr>\n",
       "    <tr>\n",
       "      <th>18</th>\n",
       "    </tr>\n",
       "    <tr>\n",
       "      <th>19</th>\n",
       "    </tr>\n",
       "    <tr>\n",
       "      <th>20</th>\n",
       "    </tr>\n",
       "    <tr>\n",
       "      <th>22</th>\n",
       "    </tr>\n",
       "    <tr>\n",
       "      <th>23</th>\n",
       "    </tr>\n",
       "    <tr>\n",
       "      <th>24</th>\n",
       "    </tr>\n",
       "    <tr>\n",
       "      <th>25</th>\n",
       "    </tr>\n",
       "    <tr>\n",
       "      <th>26</th>\n",
       "    </tr>\n",
       "    <tr>\n",
       "      <th>27</th>\n",
       "    </tr>\n",
       "    <tr>\n",
       "      <th>28</th>\n",
       "    </tr>\n",
       "    <tr>\n",
       "      <th>29</th>\n",
       "    </tr>\n",
       "    <tr>\n",
       "      <th>30</th>\n",
       "    </tr>\n",
       "    <tr>\n",
       "      <th>31</th>\n",
       "    </tr>\n",
       "    <tr>\n",
       "      <th>32</th>\n",
       "    </tr>\n",
       "    <tr>\n",
       "      <th>33</th>\n",
       "    </tr>\n",
       "    <tr>\n",
       "      <th>34</th>\n",
       "    </tr>\n",
       "    <tr>\n",
       "      <th>35</th>\n",
       "    </tr>\n",
       "    <tr>\n",
       "      <th>36</th>\n",
       "    </tr>\n",
       "    <tr>\n",
       "      <th>37</th>\n",
       "    </tr>\n",
       "  </tbody>\n",
       "</table>\n",
       "</div>"
      ],
      "text/plain": [
       "Empty DataFrame\n",
       "Columns: []\n",
       "Index: [1, 2, 3, 4, 5, 6, 7, 8, 9, 10, 11, 12, 13, 14, 15, 16, 17, 18, 19, 20, 22, 23, 24, 25, 26, 27, 28, 29, 30, 31, 32, 33, 34, 35, 36, 37]"
      ]
     },
     "execution_count": 102,
     "metadata": {},
     "output_type": "execute_result"
    }
   ],
   "source": [
    "df"
   ]
  },
  {
   "cell_type": "code",
   "execution_count": null,
   "metadata": {},
   "outputs": [],
   "source": []
  }
 ],
 "metadata": {
  "kernelspec": {
   "display_name": "Python 3",
   "language": "python",
   "name": "python3"
  },
  "language_info": {
   "codemirror_mode": {
    "name": "ipython",
    "version": 3
   },
   "file_extension": ".py",
   "mimetype": "text/x-python",
   "name": "python",
   "nbconvert_exporter": "python",
   "pygments_lexer": "ipython3",
   "version": "3.6.9"
  }
 },
 "nbformat": 4,
 "nbformat_minor": 4
}
