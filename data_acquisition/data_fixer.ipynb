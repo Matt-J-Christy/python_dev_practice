{
 "cells": [
  {
   "cell_type": "markdown",
   "metadata": {},
   "source": [
    "## Fixing Broken Data"
   ]
  },
  {
   "cell_type": "markdown",
   "metadata": {},
   "source": [
    "#### Overwriting the passing, rushing, receiving base tables because NFL week is incorrect"
   ]
  },
  {
   "cell_type": "markdown",
   "metadata": {},
   "source": []
  },
  {
   "cell_type": "code",
   "execution_count": 22,
   "metadata": {},
   "outputs": [],
   "source": [
    "# importing various libraries\n",
    "import gspread\n",
    "# Service client credential from oauth2client\n",
    "from oauth2client.service_account import ServiceAccountCredentials\n",
    "# Create scope\n",
    "scope = ['https://spreadsheets.google.com/feeds',\n",
    "         'https://www.googleapis.com/auth/drive']\n",
    "# create some credential using that scope and content of startup_funding.json\n",
    "creds = ServiceAccountCredentials.from_json_keyfile_name(\n",
    "    '../quickstart/g_sheet_creds.json', scope)\n",
    "# create gspread authorize using that credential\n",
    "client = gspread.authorize(creds)\n",
    "my_email = 'matthewjchristy66@gmail.com'\n"
   ]
  },
  {
   "cell_type": "code",
   "execution_count": 23,
   "metadata": {},
   "outputs": [],
   "source": [
    "# data manipulation\n",
    "import pandas as pd\n",
    "import numpy as np\n",
    "from requests import get\n",
    "import lxml.html as lh\n"
   ]
  },
  {
   "cell_type": "code",
   "execution_count": 25,
   "metadata": {},
   "outputs": [],
   "source": [
    "base_url = 'http://www.nfl.com/stats/weeklyleaders'\n",
    "\n",
    "weeks = [x for x in range(1, 18)]\n",
    "\n",
    "stat_cat = ['Passing', 'Rushing', 'Receiving']\n",
    "\n",
    "urls = []\n",
    "\n",
    "names = []\n",
    "\n",
    "for i in weeks:\n",
    "    for j in stat_cat:\n",
    "        full_url = base_url + '?week=' + \\\n",
    "            str(i) + '&season=2019' + '&showCategory=' + j\n",
    "        urls.append(full_url)\n",
    "        name = '2019_' + 'week_' + str(i) + '_' + j\n",
    "        names.append(name)\n"
   ]
  },
  {
   "cell_type": "code",
   "execution_count": null,
   "metadata": {},
   "outputs": [],
   "source": [
    "from data_acq_help_functions import *\n"
   ]
  },
  {
   "cell_type": "code",
   "execution_count": null,
   "metadata": {},
   "outputs": [],
   "source": [
    "def over_writer(data, sheet_name):\n",
    "    # Grabbing Parameters for looping\n",
    "    n_rows = data.shape[0]\n",
    "    n_cols = data.shape[1]\n",
    "\n",
    "    # getting cell list to batch update\n",
    "    import string\n",
    "    end_col = string.ascii_uppercase[n_cols - 1]\n",
    "    end_row = n_rows + 1\n",
    "\n",
    "    sheet_range = 'A1:' + end_col + str(end_row)\n",
    "\n",
    "    # turning df to one long list\n",
    "    df_as_list = data.stack().tolist()\n",
    "    df_as_list = data.columns.tolist() + df_as_list\n",
    "\n",
    "    # getting the target sheet\n",
    "    sheet = client.open(sheet_name)\n",
    "    ws = sheet.get_worksheet(0)\n",
    "    cell_list = ws.range(sheet_range)\n",
    "\n",
    "    # writing df list to cell range list\n",
    "    for i in range(0, len(cell_list)):\n",
    "        cell_list[i].value = df_as_list[i]\n",
    "\n",
    "    # batch updating\n",
    "    ws.update_cells(cell_list)\n"
   ]
  },
  {
   "cell_type": "code",
   "execution_count": 32,
   "metadata": {},
   "outputs": [],
   "source": [
    "# making empty dataframes\n",
    "passing = pd.DataFrame()\n",
    "receiving = pd.DataFrame()\n",
    "rushing = pd.DataFrame()\n"
   ]
  },
  {
   "cell_type": "code",
   "execution_count": 33,
   "metadata": {},
   "outputs": [],
   "source": [
    "for i in range(0, len(urls)):\n",
    "    source_html = get_url(urls[i])\n",
    "    colnames = get_headers(source_html)\n",
    "    table_data = get_table_data(source_html, colnames)\n",
    "    raw_df = create_df(table_data)\n",
    "    df = clean_df(raw_df, urls[i])\n",
    "\n",
    "    if 'Passing' in urls[i]:\n",
    "        passing = pd.concat([passing, df])\n",
    "\n",
    "    elif 'Receiving' in urls[i]:\n",
    "        receiving = pd.concat([receiving, df])\n",
    "\n",
    "    else:\n",
    "        rushing = pd.concat([rushing, df])\n"
   ]
  },
  {
   "cell_type": "markdown",
   "metadata": {},
   "source": [
    "### fixing the data "
   ]
  },
  {
   "cell_type": "code",
   "execution_count": 34,
   "metadata": {},
   "outputs": [],
   "source": [
    "over_writer(data=passing, sheet_name='passing')\n"
   ]
  },
  {
   "cell_type": "code",
   "execution_count": 35,
   "metadata": {},
   "outputs": [],
   "source": [
    "over_writer(data=rushing, sheet_name='rushing')\n"
   ]
  },
  {
   "cell_type": "code",
   "execution_count": 36,
   "metadata": {},
   "outputs": [],
   "source": [
    "over_writer(data=receiving, sheet_name='receiving')\n"
   ]
  }
 ],
 "metadata": {
  "kernelspec": {
   "display_name": "Python 3",
   "language": "python",
   "name": "python3"
  },
  "language_info": {
   "codemirror_mode": {
    "name": "ipython",
    "version": 3
   },
   "file_extension": ".py",
   "mimetype": "text/x-python",
   "name": "python",
   "nbconvert_exporter": "python",
   "pygments_lexer": "ipython3",
   "version": "3.6.9"
  }
 },
 "nbformat": 4,
 "nbformat_minor": 4
}
