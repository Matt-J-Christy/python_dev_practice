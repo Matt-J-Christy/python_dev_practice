{
 "cells": [
  {
   "cell_type": "markdown",
   "metadata": {},
   "source": [
    "## Modeling Rush Yards Per Game \n",
    "\n",
    "https://www.statsmodels.org/devel/mixed_linear.html\n",
    "\n",
    "https://www.statsmodels.org/devel/gam.html\n",
    "\n",
    "https://pygam.readthedocs.io/en/latest/notebooks/tour_of_pygam.html\n",
    "\n",
    "#### Modeling Framework \n",
    "    1. Fit 3 models for each type of data \n",
    "        * GAM and / or spline model - because we have panel data \n",
    "    2. Tune spline parameters \n",
    "    3. Train / test split - not cross validate \n",
    "        * work on back testing modeling framework \n",
    "    4. Output: \n",
    "        1. Prediction\n",
    "        2. A notion of variance or uncertainty for optimization \n",
    "    5. Pipeline to injest new data "
   ]
  },
  {
   "cell_type": "code",
   "execution_count": 1,
   "metadata": {},
   "outputs": [],
   "source": [
    "# %load ../api_access_snippet.py\n",
    "#import library\n",
    "import gspread \n",
    "#Service client credential from oauth2client\n",
    "from oauth2client.service_account import ServiceAccountCredentials\n",
    "# Print nicely\n",
    "import pprint\n",
    "#Create scope\n",
    "scope = ['https://spreadsheets.google.com/feeds', 'https://www.googleapis.com/auth/drive']\n",
    "#create some credential using that scope and content of startup_funding.json\n",
    "creds = ServiceAccountCredentials.from_json_keyfile_name('../quickstart/g_sheet_creds.json',scope)\n",
    "#create gspread authorize using that credential\n",
    "client = gspread.authorize(creds)\n",
    "my_email = 'matthewjchristy66@gmail.com'\n",
    "\n",
    "def read_file(sheet_name):\n",
    "    out = client.open(sheet_name).sheet1\n",
    "    out = out.get_all_values()\n",
    "    out = pd.DataFrame(out, columns = out.pop(0))\n",
    "    return(out)\n",
    "\n",
    "import pandas as pd \n",
    "import numpy as np"
   ]
  },
  {
   "cell_type": "code",
   "execution_count": 2,
   "metadata": {},
   "outputs": [],
   "source": [
    "rush = read_file('rushing_data_model_ready')"
   ]
  },
  {
   "cell_type": "code",
   "execution_count": 3,
   "metadata": {},
   "outputs": [
    {
     "data": {
      "text/html": [
       "<div>\n",
       "<style scoped>\n",
       "    .dataframe tbody tr th:only-of-type {\n",
       "        vertical-align: middle;\n",
       "    }\n",
       "\n",
       "    .dataframe tbody tr th {\n",
       "        vertical-align: top;\n",
       "    }\n",
       "\n",
       "    .dataframe thead th {\n",
       "        text-align: right;\n",
       "    }\n",
       "</style>\n",
       "<table border=\"1\" class=\"dataframe\">\n",
       "  <thead>\n",
       "    <tr style=\"text-align: right;\">\n",
       "      <th></th>\n",
       "      <th>Name</th>\n",
       "      <th>Week</th>\n",
       "      <th>Opp</th>\n",
       "      <th>Score</th>\n",
       "      <th>Att</th>\n",
       "      <th>Yds</th>\n",
       "      <th>TD</th>\n",
       "      <th>FUM</th>\n",
       "      <th>rush_fantasy_pts</th>\n",
       "      <th>total_fum</th>\n",
       "      <th>...</th>\n",
       "      <th>lag3_TD</th>\n",
       "      <th>lag3_rush_fantasy_pts</th>\n",
       "      <th>lag2_Yds</th>\n",
       "      <th>lag2_TD</th>\n",
       "      <th>lag2_rush_fantasy_pts</th>\n",
       "      <th>last_week_Yds</th>\n",
       "      <th>last_week_TD</th>\n",
       "      <th>last_week_rush_fantasy_pts</th>\n",
       "      <th>yds_ration</th>\n",
       "      <th>fantasy_pts_ratio</th>\n",
       "    </tr>\n",
       "  </thead>\n",
       "  <tbody>\n",
       "    <tr>\n",
       "      <th>0</th>\n",
       "      <td>Marlon Mack</td>\n",
       "      <td>1</td>\n",
       "      <td>@ LAC</td>\n",
       "      <td>L 24-30</td>\n",
       "      <td>25</td>\n",
       "      <td>174.0</td>\n",
       "      <td>1.0</td>\n",
       "      <td>0.0</td>\n",
       "      <td>23.4</td>\n",
       "      <td>1</td>\n",
       "      <td>...</td>\n",
       "      <td>0.5625</td>\n",
       "      <td>10.8825</td>\n",
       "      <td>75.7</td>\n",
       "      <td>0.5625</td>\n",
       "      <td>10.8825</td>\n",
       "      <td>75.7</td>\n",
       "      <td>0.5625</td>\n",
       "      <td>10.8825</td>\n",
       "      <td>1.0</td>\n",
       "      <td>1.0</td>\n",
       "    </tr>\n",
       "    <tr>\n",
       "      <th>1</th>\n",
       "      <td>Marlon Mack</td>\n",
       "      <td>2</td>\n",
       "      <td>@ TEN</td>\n",
       "      <td>W 19-17</td>\n",
       "      <td>20</td>\n",
       "      <td>51.0</td>\n",
       "      <td>0.0</td>\n",
       "      <td>0.0</td>\n",
       "      <td>5.1</td>\n",
       "      <td>1</td>\n",
       "      <td>...</td>\n",
       "      <td>0.5625</td>\n",
       "      <td>10.8825</td>\n",
       "      <td>75.7</td>\n",
       "      <td>0.5625</td>\n",
       "      <td>10.8825</td>\n",
       "      <td>174.0</td>\n",
       "      <td>1.0</td>\n",
       "      <td>23.4</td>\n",
       "      <td>1.0</td>\n",
       "      <td>1.0</td>\n",
       "    </tr>\n",
       "    <tr>\n",
       "      <th>2</th>\n",
       "      <td>Marlon Mack</td>\n",
       "      <td>3</td>\n",
       "      <td>vs ATL</td>\n",
       "      <td>W 27-24</td>\n",
       "      <td>16</td>\n",
       "      <td>74.0</td>\n",
       "      <td>1.0</td>\n",
       "      <td>0.0</td>\n",
       "      <td>13.4</td>\n",
       "      <td>1</td>\n",
       "      <td>...</td>\n",
       "      <td>0.5625</td>\n",
       "      <td>10.8825</td>\n",
       "      <td>112.5</td>\n",
       "      <td>0.5</td>\n",
       "      <td>14.25</td>\n",
       "      <td>51.0</td>\n",
       "      <td>0.0</td>\n",
       "      <td>5.1</td>\n",
       "      <td>1.486129458388375</td>\n",
       "      <td>1.3094417643004823</td>\n",
       "    </tr>\n",
       "    <tr>\n",
       "      <th>3</th>\n",
       "      <td>Marlon Mack</td>\n",
       "      <td>4</td>\n",
       "      <td>vs OAK</td>\n",
       "      <td>L 24-31</td>\n",
       "      <td>11</td>\n",
       "      <td>39.0</td>\n",
       "      <td>0.0</td>\n",
       "      <td>0.0</td>\n",
       "      <td>3.9</td>\n",
       "      <td>1</td>\n",
       "      <td>...</td>\n",
       "      <td>0.6666666666666666</td>\n",
       "      <td>13.966666666666667</td>\n",
       "      <td>62.5</td>\n",
       "      <td>0.5</td>\n",
       "      <td>9.25</td>\n",
       "      <td>74.0</td>\n",
       "      <td>1.0</td>\n",
       "      <td>13.4</td>\n",
       "      <td>0.6270903010033444</td>\n",
       "      <td>0.662291169451074</td>\n",
       "    </tr>\n",
       "    <tr>\n",
       "      <th>4</th>\n",
       "      <td>Marlon Mack</td>\n",
       "      <td>5</td>\n",
       "      <td>@ KC</td>\n",
       "      <td>W 19-13</td>\n",
       "      <td>29</td>\n",
       "      <td>132.0</td>\n",
       "      <td>0.0</td>\n",
       "      <td>0.0</td>\n",
       "      <td>13.2</td>\n",
       "      <td>1</td>\n",
       "      <td>...</td>\n",
       "      <td>0.3333333333333333</td>\n",
       "      <td>7.466666666666666</td>\n",
       "      <td>56.5</td>\n",
       "      <td>0.5</td>\n",
       "      <td>8.649999999999999</td>\n",
       "      <td>39.0</td>\n",
       "      <td>0.0</td>\n",
       "      <td>3.9</td>\n",
       "      <td>1.0335365853658538</td>\n",
       "      <td>1.1584821428571428</td>\n",
       "    </tr>\n",
       "  </tbody>\n",
       "</table>\n",
       "<p>5 rows × 21 columns</p>\n",
       "</div>"
      ],
      "text/plain": [
       "          Name Week     Opp     Score Att    Yds   TD  FUM rush_fantasy_pts  \\\n",
       "0  Marlon Mack    1   @ LAC  L 24-30   25  174.0  1.0  0.0             23.4   \n",
       "1  Marlon Mack    2   @ TEN  W 19-17   20   51.0  0.0  0.0              5.1   \n",
       "2  Marlon Mack    3  vs ATL  W 27-24   16   74.0  1.0  0.0             13.4   \n",
       "3  Marlon Mack    4  vs OAK  L 24-31   11   39.0  0.0  0.0              3.9   \n",
       "4  Marlon Mack    5    @ KC  W 19-13   29  132.0  0.0  0.0             13.2   \n",
       "\n",
       "  total_fum  ...             lag3_TD lag3_rush_fantasy_pts lag2_Yds lag2_TD  \\\n",
       "0         1  ...              0.5625               10.8825     75.7  0.5625   \n",
       "1         1  ...              0.5625               10.8825     75.7  0.5625   \n",
       "2         1  ...              0.5625               10.8825    112.5     0.5   \n",
       "3         1  ...  0.6666666666666666    13.966666666666667     62.5     0.5   \n",
       "4         1  ...  0.3333333333333333     7.466666666666666     56.5     0.5   \n",
       "\n",
       "  lag2_rush_fantasy_pts last_week_Yds last_week_TD last_week_rush_fantasy_pts  \\\n",
       "0               10.8825          75.7       0.5625                    10.8825   \n",
       "1               10.8825         174.0          1.0                       23.4   \n",
       "2                 14.25          51.0          0.0                        5.1   \n",
       "3                  9.25          74.0          1.0                       13.4   \n",
       "4     8.649999999999999          39.0          0.0                        3.9   \n",
       "\n",
       "           yds_ration   fantasy_pts_ratio  \n",
       "0                 1.0                 1.0  \n",
       "1                 1.0                 1.0  \n",
       "2   1.486129458388375  1.3094417643004823  \n",
       "3  0.6270903010033444   0.662291169451074  \n",
       "4  1.0335365853658538  1.1584821428571428  \n",
       "\n",
       "[5 rows x 21 columns]"
      ]
     },
     "execution_count": 3,
     "metadata": {},
     "output_type": "execute_result"
    }
   ],
   "source": [
    "rush.head()"
   ]
  },
  {
   "cell_type": "code",
   "execution_count": 4,
   "metadata": {},
   "outputs": [],
   "source": [
    "target = ['rush_fantasy_pts']\n",
    "last_week = ['last_week_Yds', 'last_week_TD', 'last_week_rush_fantasy_pts']\n",
    "inputs = ['yds_ration', 'fantasy_pts_ratio', 'lag2_Yds', 'lag2_rush_fantasy_pts', 'lag2_TD']"
   ]
  },
  {
   "cell_type": "code",
   "execution_count": 5,
   "metadata": {},
   "outputs": [],
   "source": [
    "rush = rush.replace('na', np.NaN);\n",
    "fix_vars = target + last_week + inputs\n",
    "rush[fix_vars] = rush[fix_vars].astype(float)\n",
    "rush.loc[rush.rush_fantasy_pts < 0, 'rush_fantasy_pts'] = 0"
   ]
  },
  {
   "cell_type": "code",
   "execution_count": 25,
   "metadata": {},
   "outputs": [],
   "source": [
    "rush['log1p_target'] = np.log1p(rush.rush_fantasy_pts + 1)\n",
    "rush['yds_ration'] = rush['yds_ration'].fillna(0)\n",
    "rush['fantasy_pts_ratio'] = rush['fantasy_pts_ratio'].fillna(0)\n",
    "rush['yds_ration'] = rush['yds_ration'].replace([np.inf, -np.inf], 0)\n",
    "rush['fantasy_pts_ratio'] = rush['fantasy_pts_ratio'].replace([np.inf, -np.inf], 0)"
   ]
  },
  {
   "cell_type": "code",
   "execution_count": 7,
   "metadata": {},
   "outputs": [
    {
     "data": {
      "text/plain": [
       "Name                           object\n",
       "Week                           object\n",
       "Opp                            object\n",
       "Score                          object\n",
       "Att                            object\n",
       "Yds                            object\n",
       "TD                             object\n",
       "FUM                            object\n",
       "rush_fantasy_pts              float64\n",
       "total_fum                      object\n",
       "lag3_Yds                       object\n",
       "lag3_TD                        object\n",
       "lag3_rush_fantasy_pts          object\n",
       "lag2_Yds                      float64\n",
       "lag2_TD                       float64\n",
       "lag2_rush_fantasy_pts         float64\n",
       "last_week_Yds                 float64\n",
       "last_week_TD                  float64\n",
       "last_week_rush_fantasy_pts    float64\n",
       "yds_ration                    float64\n",
       "fantasy_pts_ratio             float64\n",
       "log1p_target                  float64\n",
       "dtype: object"
      ]
     },
     "execution_count": 7,
     "metadata": {},
     "output_type": "execute_result"
    }
   ],
   "source": [
    "rush.dtypes"
   ]
  },
  {
   "cell_type": "code",
   "execution_count": 17,
   "metadata": {},
   "outputs": [
    {
     "data": {
      "text/plain": [
       "Name                          False\n",
       "Week                          False\n",
       "Opp                           False\n",
       "Score                         False\n",
       "Att                           False\n",
       "Yds                           False\n",
       "TD                            False\n",
       "FUM                           False\n",
       "rush_fantasy_pts              False\n",
       "total_fum                     False\n",
       "lag3_Yds                      False\n",
       "lag3_TD                       False\n",
       "lag3_rush_fantasy_pts         False\n",
       "lag2_Yds                      False\n",
       "lag2_TD                       False\n",
       "lag2_rush_fantasy_pts         False\n",
       "last_week_Yds                 False\n",
       "last_week_TD                  False\n",
       "last_week_rush_fantasy_pts    False\n",
       "yds_ration                    False\n",
       "fantasy_pts_ratio             False\n",
       "log1p_target                  False\n",
       "dtype: bool"
      ]
     },
     "execution_count": 17,
     "metadata": {},
     "output_type": "execute_result"
    }
   ],
   "source": [
    "rush.isnull().any()"
   ]
  },
  {
   "cell_type": "markdown",
   "metadata": {},
   "source": [
    "## Fitting GLMs"
   ]
  },
  {
   "cell_type": "markdown",
   "metadata": {},
   "source": [
    "### Fitting Mixed Model"
   ]
  },
  {
   "cell_type": "code",
   "execution_count": 11,
   "metadata": {},
   "outputs": [],
   "source": [
    "#importing statsmodels packages\n",
    "import statsmodels.api as sm\n",
    "\n",
    "from statsmodels.gam.api import GLMGam, BSplines, CyclicCubicSplines\n",
    "\n",
    "import statsmodels.formula.api as smf"
   ]
  },
  {
   "cell_type": "code",
   "execution_count": 12,
   "metadata": {},
   "outputs": [],
   "source": [
    "x_list = inputs + last_week\n",
    "f = 'log1p_target ~ last_week_rush_fantasy_pts + last_week_TD + last_week_Yds + yds_ration + fantasy_pts_ratio + lag2_Yds + lag2_TD + lag2_rush_fantasy_pts'"
   ]
  },
  {
   "cell_type": "code",
   "execution_count": 27,
   "metadata": {},
   "outputs": [],
   "source": [
    "mixed_model = smf.mixedlm(f, data = rush, groups = rush['Name'])"
   ]
  },
  {
   "cell_type": "code",
   "execution_count": 28,
   "metadata": {},
   "outputs": [
    {
     "data": {
      "text/html": [
       "<table class=\"simpletable\">\n",
       "<tr>\n",
       "       <td>Model:</td>       <td>MixedLM</td> <td>Dependent Variable:</td> <td>log1p_target</td>\n",
       "</tr>\n",
       "<tr>\n",
       "  <td>No. Observations:</td>  <td>1223</td>         <td>Method:</td>           <td>REML</td>    \n",
       "</tr>\n",
       "<tr>\n",
       "     <td>No. Groups:</td>      <td>116</td>         <td>Scale:</td>           <td>0.3142</td>   \n",
       "</tr>\n",
       "<tr>\n",
       "  <td>Min. group size:</td>     <td>1</td>        <td>Likelihood:</td>      <td>-1162.4645</td> \n",
       "</tr>\n",
       "<tr>\n",
       "  <td>Max. group size:</td>    <td>16</td>        <td>Converged:</td>           <td>Yes</td>    \n",
       "</tr>\n",
       "<tr>\n",
       "  <td>Mean group size:</td>   <td>10.5</td>            <td></td>                 <td></td>      \n",
       "</tr>\n",
       "</table>\n",
       "<table class=\"simpletable\">\n",
       "<tr>\n",
       "               <td></td>               <th>Coef.</th> <th>Std.Err.</th>    <th>z</th>   <th>P>|z|</th> <th>[0.025</th>  <th>0.975]</th>\n",
       "</tr>\n",
       "<tr>\n",
       "  <th>Intercept</th>                   <td>1.534</td>   <td>0.056</td>  <td>27.384</td> <td>0.000</td>  <td>1.424</td>   <td>1.644</td>\n",
       "</tr>\n",
       "<tr>\n",
       "  <th>last_week_rush_fantasy_pts</th>  <td>1.182</td>   <td>0.646</td>   <td>1.830</td> <td>0.067</td> <td>-0.084</td>   <td>2.448</td>\n",
       "</tr>\n",
       "<tr>\n",
       "  <th>last_week_TD</th>               <td>-7.167</td>   <td>3.879</td>  <td>-1.848</td> <td>0.065</td> <td>-14.769</td>  <td>0.435</td>\n",
       "</tr>\n",
       "<tr>\n",
       "  <th>last_week_Yds</th>              <td>-0.115</td>   <td>0.065</td>  <td>-1.790</td> <td>0.073</td> <td>-0.242</td>   <td>0.011</td>\n",
       "</tr>\n",
       "<tr>\n",
       "  <th>yds_ration</th>                 <td>-0.139</td>   <td>0.044</td>  <td>-3.190</td> <td>0.001</td> <td>-0.224</td>  <td>-0.054</td>\n",
       "</tr>\n",
       "<tr>\n",
       "  <th>fantasy_pts_ratio</th>          <td>-0.000</td>   <td>0.000</td>  <td>-0.372</td> <td>0.710</td> <td>-0.000</td>   <td>0.000</td>\n",
       "</tr>\n",
       "<tr>\n",
       "  <th>lag2_Yds</th>                    <td>0.020</td>   <td>0.048</td>   <td>0.420</td> <td>0.674</td> <td>-0.074</td>   <td>0.114</td>\n",
       "</tr>\n",
       "<tr>\n",
       "  <th>lag2_TD</th>                     <td>1.058</td>   <td>2.899</td>   <td>0.365</td> <td>0.715</td> <td>-4.625</td>   <td>6.740</td>\n",
       "</tr>\n",
       "<tr>\n",
       "  <th>lag2_rush_fantasy_pts</th>      <td>-0.163</td>   <td>0.482</td>  <td>-0.338</td> <td>0.735</td> <td>-1.108</td>   <td>0.782</td>\n",
       "</tr>\n",
       "<tr>\n",
       "  <th>Group Var</th>                   <td>0.108</td>   <td>0.050</td>     <td></td>      <td></td>       <td></td>        <td></td>   \n",
       "</tr>\n",
       "</table>"
      ],
      "text/plain": [
       "<class 'statsmodels.iolib.summary2.Summary'>\n",
       "\"\"\"\n",
       "                Mixed Linear Model Regression Results\n",
       "======================================================================\n",
       "Model:                MixedLM     Dependent Variable:     log1p_target\n",
       "No. Observations:     1223        Method:                 REML        \n",
       "No. Groups:           116         Scale:                  0.3142      \n",
       "Min. group size:      1           Likelihood:             -1162.4645  \n",
       "Max. group size:      16          Converged:              Yes         \n",
       "Mean group size:      10.5                                            \n",
       "----------------------------------------------------------------------\n",
       "                           Coef.  Std.Err.   z    P>|z|  [0.025 0.975]\n",
       "----------------------------------------------------------------------\n",
       "Intercept                   1.534    0.056 27.384 0.000   1.424  1.644\n",
       "last_week_rush_fantasy_pts  1.182    0.646  1.830 0.067  -0.084  2.448\n",
       "last_week_TD               -7.167    3.879 -1.848 0.065 -14.769  0.435\n",
       "last_week_Yds              -0.115    0.065 -1.790 0.073  -0.242  0.011\n",
       "yds_ration                 -0.139    0.044 -3.190 0.001  -0.224 -0.054\n",
       "fantasy_pts_ratio          -0.000    0.000 -0.372 0.710  -0.000  0.000\n",
       "lag2_Yds                    0.020    0.048  0.420 0.674  -0.074  0.114\n",
       "lag2_TD                     1.058    2.899  0.365 0.715  -4.625  6.740\n",
       "lag2_rush_fantasy_pts      -0.163    0.482 -0.338 0.735  -1.108  0.782\n",
       "Group Var                   0.108    0.050                            \n",
       "======================================================================\n",
       "\n",
       "\"\"\""
      ]
     },
     "execution_count": 28,
     "metadata": {},
     "output_type": "execute_result"
    }
   ],
   "source": [
    "mx_fit = mixed_model.fit()\n",
    "mx_fit.summary()"
   ]
  },
  {
   "cell_type": "markdown",
   "metadata": {},
   "source": [
    "### Trying a Spline Regression "
   ]
  },
  {
   "cell_type": "code",
   "execution_count": 31,
   "metadata": {},
   "outputs": [],
   "source": [
    "complexity = 2\n",
    "num_vars = len(x_list)\n",
    "\n",
    "df_iter = np.repeat(complexity, num_vars)\n",
    "degrees = np.repeat(complexity - 1, num_vars)"
   ]
  },
  {
   "cell_type": "code",
   "execution_count": 32,
   "metadata": {},
   "outputs": [
    {
     "ename": "ValueError",
     "evalue": "0<=der=2<=k=1 must hold",
     "output_type": "error",
     "traceback": [
      "\u001b[1;31m---------------------------------------------------------------------------\u001b[0m",
      "\u001b[1;31mValueError\u001b[0m                                Traceback (most recent call last)",
      "\u001b[1;32m<ipython-input-32-2c713e3f12c4>\u001b[0m in \u001b[0;36m<module>\u001b[1;34m\u001b[0m\n\u001b[0;32m      1\u001b[0m \u001b[0mx_spline\u001b[0m \u001b[1;33m=\u001b[0m \u001b[0mrush\u001b[0m\u001b[1;33m[\u001b[0m\u001b[0mx_list\u001b[0m\u001b[1;33m]\u001b[0m\u001b[1;33m\u001b[0m\u001b[1;33m\u001b[0m\u001b[0m\n\u001b[1;32m----> 2\u001b[1;33m \u001b[0mbs\u001b[0m \u001b[1;33m=\u001b[0m \u001b[0mBSplines\u001b[0m\u001b[1;33m(\u001b[0m\u001b[0mx_spline\u001b[0m\u001b[1;33m,\u001b[0m \u001b[0mdf\u001b[0m \u001b[1;33m=\u001b[0m \u001b[0mdf_iter\u001b[0m\u001b[1;33m,\u001b[0m \u001b[0mdegree\u001b[0m \u001b[1;33m=\u001b[0m \u001b[0mdegrees\u001b[0m\u001b[1;33m)\u001b[0m\u001b[1;33m\u001b[0m\u001b[1;33m\u001b[0m\u001b[0m\n\u001b[0m\u001b[0;32m      3\u001b[0m \u001b[0mcs\u001b[0m \u001b[1;33m=\u001b[0m \u001b[0mCyclicCubicSplines\u001b[0m\u001b[1;33m(\u001b[0m\u001b[0mx_spline\u001b[0m\u001b[1;33m,\u001b[0m \u001b[0mdf\u001b[0m \u001b[1;33m=\u001b[0m \u001b[0mdf_iter\u001b[0m\u001b[1;33m)\u001b[0m\u001b[1;33m\u001b[0m\u001b[1;33m\u001b[0m\u001b[0m\n",
      "\u001b[1;32m~\\.julia\\conda\\3\\lib\\site-packages\\statsmodels\\gam\\smooth_basis.py\u001b[0m in \u001b[0;36m__init__\u001b[1;34m(self, x, df, degree, include_intercept, constraints, variable_names, knot_kwds)\u001b[0m\n\u001b[0;32m    917\u001b[0m \u001b[1;33m\u001b[0m\u001b[0m\n\u001b[0;32m    918\u001b[0m         super(BSplines, self).__init__(x, include_intercept=include_intercept,\n\u001b[1;32m--> 919\u001b[1;33m                                        variable_names=variable_names)\n\u001b[0m\u001b[0;32m    920\u001b[0m \u001b[1;33m\u001b[0m\u001b[0m\n\u001b[0;32m    921\u001b[0m     \u001b[1;32mdef\u001b[0m \u001b[0m_make_smoothers_list\u001b[0m\u001b[1;33m(\u001b[0m\u001b[0mself\u001b[0m\u001b[1;33m)\u001b[0m\u001b[1;33m:\u001b[0m\u001b[1;33m\u001b[0m\u001b[1;33m\u001b[0m\u001b[0m\n",
      "\u001b[1;32m~\\.julia\\conda\\3\\lib\\site-packages\\statsmodels\\gam\\smooth_basis.py\u001b[0m in \u001b[0;36m__init__\u001b[1;34m(self, x, variable_names, include_intercept, **kwargs)\u001b[0m\n\u001b[0;32m    752\u001b[0m             \u001b[0mself\u001b[0m\u001b[1;33m.\u001b[0m\u001b[0mvariable_names\u001b[0m \u001b[1;33m=\u001b[0m \u001b[0mvariable_names\u001b[0m\u001b[1;33m\u001b[0m\u001b[1;33m\u001b[0m\u001b[0m\n\u001b[0;32m    753\u001b[0m \u001b[1;33m\u001b[0m\u001b[0m\n\u001b[1;32m--> 754\u001b[1;33m         \u001b[0mself\u001b[0m\u001b[1;33m.\u001b[0m\u001b[0msmoothers\u001b[0m \u001b[1;33m=\u001b[0m \u001b[0mself\u001b[0m\u001b[1;33m.\u001b[0m\u001b[0m_make_smoothers_list\u001b[0m\u001b[1;33m(\u001b[0m\u001b[1;33m)\u001b[0m\u001b[1;33m\u001b[0m\u001b[1;33m\u001b[0m\u001b[0m\n\u001b[0m\u001b[0;32m    755\u001b[0m         self.basis = np.hstack(list(smoother.basis\n\u001b[0;32m    756\u001b[0m                                for smoother in self.smoothers))\n",
      "\u001b[1;32m~\\.julia\\conda\\3\\lib\\site-packages\\statsmodels\\gam\\smooth_basis.py\u001b[0m in \u001b[0;36m_make_smoothers_list\u001b[1;34m(self)\u001b[0m\n\u001b[0;32m    928\u001b[0m                 \u001b[0minclude_intercept\u001b[0m\u001b[1;33m=\u001b[0m\u001b[0mself\u001b[0m\u001b[1;33m.\u001b[0m\u001b[0minclude_intercept\u001b[0m\u001b[1;33m[\u001b[0m\u001b[0mv\u001b[0m\u001b[1;33m]\u001b[0m\u001b[1;33m,\u001b[0m\u001b[1;33m\u001b[0m\u001b[1;33m\u001b[0m\u001b[0m\n\u001b[0;32m    929\u001b[0m                 \u001b[0mconstraints\u001b[0m\u001b[1;33m=\u001b[0m\u001b[0mself\u001b[0m\u001b[1;33m.\u001b[0m\u001b[0mconstraints\u001b[0m\u001b[1;33m,\u001b[0m\u001b[1;33m\u001b[0m\u001b[1;33m\u001b[0m\u001b[0m\n\u001b[1;32m--> 930\u001b[1;33m                 variable_name=self.variable_names[v], **kwds)\n\u001b[0m\u001b[0;32m    931\u001b[0m             \u001b[0msmoothers\u001b[0m\u001b[1;33m.\u001b[0m\u001b[0mappend\u001b[0m\u001b[1;33m(\u001b[0m\u001b[0muv_smoother\u001b[0m\u001b[1;33m)\u001b[0m\u001b[1;33m\u001b[0m\u001b[1;33m\u001b[0m\u001b[0m\n\u001b[0;32m    932\u001b[0m \u001b[1;33m\u001b[0m\u001b[0m\n",
      "\u001b[1;32m~\\.julia\\conda\\3\\lib\\site-packages\\statsmodels\\gam\\smooth_basis.py\u001b[0m in \u001b[0;36m__init__\u001b[1;34m(self, x, df, degree, include_intercept, constraints, variable_name, covder2_kwds, **knot_kwds)\u001b[0m\n\u001b[0;32m    456\u001b[0m                              else {})\n\u001b[0;32m    457\u001b[0m         super(UnivariateBSplines, self).__init__(\n\u001b[1;32m--> 458\u001b[1;33m             x, constraints=constraints, variable_name=variable_name)\n\u001b[0m\u001b[0;32m    459\u001b[0m \u001b[1;33m\u001b[0m\u001b[0m\n\u001b[0;32m    460\u001b[0m     \u001b[1;32mdef\u001b[0m \u001b[0m_smooth_basis_for_single_variable\u001b[0m\u001b[1;33m(\u001b[0m\u001b[0mself\u001b[0m\u001b[1;33m)\u001b[0m\u001b[1;33m:\u001b[0m\u001b[1;33m\u001b[0m\u001b[1;33m\u001b[0m\u001b[0m\n",
      "\u001b[1;32m~\\.julia\\conda\\3\\lib\\site-packages\\statsmodels\\gam\\smooth_basis.py\u001b[0m in \u001b[0;36m__init__\u001b[1;34m(self, x, constraints, variable_name)\u001b[0m\n\u001b[0;32m    310\u001b[0m         \u001b[0mself\u001b[0m\u001b[1;33m.\u001b[0m\u001b[0mnobs\u001b[0m\u001b[1;33m,\u001b[0m \u001b[0mself\u001b[0m\u001b[1;33m.\u001b[0m\u001b[0mk_variables\u001b[0m \u001b[1;33m=\u001b[0m \u001b[0mlen\u001b[0m\u001b[1;33m(\u001b[0m\u001b[0mx\u001b[0m\u001b[1;33m)\u001b[0m\u001b[1;33m,\u001b[0m \u001b[1;36m1\u001b[0m\u001b[1;33m\u001b[0m\u001b[1;33m\u001b[0m\u001b[0m\n\u001b[0;32m    311\u001b[0m \u001b[1;33m\u001b[0m\u001b[0m\n\u001b[1;32m--> 312\u001b[1;33m         \u001b[0mbase4\u001b[0m \u001b[1;33m=\u001b[0m \u001b[0mself\u001b[0m\u001b[1;33m.\u001b[0m\u001b[0m_smooth_basis_for_single_variable\u001b[0m\u001b[1;33m(\u001b[0m\u001b[1;33m)\u001b[0m\u001b[1;33m\u001b[0m\u001b[1;33m\u001b[0m\u001b[0m\n\u001b[0m\u001b[0;32m    313\u001b[0m         \u001b[1;32mif\u001b[0m \u001b[0mconstraints\u001b[0m \u001b[1;33m==\u001b[0m \u001b[1;34m'center'\u001b[0m\u001b[1;33m:\u001b[0m\u001b[1;33m\u001b[0m\u001b[1;33m\u001b[0m\u001b[0m\n\u001b[0;32m    314\u001b[0m             \u001b[0mconstraints\u001b[0m \u001b[1;33m=\u001b[0m \u001b[0mbase4\u001b[0m\u001b[1;33m[\u001b[0m\u001b[1;36m0\u001b[0m\u001b[1;33m]\u001b[0m\u001b[1;33m.\u001b[0m\u001b[0mmean\u001b[0m\u001b[1;33m(\u001b[0m\u001b[1;36m0\u001b[0m\u001b[1;33m)\u001b[0m\u001b[1;33m[\u001b[0m\u001b[1;32mNone\u001b[0m\u001b[1;33m,\u001b[0m \u001b[1;33m:\u001b[0m\u001b[1;33m]\u001b[0m\u001b[1;33m\u001b[0m\u001b[1;33m\u001b[0m\u001b[0m\n",
      "\u001b[1;32m~\\.julia\\conda\\3\\lib\\site-packages\\statsmodels\\gam\\smooth_basis.py\u001b[0m in \u001b[0;36m_smooth_basis_for_single_variable\u001b[1;34m(self)\u001b[0m\n\u001b[0;32m    461\u001b[0m         basis, der_basis, der2_basis = _eval_bspline_basis(\n\u001b[0;32m    462\u001b[0m             \u001b[0mself\u001b[0m\u001b[1;33m.\u001b[0m\u001b[0mx\u001b[0m\u001b[1;33m,\u001b[0m \u001b[0mself\u001b[0m\u001b[1;33m.\u001b[0m\u001b[0mknots\u001b[0m\u001b[1;33m,\u001b[0m \u001b[0mself\u001b[0m\u001b[1;33m.\u001b[0m\u001b[0mdegree\u001b[0m\u001b[1;33m,\u001b[0m\u001b[1;33m\u001b[0m\u001b[1;33m\u001b[0m\u001b[0m\n\u001b[1;32m--> 463\u001b[1;33m             include_intercept=self.include_intercept)\n\u001b[0m\u001b[0;32m    464\u001b[0m         \u001b[1;31m# cov_der2 = np.dot(der2_basis.T, der2_basis)\u001b[0m\u001b[1;33m\u001b[0m\u001b[1;33m\u001b[0m\u001b[1;33m\u001b[0m\u001b[0m\n\u001b[0;32m    465\u001b[0m \u001b[1;33m\u001b[0m\u001b[0m\n",
      "\u001b[1;32m~\\.julia\\conda\\3\\lib\\site-packages\\statsmodels\\gam\\smooth_basis.py\u001b[0m in \u001b[0;36m_eval_bspline_basis\u001b[1;34m(x, knots, degree, deriv, include_intercept)\u001b[0m\n\u001b[0;32m    102\u001b[0m             \u001b[0mder1_basis\u001b[0m\u001b[1;33m[\u001b[0m\u001b[1;33m:\u001b[0m\u001b[1;33m,\u001b[0m \u001b[0mii\u001b[0m\u001b[1;33m]\u001b[0m \u001b[1;33m=\u001b[0m \u001b[0msplev\u001b[0m\u001b[1;33m(\u001b[0m\u001b[0mx\u001b[0m\u001b[1;33m,\u001b[0m \u001b[1;33m(\u001b[0m\u001b[0mknots\u001b[0m\u001b[1;33m,\u001b[0m \u001b[0mcoefs\u001b[0m\u001b[1;33m,\u001b[0m \u001b[0mdegree\u001b[0m\u001b[1;33m)\u001b[0m\u001b[1;33m,\u001b[0m \u001b[0mder\u001b[0m\u001b[1;33m=\u001b[0m\u001b[1;36m1\u001b[0m\u001b[1;33m)\u001b[0m\u001b[1;33m\u001b[0m\u001b[1;33m\u001b[0m\u001b[0m\n\u001b[0;32m    103\u001b[0m         \u001b[1;32mif\u001b[0m \u001b[0mderiv\u001b[0m \u001b[1;32min\u001b[0m \u001b[1;33m[\u001b[0m\u001b[1;34m'all'\u001b[0m\u001b[1;33m,\u001b[0m \u001b[1;36m2\u001b[0m\u001b[1;33m]\u001b[0m\u001b[1;33m:\u001b[0m\u001b[1;33m\u001b[0m\u001b[1;33m\u001b[0m\u001b[0m\n\u001b[1;32m--> 104\u001b[1;33m             \u001b[0mder2_basis\u001b[0m\u001b[1;33m[\u001b[0m\u001b[1;33m:\u001b[0m\u001b[1;33m,\u001b[0m \u001b[0mii\u001b[0m\u001b[1;33m]\u001b[0m \u001b[1;33m=\u001b[0m \u001b[0msplev\u001b[0m\u001b[1;33m(\u001b[0m\u001b[0mx\u001b[0m\u001b[1;33m,\u001b[0m \u001b[1;33m(\u001b[0m\u001b[0mknots\u001b[0m\u001b[1;33m,\u001b[0m \u001b[0mcoefs\u001b[0m\u001b[1;33m,\u001b[0m \u001b[0mdegree\u001b[0m\u001b[1;33m)\u001b[0m\u001b[1;33m,\u001b[0m \u001b[0mder\u001b[0m\u001b[1;33m=\u001b[0m\u001b[1;36m2\u001b[0m\u001b[1;33m)\u001b[0m\u001b[1;33m\u001b[0m\u001b[1;33m\u001b[0m\u001b[0m\n\u001b[0m\u001b[0;32m    105\u001b[0m \u001b[1;33m\u001b[0m\u001b[0m\n\u001b[0;32m    106\u001b[0m     \u001b[1;32mif\u001b[0m \u001b[0mderiv\u001b[0m \u001b[1;33m==\u001b[0m \u001b[1;34m'all'\u001b[0m\u001b[1;33m:\u001b[0m\u001b[1;33m\u001b[0m\u001b[1;33m\u001b[0m\u001b[0m\n",
      "\u001b[1;32m~\\.julia\\conda\\3\\lib\\site-packages\\scipy\\interpolate\\fitpack.py\u001b[0m in \u001b[0;36msplev\u001b[1;34m(x, tck, der, ext)\u001b[0m\n\u001b[0;32m    366\u001b[0m         \u001b[1;32mreturn\u001b[0m \u001b[0mtck\u001b[0m\u001b[1;33m(\u001b[0m\u001b[0mx\u001b[0m\u001b[1;33m,\u001b[0m \u001b[0mder\u001b[0m\u001b[1;33m,\u001b[0m \u001b[0mextrapolate\u001b[0m\u001b[1;33m=\u001b[0m\u001b[0mextrapolate\u001b[0m\u001b[1;33m)\u001b[0m\u001b[1;33m\u001b[0m\u001b[1;33m\u001b[0m\u001b[0m\n\u001b[0;32m    367\u001b[0m     \u001b[1;32melse\u001b[0m\u001b[1;33m:\u001b[0m\u001b[1;33m\u001b[0m\u001b[1;33m\u001b[0m\u001b[0m\n\u001b[1;32m--> 368\u001b[1;33m         \u001b[1;32mreturn\u001b[0m \u001b[0m_impl\u001b[0m\u001b[1;33m.\u001b[0m\u001b[0msplev\u001b[0m\u001b[1;33m(\u001b[0m\u001b[0mx\u001b[0m\u001b[1;33m,\u001b[0m \u001b[0mtck\u001b[0m\u001b[1;33m,\u001b[0m \u001b[0mder\u001b[0m\u001b[1;33m,\u001b[0m \u001b[0mext\u001b[0m\u001b[1;33m)\u001b[0m\u001b[1;33m\u001b[0m\u001b[1;33m\u001b[0m\u001b[0m\n\u001b[0m\u001b[0;32m    369\u001b[0m \u001b[1;33m\u001b[0m\u001b[0m\n\u001b[0;32m    370\u001b[0m \u001b[1;33m\u001b[0m\u001b[0m\n",
      "\u001b[1;32m~\\.julia\\conda\\3\\lib\\site-packages\\scipy\\interpolate\\_fitpack_impl.py\u001b[0m in \u001b[0;36msplev\u001b[1;34m(x, tck, der, ext)\u001b[0m\n\u001b[0;32m    589\u001b[0m     \u001b[1;32melse\u001b[0m\u001b[1;33m:\u001b[0m\u001b[1;33m\u001b[0m\u001b[1;33m\u001b[0m\u001b[0m\n\u001b[0;32m    590\u001b[0m         \u001b[1;32mif\u001b[0m \u001b[1;32mnot\u001b[0m \u001b[1;33m(\u001b[0m\u001b[1;36m0\u001b[0m \u001b[1;33m<=\u001b[0m \u001b[0mder\u001b[0m \u001b[1;33m<=\u001b[0m \u001b[0mk\u001b[0m\u001b[1;33m)\u001b[0m\u001b[1;33m:\u001b[0m\u001b[1;33m\u001b[0m\u001b[1;33m\u001b[0m\u001b[0m\n\u001b[1;32m--> 591\u001b[1;33m             \u001b[1;32mraise\u001b[0m \u001b[0mValueError\u001b[0m\u001b[1;33m(\u001b[0m\u001b[1;34m\"0<=der=%d<=k=%d must hold\"\u001b[0m \u001b[1;33m%\u001b[0m \u001b[1;33m(\u001b[0m\u001b[0mder\u001b[0m\u001b[1;33m,\u001b[0m \u001b[0mk\u001b[0m\u001b[1;33m)\u001b[0m\u001b[1;33m)\u001b[0m\u001b[1;33m\u001b[0m\u001b[1;33m\u001b[0m\u001b[0m\n\u001b[0m\u001b[0;32m    592\u001b[0m         \u001b[1;32mif\u001b[0m \u001b[0mext\u001b[0m \u001b[1;32mnot\u001b[0m \u001b[1;32min\u001b[0m \u001b[1;33m(\u001b[0m\u001b[1;36m0\u001b[0m\u001b[1;33m,\u001b[0m \u001b[1;36m1\u001b[0m\u001b[1;33m,\u001b[0m \u001b[1;36m2\u001b[0m\u001b[1;33m,\u001b[0m \u001b[1;36m3\u001b[0m\u001b[1;33m)\u001b[0m\u001b[1;33m:\u001b[0m\u001b[1;33m\u001b[0m\u001b[1;33m\u001b[0m\u001b[0m\n\u001b[0;32m    593\u001b[0m             \u001b[1;32mraise\u001b[0m \u001b[0mValueError\u001b[0m\u001b[1;33m(\u001b[0m\u001b[1;34m\"ext = %s not in (0, 1, 2, 3) \"\u001b[0m \u001b[1;33m%\u001b[0m \u001b[0mext\u001b[0m\u001b[1;33m)\u001b[0m\u001b[1;33m\u001b[0m\u001b[1;33m\u001b[0m\u001b[0m\n",
      "\u001b[1;31mValueError\u001b[0m: 0<=der=2<=k=1 must hold"
     ]
    }
   ],
   "source": [
    "x_spline = rush[x_list]\n",
    "bs = BSplines(x_spline, df = df_iter, degree = degrees)\n",
    "cs = CyclicCubicSplines(x_spline, df = df_iter)"
   ]
  },
  {
   "cell_type": "code",
   "execution_count": null,
   "metadata": {},
   "outputs": [],
   "source": [
    "pass_gam = GLMGam.from_formula(f, data = pass_mdl_data, smoother = cs, family=sm.families.Gaussian())"
   ]
  },
  {
   "cell_type": "markdown",
   "metadata": {},
   "source": [
    "## Going the Bayesian Route \n",
    "\n",
    "https://docs.pymc.io/notebooks/GLM-linear.html"
   ]
  },
  {
   "cell_type": "code",
   "execution_count": 8,
   "metadata": {},
   "outputs": [],
   "source": [
    "import pymc3 as pm\n",
    "f = 'log1p_target ~ last_week_rush_fantasy_pts + last_week_TD + last_week_Yds + yds_ration + fantasy_pts_ratio + lag2_Yds + lag2_TD + lag2_rush_fantasy_pts'"
   ]
  },
  {
   "cell_type": "code",
   "execution_count": 10,
   "metadata": {},
   "outputs": [
    {
     "name": "stderr",
     "output_type": "stream",
     "text": [
      "Only 250 samples in chain.\n",
      "Auto-assigning NUTS sampler...\n",
      "Initializing NUTS using jitter+adapt_diag...\n",
      "Sequential sampling (2 chains in 1 job)\n",
      "NUTS: [sd, lag2_rush_fantasy_pts, lag2_TD, lag2_Yds, fantasy_pts_ratio, yds_ration, last_week_Yds, last_week_TD, last_week_rush_fantasy_pts, Intercept]\n",
      "  0%|          | 0/750 [00:03<?, ?it/s]\n"
     ]
    },
    {
     "ename": "SamplingError",
     "evalue": "Bad initial energy",
     "output_type": "error",
     "traceback": [
      "\u001b[1;31m---------------------------------------------------------------------------\u001b[0m",
      "\u001b[1;31mSamplingError\u001b[0m                             Traceback (most recent call last)",
      "\u001b[1;32m<ipython-input-10-3c9ccfd6a4fd>\u001b[0m in \u001b[0;36m<module>\u001b[1;34m\u001b[0m\n\u001b[0;32m      3\u001b[0m     \u001b[1;31m# and all its parameters are automatically added to our model.\u001b[0m\u001b[1;33m\u001b[0m\u001b[1;33m\u001b[0m\u001b[1;33m\u001b[0m\u001b[0m\n\u001b[0;32m      4\u001b[0m     \u001b[0mpm\u001b[0m\u001b[1;33m.\u001b[0m\u001b[0mglm\u001b[0m\u001b[1;33m.\u001b[0m\u001b[0mGLM\u001b[0m\u001b[1;33m.\u001b[0m\u001b[0mfrom_formula\u001b[0m\u001b[1;33m(\u001b[0m\u001b[0mf\u001b[0m\u001b[1;33m,\u001b[0m \u001b[0mrush\u001b[0m\u001b[1;33m)\u001b[0m\u001b[1;33m\u001b[0m\u001b[1;33m\u001b[0m\u001b[0m\n\u001b[1;32m----> 5\u001b[1;33m     \u001b[0mtrace\u001b[0m \u001b[1;33m=\u001b[0m \u001b[0mpm\u001b[0m\u001b[1;33m.\u001b[0m\u001b[0msample\u001b[0m\u001b[1;33m(\u001b[0m\u001b[1;36m250\u001b[0m\u001b[1;33m,\u001b[0m \u001b[0mcores\u001b[0m\u001b[1;33m=\u001b[0m\u001b[1;36m1\u001b[0m\u001b[1;33m)\u001b[0m \u001b[1;31m# draw 3000 posterior samples using NUTS sampling\u001b[0m\u001b[1;33m\u001b[0m\u001b[1;33m\u001b[0m\u001b[0m\n\u001b[0m",
      "\u001b[1;32m~\\.julia\\conda\\3\\lib\\site-packages\\pymc3\\sampling.py\u001b[0m in \u001b[0;36msample\u001b[1;34m(draws, step, init, n_init, start, trace, chain_idx, chains, cores, tune, progressbar, model, random_seed, discard_tuned_samples, compute_convergence_checks, **kwargs)\u001b[0m\n\u001b[0;32m    455\u001b[0m                 \u001b[0m_log\u001b[0m\u001b[1;33m.\u001b[0m\u001b[0minfo\u001b[0m\u001b[1;33m(\u001b[0m\u001b[1;34m'Sequential sampling ({} chains in 1 job)'\u001b[0m\u001b[1;33m.\u001b[0m\u001b[0mformat\u001b[0m\u001b[1;33m(\u001b[0m\u001b[0mchains\u001b[0m\u001b[1;33m)\u001b[0m\u001b[1;33m)\u001b[0m\u001b[1;33m\u001b[0m\u001b[1;33m\u001b[0m\u001b[0m\n\u001b[0;32m    456\u001b[0m                 \u001b[0m_print_step_hierarchy\u001b[0m\u001b[1;33m(\u001b[0m\u001b[0mstep\u001b[0m\u001b[1;33m)\u001b[0m\u001b[1;33m\u001b[0m\u001b[1;33m\u001b[0m\u001b[0m\n\u001b[1;32m--> 457\u001b[1;33m                 \u001b[0mtrace\u001b[0m \u001b[1;33m=\u001b[0m \u001b[0m_sample_many\u001b[0m\u001b[1;33m(\u001b[0m\u001b[1;33m**\u001b[0m\u001b[0msample_args\u001b[0m\u001b[1;33m)\u001b[0m\u001b[1;33m\u001b[0m\u001b[1;33m\u001b[0m\u001b[0m\n\u001b[0m\u001b[0;32m    458\u001b[0m \u001b[1;33m\u001b[0m\u001b[0m\n\u001b[0;32m    459\u001b[0m         \u001b[0mdiscard\u001b[0m \u001b[1;33m=\u001b[0m \u001b[0mtune\u001b[0m \u001b[1;32mif\u001b[0m \u001b[0mdiscard_tuned_samples\u001b[0m \u001b[1;32melse\u001b[0m \u001b[1;36m0\u001b[0m\u001b[1;33m\u001b[0m\u001b[1;33m\u001b[0m\u001b[0m\n",
      "\u001b[1;32m~\\.julia\\conda\\3\\lib\\site-packages\\pymc3\\sampling.py\u001b[0m in \u001b[0;36m_sample_many\u001b[1;34m(draws, chain, chains, start, random_seed, step, **kwargs)\u001b[0m\n\u001b[0;32m    501\u001b[0m     \u001b[1;32mfor\u001b[0m \u001b[0mi\u001b[0m \u001b[1;32min\u001b[0m \u001b[0mrange\u001b[0m\u001b[1;33m(\u001b[0m\u001b[0mchains\u001b[0m\u001b[1;33m)\u001b[0m\u001b[1;33m:\u001b[0m\u001b[1;33m\u001b[0m\u001b[1;33m\u001b[0m\u001b[0m\n\u001b[0;32m    502\u001b[0m         trace = _sample(draws=draws, chain=chain + i, start=start[i],\n\u001b[1;32m--> 503\u001b[1;33m                         step=step, random_seed=random_seed[i], **kwargs)\n\u001b[0m\u001b[0;32m    504\u001b[0m         \u001b[1;32mif\u001b[0m \u001b[0mtrace\u001b[0m \u001b[1;32mis\u001b[0m \u001b[1;32mNone\u001b[0m\u001b[1;33m:\u001b[0m\u001b[1;33m\u001b[0m\u001b[1;33m\u001b[0m\u001b[0m\n\u001b[0;32m    505\u001b[0m             \u001b[1;32mif\u001b[0m \u001b[0mlen\u001b[0m\u001b[1;33m(\u001b[0m\u001b[0mtraces\u001b[0m\u001b[1;33m)\u001b[0m \u001b[1;33m==\u001b[0m \u001b[1;36m0\u001b[0m\u001b[1;33m:\u001b[0m\u001b[1;33m\u001b[0m\u001b[1;33m\u001b[0m\u001b[0m\n",
      "\u001b[1;32m~\\.julia\\conda\\3\\lib\\site-packages\\pymc3\\sampling.py\u001b[0m in \u001b[0;36m_sample\u001b[1;34m(chain, progressbar, random_seed, start, draws, step, trace, tune, model, **kwargs)\u001b[0m\n\u001b[0;32m    542\u001b[0m     \u001b[1;32mtry\u001b[0m\u001b[1;33m:\u001b[0m\u001b[1;33m\u001b[0m\u001b[1;33m\u001b[0m\u001b[0m\n\u001b[0;32m    543\u001b[0m         \u001b[0mstrace\u001b[0m \u001b[1;33m=\u001b[0m \u001b[1;32mNone\u001b[0m\u001b[1;33m\u001b[0m\u001b[1;33m\u001b[0m\u001b[0m\n\u001b[1;32m--> 544\u001b[1;33m         \u001b[1;32mfor\u001b[0m \u001b[0mit\u001b[0m\u001b[1;33m,\u001b[0m \u001b[0mstrace\u001b[0m \u001b[1;32min\u001b[0m \u001b[0menumerate\u001b[0m\u001b[1;33m(\u001b[0m\u001b[0msampling\u001b[0m\u001b[1;33m)\u001b[0m\u001b[1;33m:\u001b[0m\u001b[1;33m\u001b[0m\u001b[1;33m\u001b[0m\u001b[0m\n\u001b[0m\u001b[0;32m    545\u001b[0m             \u001b[1;32mif\u001b[0m \u001b[0mit\u001b[0m \u001b[1;33m>=\u001b[0m \u001b[0mskip_first\u001b[0m\u001b[1;33m:\u001b[0m\u001b[1;33m\u001b[0m\u001b[1;33m\u001b[0m\u001b[0m\n\u001b[0;32m    546\u001b[0m                 \u001b[0mtrace\u001b[0m \u001b[1;33m=\u001b[0m \u001b[0mMultiTrace\u001b[0m\u001b[1;33m(\u001b[0m\u001b[1;33m[\u001b[0m\u001b[0mstrace\u001b[0m\u001b[1;33m]\u001b[0m\u001b[1;33m)\u001b[0m\u001b[1;33m\u001b[0m\u001b[1;33m\u001b[0m\u001b[0m\n",
      "\u001b[1;32m~\\.julia\\conda\\3\\lib\\site-packages\\tqdm\\std.py\u001b[0m in \u001b[0;36m__iter__\u001b[1;34m(self)\u001b[0m\n\u001b[0;32m   1079\u001b[0m             \"\"\"), fp_write=getattr(self.fp, 'write', sys.stderr.write))\n\u001b[0;32m   1080\u001b[0m \u001b[1;33m\u001b[0m\u001b[0m\n\u001b[1;32m-> 1081\u001b[1;33m         \u001b[1;32mfor\u001b[0m \u001b[0mobj\u001b[0m \u001b[1;32min\u001b[0m \u001b[0miterable\u001b[0m\u001b[1;33m:\u001b[0m\u001b[1;33m\u001b[0m\u001b[1;33m\u001b[0m\u001b[0m\n\u001b[0m\u001b[0;32m   1082\u001b[0m             \u001b[1;32myield\u001b[0m \u001b[0mobj\u001b[0m\u001b[1;33m\u001b[0m\u001b[1;33m\u001b[0m\u001b[0m\n\u001b[0;32m   1083\u001b[0m             \u001b[1;31m# Update and possibly print the progressbar.\u001b[0m\u001b[1;33m\u001b[0m\u001b[1;33m\u001b[0m\u001b[1;33m\u001b[0m\u001b[0m\n",
      "\u001b[1;32m~\\.julia\\conda\\3\\lib\\site-packages\\pymc3\\sampling.py\u001b[0m in \u001b[0;36m_iter_sample\u001b[1;34m(draws, step, start, trace, chain, tune, model, random_seed)\u001b[0m\n\u001b[0;32m    631\u001b[0m                 \u001b[0mstep\u001b[0m \u001b[1;33m=\u001b[0m \u001b[0mstop_tuning\u001b[0m\u001b[1;33m(\u001b[0m\u001b[0mstep\u001b[0m\u001b[1;33m)\u001b[0m\u001b[1;33m\u001b[0m\u001b[1;33m\u001b[0m\u001b[0m\n\u001b[0;32m    632\u001b[0m             \u001b[1;32mif\u001b[0m \u001b[0mstep\u001b[0m\u001b[1;33m.\u001b[0m\u001b[0mgenerates_stats\u001b[0m\u001b[1;33m:\u001b[0m\u001b[1;33m\u001b[0m\u001b[1;33m\u001b[0m\u001b[0m\n\u001b[1;32m--> 633\u001b[1;33m                 \u001b[0mpoint\u001b[0m\u001b[1;33m,\u001b[0m \u001b[0mstates\u001b[0m \u001b[1;33m=\u001b[0m \u001b[0mstep\u001b[0m\u001b[1;33m.\u001b[0m\u001b[0mstep\u001b[0m\u001b[1;33m(\u001b[0m\u001b[0mpoint\u001b[0m\u001b[1;33m)\u001b[0m\u001b[1;33m\u001b[0m\u001b[1;33m\u001b[0m\u001b[0m\n\u001b[0m\u001b[0;32m    634\u001b[0m                 \u001b[1;32mif\u001b[0m \u001b[0mstrace\u001b[0m\u001b[1;33m.\u001b[0m\u001b[0msupports_sampler_stats\u001b[0m\u001b[1;33m:\u001b[0m\u001b[1;33m\u001b[0m\u001b[1;33m\u001b[0m\u001b[0m\n\u001b[0;32m    635\u001b[0m                     \u001b[0mstrace\u001b[0m\u001b[1;33m.\u001b[0m\u001b[0mrecord\u001b[0m\u001b[1;33m(\u001b[0m\u001b[0mpoint\u001b[0m\u001b[1;33m,\u001b[0m \u001b[0mstates\u001b[0m\u001b[1;33m)\u001b[0m\u001b[1;33m\u001b[0m\u001b[1;33m\u001b[0m\u001b[0m\n",
      "\u001b[1;32m~\\.julia\\conda\\3\\lib\\site-packages\\pymc3\\step_methods\\arraystep.py\u001b[0m in \u001b[0;36mstep\u001b[1;34m(self, point)\u001b[0m\n\u001b[0;32m    245\u001b[0m \u001b[1;33m\u001b[0m\u001b[0m\n\u001b[0;32m    246\u001b[0m         \u001b[1;32mif\u001b[0m \u001b[0mself\u001b[0m\u001b[1;33m.\u001b[0m\u001b[0mgenerates_stats\u001b[0m\u001b[1;33m:\u001b[0m\u001b[1;33m\u001b[0m\u001b[1;33m\u001b[0m\u001b[0m\n\u001b[1;32m--> 247\u001b[1;33m             \u001b[0mapoint\u001b[0m\u001b[1;33m,\u001b[0m \u001b[0mstats\u001b[0m \u001b[1;33m=\u001b[0m \u001b[0mself\u001b[0m\u001b[1;33m.\u001b[0m\u001b[0mastep\u001b[0m\u001b[1;33m(\u001b[0m\u001b[0marray\u001b[0m\u001b[1;33m)\u001b[0m\u001b[1;33m\u001b[0m\u001b[1;33m\u001b[0m\u001b[0m\n\u001b[0m\u001b[0;32m    248\u001b[0m             \u001b[0mpoint\u001b[0m \u001b[1;33m=\u001b[0m \u001b[0mself\u001b[0m\u001b[1;33m.\u001b[0m\u001b[0m_logp_dlogp_func\u001b[0m\u001b[1;33m.\u001b[0m\u001b[0marray_to_full_dict\u001b[0m\u001b[1;33m(\u001b[0m\u001b[0mapoint\u001b[0m\u001b[1;33m)\u001b[0m\u001b[1;33m\u001b[0m\u001b[1;33m\u001b[0m\u001b[0m\n\u001b[0;32m    249\u001b[0m             \u001b[1;32mreturn\u001b[0m \u001b[0mpoint\u001b[0m\u001b[1;33m,\u001b[0m \u001b[0mstats\u001b[0m\u001b[1;33m\u001b[0m\u001b[1;33m\u001b[0m\u001b[0m\n",
      "\u001b[1;32m~\\.julia\\conda\\3\\lib\\site-packages\\pymc3\\step_methods\\hmc\\base_hmc.py\u001b[0m in \u001b[0;36mastep\u001b[1;34m(self, q0)\u001b[0m\n\u001b[0;32m    142\u001b[0m             )\n\u001b[0;32m    143\u001b[0m             \u001b[0mself\u001b[0m\u001b[1;33m.\u001b[0m\u001b[0m_warnings\u001b[0m\u001b[1;33m.\u001b[0m\u001b[0mappend\u001b[0m\u001b[1;33m(\u001b[0m\u001b[0mwarning\u001b[0m\u001b[1;33m)\u001b[0m\u001b[1;33m\u001b[0m\u001b[1;33m\u001b[0m\u001b[0m\n\u001b[1;32m--> 144\u001b[1;33m             \u001b[1;32mraise\u001b[0m \u001b[0mSamplingError\u001b[0m\u001b[1;33m(\u001b[0m\u001b[1;34m\"Bad initial energy\"\u001b[0m\u001b[1;33m)\u001b[0m\u001b[1;33m\u001b[0m\u001b[1;33m\u001b[0m\u001b[0m\n\u001b[0m\u001b[0;32m    145\u001b[0m \u001b[1;33m\u001b[0m\u001b[0m\n\u001b[0;32m    146\u001b[0m         \u001b[0madapt_step\u001b[0m \u001b[1;33m=\u001b[0m \u001b[0mself\u001b[0m\u001b[1;33m.\u001b[0m\u001b[0mtune\u001b[0m \u001b[1;32mand\u001b[0m \u001b[0mself\u001b[0m\u001b[1;33m.\u001b[0m\u001b[0madapt_step_size\u001b[0m\u001b[1;33m\u001b[0m\u001b[1;33m\u001b[0m\u001b[0m\n",
      "\u001b[1;31mSamplingError\u001b[0m: Bad initial energy"
     ]
    }
   ],
   "source": [
    "with pm.Model() as model:\n",
    "    # specify glm and pass in data. The resulting linear model, its likelihood and\n",
    "    # and all its parameters are automatically added to our model.\n",
    "    pm.glm.GLM.from_formula(f, rush)\n",
    "    trace = pm.sample(250, cores=1) # draw 3000 posterior samples using NUTS sampling"
   ]
  }
 ],
 "metadata": {
  "kernelspec": {
   "display_name": "Python 3",
   "language": "python",
   "name": "python3"
  },
  "language_info": {
   "codemirror_mode": {
    "name": "ipython",
    "version": 3
   },
   "file_extension": ".py",
   "mimetype": "text/x-python",
   "name": "python",
   "nbconvert_exporter": "python",
   "pygments_lexer": "ipython3",
   "version": "3.6.9"
  }
 },
 "nbformat": 4,
 "nbformat_minor": 4
}
