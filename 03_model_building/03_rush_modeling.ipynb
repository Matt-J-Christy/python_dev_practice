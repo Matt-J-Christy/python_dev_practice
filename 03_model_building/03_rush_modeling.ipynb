{
 "cells": [
  {
   "cell_type": "markdown",
   "metadata": {},
   "source": [
    "## Modeling Rush Yards Per Game \n",
    "\n",
    "https://www.statsmodels.org/devel/mixed_linear.html\n",
    "\n",
    "https://www.statsmodels.org/devel/gam.html\n",
    "\n",
    "https://pygam.readthedocs.io/en/latest/notebooks/tour_of_pygam.html\n",
    "\n",
    "#### Modeling Framework \n",
    "    1. Fit 3 models for each type of data \n",
    "        * GAM and / or spline model - because we have panel data \n",
    "    2. Tune spline parameters \n",
    "    3. Train / test split - not cross validate \n",
    "        * work on back testing modeling framework \n",
    "    4. Output: \n",
    "        1. Prediction\n",
    "        2. A notion of variance or uncertainty for optimization \n",
    "    5. Pipeline to injest new data "
   ]
  },
  {
   "cell_type": "code",
   "execution_count": 1,
   "metadata": {},
   "outputs": [],
   "source": [
    "# %load ../api_access_snippet.py\n",
    "#import library\n",
    "import gspread \n",
    "#Service client credential from oauth2client\n",
    "from oauth2client.service_account import ServiceAccountCredentials\n",
    "# Print nicely\n",
    "import pprint\n",
    "#Create scope\n",
    "scope = ['https://spreadsheets.google.com/feeds', 'https://www.googleapis.com/auth/drive']\n",
    "#create some credential using that scope and content of startup_funding.json\n",
    "creds = ServiceAccountCredentials.from_json_keyfile_name('../quickstart/g_sheet_creds.json',scope)\n",
    "#create gspread authorize using that credential\n",
    "client = gspread.authorize(creds)\n",
    "my_email = 'matthewjchristy66@gmail.com'\n",
    "\n",
    "def read_file(sheet_name):\n",
    "    out = client.open(sheet_name).sheet1\n",
    "    out = out.get_all_values()\n",
    "    out = pd.DataFrame(out, columns = out.pop(0))\n",
    "    return(out)\n",
    "\n",
    "import pandas as pd \n",
    "import numpy as np"
   ]
  },
  {
   "cell_type": "code",
   "execution_count": 2,
   "metadata": {},
   "outputs": [],
   "source": [
    "rush = read_file('rushing_data_model_ready')"
   ]
  },
  {
   "cell_type": "code",
   "execution_count": 3,
   "metadata": {},
   "outputs": [
    {
     "data": {
      "text/html": [
       "<div>\n",
       "<style scoped>\n",
       "    .dataframe tbody tr th:only-of-type {\n",
       "        vertical-align: middle;\n",
       "    }\n",
       "\n",
       "    .dataframe tbody tr th {\n",
       "        vertical-align: top;\n",
       "    }\n",
       "\n",
       "    .dataframe thead th {\n",
       "        text-align: right;\n",
       "    }\n",
       "</style>\n",
       "<table border=\"1\" class=\"dataframe\">\n",
       "  <thead>\n",
       "    <tr style=\"text-align: right;\">\n",
       "      <th></th>\n",
       "      <th>Name</th>\n",
       "      <th>Week</th>\n",
       "      <th>Opp</th>\n",
       "      <th>Score</th>\n",
       "      <th>Att</th>\n",
       "      <th>Yds</th>\n",
       "      <th>TD</th>\n",
       "      <th>FUM</th>\n",
       "      <th>rush_fantasy_pts</th>\n",
       "      <th>total_fum</th>\n",
       "      <th>...</th>\n",
       "      <th>lag3_TD</th>\n",
       "      <th>lag3_rush_fantasy_pts</th>\n",
       "      <th>lag2_Yds</th>\n",
       "      <th>lag2_TD</th>\n",
       "      <th>lag2_rush_fantasy_pts</th>\n",
       "      <th>last_week_Yds</th>\n",
       "      <th>last_week_TD</th>\n",
       "      <th>last_week_rush_fantasy_pts</th>\n",
       "      <th>yds_ration</th>\n",
       "      <th>fantasy_pts_ratio</th>\n",
       "    </tr>\n",
       "  </thead>\n",
       "  <tbody>\n",
       "    <tr>\n",
       "      <th>0</th>\n",
       "      <td>Marlon Mack</td>\n",
       "      <td>1</td>\n",
       "      <td>@ LAC</td>\n",
       "      <td>L 24-30</td>\n",
       "      <td>25</td>\n",
       "      <td>174.0</td>\n",
       "      <td>1.0</td>\n",
       "      <td>0.0</td>\n",
       "      <td>23.4</td>\n",
       "      <td>1</td>\n",
       "      <td>...</td>\n",
       "      <td>0.5625</td>\n",
       "      <td>10.8825</td>\n",
       "      <td>75.7</td>\n",
       "      <td>0.5625</td>\n",
       "      <td>10.8825</td>\n",
       "      <td>75.7</td>\n",
       "      <td>0.5625</td>\n",
       "      <td>10.8825</td>\n",
       "      <td>1.0</td>\n",
       "      <td>1.0</td>\n",
       "    </tr>\n",
       "    <tr>\n",
       "      <th>1</th>\n",
       "      <td>Marlon Mack</td>\n",
       "      <td>2</td>\n",
       "      <td>@ TEN</td>\n",
       "      <td>W 19-17</td>\n",
       "      <td>20</td>\n",
       "      <td>51.0</td>\n",
       "      <td>0.0</td>\n",
       "      <td>0.0</td>\n",
       "      <td>5.1</td>\n",
       "      <td>1</td>\n",
       "      <td>...</td>\n",
       "      <td>0.5625</td>\n",
       "      <td>10.8825</td>\n",
       "      <td>75.7</td>\n",
       "      <td>0.5625</td>\n",
       "      <td>10.8825</td>\n",
       "      <td>174.0</td>\n",
       "      <td>1.0</td>\n",
       "      <td>23.4</td>\n",
       "      <td>1.0</td>\n",
       "      <td>1.0</td>\n",
       "    </tr>\n",
       "    <tr>\n",
       "      <th>2</th>\n",
       "      <td>Marlon Mack</td>\n",
       "      <td>3</td>\n",
       "      <td>vs ATL</td>\n",
       "      <td>W 27-24</td>\n",
       "      <td>16</td>\n",
       "      <td>74.0</td>\n",
       "      <td>1.0</td>\n",
       "      <td>0.0</td>\n",
       "      <td>13.4</td>\n",
       "      <td>1</td>\n",
       "      <td>...</td>\n",
       "      <td>0.5625</td>\n",
       "      <td>10.8825</td>\n",
       "      <td>112.5</td>\n",
       "      <td>0.5</td>\n",
       "      <td>14.25</td>\n",
       "      <td>51.0</td>\n",
       "      <td>0.0</td>\n",
       "      <td>5.1</td>\n",
       "      <td>1.486129458388375</td>\n",
       "      <td>1.3094417643004823</td>\n",
       "    </tr>\n",
       "    <tr>\n",
       "      <th>3</th>\n",
       "      <td>Marlon Mack</td>\n",
       "      <td>4</td>\n",
       "      <td>vs OAK</td>\n",
       "      <td>L 24-31</td>\n",
       "      <td>11</td>\n",
       "      <td>39.0</td>\n",
       "      <td>0.0</td>\n",
       "      <td>0.0</td>\n",
       "      <td>3.9</td>\n",
       "      <td>1</td>\n",
       "      <td>...</td>\n",
       "      <td>0.6666666666666666</td>\n",
       "      <td>13.966666666666667</td>\n",
       "      <td>62.5</td>\n",
       "      <td>0.5</td>\n",
       "      <td>9.25</td>\n",
       "      <td>74.0</td>\n",
       "      <td>1.0</td>\n",
       "      <td>13.4</td>\n",
       "      <td>0.6270903010033444</td>\n",
       "      <td>0.662291169451074</td>\n",
       "    </tr>\n",
       "    <tr>\n",
       "      <th>4</th>\n",
       "      <td>Marlon Mack</td>\n",
       "      <td>5</td>\n",
       "      <td>@ KC</td>\n",
       "      <td>W 19-13</td>\n",
       "      <td>29</td>\n",
       "      <td>132.0</td>\n",
       "      <td>0.0</td>\n",
       "      <td>0.0</td>\n",
       "      <td>13.2</td>\n",
       "      <td>1</td>\n",
       "      <td>...</td>\n",
       "      <td>0.3333333333333333</td>\n",
       "      <td>7.466666666666666</td>\n",
       "      <td>56.5</td>\n",
       "      <td>0.5</td>\n",
       "      <td>8.649999999999999</td>\n",
       "      <td>39.0</td>\n",
       "      <td>0.0</td>\n",
       "      <td>3.9</td>\n",
       "      <td>1.0335365853658538</td>\n",
       "      <td>1.1584821428571428</td>\n",
       "    </tr>\n",
       "  </tbody>\n",
       "</table>\n",
       "<p>5 rows × 21 columns</p>\n",
       "</div>"
      ],
      "text/plain": [
       "          Name Week     Opp     Score Att    Yds   TD  FUM rush_fantasy_pts  \\\n",
       "0  Marlon Mack    1   @ LAC  L 24-30   25  174.0  1.0  0.0             23.4   \n",
       "1  Marlon Mack    2   @ TEN  W 19-17   20   51.0  0.0  0.0              5.1   \n",
       "2  Marlon Mack    3  vs ATL  W 27-24   16   74.0  1.0  0.0             13.4   \n",
       "3  Marlon Mack    4  vs OAK  L 24-31   11   39.0  0.0  0.0              3.9   \n",
       "4  Marlon Mack    5    @ KC  W 19-13   29  132.0  0.0  0.0             13.2   \n",
       "\n",
       "  total_fum  ...             lag3_TD lag3_rush_fantasy_pts lag2_Yds lag2_TD  \\\n",
       "0         1  ...              0.5625               10.8825     75.7  0.5625   \n",
       "1         1  ...              0.5625               10.8825     75.7  0.5625   \n",
       "2         1  ...              0.5625               10.8825    112.5     0.5   \n",
       "3         1  ...  0.6666666666666666    13.966666666666667     62.5     0.5   \n",
       "4         1  ...  0.3333333333333333     7.466666666666666     56.5     0.5   \n",
       "\n",
       "  lag2_rush_fantasy_pts last_week_Yds last_week_TD last_week_rush_fantasy_pts  \\\n",
       "0               10.8825          75.7       0.5625                    10.8825   \n",
       "1               10.8825         174.0          1.0                       23.4   \n",
       "2                 14.25          51.0          0.0                        5.1   \n",
       "3                  9.25          74.0          1.0                       13.4   \n",
       "4     8.649999999999999          39.0          0.0                        3.9   \n",
       "\n",
       "           yds_ration   fantasy_pts_ratio  \n",
       "0                 1.0                 1.0  \n",
       "1                 1.0                 1.0  \n",
       "2   1.486129458388375  1.3094417643004823  \n",
       "3  0.6270903010033444   0.662291169451074  \n",
       "4  1.0335365853658538  1.1584821428571428  \n",
       "\n",
       "[5 rows x 21 columns]"
      ]
     },
     "execution_count": 3,
     "metadata": {},
     "output_type": "execute_result"
    }
   ],
   "source": [
    "rush.head()"
   ]
  },
  {
   "cell_type": "code",
   "execution_count": 4,
   "metadata": {},
   "outputs": [],
   "source": [
    "target = ['rush_fantasy_pts']\n",
    "last_week = ['last_week_Yds', 'last_week_TD', 'last_week_rush_fantasy_pts']\n",
    "inputs = ['yds_ration', 'fantasy_pts_ratio', 'lag2_Yds', 'lag2_rush_fantasy_pts', 'lag2_TD']"
   ]
  },
  {
   "cell_type": "code",
   "execution_count": 5,
   "metadata": {},
   "outputs": [],
   "source": [
    "rush = rush.replace('na', np.NaN);\n",
    "fix_vars = target + last_week + inputs\n",
    "rush[fix_vars] = rush[fix_vars].astype(float)\n",
    "rush.loc[rush.rush_fantasy_pts < 0, 'rush_fantasy_pts'] = 0"
   ]
  },
  {
   "cell_type": "code",
   "execution_count": 6,
   "metadata": {},
   "outputs": [],
   "source": [
    "rush['log1p_target'] = np.log1p(rush.rush_fantasy_pts + 1)"
   ]
  },
  {
   "cell_type": "code",
   "execution_count": 7,
   "metadata": {},
   "outputs": [
    {
     "data": {
      "text/plain": [
       "Name                           object\n",
       "Week                           object\n",
       "Opp                            object\n",
       "Score                          object\n",
       "Att                            object\n",
       "Yds                            object\n",
       "TD                             object\n",
       "FUM                            object\n",
       "rush_fantasy_pts              float64\n",
       "total_fum                      object\n",
       "lag3_Yds                       object\n",
       "lag3_TD                        object\n",
       "lag3_rush_fantasy_pts          object\n",
       "lag2_Yds                      float64\n",
       "lag2_TD                       float64\n",
       "lag2_rush_fantasy_pts         float64\n",
       "last_week_Yds                 float64\n",
       "last_week_TD                  float64\n",
       "last_week_rush_fantasy_pts    float64\n",
       "yds_ration                    float64\n",
       "fantasy_pts_ratio             float64\n",
       "log1p_target                  float64\n",
       "dtype: object"
      ]
     },
     "execution_count": 7,
     "metadata": {},
     "output_type": "execute_result"
    }
   ],
   "source": [
    "rush.dtypes"
   ]
  },
  {
   "cell_type": "markdown",
   "metadata": {},
   "source": [
    "### Fitting GAM"
   ]
  },
  {
   "cell_type": "code",
   "execution_count": 15,
   "metadata": {},
   "outputs": [],
   "source": [
    "#importing statsmodels packages\n",
    "import statsmodels.api as sm\n",
    "\n",
    "from statsmodels.gam.api import GLMGam, BSplines, CyclicCubicSplines\n",
    "\n",
    "import statsmodels.formula.api as smf"
   ]
  },
  {
   "cell_type": "code",
   "execution_count": 25,
   "metadata": {},
   "outputs": [],
   "source": [
    "x_list = inputs + last_week\n",
    "f = 'log1p_target ~ last_week_rush_fantasy_pts + last_week_TD + last_week_Yds + yds_ration + fantasy_pts_ratio + lag2_Yds + lag2_TD + lag2_rush_fantasy_pts'"
   ]
  },
  {
   "cell_type": "code",
   "execution_count": 31,
   "metadata": {},
   "outputs": [],
   "source": [
    "complexity = 2\n",
    "num_vars = len(x_list)\n",
    "\n",
    "df_iter = np.repeat(complexity, num_vars)\n",
    "degrees = np.repeat(complexity - 1, num_vars)"
   ]
  },
  {
   "cell_type": "code",
   "execution_count": 32,
   "metadata": {},
   "outputs": [
    {
     "ename": "ValueError",
     "evalue": "0<=der=2<=k=1 must hold",
     "output_type": "error",
     "traceback": [
      "\u001b[1;31m---------------------------------------------------------------------------\u001b[0m",
      "\u001b[1;31mValueError\u001b[0m                                Traceback (most recent call last)",
      "\u001b[1;32m<ipython-input-32-2c713e3f12c4>\u001b[0m in \u001b[0;36m<module>\u001b[1;34m\u001b[0m\n\u001b[0;32m      1\u001b[0m \u001b[0mx_spline\u001b[0m \u001b[1;33m=\u001b[0m \u001b[0mrush\u001b[0m\u001b[1;33m[\u001b[0m\u001b[0mx_list\u001b[0m\u001b[1;33m]\u001b[0m\u001b[1;33m\u001b[0m\u001b[1;33m\u001b[0m\u001b[0m\n\u001b[1;32m----> 2\u001b[1;33m \u001b[0mbs\u001b[0m \u001b[1;33m=\u001b[0m \u001b[0mBSplines\u001b[0m\u001b[1;33m(\u001b[0m\u001b[0mx_spline\u001b[0m\u001b[1;33m,\u001b[0m \u001b[0mdf\u001b[0m \u001b[1;33m=\u001b[0m \u001b[0mdf_iter\u001b[0m\u001b[1;33m,\u001b[0m \u001b[0mdegree\u001b[0m \u001b[1;33m=\u001b[0m \u001b[0mdegrees\u001b[0m\u001b[1;33m)\u001b[0m\u001b[1;33m\u001b[0m\u001b[1;33m\u001b[0m\u001b[0m\n\u001b[0m\u001b[0;32m      3\u001b[0m \u001b[0mcs\u001b[0m \u001b[1;33m=\u001b[0m \u001b[0mCyclicCubicSplines\u001b[0m\u001b[1;33m(\u001b[0m\u001b[0mx_spline\u001b[0m\u001b[1;33m,\u001b[0m \u001b[0mdf\u001b[0m \u001b[1;33m=\u001b[0m \u001b[0mdf_iter\u001b[0m\u001b[1;33m)\u001b[0m\u001b[1;33m\u001b[0m\u001b[1;33m\u001b[0m\u001b[0m\n",
      "\u001b[1;32m~\\.julia\\conda\\3\\lib\\site-packages\\statsmodels\\gam\\smooth_basis.py\u001b[0m in \u001b[0;36m__init__\u001b[1;34m(self, x, df, degree, include_intercept, constraints, variable_names, knot_kwds)\u001b[0m\n\u001b[0;32m    917\u001b[0m \u001b[1;33m\u001b[0m\u001b[0m\n\u001b[0;32m    918\u001b[0m         super(BSplines, self).__init__(x, include_intercept=include_intercept,\n\u001b[1;32m--> 919\u001b[1;33m                                        variable_names=variable_names)\n\u001b[0m\u001b[0;32m    920\u001b[0m \u001b[1;33m\u001b[0m\u001b[0m\n\u001b[0;32m    921\u001b[0m     \u001b[1;32mdef\u001b[0m \u001b[0m_make_smoothers_list\u001b[0m\u001b[1;33m(\u001b[0m\u001b[0mself\u001b[0m\u001b[1;33m)\u001b[0m\u001b[1;33m:\u001b[0m\u001b[1;33m\u001b[0m\u001b[1;33m\u001b[0m\u001b[0m\n",
      "\u001b[1;32m~\\.julia\\conda\\3\\lib\\site-packages\\statsmodels\\gam\\smooth_basis.py\u001b[0m in \u001b[0;36m__init__\u001b[1;34m(self, x, variable_names, include_intercept, **kwargs)\u001b[0m\n\u001b[0;32m    752\u001b[0m             \u001b[0mself\u001b[0m\u001b[1;33m.\u001b[0m\u001b[0mvariable_names\u001b[0m \u001b[1;33m=\u001b[0m \u001b[0mvariable_names\u001b[0m\u001b[1;33m\u001b[0m\u001b[1;33m\u001b[0m\u001b[0m\n\u001b[0;32m    753\u001b[0m \u001b[1;33m\u001b[0m\u001b[0m\n\u001b[1;32m--> 754\u001b[1;33m         \u001b[0mself\u001b[0m\u001b[1;33m.\u001b[0m\u001b[0msmoothers\u001b[0m \u001b[1;33m=\u001b[0m \u001b[0mself\u001b[0m\u001b[1;33m.\u001b[0m\u001b[0m_make_smoothers_list\u001b[0m\u001b[1;33m(\u001b[0m\u001b[1;33m)\u001b[0m\u001b[1;33m\u001b[0m\u001b[1;33m\u001b[0m\u001b[0m\n\u001b[0m\u001b[0;32m    755\u001b[0m         self.basis = np.hstack(list(smoother.basis\n\u001b[0;32m    756\u001b[0m                                for smoother in self.smoothers))\n",
      "\u001b[1;32m~\\.julia\\conda\\3\\lib\\site-packages\\statsmodels\\gam\\smooth_basis.py\u001b[0m in \u001b[0;36m_make_smoothers_list\u001b[1;34m(self)\u001b[0m\n\u001b[0;32m    928\u001b[0m                 \u001b[0minclude_intercept\u001b[0m\u001b[1;33m=\u001b[0m\u001b[0mself\u001b[0m\u001b[1;33m.\u001b[0m\u001b[0minclude_intercept\u001b[0m\u001b[1;33m[\u001b[0m\u001b[0mv\u001b[0m\u001b[1;33m]\u001b[0m\u001b[1;33m,\u001b[0m\u001b[1;33m\u001b[0m\u001b[1;33m\u001b[0m\u001b[0m\n\u001b[0;32m    929\u001b[0m                 \u001b[0mconstraints\u001b[0m\u001b[1;33m=\u001b[0m\u001b[0mself\u001b[0m\u001b[1;33m.\u001b[0m\u001b[0mconstraints\u001b[0m\u001b[1;33m,\u001b[0m\u001b[1;33m\u001b[0m\u001b[1;33m\u001b[0m\u001b[0m\n\u001b[1;32m--> 930\u001b[1;33m                 variable_name=self.variable_names[v], **kwds)\n\u001b[0m\u001b[0;32m    931\u001b[0m             \u001b[0msmoothers\u001b[0m\u001b[1;33m.\u001b[0m\u001b[0mappend\u001b[0m\u001b[1;33m(\u001b[0m\u001b[0muv_smoother\u001b[0m\u001b[1;33m)\u001b[0m\u001b[1;33m\u001b[0m\u001b[1;33m\u001b[0m\u001b[0m\n\u001b[0;32m    932\u001b[0m \u001b[1;33m\u001b[0m\u001b[0m\n",
      "\u001b[1;32m~\\.julia\\conda\\3\\lib\\site-packages\\statsmodels\\gam\\smooth_basis.py\u001b[0m in \u001b[0;36m__init__\u001b[1;34m(self, x, df, degree, include_intercept, constraints, variable_name, covder2_kwds, **knot_kwds)\u001b[0m\n\u001b[0;32m    456\u001b[0m                              else {})\n\u001b[0;32m    457\u001b[0m         super(UnivariateBSplines, self).__init__(\n\u001b[1;32m--> 458\u001b[1;33m             x, constraints=constraints, variable_name=variable_name)\n\u001b[0m\u001b[0;32m    459\u001b[0m \u001b[1;33m\u001b[0m\u001b[0m\n\u001b[0;32m    460\u001b[0m     \u001b[1;32mdef\u001b[0m \u001b[0m_smooth_basis_for_single_variable\u001b[0m\u001b[1;33m(\u001b[0m\u001b[0mself\u001b[0m\u001b[1;33m)\u001b[0m\u001b[1;33m:\u001b[0m\u001b[1;33m\u001b[0m\u001b[1;33m\u001b[0m\u001b[0m\n",
      "\u001b[1;32m~\\.julia\\conda\\3\\lib\\site-packages\\statsmodels\\gam\\smooth_basis.py\u001b[0m in \u001b[0;36m__init__\u001b[1;34m(self, x, constraints, variable_name)\u001b[0m\n\u001b[0;32m    310\u001b[0m         \u001b[0mself\u001b[0m\u001b[1;33m.\u001b[0m\u001b[0mnobs\u001b[0m\u001b[1;33m,\u001b[0m \u001b[0mself\u001b[0m\u001b[1;33m.\u001b[0m\u001b[0mk_variables\u001b[0m \u001b[1;33m=\u001b[0m \u001b[0mlen\u001b[0m\u001b[1;33m(\u001b[0m\u001b[0mx\u001b[0m\u001b[1;33m)\u001b[0m\u001b[1;33m,\u001b[0m \u001b[1;36m1\u001b[0m\u001b[1;33m\u001b[0m\u001b[1;33m\u001b[0m\u001b[0m\n\u001b[0;32m    311\u001b[0m \u001b[1;33m\u001b[0m\u001b[0m\n\u001b[1;32m--> 312\u001b[1;33m         \u001b[0mbase4\u001b[0m \u001b[1;33m=\u001b[0m \u001b[0mself\u001b[0m\u001b[1;33m.\u001b[0m\u001b[0m_smooth_basis_for_single_variable\u001b[0m\u001b[1;33m(\u001b[0m\u001b[1;33m)\u001b[0m\u001b[1;33m\u001b[0m\u001b[1;33m\u001b[0m\u001b[0m\n\u001b[0m\u001b[0;32m    313\u001b[0m         \u001b[1;32mif\u001b[0m \u001b[0mconstraints\u001b[0m \u001b[1;33m==\u001b[0m \u001b[1;34m'center'\u001b[0m\u001b[1;33m:\u001b[0m\u001b[1;33m\u001b[0m\u001b[1;33m\u001b[0m\u001b[0m\n\u001b[0;32m    314\u001b[0m             \u001b[0mconstraints\u001b[0m \u001b[1;33m=\u001b[0m \u001b[0mbase4\u001b[0m\u001b[1;33m[\u001b[0m\u001b[1;36m0\u001b[0m\u001b[1;33m]\u001b[0m\u001b[1;33m.\u001b[0m\u001b[0mmean\u001b[0m\u001b[1;33m(\u001b[0m\u001b[1;36m0\u001b[0m\u001b[1;33m)\u001b[0m\u001b[1;33m[\u001b[0m\u001b[1;32mNone\u001b[0m\u001b[1;33m,\u001b[0m \u001b[1;33m:\u001b[0m\u001b[1;33m]\u001b[0m\u001b[1;33m\u001b[0m\u001b[1;33m\u001b[0m\u001b[0m\n",
      "\u001b[1;32m~\\.julia\\conda\\3\\lib\\site-packages\\statsmodels\\gam\\smooth_basis.py\u001b[0m in \u001b[0;36m_smooth_basis_for_single_variable\u001b[1;34m(self)\u001b[0m\n\u001b[0;32m    461\u001b[0m         basis, der_basis, der2_basis = _eval_bspline_basis(\n\u001b[0;32m    462\u001b[0m             \u001b[0mself\u001b[0m\u001b[1;33m.\u001b[0m\u001b[0mx\u001b[0m\u001b[1;33m,\u001b[0m \u001b[0mself\u001b[0m\u001b[1;33m.\u001b[0m\u001b[0mknots\u001b[0m\u001b[1;33m,\u001b[0m \u001b[0mself\u001b[0m\u001b[1;33m.\u001b[0m\u001b[0mdegree\u001b[0m\u001b[1;33m,\u001b[0m\u001b[1;33m\u001b[0m\u001b[1;33m\u001b[0m\u001b[0m\n\u001b[1;32m--> 463\u001b[1;33m             include_intercept=self.include_intercept)\n\u001b[0m\u001b[0;32m    464\u001b[0m         \u001b[1;31m# cov_der2 = np.dot(der2_basis.T, der2_basis)\u001b[0m\u001b[1;33m\u001b[0m\u001b[1;33m\u001b[0m\u001b[1;33m\u001b[0m\u001b[0m\n\u001b[0;32m    465\u001b[0m \u001b[1;33m\u001b[0m\u001b[0m\n",
      "\u001b[1;32m~\\.julia\\conda\\3\\lib\\site-packages\\statsmodels\\gam\\smooth_basis.py\u001b[0m in \u001b[0;36m_eval_bspline_basis\u001b[1;34m(x, knots, degree, deriv, include_intercept)\u001b[0m\n\u001b[0;32m    102\u001b[0m             \u001b[0mder1_basis\u001b[0m\u001b[1;33m[\u001b[0m\u001b[1;33m:\u001b[0m\u001b[1;33m,\u001b[0m \u001b[0mii\u001b[0m\u001b[1;33m]\u001b[0m \u001b[1;33m=\u001b[0m \u001b[0msplev\u001b[0m\u001b[1;33m(\u001b[0m\u001b[0mx\u001b[0m\u001b[1;33m,\u001b[0m \u001b[1;33m(\u001b[0m\u001b[0mknots\u001b[0m\u001b[1;33m,\u001b[0m \u001b[0mcoefs\u001b[0m\u001b[1;33m,\u001b[0m \u001b[0mdegree\u001b[0m\u001b[1;33m)\u001b[0m\u001b[1;33m,\u001b[0m \u001b[0mder\u001b[0m\u001b[1;33m=\u001b[0m\u001b[1;36m1\u001b[0m\u001b[1;33m)\u001b[0m\u001b[1;33m\u001b[0m\u001b[1;33m\u001b[0m\u001b[0m\n\u001b[0;32m    103\u001b[0m         \u001b[1;32mif\u001b[0m \u001b[0mderiv\u001b[0m \u001b[1;32min\u001b[0m \u001b[1;33m[\u001b[0m\u001b[1;34m'all'\u001b[0m\u001b[1;33m,\u001b[0m \u001b[1;36m2\u001b[0m\u001b[1;33m]\u001b[0m\u001b[1;33m:\u001b[0m\u001b[1;33m\u001b[0m\u001b[1;33m\u001b[0m\u001b[0m\n\u001b[1;32m--> 104\u001b[1;33m             \u001b[0mder2_basis\u001b[0m\u001b[1;33m[\u001b[0m\u001b[1;33m:\u001b[0m\u001b[1;33m,\u001b[0m \u001b[0mii\u001b[0m\u001b[1;33m]\u001b[0m \u001b[1;33m=\u001b[0m \u001b[0msplev\u001b[0m\u001b[1;33m(\u001b[0m\u001b[0mx\u001b[0m\u001b[1;33m,\u001b[0m \u001b[1;33m(\u001b[0m\u001b[0mknots\u001b[0m\u001b[1;33m,\u001b[0m \u001b[0mcoefs\u001b[0m\u001b[1;33m,\u001b[0m \u001b[0mdegree\u001b[0m\u001b[1;33m)\u001b[0m\u001b[1;33m,\u001b[0m \u001b[0mder\u001b[0m\u001b[1;33m=\u001b[0m\u001b[1;36m2\u001b[0m\u001b[1;33m)\u001b[0m\u001b[1;33m\u001b[0m\u001b[1;33m\u001b[0m\u001b[0m\n\u001b[0m\u001b[0;32m    105\u001b[0m \u001b[1;33m\u001b[0m\u001b[0m\n\u001b[0;32m    106\u001b[0m     \u001b[1;32mif\u001b[0m \u001b[0mderiv\u001b[0m \u001b[1;33m==\u001b[0m \u001b[1;34m'all'\u001b[0m\u001b[1;33m:\u001b[0m\u001b[1;33m\u001b[0m\u001b[1;33m\u001b[0m\u001b[0m\n",
      "\u001b[1;32m~\\.julia\\conda\\3\\lib\\site-packages\\scipy\\interpolate\\fitpack.py\u001b[0m in \u001b[0;36msplev\u001b[1;34m(x, tck, der, ext)\u001b[0m\n\u001b[0;32m    366\u001b[0m         \u001b[1;32mreturn\u001b[0m \u001b[0mtck\u001b[0m\u001b[1;33m(\u001b[0m\u001b[0mx\u001b[0m\u001b[1;33m,\u001b[0m \u001b[0mder\u001b[0m\u001b[1;33m,\u001b[0m \u001b[0mextrapolate\u001b[0m\u001b[1;33m=\u001b[0m\u001b[0mextrapolate\u001b[0m\u001b[1;33m)\u001b[0m\u001b[1;33m\u001b[0m\u001b[1;33m\u001b[0m\u001b[0m\n\u001b[0;32m    367\u001b[0m     \u001b[1;32melse\u001b[0m\u001b[1;33m:\u001b[0m\u001b[1;33m\u001b[0m\u001b[1;33m\u001b[0m\u001b[0m\n\u001b[1;32m--> 368\u001b[1;33m         \u001b[1;32mreturn\u001b[0m \u001b[0m_impl\u001b[0m\u001b[1;33m.\u001b[0m\u001b[0msplev\u001b[0m\u001b[1;33m(\u001b[0m\u001b[0mx\u001b[0m\u001b[1;33m,\u001b[0m \u001b[0mtck\u001b[0m\u001b[1;33m,\u001b[0m \u001b[0mder\u001b[0m\u001b[1;33m,\u001b[0m \u001b[0mext\u001b[0m\u001b[1;33m)\u001b[0m\u001b[1;33m\u001b[0m\u001b[1;33m\u001b[0m\u001b[0m\n\u001b[0m\u001b[0;32m    369\u001b[0m \u001b[1;33m\u001b[0m\u001b[0m\n\u001b[0;32m    370\u001b[0m \u001b[1;33m\u001b[0m\u001b[0m\n",
      "\u001b[1;32m~\\.julia\\conda\\3\\lib\\site-packages\\scipy\\interpolate\\_fitpack_impl.py\u001b[0m in \u001b[0;36msplev\u001b[1;34m(x, tck, der, ext)\u001b[0m\n\u001b[0;32m    589\u001b[0m     \u001b[1;32melse\u001b[0m\u001b[1;33m:\u001b[0m\u001b[1;33m\u001b[0m\u001b[1;33m\u001b[0m\u001b[0m\n\u001b[0;32m    590\u001b[0m         \u001b[1;32mif\u001b[0m \u001b[1;32mnot\u001b[0m \u001b[1;33m(\u001b[0m\u001b[1;36m0\u001b[0m \u001b[1;33m<=\u001b[0m \u001b[0mder\u001b[0m \u001b[1;33m<=\u001b[0m \u001b[0mk\u001b[0m\u001b[1;33m)\u001b[0m\u001b[1;33m:\u001b[0m\u001b[1;33m\u001b[0m\u001b[1;33m\u001b[0m\u001b[0m\n\u001b[1;32m--> 591\u001b[1;33m             \u001b[1;32mraise\u001b[0m \u001b[0mValueError\u001b[0m\u001b[1;33m(\u001b[0m\u001b[1;34m\"0<=der=%d<=k=%d must hold\"\u001b[0m \u001b[1;33m%\u001b[0m \u001b[1;33m(\u001b[0m\u001b[0mder\u001b[0m\u001b[1;33m,\u001b[0m \u001b[0mk\u001b[0m\u001b[1;33m)\u001b[0m\u001b[1;33m)\u001b[0m\u001b[1;33m\u001b[0m\u001b[1;33m\u001b[0m\u001b[0m\n\u001b[0m\u001b[0;32m    592\u001b[0m         \u001b[1;32mif\u001b[0m \u001b[0mext\u001b[0m \u001b[1;32mnot\u001b[0m \u001b[1;32min\u001b[0m \u001b[1;33m(\u001b[0m\u001b[1;36m0\u001b[0m\u001b[1;33m,\u001b[0m \u001b[1;36m1\u001b[0m\u001b[1;33m,\u001b[0m \u001b[1;36m2\u001b[0m\u001b[1;33m,\u001b[0m \u001b[1;36m3\u001b[0m\u001b[1;33m)\u001b[0m\u001b[1;33m:\u001b[0m\u001b[1;33m\u001b[0m\u001b[1;33m\u001b[0m\u001b[0m\n\u001b[0;32m    593\u001b[0m             \u001b[1;32mraise\u001b[0m \u001b[0mValueError\u001b[0m\u001b[1;33m(\u001b[0m\u001b[1;34m\"ext = %s not in (0, 1, 2, 3) \"\u001b[0m \u001b[1;33m%\u001b[0m \u001b[0mext\u001b[0m\u001b[1;33m)\u001b[0m\u001b[1;33m\u001b[0m\u001b[1;33m\u001b[0m\u001b[0m\n",
      "\u001b[1;31mValueError\u001b[0m: 0<=der=2<=k=1 must hold"
     ]
    }
   ],
   "source": [
    "x_spline = rush[x_list]\n",
    "bs = BSplines(x_spline, df = df_iter, degree = degrees)\n",
    "cs = CyclicCubicSplines(x_spline, df = df_iter)"
   ]
  },
  {
   "cell_type": "code",
   "execution_count": null,
   "metadata": {},
   "outputs": [],
   "source": [
    "pass_gam = GLMGam.from_formula(f, data = pass_mdl_data, smoother = cs, family=sm.families.Gaussian())"
   ]
  },
  {
   "cell_type": "markdown",
   "metadata": {},
   "source": [
    "## Going the Bayesian Route \n",
    "\n",
    "https://docs.pymc.io/notebooks/GLM-linear.html"
   ]
  },
  {
   "cell_type": "code",
   "execution_count": 8,
   "metadata": {},
   "outputs": [],
   "source": [
    "import pymc3 as pm\n",
    "f = 'log1p_target ~ last_week_rush_fantasy_pts + last_week_TD + last_week_Yds + yds_ration + fantasy_pts_ratio + lag2_Yds + lag2_TD + lag2_rush_fantasy_pts'"
   ]
  },
  {
   "cell_type": "code",
   "execution_count": 11,
   "metadata": {},
   "outputs": [
    {
     "ename": "NameError",
     "evalue": "name 'sample' is not defined",
     "output_type": "error",
     "traceback": [
      "\u001b[1;31m---------------------------------------------------------------------------\u001b[0m",
      "\u001b[1;31mNameError\u001b[0m                                 Traceback (most recent call last)",
      "\u001b[1;32m<ipython-input-11-68434501180f>\u001b[0m in \u001b[0;36m<module>\u001b[1;34m\u001b[0m\n\u001b[0;32m      3\u001b[0m     \u001b[1;31m# and all its parameters are automatically added to our model.\u001b[0m\u001b[1;33m\u001b[0m\u001b[1;33m\u001b[0m\u001b[1;33m\u001b[0m\u001b[0m\n\u001b[0;32m      4\u001b[0m     \u001b[0mpm\u001b[0m\u001b[1;33m.\u001b[0m\u001b[0mglm\u001b[0m\u001b[1;33m.\u001b[0m\u001b[0mGLM\u001b[0m\u001b[1;33m.\u001b[0m\u001b[0mfrom_formula\u001b[0m\u001b[1;33m(\u001b[0m\u001b[0mf\u001b[0m\u001b[1;33m,\u001b[0m \u001b[0mrush\u001b[0m\u001b[1;33m)\u001b[0m\u001b[1;33m\u001b[0m\u001b[1;33m\u001b[0m\u001b[0m\n\u001b[1;32m----> 5\u001b[1;33m     \u001b[0mtrace\u001b[0m \u001b[1;33m=\u001b[0m \u001b[0msample\u001b[0m\u001b[1;33m(\u001b[0m\u001b[1;36m1000\u001b[0m\u001b[1;33m,\u001b[0m \u001b[0mcores\u001b[0m\u001b[1;33m=\u001b[0m\u001b[1;36m3\u001b[0m\u001b[1;33m)\u001b[0m \u001b[1;31m# draw 3000 posterior samples using NUTS sampling\u001b[0m\u001b[1;33m\u001b[0m\u001b[1;33m\u001b[0m\u001b[0m\n\u001b[0m",
      "\u001b[1;31mNameError\u001b[0m: name 'sample' is not defined"
     ]
    }
   ],
   "source": [
    "with pm.Model() as model:\n",
    "    # specify glm and pass in data. The resulting linear model, its likelihood and\n",
    "    # and all its parameters are automatically added to our model.\n",
    "    pm.glm.GLM.from_formula(f, rush)\n",
    "    trace = p,sample(1000, cores=3) # draw 3000 posterior samples using NUTS sampling"
   ]
  }
 ],
 "metadata": {
  "kernelspec": {
   "display_name": "Python 3",
   "language": "python",
   "name": "python3"
  },
  "language_info": {
   "codemirror_mode": {
    "name": "ipython",
    "version": 3
   },
   "file_extension": ".py",
   "mimetype": "text/x-python",
   "name": "python",
   "nbconvert_exporter": "python",
   "pygments_lexer": "ipython3",
   "version": "3.6.9"
  }
 },
 "nbformat": 4,
 "nbformat_minor": 4
}
