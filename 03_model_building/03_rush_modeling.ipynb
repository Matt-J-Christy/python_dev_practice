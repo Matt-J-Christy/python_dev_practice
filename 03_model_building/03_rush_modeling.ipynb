{
 "cells": [
  {
   "cell_type": "markdown",
   "metadata": {},
   "source": [
    "## Modeling Rush Yards Per Game \n",
    "\n",
    "https://www.statsmodels.org/devel/mixed_linear.html\n",
    "\n",
    "https://www.statsmodels.org/devel/gam.html\n",
    "\n",
    "https://pygam.readthedocs.io/en/latest/notebooks/tour_of_pygam.html\n",
    "\n",
    "#### Modeling Framework \n",
    "    1. Fit 3 models for each type of data \n",
    "        * GAM and / or spline model - because we have panel data \n",
    "    2. Tune spline parameters \n",
    "    3. Train / test split - not cross validate \n",
    "        * work on back testing modeling framework \n",
    "    4. Output: \n",
    "        1. Prediction\n",
    "        2. A notion of variance or uncertainty for optimization \n",
    "    5. Pipeline to injest new data "
   ]
  },
  {
   "cell_type": "code",
   "execution_count": 1,
   "metadata": {},
   "outputs": [],
   "source": [
    "# %load ../api_access_snippet.py\n",
    "#import library\n",
    "import gspread \n",
    "#Service client credential from oauth2client\n",
    "from oauth2client.service_account import ServiceAccountCredentials\n",
    "# Print nicely\n",
    "import pprint\n",
    "#Create scope\n",
    "scope = ['https://spreadsheets.google.com/feeds', 'https://www.googleapis.com/auth/drive']\n",
    "#create some credential using that scope and content of startup_funding.json\n",
    "creds = ServiceAccountCredentials.from_json_keyfile_name('../quickstart/g_sheet_creds.json',scope)\n",
    "#create gspread authorize using that credential\n",
    "client = gspread.authorize(creds)\n",
    "my_email = 'matthewjchristy66@gmail.com'\n",
    "\n",
    "def read_file(sheet_name):\n",
    "    out = client.open(sheet_name).sheet1\n",
    "    out = out.get_all_values()\n",
    "    out = pd.DataFrame(out, columns = out.pop(0))\n",
    "    return(out)\n",
    "\n",
    "import pandas as pd \n",
    "import numpy as np"
   ]
  },
  {
   "cell_type": "code",
   "execution_count": 2,
   "metadata": {},
   "outputs": [],
   "source": [
    "rush = read_file('rushing_data_model_ready')"
   ]
  },
  {
   "cell_type": "code",
   "execution_count": 3,
   "metadata": {},
   "outputs": [
    {
     "data": {
      "text/html": [
       "<div>\n",
       "<style scoped>\n",
       "    .dataframe tbody tr th:only-of-type {\n",
       "        vertical-align: middle;\n",
       "    }\n",
       "\n",
       "    .dataframe tbody tr th {\n",
       "        vertical-align: top;\n",
       "    }\n",
       "\n",
       "    .dataframe thead th {\n",
       "        text-align: right;\n",
       "    }\n",
       "</style>\n",
       "<table border=\"1\" class=\"dataframe\">\n",
       "  <thead>\n",
       "    <tr style=\"text-align: right;\">\n",
       "      <th></th>\n",
       "      <th>Name</th>\n",
       "      <th>Week</th>\n",
       "      <th>Opp</th>\n",
       "      <th>Score</th>\n",
       "      <th>Att</th>\n",
       "      <th>Yds</th>\n",
       "      <th>TD</th>\n",
       "      <th>FUM</th>\n",
       "      <th>rush_fantasy_pts</th>\n",
       "      <th>total_fum</th>\n",
       "      <th>...</th>\n",
       "      <th>lag3_TD</th>\n",
       "      <th>lag3_rush_fantasy_pts</th>\n",
       "      <th>lag2_Yds</th>\n",
       "      <th>lag2_TD</th>\n",
       "      <th>lag2_rush_fantasy_pts</th>\n",
       "      <th>last_week_Yds</th>\n",
       "      <th>last_week_TD</th>\n",
       "      <th>last_week_rush_fantasy_pts</th>\n",
       "      <th>yds_ratio</th>\n",
       "      <th>fantasy_pts_ratio</th>\n",
       "    </tr>\n",
       "  </thead>\n",
       "  <tbody>\n",
       "    <tr>\n",
       "      <th>0</th>\n",
       "      <td>Marlon Mack</td>\n",
       "      <td>1</td>\n",
       "      <td>@ LAC</td>\n",
       "      <td>L 24-30</td>\n",
       "      <td>25</td>\n",
       "      <td>174.0</td>\n",
       "      <td>1.0</td>\n",
       "      <td>0.0</td>\n",
       "      <td>23.4</td>\n",
       "      <td>1</td>\n",
       "      <td>...</td>\n",
       "      <td>0.5625</td>\n",
       "      <td>10.8825</td>\n",
       "      <td>75.7</td>\n",
       "      <td>0.5625</td>\n",
       "      <td>10.8825</td>\n",
       "      <td>75.7</td>\n",
       "      <td>0.5625</td>\n",
       "      <td>10.8825</td>\n",
       "      <td>1.0</td>\n",
       "      <td>1.0</td>\n",
       "    </tr>\n",
       "    <tr>\n",
       "      <th>1</th>\n",
       "      <td>Marlon Mack</td>\n",
       "      <td>2</td>\n",
       "      <td>@ TEN</td>\n",
       "      <td>W 19-17</td>\n",
       "      <td>20</td>\n",
       "      <td>51.0</td>\n",
       "      <td>0.0</td>\n",
       "      <td>0.0</td>\n",
       "      <td>5.1</td>\n",
       "      <td>1</td>\n",
       "      <td>...</td>\n",
       "      <td>0.5625</td>\n",
       "      <td>10.8825</td>\n",
       "      <td>75.7</td>\n",
       "      <td>0.5625</td>\n",
       "      <td>10.8825</td>\n",
       "      <td>174.0</td>\n",
       "      <td>1.0</td>\n",
       "      <td>23.4</td>\n",
       "      <td>1.0</td>\n",
       "      <td>1.0</td>\n",
       "    </tr>\n",
       "    <tr>\n",
       "      <th>2</th>\n",
       "      <td>Marlon Mack</td>\n",
       "      <td>3</td>\n",
       "      <td>vs ATL</td>\n",
       "      <td>W 27-24</td>\n",
       "      <td>16</td>\n",
       "      <td>74.0</td>\n",
       "      <td>1.0</td>\n",
       "      <td>0.0</td>\n",
       "      <td>13.4</td>\n",
       "      <td>1</td>\n",
       "      <td>...</td>\n",
       "      <td>0.5625</td>\n",
       "      <td>10.8825</td>\n",
       "      <td>112.5</td>\n",
       "      <td>0.5</td>\n",
       "      <td>14.25</td>\n",
       "      <td>51.0</td>\n",
       "      <td>0.0</td>\n",
       "      <td>5.1</td>\n",
       "      <td>1.486129458388375</td>\n",
       "      <td>1.3094417643004823</td>\n",
       "    </tr>\n",
       "    <tr>\n",
       "      <th>3</th>\n",
       "      <td>Marlon Mack</td>\n",
       "      <td>4</td>\n",
       "      <td>vs OAK</td>\n",
       "      <td>L 24-31</td>\n",
       "      <td>11</td>\n",
       "      <td>39.0</td>\n",
       "      <td>0.0</td>\n",
       "      <td>0.0</td>\n",
       "      <td>3.9</td>\n",
       "      <td>1</td>\n",
       "      <td>...</td>\n",
       "      <td>0.6666666666666666</td>\n",
       "      <td>13.966666666666667</td>\n",
       "      <td>62.5</td>\n",
       "      <td>0.5</td>\n",
       "      <td>9.25</td>\n",
       "      <td>74.0</td>\n",
       "      <td>1.0</td>\n",
       "      <td>13.4</td>\n",
       "      <td>0.6270903010033444</td>\n",
       "      <td>0.662291169451074</td>\n",
       "    </tr>\n",
       "    <tr>\n",
       "      <th>4</th>\n",
       "      <td>Marlon Mack</td>\n",
       "      <td>5</td>\n",
       "      <td>@ KC</td>\n",
       "      <td>W 19-13</td>\n",
       "      <td>29</td>\n",
       "      <td>132.0</td>\n",
       "      <td>0.0</td>\n",
       "      <td>0.0</td>\n",
       "      <td>13.2</td>\n",
       "      <td>1</td>\n",
       "      <td>...</td>\n",
       "      <td>0.3333333333333333</td>\n",
       "      <td>7.466666666666666</td>\n",
       "      <td>56.5</td>\n",
       "      <td>0.5</td>\n",
       "      <td>8.649999999999999</td>\n",
       "      <td>39.0</td>\n",
       "      <td>0.0</td>\n",
       "      <td>3.9</td>\n",
       "      <td>1.0335365853658538</td>\n",
       "      <td>1.1584821428571428</td>\n",
       "    </tr>\n",
       "  </tbody>\n",
       "</table>\n",
       "<p>5 rows × 21 columns</p>\n",
       "</div>"
      ],
      "text/plain": [
       "          Name Week     Opp     Score Att    Yds   TD  FUM rush_fantasy_pts  \\\n",
       "0  Marlon Mack    1   @ LAC  L 24-30   25  174.0  1.0  0.0             23.4   \n",
       "1  Marlon Mack    2   @ TEN  W 19-17   20   51.0  0.0  0.0              5.1   \n",
       "2  Marlon Mack    3  vs ATL  W 27-24   16   74.0  1.0  0.0             13.4   \n",
       "3  Marlon Mack    4  vs OAK  L 24-31   11   39.0  0.0  0.0              3.9   \n",
       "4  Marlon Mack    5    @ KC  W 19-13   29  132.0  0.0  0.0             13.2   \n",
       "\n",
       "  total_fum  ...             lag3_TD lag3_rush_fantasy_pts lag2_Yds lag2_TD  \\\n",
       "0         1  ...              0.5625               10.8825     75.7  0.5625   \n",
       "1         1  ...              0.5625               10.8825     75.7  0.5625   \n",
       "2         1  ...              0.5625               10.8825    112.5     0.5   \n",
       "3         1  ...  0.6666666666666666    13.966666666666667     62.5     0.5   \n",
       "4         1  ...  0.3333333333333333     7.466666666666666     56.5     0.5   \n",
       "\n",
       "  lag2_rush_fantasy_pts last_week_Yds last_week_TD last_week_rush_fantasy_pts  \\\n",
       "0               10.8825          75.7       0.5625                    10.8825   \n",
       "1               10.8825         174.0          1.0                       23.4   \n",
       "2                 14.25          51.0          0.0                        5.1   \n",
       "3                  9.25          74.0          1.0                       13.4   \n",
       "4     8.649999999999999          39.0          0.0                        3.9   \n",
       "\n",
       "            yds_ratio   fantasy_pts_ratio  \n",
       "0                 1.0                 1.0  \n",
       "1                 1.0                 1.0  \n",
       "2   1.486129458388375  1.3094417643004823  \n",
       "3  0.6270903010033444   0.662291169451074  \n",
       "4  1.0335365853658538  1.1584821428571428  \n",
       "\n",
       "[5 rows x 21 columns]"
      ]
     },
     "execution_count": 3,
     "metadata": {},
     "output_type": "execute_result"
    }
   ],
   "source": [
    "rush.head()"
   ]
  },
  {
   "cell_type": "code",
   "execution_count": 4,
   "metadata": {},
   "outputs": [],
   "source": [
    "target = ['rush_fantasy_pts']\n",
    "last_week = ['last_week_Yds', 'last_week_TD', 'last_week_rush_fantasy_pts']\n",
    "inputs = ['yds_ratio', 'fantasy_pts_ratio', 'lag2_Yds', 'lag2_rush_fantasy_pts', 'lag2_TD']"
   ]
  },
  {
   "cell_type": "code",
   "execution_count": 5,
   "metadata": {},
   "outputs": [],
   "source": [
    "rush = rush.replace('na', np.NaN);\n",
    "fix_vars = target + last_week + inputs\n",
    "rush[fix_vars] = rush[fix_vars].astype(float)\n",
    "rush.loc[rush.rush_fantasy_pts < 0, 'rush_fantasy_pts'] = 0"
   ]
  },
  {
   "cell_type": "code",
   "execution_count": 6,
   "metadata": {},
   "outputs": [],
   "source": [
    "rush['log1p_target'] = np.log1p(rush.rush_fantasy_pts + 1)\n",
    "rush['yds_ratio'] = rush['yds_ratio'].fillna(0)\n",
    "rush['fantasy_pts_ratio'] = rush['fantasy_pts_ratio'].fillna(0)\n",
    "rush['yds_ratio'] = rush['yds_ratio'].replace([np.inf, -np.inf], 0)\n",
    "rush['fantasy_pts_ratio'] = rush['fantasy_pts_ratio'].replace([np.inf, -np.inf], 0)"
   ]
  },
  {
   "cell_type": "code",
   "execution_count": 7,
   "metadata": {},
   "outputs": [
    {
     "data": {
      "text/plain": [
       "Name                           object\n",
       "Week                           object\n",
       "Opp                            object\n",
       "Score                          object\n",
       "Att                            object\n",
       "Yds                            object\n",
       "TD                             object\n",
       "FUM                            object\n",
       "rush_fantasy_pts              float64\n",
       "total_fum                      object\n",
       "lag3_Yds                       object\n",
       "lag3_TD                        object\n",
       "lag3_rush_fantasy_pts          object\n",
       "lag2_Yds                      float64\n",
       "lag2_TD                       float64\n",
       "lag2_rush_fantasy_pts         float64\n",
       "last_week_Yds                 float64\n",
       "last_week_TD                  float64\n",
       "last_week_rush_fantasy_pts    float64\n",
       "yds_ratio                     float64\n",
       "fantasy_pts_ratio             float64\n",
       "log1p_target                  float64\n",
       "dtype: object"
      ]
     },
     "execution_count": 7,
     "metadata": {},
     "output_type": "execute_result"
    }
   ],
   "source": [
    "rush.dtypes"
   ]
  },
  {
   "cell_type": "markdown",
   "metadata": {},
   "source": [
    "## Fitting GLMs & GAM"
   ]
  },
  {
   "cell_type": "markdown",
   "metadata": {},
   "source": [
    "### Fitting Mixed Model"
   ]
  },
  {
   "cell_type": "code",
   "execution_count": 8,
   "metadata": {},
   "outputs": [],
   "source": [
    "#importing statsmodels packages\n",
    "import statsmodels.api as sm\n",
    "\n",
    "from statsmodels.gam.api import GLMGam, BSplines, CyclicCubicSplines\n",
    "\n",
    "import statsmodels.formula.api as smf"
   ]
  },
  {
   "cell_type": "code",
   "execution_count": 9,
   "metadata": {},
   "outputs": [],
   "source": [
    "x_list = inputs + last_week\n",
    "f = 'log1p_target ~ np.log1p(last_week_rush_fantasy_pts) + last_week_TD + last_week_Yds + yds_ratio + fantasy_pts_ratio + lag2_Yds + lag2_TD + lag2_rush_fantasy_pts'"
   ]
  },
  {
   "cell_type": "code",
   "execution_count": 10,
   "metadata": {},
   "outputs": [],
   "source": [
    "y = rush['log1p_target']\n",
    "X = rush[x_list]"
   ]
  },
  {
   "cell_type": "code",
   "execution_count": 11,
   "metadata": {},
   "outputs": [],
   "source": [
    "mixed_model = smf.mixedlm(f, data = rush, groups = rush['Name'])"
   ]
  },
  {
   "cell_type": "code",
   "execution_count": 12,
   "metadata": {},
   "outputs": [
    {
     "data": {
      "text/html": [
       "<table class=\"simpletable\">\n",
       "<tr>\n",
       "       <td>Model:</td>       <td>MixedLM</td> <td>Dependent Variable:</td> <td>log1p_target</td>\n",
       "</tr>\n",
       "<tr>\n",
       "  <td>No. Observations:</td>  <td>1223</td>         <td>Method:</td>           <td>REML</td>    \n",
       "</tr>\n",
       "<tr>\n",
       "     <td>No. Groups:</td>      <td>116</td>         <td>Scale:</td>           <td>0.3142</td>   \n",
       "</tr>\n",
       "<tr>\n",
       "  <td>Min. group size:</td>     <td>1</td>        <td>Likelihood:</td>      <td>-1162.4645</td> \n",
       "</tr>\n",
       "<tr>\n",
       "  <td>Max. group size:</td>    <td>16</td>        <td>Converged:</td>           <td>Yes</td>    \n",
       "</tr>\n",
       "<tr>\n",
       "  <td>Mean group size:</td>   <td>10.5</td>            <td></td>                 <td></td>      \n",
       "</tr>\n",
       "</table>\n",
       "<table class=\"simpletable\">\n",
       "<tr>\n",
       "               <td></td>               <th>Coef.</th> <th>Std.Err.</th>    <th>z</th>   <th>P>|z|</th> <th>[0.025</th>  <th>0.975]</th>\n",
       "</tr>\n",
       "<tr>\n",
       "  <th>Intercept</th>                   <td>1.534</td>   <td>0.056</td>  <td>27.384</td> <td>0.000</td>  <td>1.424</td>   <td>1.644</td>\n",
       "</tr>\n",
       "<tr>\n",
       "  <th>last_week_rush_fantasy_pts</th>  <td>1.182</td>   <td>0.646</td>   <td>1.830</td> <td>0.067</td> <td>-0.084</td>   <td>2.448</td>\n",
       "</tr>\n",
       "<tr>\n",
       "  <th>last_week_TD</th>               <td>-7.167</td>   <td>3.879</td>  <td>-1.848</td> <td>0.065</td> <td>-14.769</td>  <td>0.435</td>\n",
       "</tr>\n",
       "<tr>\n",
       "  <th>last_week_Yds</th>              <td>-0.115</td>   <td>0.065</td>  <td>-1.790</td> <td>0.073</td> <td>-0.242</td>   <td>0.011</td>\n",
       "</tr>\n",
       "<tr>\n",
       "  <th>yds_ratio</th>                  <td>-0.139</td>   <td>0.044</td>  <td>-3.190</td> <td>0.001</td> <td>-0.224</td>  <td>-0.054</td>\n",
       "</tr>\n",
       "<tr>\n",
       "  <th>fantasy_pts_ratio</th>          <td>-0.000</td>   <td>0.000</td>  <td>-0.372</td> <td>0.710</td> <td>-0.000</td>   <td>0.000</td>\n",
       "</tr>\n",
       "<tr>\n",
       "  <th>lag2_Yds</th>                    <td>0.020</td>   <td>0.048</td>   <td>0.420</td> <td>0.674</td> <td>-0.074</td>   <td>0.114</td>\n",
       "</tr>\n",
       "<tr>\n",
       "  <th>lag2_TD</th>                     <td>1.058</td>   <td>2.899</td>   <td>0.365</td> <td>0.715</td> <td>-4.625</td>   <td>6.740</td>\n",
       "</tr>\n",
       "<tr>\n",
       "  <th>lag2_rush_fantasy_pts</th>      <td>-0.163</td>   <td>0.482</td>  <td>-0.338</td> <td>0.735</td> <td>-1.108</td>   <td>0.782</td>\n",
       "</tr>\n",
       "<tr>\n",
       "  <th>Group Var</th>                   <td>0.108</td>   <td>0.050</td>     <td></td>      <td></td>       <td></td>        <td></td>   \n",
       "</tr>\n",
       "</table>"
      ],
      "text/plain": [
       "<class 'statsmodels.iolib.summary2.Summary'>\n",
       "\"\"\"\n",
       "                Mixed Linear Model Regression Results\n",
       "======================================================================\n",
       "Model:                MixedLM     Dependent Variable:     log1p_target\n",
       "No. Observations:     1223        Method:                 REML        \n",
       "No. Groups:           116         Scale:                  0.3142      \n",
       "Min. group size:      1           Likelihood:             -1162.4645  \n",
       "Max. group size:      16          Converged:              Yes         \n",
       "Mean group size:      10.5                                            \n",
       "----------------------------------------------------------------------\n",
       "                           Coef.  Std.Err.   z    P>|z|  [0.025 0.975]\n",
       "----------------------------------------------------------------------\n",
       "Intercept                   1.534    0.056 27.384 0.000   1.424  1.644\n",
       "last_week_rush_fantasy_pts  1.182    0.646  1.830 0.067  -0.084  2.448\n",
       "last_week_TD               -7.167    3.879 -1.848 0.065 -14.769  0.435\n",
       "last_week_Yds              -0.115    0.065 -1.790 0.073  -0.242  0.011\n",
       "yds_ratio                  -0.139    0.044 -3.190 0.001  -0.224 -0.054\n",
       "fantasy_pts_ratio          -0.000    0.000 -0.372 0.710  -0.000  0.000\n",
       "lag2_Yds                    0.020    0.048  0.420 0.674  -0.074  0.114\n",
       "lag2_TD                     1.058    2.899  0.365 0.715  -4.625  6.740\n",
       "lag2_rush_fantasy_pts      -0.163    0.482 -0.338 0.735  -1.108  0.782\n",
       "Group Var                   0.108    0.050                            \n",
       "======================================================================\n",
       "\n",
       "\"\"\""
      ]
     },
     "execution_count": 12,
     "metadata": {},
     "output_type": "execute_result"
    }
   ],
   "source": [
    "mx_fit = mixed_model.fit()\n",
    "mx_fit.summary()"
   ]
  },
  {
   "cell_type": "markdown",
   "metadata": {},
   "source": [
    "## Standard OLS"
   ]
  },
  {
   "cell_type": "code",
   "execution_count": 13,
   "metadata": {},
   "outputs": [
    {
     "data": {
      "text/html": [
       "<table class=\"simpletable\">\n",
       "<caption>OLS Regression Results</caption>\n",
       "<tr>\n",
       "  <th>Dep. Variable:</th>      <td>log1p_target</td>   <th>  R-squared:         </th> <td>   0.320</td>\n",
       "</tr>\n",
       "<tr>\n",
       "  <th>Model:</th>                   <td>OLS</td>       <th>  Adj. R-squared:    </th> <td>   0.317</td>\n",
       "</tr>\n",
       "<tr>\n",
       "  <th>Method:</th>             <td>Least Squares</td>  <th>  F-statistic:       </th> <td>   95.57</td>\n",
       "</tr>\n",
       "<tr>\n",
       "  <th>Date:</th>             <td>Sun, 19 Jul 2020</td> <th>  Prob (F-statistic):</th> <td>1.88e-98</td>\n",
       "</tr>\n",
       "<tr>\n",
       "  <th>Time:</th>                 <td>22:58:08</td>     <th>  Log-Likelihood:    </th> <td> -1129.1</td>\n",
       "</tr>\n",
       "<tr>\n",
       "  <th>No. Observations:</th>      <td>  1223</td>      <th>  AIC:               </th> <td>   2272.</td>\n",
       "</tr>\n",
       "<tr>\n",
       "  <th>Df Residuals:</th>          <td>  1216</td>      <th>  BIC:               </th> <td>   2308.</td>\n",
       "</tr>\n",
       "<tr>\n",
       "  <th>Df Model:</th>              <td>     6</td>      <th>                     </th>     <td> </td>   \n",
       "</tr>\n",
       "<tr>\n",
       "  <th>Covariance Type:</th>      <td>nonrobust</td>    <th>                     </th>     <td> </td>   \n",
       "</tr>\n",
       "</table>\n",
       "<table class=\"simpletable\">\n",
       "<tr>\n",
       "               <td></td>                 <th>coef</th>     <th>std err</th>      <th>t</th>      <th>P>|t|</th>  <th>[0.025</th>    <th>0.975]</th>  \n",
       "</tr>\n",
       "<tr>\n",
       "  <th>Intercept</th>                  <td>    1.4184</td> <td>    0.047</td> <td>   30.210</td> <td> 0.000</td> <td>    1.326</td> <td>    1.511</td>\n",
       "</tr>\n",
       "<tr>\n",
       "  <th>last_week_rush_fantasy_pts</th> <td>   -0.0099</td> <td>    0.008</td> <td>   -1.245</td> <td> 0.213</td> <td>   -0.025</td> <td>    0.006</td>\n",
       "</tr>\n",
       "<tr>\n",
       "  <th>last_week_TD</th>               <td>    0.0002</td> <td>    0.001</td> <td>    0.124</td> <td> 0.901</td> <td>   -0.002</td> <td>    0.003</td>\n",
       "</tr>\n",
       "<tr>\n",
       "  <th>last_week_Yds</th>              <td>    0.0045</td> <td>    0.001</td> <td>    3.124</td> <td> 0.002</td> <td>    0.002</td> <td>    0.007</td>\n",
       "</tr>\n",
       "<tr>\n",
       "  <th>yds_ratio</th>                  <td>   -0.2287</td> <td>    0.044</td> <td>   -5.209</td> <td> 0.000</td> <td>   -0.315</td> <td>   -0.143</td>\n",
       "</tr>\n",
       "<tr>\n",
       "  <th>fantasy_pts_ratio</th>          <td>-7.095e-18</td> <td> 1.33e-16</td> <td>   -0.054</td> <td> 0.957</td> <td>-2.67e-16</td> <td> 2.53e-16</td>\n",
       "</tr>\n",
       "<tr>\n",
       "  <th>lag2_Yds</th>                   <td>    0.0064</td> <td>    0.002</td> <td>    3.309</td> <td> 0.001</td> <td>    0.003</td> <td>    0.010</td>\n",
       "</tr>\n",
       "<tr>\n",
       "  <th>lag2_TD</th>                    <td>    0.0077</td> <td>    0.002</td> <td>    3.978</td> <td> 0.000</td> <td>    0.004</td> <td>    0.011</td>\n",
       "</tr>\n",
       "<tr>\n",
       "  <th>lag2_rush_fantasy_pts</th>      <td>    0.0299</td> <td>    0.011</td> <td>    2.608</td> <td> 0.009</td> <td>    0.007</td> <td>    0.052</td>\n",
       "</tr>\n",
       "</table>\n",
       "<table class=\"simpletable\">\n",
       "<tr>\n",
       "  <th>Omnibus:</th>       <td>54.419</td> <th>  Durbin-Watson:     </th> <td>   1.926</td>\n",
       "</tr>\n",
       "<tr>\n",
       "  <th>Prob(Omnibus):</th> <td> 0.000</td> <th>  Jarque-Bera (JB):  </th> <td>  56.420</td>\n",
       "</tr>\n",
       "<tr>\n",
       "  <th>Skew:</th>          <td> 0.496</td> <th>  Prob(JB):          </th> <td>5.60e-13</td>\n",
       "</tr>\n",
       "<tr>\n",
       "  <th>Kurtosis:</th>      <td> 2.648</td> <th>  Cond. No.          </th> <td>3.73e+16</td>\n",
       "</tr>\n",
       "</table><br/><br/>Warnings:<br/>[1] Standard Errors assume that the covariance matrix of the errors is correctly specified.<br/>[2] The condition number is large, 3.73e+16. This might indicate that there are<br/>strong multicollinearity or other numerical problems."
      ],
      "text/plain": [
       "<class 'statsmodels.iolib.summary.Summary'>\n",
       "\"\"\"\n",
       "                            OLS Regression Results                            \n",
       "==============================================================================\n",
       "Dep. Variable:           log1p_target   R-squared:                       0.320\n",
       "Model:                            OLS   Adj. R-squared:                  0.317\n",
       "Method:                 Least Squares   F-statistic:                     95.57\n",
       "Date:                Sun, 19 Jul 2020   Prob (F-statistic):           1.88e-98\n",
       "Time:                        22:58:08   Log-Likelihood:                -1129.1\n",
       "No. Observations:                1223   AIC:                             2272.\n",
       "Df Residuals:                    1216   BIC:                             2308.\n",
       "Df Model:                           6                                         \n",
       "Covariance Type:            nonrobust                                         \n",
       "==============================================================================================\n",
       "                                 coef    std err          t      P>|t|      [0.025      0.975]\n",
       "----------------------------------------------------------------------------------------------\n",
       "Intercept                      1.4184      0.047     30.210      0.000       1.326       1.511\n",
       "last_week_rush_fantasy_pts    -0.0099      0.008     -1.245      0.213      -0.025       0.006\n",
       "last_week_TD                   0.0002      0.001      0.124      0.901      -0.002       0.003\n",
       "last_week_Yds                  0.0045      0.001      3.124      0.002       0.002       0.007\n",
       "yds_ratio                     -0.2287      0.044     -5.209      0.000      -0.315      -0.143\n",
       "fantasy_pts_ratio          -7.095e-18   1.33e-16     -0.054      0.957   -2.67e-16    2.53e-16\n",
       "lag2_Yds                       0.0064      0.002      3.309      0.001       0.003       0.010\n",
       "lag2_TD                        0.0077      0.002      3.978      0.000       0.004       0.011\n",
       "lag2_rush_fantasy_pts          0.0299      0.011      2.608      0.009       0.007       0.052\n",
       "==============================================================================\n",
       "Omnibus:                       54.419   Durbin-Watson:                   1.926\n",
       "Prob(Omnibus):                  0.000   Jarque-Bera (JB):               56.420\n",
       "Skew:                           0.496   Prob(JB):                     5.60e-13\n",
       "Kurtosis:                       2.648   Cond. No.                     3.73e+16\n",
       "==============================================================================\n",
       "\n",
       "Warnings:\n",
       "[1] Standard Errors assume that the covariance matrix of the errors is correctly specified.\n",
       "[2] The condition number is large, 3.73e+16. This might indicate that there are\n",
       "strong multicollinearity or other numerical problems.\n",
       "\"\"\""
      ]
     },
     "execution_count": 13,
     "metadata": {},
     "output_type": "execute_result"
    }
   ],
   "source": [
    "lm = smf.ols(f, data = rush).fit()\n",
    "lm.summary()"
   ]
  },
  {
   "cell_type": "markdown",
   "metadata": {},
   "source": [
    "### Trying a Spline Regression "
   ]
  },
  {
   "cell_type": "code",
   "execution_count": 14,
   "metadata": {},
   "outputs": [],
   "source": [
    "#complexity = 2\n",
    "#num_vars = len(x_list)\n",
    "\n",
    "#df_iter = np.repeat(complexity, num_vars)\n",
    "#degrees = np.repeat(complexity - 1, num_vars)"
   ]
  },
  {
   "cell_type": "code",
   "execution_count": 15,
   "metadata": {},
   "outputs": [],
   "source": [
    "#x_spline = rush[x_list]\n",
    "#bs = BSplines(x_spline, df = df_iter, degree = degrees)\n",
    "#cs = CyclicCubicSplines(x_spline, df = df_iter)"
   ]
  },
  {
   "cell_type": "code",
   "execution_count": 16,
   "metadata": {},
   "outputs": [],
   "source": [
    "#pass_gam = GLMGam.from_formula(f, data = pass_mdl_data, smoother = cs, family=sm.families.Gaussian())"
   ]
  },
  {
   "cell_type": "markdown",
   "metadata": {},
   "source": [
    "## Going the Bayesian Route \n",
    "\n",
    "https://docs.pymc.io/notebooks/GLM-linear.html"
   ]
  },
  {
   "cell_type": "code",
   "execution_count": 17,
   "metadata": {},
   "outputs": [],
   "source": [
    "import pymc3 as pm\n",
    "f = 'log1p_target ~ last_week_rush_fantasy_pts + last_week_TD + last_week_Yds + yds_ratio + fantasy_pts_ratio + lag2_Yds + lag2_TD + lag2_rush_fantasy_pts'"
   ]
  },
  {
   "cell_type": "code",
   "execution_count": 18,
   "metadata": {},
   "outputs": [
    {
     "name": "stderr",
     "output_type": "stream",
     "text": [
      "Auto-assigning NUTS sampler...\n",
      "Initializing NUTS using adapt_diag...\n",
      "Multiprocess sampling (4 chains in 4 jobs)\n",
      "NUTS: [sd, lag2_rush_fantasy_pts, lag2_TD, lag2_Yds, fantasy_pts_ratio, yds_ratio, last_week_Yds, last_week_TD, last_week_rush_fantasy_pts, Intercept]\n",
      "Sampling 4 chains: 100%|██████████| 4800/4800 [05:12<00:00, 15.34draws/s]\n",
      "The acceptance probability does not match the target. It is 0.8841751643118078, but should be close to 0.8. Try to increase the number of tuning steps.\n",
      "The chain reached the maximum tree depth. Increase max_treedepth, increase target_accept or reparameterize.\n",
      "The acceptance probability does not match the target. It is 0.882214173950269, but should be close to 0.8. Try to increase the number of tuning steps.\n",
      "The chain reached the maximum tree depth. Increase max_treedepth, increase target_accept or reparameterize.\n",
      "The chain reached the maximum tree depth. Increase max_treedepth, increase target_accept or reparameterize.\n",
      "The acceptance probability does not match the target. It is 0.8966567761838803, but should be close to 0.8. Try to increase the number of tuning steps.\n",
      "The chain reached the maximum tree depth. Increase max_treedepth, increase target_accept or reparameterize.\n",
      "The number of effective samples is smaller than 25% for some parameters.\n"
     ]
    }
   ],
   "source": [
    "with pm.Model() as model:\n",
    "    # specify glm and pass in data. The resulting linear model, its likelihood and\n",
    "    # and all its parameters are automatically added to our model.\n",
    "    pm.glm.GLM.from_formula(f, rush)\n",
    "    trace = pm.sample(draws = 700, cores=4, init='adapt_diag') # draw 250 posterior samples using NUTS sampling"
   ]
  },
  {
   "cell_type": "code",
   "execution_count": 19,
   "metadata": {},
   "outputs": [
    {
     "name": "stderr",
     "output_type": "stream",
     "text": [
      "100%|██████████| 500/500 [00:00<00:00, 820.39it/s]\n"
     ]
    }
   ],
   "source": [
    "# Simply running PPC will use the updated values and do prediction\n",
    "ppc = pm.sample_posterior_predictive(trace, model=model, samples=500)"
   ]
  },
  {
   "cell_type": "code",
   "execution_count": 20,
   "metadata": {},
   "outputs": [
    {
     "data": {
      "text/plain": [
       "(500, 1223)"
      ]
     },
     "execution_count": 20,
     "metadata": {},
     "output_type": "execute_result"
    }
   ],
   "source": [
    "np.asarray(ppc['y']).shape"
   ]
  },
  {
   "cell_type": "code",
   "execution_count": 21,
   "metadata": {},
   "outputs": [],
   "source": [
    "y_pred = np.asarray(ppc['y'].mean(axis = 0))"
   ]
  },
  {
   "cell_type": "code",
   "execution_count": 23,
   "metadata": {},
   "outputs": [
    {
     "data": {
      "text/plain": [
       "(array([  4., 109., 520., 237., 164., 116.,  38.,  21.,   9.,   5.]),\n",
       " array([0.70745029, 0.99412031, 1.28079032, 1.56746034, 1.85413035,\n",
       "        2.14080037, 2.42747038, 2.7141404 , 3.00081042, 3.28748043,\n",
       "        3.57415045]),\n",
       " <BarContainer object of 10 artists>)"
      ]
     },
     "execution_count": 23,
     "metadata": {},
     "output_type": "execute_result"
    },
    {
     "data": {
      "image/png": "[encoded data removed]",
      "text/plain": [
       "<Figure size 432x288 with 1 Axes>"
      ]
     },
     "metadata": {
      "needs_background": "light"
     },
     "output_type": "display_data"
    }
   ],
   "source": [
    "import matplotlib.pyplot as plt \n",
    "plt.hist(y_pred)"
   ]
  },
  {
   "cell_type": "code",
   "execution_count": 31,
   "metadata": {},
   "outputs": [
    {
     "ename": "ImportError",
     "evalue": "ArviZ is not installed. In order to use `plot_trace`:\npip install arviz",
     "output_type": "error",
     "traceback": [
      "\u001b[1;31m---------------------------------------------------------------------------\u001b[0m",
      "\u001b[1;31mImportError\u001b[0m                               Traceback (most recent call last)",
      "\u001b[1;32m<ipython-input-31-4b673fced3da>\u001b[0m in \u001b[0;36m<module>\u001b[1;34m\u001b[0m\n\u001b[1;32m----> 1\u001b[1;33m \u001b[0mpm\u001b[0m\u001b[1;33m.\u001b[0m\u001b[0mtraceplot\u001b[0m\u001b[1;33m(\u001b[0m\u001b[0mtrace\u001b[0m\u001b[1;33m)\u001b[0m\u001b[1;33m\u001b[0m\u001b[1;33m\u001b[0m\u001b[0m\n\u001b[0m",
      "\u001b[1;32m~\\.julia\\conda\\3\\lib\\site-packages\\pymc3\\plots\\__init__.py\u001b[0m in \u001b[0;36mwrapped\u001b[1;34m(*args, **kwargs)\u001b[0m\n\u001b[0;32m     40\u001b[0m                 \u001b[0mwarnings\u001b[0m\u001b[1;33m.\u001b[0m\u001b[0mwarn\u001b[0m\u001b[1;33m(\u001b[0m\u001b[1;34m'Keyword argument `{old}` renamed to `{new}`, and will be removed in pymc3 3.8'\u001b[0m\u001b[1;33m.\u001b[0m\u001b[0mformat\u001b[0m\u001b[1;33m(\u001b[0m\u001b[0mold\u001b[0m\u001b[1;33m=\u001b[0m\u001b[0mold\u001b[0m\u001b[1;33m,\u001b[0m \u001b[0mnew\u001b[0m\u001b[1;33m=\u001b[0m\u001b[0mnew\u001b[0m\u001b[1;33m)\u001b[0m\u001b[1;33m)\u001b[0m\u001b[1;33m\u001b[0m\u001b[1;33m\u001b[0m\u001b[0m\n\u001b[0;32m     41\u001b[0m                 \u001b[0mkwargs\u001b[0m\u001b[1;33m[\u001b[0m\u001b[0mnew\u001b[0m\u001b[1;33m]\u001b[0m \u001b[1;33m=\u001b[0m \u001b[0mkwargs\u001b[0m\u001b[1;33m.\u001b[0m\u001b[0mpop\u001b[0m\u001b[1;33m(\u001b[0m\u001b[0mold\u001b[0m\u001b[1;33m)\u001b[0m\u001b[1;33m\u001b[0m\u001b[1;33m\u001b[0m\u001b[0m\n\u001b[1;32m---> 42\u001b[1;33m             \u001b[1;32mreturn\u001b[0m \u001b[0mfunc\u001b[0m\u001b[1;33m(\u001b[0m\u001b[1;33m*\u001b[0m\u001b[0margs\u001b[0m\u001b[1;33m,\u001b[0m \u001b[1;33m**\u001b[0m\u001b[0mkwargs\u001b[0m\u001b[1;33m)\u001b[0m\u001b[1;33m\u001b[0m\u001b[1;33m\u001b[0m\u001b[0m\n\u001b[0m\u001b[0;32m     43\u001b[0m     \u001b[1;32mreturn\u001b[0m \u001b[0mwrapped\u001b[0m\u001b[1;33m\u001b[0m\u001b[1;33m\u001b[0m\u001b[0m\n\u001b[0;32m     44\u001b[0m \u001b[1;33m\u001b[0m\u001b[0m\n",
      "\u001b[1;32m~\\.julia\\conda\\3\\lib\\site-packages\\pymc3\\plots\\__init__.py\u001b[0m in \u001b[0;36m__call__\u001b[1;34m(self, *args, **kwargs)\u001b[0m\n\u001b[0;32m     20\u001b[0m         \u001b[1;32mdef\u001b[0m \u001b[0m__call__\u001b[0m\u001b[1;33m(\u001b[0m\u001b[0mself\u001b[0m\u001b[1;33m,\u001b[0m \u001b[1;33m*\u001b[0m\u001b[0margs\u001b[0m\u001b[1;33m,\u001b[0m \u001b[1;33m**\u001b[0m\u001b[0mkwargs\u001b[0m\u001b[1;33m)\u001b[0m\u001b[1;33m:\u001b[0m\u001b[1;33m\u001b[0m\u001b[1;33m\u001b[0m\u001b[0m\n\u001b[0;32m     21\u001b[0m             raise ImportError(\n\u001b[1;32m---> 22\u001b[1;33m                 \u001b[1;34m\"ArviZ is not installed. In order to use `{0.attr}`:\\npip install arviz\"\u001b[0m\u001b[1;33m.\u001b[0m\u001b[0mformat\u001b[0m\u001b[1;33m(\u001b[0m\u001b[0mself\u001b[0m\u001b[1;33m)\u001b[0m\u001b[1;33m\u001b[0m\u001b[1;33m\u001b[0m\u001b[0m\n\u001b[0m\u001b[0;32m     23\u001b[0m             )\n\u001b[0;32m     24\u001b[0m \u001b[1;33m\u001b[0m\u001b[0m\n",
      "\u001b[1;31mImportError\u001b[0m: ArviZ is not installed. In order to use `plot_trace`:\npip install arviz"
     ]
    }
   ],
   "source": [
    "pm.traceplot(trace)"
   ]
  },
  {
   "cell_type": "code",
   "execution_count": 27,
   "metadata": {},
   "outputs": [
    {
     "data": {
      "text/plain": [
       "[Text(0.5, 1.0, 'Posterior predictive of the mean'),\n",
       " Text(0.5, 0, 'mean(x)'),\n",
       " Text(0, 0.5, 'Frequency')]"
      ]
     },
     "execution_count": 27,
     "metadata": {},
     "output_type": "execute_result"
    },
    {
     "data": {
      "image/png": "[encoded data removed]",
      "text/plain": [
       "<Figure size 432x288 with 1 Axes>"
      ]
     },
     "metadata": {
      "needs_background": "light"
     },
     "output_type": "display_data"
    }
   ],
   "source": [
    "import matplotlib.pyplot as plt \n",
    "import seaborn as sns\n",
    "\n",
    "ax = plt.subplot();\n",
    "sns.distplot([n.mean() for n in ppc['y']], kde=False, ax=ax);\n",
    "ax.axvline(rush['log1p_target'].mean());\n",
    "ax.set(title='Posterior predictive of the mean', xlabel='mean(x)', ylabel='Frequency')"
   ]
  },
  {
   "cell_type": "markdown",
   "metadata": {},
   "source": [
    "### Writing function to back test model accuracy"
   ]
  },
  {
   "cell_type": "code",
   "execution_count": null,
   "metadata": {},
   "outputs": [],
   "source": []
  },
  {
   "cell_type": "markdown",
   "metadata": {},
   "source": [
    "#### Analyzing Bayesian OLS Output"
   ]
  },
  {
   "cell_type": "code",
   "execution_count": 30,
   "metadata": {},
   "outputs": [
    {
     "ename": "KeyError",
     "evalue": "'x'",
     "output_type": "error",
     "traceback": [
      "\u001b[1;31m---------------------------------------------------------------------------\u001b[0m",
      "\u001b[1;31mKeyError\u001b[0m                                  Traceback (most recent call last)",
      "\u001b[1;32m<ipython-input-30-25af9def523b>\u001b[0m in \u001b[0;36m<module>\u001b[1;34m\u001b[0m\n\u001b[0;32m      2\u001b[0m \u001b[1;31m#plt.plot(x, y, 'x', label='data')\u001b[0m\u001b[1;33m\u001b[0m\u001b[1;33m\u001b[0m\u001b[1;33m\u001b[0m\u001b[0m\n\u001b[0;32m      3\u001b[0m pm.plot_posterior_predictive_glm(trace, samples=100,\n\u001b[1;32m----> 4\u001b[1;33m                               label='posterior predictive regression lines')\n\u001b[0m\u001b[0;32m      5\u001b[0m \u001b[1;33m\u001b[0m\u001b[0m\n\u001b[0;32m      6\u001b[0m \u001b[1;33m\u001b[0m\u001b[0m\n",
      "\u001b[1;32m~\\.julia\\conda\\3\\lib\\site-packages\\pymc3\\plots\\posteriorplot.py\u001b[0m in \u001b[0;36mplot_posterior_predictive_glm\u001b[1;34m(trace, eval, lm, samples, **kwargs)\u001b[0m\n\u001b[0;32m     35\u001b[0m     \u001b[1;32mfor\u001b[0m \u001b[0mrand_loc\u001b[0m \u001b[1;32min\u001b[0m \u001b[0mnp\u001b[0m\u001b[1;33m.\u001b[0m\u001b[0mrandom\u001b[0m\u001b[1;33m.\u001b[0m\u001b[0mrandint\u001b[0m\u001b[1;33m(\u001b[0m\u001b[1;36m0\u001b[0m\u001b[1;33m,\u001b[0m \u001b[0mlen\u001b[0m\u001b[1;33m(\u001b[0m\u001b[0mtrace\u001b[0m\u001b[1;33m)\u001b[0m\u001b[1;33m,\u001b[0m \u001b[0msamples\u001b[0m\u001b[1;33m)\u001b[0m\u001b[1;33m:\u001b[0m\u001b[1;33m\u001b[0m\u001b[1;33m\u001b[0m\u001b[0m\n\u001b[0;32m     36\u001b[0m         \u001b[0mrand_sample\u001b[0m \u001b[1;33m=\u001b[0m \u001b[0mtrace\u001b[0m\u001b[1;33m[\u001b[0m\u001b[0mrand_loc\u001b[0m\u001b[1;33m]\u001b[0m\u001b[1;33m\u001b[0m\u001b[1;33m\u001b[0m\u001b[0m\n\u001b[1;32m---> 37\u001b[1;33m         \u001b[0mplt\u001b[0m\u001b[1;33m.\u001b[0m\u001b[0mplot\u001b[0m\u001b[1;33m(\u001b[0m\u001b[0meval\u001b[0m\u001b[1;33m,\u001b[0m \u001b[0mlm\u001b[0m\u001b[1;33m(\u001b[0m\u001b[0meval\u001b[0m\u001b[1;33m,\u001b[0m \u001b[0mrand_sample\u001b[0m\u001b[1;33m)\u001b[0m\u001b[1;33m,\u001b[0m \u001b[1;33m**\u001b[0m\u001b[0mkwargs\u001b[0m\u001b[1;33m)\u001b[0m\u001b[1;33m\u001b[0m\u001b[1;33m\u001b[0m\u001b[0m\n\u001b[0m\u001b[0;32m     38\u001b[0m     \u001b[1;31m# Make sure to not plot label multiple times\u001b[0m\u001b[1;33m\u001b[0m\u001b[1;33m\u001b[0m\u001b[1;33m\u001b[0m\u001b[0m\n\u001b[0;32m     39\u001b[0m         \u001b[0mkwargs\u001b[0m\u001b[1;33m.\u001b[0m\u001b[0mpop\u001b[0m\u001b[1;33m(\u001b[0m\u001b[1;34m'label'\u001b[0m\u001b[1;33m,\u001b[0m \u001b[1;32mNone\u001b[0m\u001b[1;33m)\u001b[0m\u001b[1;33m\u001b[0m\u001b[1;33m\u001b[0m\u001b[0m\n",
      "\u001b[1;32m~\\.julia\\conda\\3\\lib\\site-packages\\pymc3\\plots\\posteriorplot.py\u001b[0m in \u001b[0;36m<lambda>\u001b[1;34m(x, sample)\u001b[0m\n\u001b[0;32m     22\u001b[0m     \"\"\"\n\u001b[0;32m     23\u001b[0m     \u001b[1;32mif\u001b[0m \u001b[0mlm\u001b[0m \u001b[1;32mis\u001b[0m \u001b[1;32mNone\u001b[0m\u001b[1;33m:\u001b[0m\u001b[1;33m\u001b[0m\u001b[1;33m\u001b[0m\u001b[0m\n\u001b[1;32m---> 24\u001b[1;33m         \u001b[0mlm\u001b[0m \u001b[1;33m=\u001b[0m \u001b[1;32mlambda\u001b[0m \u001b[0mx\u001b[0m\u001b[1;33m,\u001b[0m \u001b[0msample\u001b[0m\u001b[1;33m:\u001b[0m \u001b[0msample\u001b[0m\u001b[1;33m[\u001b[0m\u001b[1;34m'Intercept'\u001b[0m\u001b[1;33m]\u001b[0m \u001b[1;33m+\u001b[0m \u001b[0msample\u001b[0m\u001b[1;33m[\u001b[0m\u001b[1;34m'x'\u001b[0m\u001b[1;33m]\u001b[0m \u001b[1;33m*\u001b[0m \u001b[0mx\u001b[0m\u001b[1;33m\u001b[0m\u001b[1;33m\u001b[0m\u001b[0m\n\u001b[0m\u001b[0;32m     25\u001b[0m \u001b[1;33m\u001b[0m\u001b[0m\n\u001b[0;32m     26\u001b[0m     \u001b[1;32mif\u001b[0m \u001b[0meval\u001b[0m \u001b[1;32mis\u001b[0m \u001b[1;32mNone\u001b[0m\u001b[1;33m:\u001b[0m\u001b[1;33m\u001b[0m\u001b[1;33m\u001b[0m\u001b[0m\n",
      "\u001b[1;31mKeyError\u001b[0m: 'x'"
     ]
    },
    {
     "data": {
      "text/plain": [
       "<Figure size 504x504 with 0 Axes>"
      ]
     },
     "metadata": {},
     "output_type": "display_data"
    }
   ],
   "source": [
    "plt.figure(figsize=(7, 7))\n",
    "#plt.plot(x, y, 'x', label='data')\n",
    "pm.plot_posterior_predictive_glm(trace, samples=100,\n",
    "                              label='posterior predictive regression lines')\n",
    "\n",
    "\n",
    "# plt.plot(x, true_regression_line, label='true regression line', lw=3., c='y')\n",
    "\n",
    "# plt.title('Posterior predictive regression lines')\n",
    "# plt.legend(loc=0)\n",
    "# plt.xlabel('x')\n",
    "# plt.ylabel('y');"
   ]
  },
  {
   "cell_type": "markdown",
   "metadata": {},
   "source": [
    "### Robust Bayesian Regression"
   ]
  },
  {
   "cell_type": "code",
   "execution_count": 27,
   "metadata": {},
   "outputs": [
    {
     "name": "stderr",
     "output_type": "stream",
     "text": [
      "Auto-assigning NUTS sampler...\n",
      "Initializing NUTS using adapt_diag...\n",
      "Multiprocess sampling (4 chains in 4 jobs)\n",
      "NUTS: [lam, lag2_rush_fantasy_pts, lag2_TD, lag2_Yds, fantasy_pts_ratio, yds_ratio, last_week_Yds, last_week_TD, last_week_rush_fantasy_pts, Intercept]\n",
      "Sampling 4 chains: 100%|██████████| 4800/4800 [06:07<00:00, 13.05draws/s]\n",
      "The chain reached the maximum tree depth. Increase max_treedepth, increase target_accept or reparameterize.\n",
      "The chain reached the maximum tree depth. Increase max_treedepth, increase target_accept or reparameterize.\n",
      "The chain reached the maximum tree depth. Increase max_treedepth, increase target_accept or reparameterize.\n",
      "The chain reached the maximum tree depth. Increase max_treedepth, increase target_accept or reparameterize.\n",
      "The number of effective samples is smaller than 10% for some parameters.\n"
     ]
    }
   ],
   "source": [
    "with pm.Model() as model_robust:\n",
    "    family = pm.glm.families.StudentT()\n",
    "    pm.glm.GLM.from_formula(f, rush, family=family)\n",
    "    trace_robust = pm.sample(draws = 700, cores=4, init='adapt_diag')"
   ]
  },
  {
   "cell_type": "code",
   "execution_count": null,
   "metadata": {},
   "outputs": [],
   "source": []
  },
  {
   "cell_type": "code",
   "execution_count": null,
   "metadata": {},
   "outputs": [],
   "source": [
    "# Simply running PPC will use the updated values and do prediction\n",
    "ppc_robust = pm.sample_posterior_predictive(trace_robust, model=model, samples=100)"
   ]
  }
 ],
 "metadata": {
  "kernelspec": {
   "display_name": "Python 3",
   "language": "python",
   "name": "python3"
  },
  "language_info": {
   "codemirror_mode": {
    "name": "ipython",
    "version": 3
   },
   "file_extension": ".py",
   "mimetype": "text/x-python",
   "name": "python",
   "nbconvert_exporter": "python",
   "pygments_lexer": "ipython3",
   "version": "3.6.9"
  }
 },
 "nbformat": 4,
 "nbformat_minor": 4
}
