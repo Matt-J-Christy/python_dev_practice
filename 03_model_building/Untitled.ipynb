{
 "cells": [
  {
   "cell_type": "markdown",
   "metadata": {},
   "source": [
    "# Modeling with Bayesian Regression"
   ]
  },
  {
   "cell_type": "code",
   "execution_count": null,
   "metadata": {},
   "outputs": [],
   "source": [
    "# %load ../api_access_snippet.py\n",
    "#import library\n",
    "import gspread \n",
    "#Service client credential from oauth2client\n",
    "from oauth2client.service_account import ServiceAccountCredentials\n",
    "# Print nicely\n",
    "import pprint\n",
    "#Create scope\n",
    "scope = ['https://spreadsheets.google.com/feeds', 'https://www.googleapis.com/auth/drive']\n",
    "#create some credential using that scope and content of startup_funding.json\n",
    "creds = ServiceAccountCredentials.from_json_keyfile_name('../quickstart/g_sheet_creds.json',scope)\n",
    "#create gspread authorize using that credential\n",
    "client = gspread.authorize(creds)\n",
    "my_email = 'matthewjchristy66@gmail.com'\n",
    "\n",
    "def read_file(sheet_name):\n",
    "    out = client.open(sheet_name).sheet1\n",
    "    out = out.get_all_values()\n",
    "    out = pd.DataFrame(out, columns = out.pop(0))\n",
    "    return(out)\n",
    "\n",
    "import pandas as pd \n",
    "import numpy as np"
   ]
  },
  {
   "cell_type": "code",
   "execution_count": null,
   "metadata": {},
   "outputs": [],
   "source": [
    "rush = read_file('rushing_data_model_ready')"
   ]
  },
  {
   "cell_type": "markdown",
   "metadata": {},
   "source": [
    "## Quick Data Cleaning "
   ]
  },
  {
   "cell_type": "code",
   "execution_count": null,
   "metadata": {},
   "outputs": [],
   "source": [
    "target = ['rush_fantasy_pts']\n",
    "last_week = ['last_week_Yds', 'last_week_TD', 'last_week_rush_fantasy_pts']\n",
    "inputs = ['yds_ratio', 'fantasy_pts_ratio', 'lag2_Yds', 'lag2_rush_fantasy_pts', 'lag2_TD']\n",
    "rush = rush.replace('na', np.NaN);\n",
    "fix_vars = target + last_week + inputs\n",
    "rush[fix_vars] = rush[fix_vars].astype(float)\n",
    "rush.loc[rush.rush_fantasy_pts < 0, 'rush_fantasy_pts'] = 0\n",
    "rush['log1p_target'] = np.log1p(rush.rush_fantasy_pts + 1)\n",
    "rush['yds_ratio'] = rush['yds_ratio'].fillna(0)\n",
    "rush['fantasy_pts_ratio'] = rush['fantasy_pts_ratio'].fillna(0)\n",
    "rush['yds_ratio'] = rush['yds_ratio'].replace([np.inf, -np.inf], 0)\n",
    "rush['fantasy_pts_ratio'] = rush['fantasy_pts_ratio'].replace([np.inf, -np.inf], 0)"
   ]
  },
  {
   "cell_type": "markdown",
   "metadata": {},
   "source": [
    "## Loading pymc3 and other packages"
   ]
  },
  {
   "cell_type": "code",
   "execution_count": null,
   "metadata": {},
   "outputs": [],
   "source": [
    "import pymc3 as pm\n",
    "import matplotlib.pyplot as plt"
   ]
  },
  {
   "cell_type": "code",
   "execution_count": null,
   "metadata": {},
   "outputs": [],
   "source": [
    "#declaring model formulation\n",
    "f = 'log1p_target ~ last_week_rush_fantasy_pts + last_week_TD + last_week_Yds + yds_ratio + fantasy_pts_ratio + lag2_Yds + lag2_TD + lag2_rush_fantasy_pts'"
   ]
  },
  {
   "cell_type": "markdown",
   "metadata": {},
   "source": [
    "### Standard OLS"
   ]
  },
  {
   "cell_type": "code",
   "execution_count": null,
   "metadata": {},
   "outputs": [],
   "source": [
    "with pm.Model() as model:\n",
    "    # specify glm and pass in data. The resulting linear model, its likelihood and\n",
    "    # and all its parameters are automatically added to our model.\n",
    "    pm.glm.GLM.from_formula(f, rush)\n",
    "    trace = pm.sample(draws = 700, cores=4, init='adapt_diag') # draw 250 posterior samples using NUTS sampling"
   ]
  },
  {
   "cell_type": "code",
   "execution_count": null,
   "metadata": {},
   "outputs": [],
   "source": []
  },
  {
   "cell_type": "code",
   "execution_count": null,
   "metadata": {},
   "outputs": [],
   "source": []
  },
  {
   "cell_type": "markdown",
   "metadata": {},
   "source": [
    "### Regularized OLS "
   ]
  }
 ],
 "metadata": {
  "kernelspec": {
   "display_name": "Python 3",
   "language": "python",
   "name": "python3"
  },
  "language_info": {
   "codemirror_mode": {
    "name": "ipython",
    "version": 3
   },
   "file_extension": ".py",
   "mimetype": "text/x-python",
   "name": "python",
   "nbconvert_exporter": "python",
   "pygments_lexer": "ipython3",
   "version": "3.6.9"
  }
 },
 "nbformat": 4,
 "nbformat_minor": 4
}
