{
 "cells": [
  {
   "cell_type": "markdown",
   "metadata": {},
   "source": [
    "### Generalized Addative Model for Panel Data\n",
    "\n",
    "https://www.statsmodels.org/devel/mixed_linear.html\n",
    "\n",
    "https://www.statsmodels.org/devel/gam.html\n",
    "\n",
    "https://pygam.readthedocs.io/en/latest/notebooks/tour_of_pygam.html\n",
    "\n",
    "#### Modeling Framework \n",
    "    1. Fit 3 models for each type of data \n",
    "        * GAM and / or spline model - because we have panel data \n",
    "    2. Tune spline parameters \n",
    "    3. Train / test split - not cross validate \n",
    "        * work on back testing modeling framework \n",
    "    4. Output: \n",
    "        1. Prediction\n",
    "        2. A notion of variance or uncertainty for optimization \n",
    "    5. Pipeline to injest new data "
   ]
  },
  {
   "cell_type": "markdown",
   "metadata": {},
   "source": [
    "#### Loading Google API Utilities and Stats Packages"
   ]
  },
  {
   "cell_type": "code",
   "execution_count": 1,
   "metadata": {},
   "outputs": [],
   "source": [
    "#importing statsmodels packages\n",
    "import statsmodels.api as sm\n",
    "\n",
    "from statsmodels.gam.api import GLMGam, BSplines\n",
    "\n",
    "import statsmodels.formula.api as smf"
   ]
  },
  {
   "cell_type": "code",
   "execution_count": 2,
   "metadata": {},
   "outputs": [],
   "source": [
    "#%load ../api_access_snippet.py\n",
    "#import library\n",
    "import gspread \n",
    "#Service client credential from oauth2client\n",
    "from oauth2client.service_account import ServiceAccountCredentials\n",
    "# Print nicely\n",
    "import pprint\n",
    "#Create scope\n",
    "scope = ['https://spreadsheets.google.com/feeds', 'https://www.googleapis.com/auth/drive']\n",
    "#create some credential using that scope and content of startup_funding.json\n",
    "creds = ServiceAccountCredentials.from_json_keyfile_name('../quickstart/g_sheet_creds.json',scope)\n",
    "#create gspread authorize using that credential\n",
    "client = gspread.authorize(creds)\n",
    "my_email = 'matthewjchristy66@gmail.com'\n",
    "\n",
    "def read_file(sheet_name):\n",
    "    out = client.open(sheet_name).sheet1\n",
    "    out = out.get_all_values()\n",
    "    out = pd.DataFrame(out, columns = out.pop(0))\n",
    "    return(out)\n",
    "\n",
    "import pandas as pd \n",
    "import numpy as np"
   ]
  },
  {
   "cell_type": "code",
   "execution_count": 3,
   "metadata": {},
   "outputs": [],
   "source": [
    "from matplotlib import pyplot as plt\n",
    "%matplotlib inline"
   ]
  },
  {
   "cell_type": "markdown",
   "metadata": {},
   "source": [
    "#### Reading the data "
   ]
  },
  {
   "cell_type": "code",
   "execution_count": 5,
   "metadata": {},
   "outputs": [],
   "source": [
    "passing = read_file('passing_data_model_ready')\n",
    "rec = read_file('receiving_data_model_ready')\n",
    "rush = read_file('rushing_data_model_ready')"
   ]
  },
  {
   "cell_type": "markdown",
   "metadata": {},
   "source": [
    "#### Data Pred & Cleaning "
   ]
  },
  {
   "cell_type": "code",
   "execution_count": 6,
   "metadata": {},
   "outputs": [],
   "source": [
    "lags = passing.columns[passing.columns.str.contains(pat = 'lag\\d_')].tolist()\n",
    "ratio = ['yds_ratio', 'rate_ratio', 'fantasy_pts_ratio']\n",
    "target = ['passing_fantasy_pts']\n",
    "factors = ['Name', 'Team']"
   ]
  },
  {
   "cell_type": "code",
   "execution_count": 7,
   "metadata": {},
   "outputs": [],
   "source": [
    "#getting the float vars set up \n",
    "fix = lags + ratio + target\n",
    "\n",
    "passing[fix] = passing[fix].astype(float)"
   ]
  },
  {
   "cell_type": "code",
   "execution_count": null,
   "metadata": {},
   "outputs": [],
   "source": [
    "#fixing ratios \n",
    "passing = passing.replace(np.inf, 0)"
   ]
  },
  {
   "cell_type": "code",
   "execution_count": 8,
   "metadata": {},
   "outputs": [
    {
     "data": {
      "text/html": [
       "<div>\n",
       "<style scoped>\n",
       "    .dataframe tbody tr th:only-of-type {\n",
       "        vertical-align: middle;\n",
       "    }\n",
       "\n",
       "    .dataframe tbody tr th {\n",
       "        vertical-align: top;\n",
       "    }\n",
       "\n",
       "    .dataframe thead th {\n",
       "        text-align: right;\n",
       "    }\n",
       "</style>\n",
       "<table border=\"1\" class=\"dataframe\">\n",
       "  <thead>\n",
       "    <tr style=\"text-align: right;\">\n",
       "      <th></th>\n",
       "      <th>passing_fantasy_pts</th>\n",
       "      <th>lag3_Yds</th>\n",
       "      <th>lag3_TD</th>\n",
       "      <th>lag3_Rate</th>\n",
       "      <th>lag3_passing_fantasy_pts</th>\n",
       "      <th>lag1_Yds</th>\n",
       "      <th>lag1_TD</th>\n",
       "      <th>lag1_Rate</th>\n",
       "      <th>lag1_passing_fantasy_pts</th>\n",
       "      <th>yds_ratio</th>\n",
       "      <th>rate_ratio</th>\n",
       "      <th>fantasy_pts_ratio</th>\n",
       "    </tr>\n",
       "  </thead>\n",
       "  <tbody>\n",
       "    <tr>\n",
       "      <th>count</th>\n",
       "      <td>621.000000</td>\n",
       "      <td>621.000000</td>\n",
       "      <td>621.000000</td>\n",
       "      <td>621.000000</td>\n",
       "      <td>621.000000</td>\n",
       "      <td>621.000000</td>\n",
       "      <td>621.000000</td>\n",
       "      <td>621.000000</td>\n",
       "      <td>621.000000</td>\n",
       "      <td>621.000000</td>\n",
       "      <td>621.000000</td>\n",
       "      <td>621.000000</td>\n",
       "    </tr>\n",
       "    <tr>\n",
       "      <th>mean</th>\n",
       "      <td>13.437101</td>\n",
       "      <td>208.350510</td>\n",
       "      <td>1.309179</td>\n",
       "      <td>88.715942</td>\n",
       "      <td>13.570735</td>\n",
       "      <td>207.586151</td>\n",
       "      <td>1.283414</td>\n",
       "      <td>87.680354</td>\n",
       "      <td>13.437101</td>\n",
       "      <td>inf</td>\n",
       "      <td>inf</td>\n",
       "      <td>inf</td>\n",
       "    </tr>\n",
       "    <tr>\n",
       "      <th>std</th>\n",
       "      <td>8.420377</td>\n",
       "      <td>98.232893</td>\n",
       "      <td>0.891742</td>\n",
       "      <td>26.032002</td>\n",
       "      <td>6.947738</td>\n",
       "      <td>112.130789</td>\n",
       "      <td>1.223506</td>\n",
       "      <td>32.331005</td>\n",
       "      <td>8.420377</td>\n",
       "      <td>NaN</td>\n",
       "      <td>NaN</td>\n",
       "      <td>NaN</td>\n",
       "    </tr>\n",
       "    <tr>\n",
       "      <th>min</th>\n",
       "      <td>-0.080000</td>\n",
       "      <td>-2.000000</td>\n",
       "      <td>0.000000</td>\n",
       "      <td>0.000000</td>\n",
       "      <td>-0.080000</td>\n",
       "      <td>-2.000000</td>\n",
       "      <td>0.000000</td>\n",
       "      <td>0.000000</td>\n",
       "      <td>-0.080000</td>\n",
       "      <td>0.000000</td>\n",
       "      <td>0.000000</td>\n",
       "      <td>0.000000</td>\n",
       "    </tr>\n",
       "    <tr>\n",
       "      <th>25%</th>\n",
       "      <td>7.320000</td>\n",
       "      <td>171.333333</td>\n",
       "      <td>0.666667</td>\n",
       "      <td>75.133333</td>\n",
       "      <td>10.306667</td>\n",
       "      <td>148.000000</td>\n",
       "      <td>0.000000</td>\n",
       "      <td>69.000000</td>\n",
       "      <td>7.320000</td>\n",
       "      <td>0.857310</td>\n",
       "      <td>0.883714</td>\n",
       "      <td>0.800000</td>\n",
       "    </tr>\n",
       "    <tr>\n",
       "      <th>50%</th>\n",
       "      <td>13.320000</td>\n",
       "      <td>229.333333</td>\n",
       "      <td>1.333333</td>\n",
       "      <td>90.433333</td>\n",
       "      <td>14.640000</td>\n",
       "      <td>220.000000</td>\n",
       "      <td>1.000000</td>\n",
       "      <td>87.900000</td>\n",
       "      <td>13.320000</td>\n",
       "      <td>1.000000</td>\n",
       "      <td>1.000000</td>\n",
       "      <td>1.000000</td>\n",
       "    </tr>\n",
       "    <tr>\n",
       "      <th>75%</th>\n",
       "      <td>19.120000</td>\n",
       "      <td>276.666667</td>\n",
       "      <td>2.000000</td>\n",
       "      <td>104.066667</td>\n",
       "      <td>18.213333</td>\n",
       "      <td>285.000000</td>\n",
       "      <td>2.000000</td>\n",
       "      <td>111.200000</td>\n",
       "      <td>19.120000</td>\n",
       "      <td>1.163708</td>\n",
       "      <td>1.164144</td>\n",
       "      <td>1.290395</td>\n",
       "    </tr>\n",
       "    <tr>\n",
       "      <th>max</th>\n",
       "      <td>37.160000</td>\n",
       "      <td>418.000000</td>\n",
       "      <td>5.000000</td>\n",
       "      <td>158.300000</td>\n",
       "      <td>32.960000</td>\n",
       "      <td>517.000000</td>\n",
       "      <td>5.000000</td>\n",
       "      <td>158.300000</td>\n",
       "      <td>37.160000</td>\n",
       "      <td>inf</td>\n",
       "      <td>inf</td>\n",
       "      <td>inf</td>\n",
       "    </tr>\n",
       "  </tbody>\n",
       "</table>\n",
       "</div>"
      ],
      "text/plain": [
       "       passing_fantasy_pts    lag3_Yds     lag3_TD   lag3_Rate  \\\n",
       "count           621.000000  621.000000  621.000000  621.000000   \n",
       "mean             13.437101  208.350510    1.309179   88.715942   \n",
       "std               8.420377   98.232893    0.891742   26.032002   \n",
       "min              -0.080000   -2.000000    0.000000    0.000000   \n",
       "25%               7.320000  171.333333    0.666667   75.133333   \n",
       "50%              13.320000  229.333333    1.333333   90.433333   \n",
       "75%              19.120000  276.666667    2.000000  104.066667   \n",
       "max              37.160000  418.000000    5.000000  158.300000   \n",
       "\n",
       "       lag3_passing_fantasy_pts    lag1_Yds     lag1_TD   lag1_Rate  \\\n",
       "count                621.000000  621.000000  621.000000  621.000000   \n",
       "mean                  13.570735  207.586151    1.283414   87.680354   \n",
       "std                    6.947738  112.130789    1.223506   32.331005   \n",
       "min                   -0.080000   -2.000000    0.000000    0.000000   \n",
       "25%                   10.306667  148.000000    0.000000   69.000000   \n",
       "50%                   14.640000  220.000000    1.000000   87.900000   \n",
       "75%                   18.213333  285.000000    2.000000  111.200000   \n",
       "max                   32.960000  517.000000    5.000000  158.300000   \n",
       "\n",
       "       lag1_passing_fantasy_pts   yds_ratio  rate_ratio  fantasy_pts_ratio  \n",
       "count                621.000000  621.000000  621.000000         621.000000  \n",
       "mean                  13.437101         inf         inf                inf  \n",
       "std                    8.420377         NaN         NaN                NaN  \n",
       "min                   -0.080000    0.000000    0.000000           0.000000  \n",
       "25%                    7.320000    0.857310    0.883714           0.800000  \n",
       "50%                   13.320000    1.000000    1.000000           1.000000  \n",
       "75%                   19.120000    1.163708    1.164144           1.290395  \n",
       "max                   37.160000         inf         inf                inf  "
      ]
     },
     "execution_count": 8,
     "metadata": {},
     "output_type": "execute_result"
    }
   ],
   "source": [
    "passing.describe()"
   ]
  },
  {
   "cell_type": "code",
   "execution_count": 9,
   "metadata": {},
   "outputs": [
    {
     "data": {
      "image/png": "[encoded data removed]",
      "text/plain": [
       "<Figure size 432x288 with 1 Axes>"
      ]
     },
     "metadata": {
      "needs_background": "light"
     },
     "output_type": "display_data"
    }
   ],
   "source": [
    "passing.passing_fantasy_pts.hist()\n",
    "plt.show()"
   ]
  },
  {
   "cell_type": "markdown",
   "metadata": {},
   "source": [
    "### Fitting GAM with Stats Models"
   ]
  },
  {
   "cell_type": "code",
   "execution_count": 15,
   "metadata": {},
   "outputs": [],
   "source": [
    "inputs = lags + ratio\n",
    "f = 'passing_fantasy_pts ~ lag3_Yds + lag3_TD + lag3_Rate + lag3_passing_fantasy_pts + lag1_Yds + lag1_TD + lag1_Rate + lag1_passing_fantasy_pts + yds_ratio + rate_ratio + fantasy_pts_ratio'"
   ]
  },
  {
   "cell_type": "code",
   "execution_count": 16,
   "metadata": {},
   "outputs": [
    {
     "name": "stdout",
     "output_type": "stream",
     "text": [
      "['lag3_Yds', 'lag3_TD', 'lag3_Rate', 'lag3_passing_fantasy_pts', 'lag1_Yds', 'lag1_TD', 'lag1_Rate', 'lag1_passing_fantasy_pts', 'yds_ratio', 'rate_ratio', 'fantasy_pts_ratio']\n",
      "passing_fantasy_pts ~ lag3_Yds + lag3_TD + lag3_Rate + lag3_passing_fantasy_pts + lag1_Yds + lag1_TD + lag1_Rate + lag1_passing_fantasy_pts + yds_ratio + rate_ratio + fantasy_pts_ratio\n"
     ]
    }
   ],
   "source": [
    "print(inputs)\n",
    "print(f)"
   ]
  },
  {
   "cell_type": "code",
   "execution_count": 17,
   "metadata": {},
   "outputs": [],
   "source": [
    "pass_mdl_data = passing[target + inputs]"
   ]
  },
  {
   "cell_type": "code",
   "execution_count": 18,
   "metadata": {},
   "outputs": [],
   "source": [
    "complexity = 3\n",
    "num_vars = len(inputs)\n",
    "\n",
    "df_iter = np.repeat(complexity, num_vars)\n",
    "degrees = np.repeat(complexity - 1, num_vars)"
   ]
  },
  {
   "cell_type": "code",
   "execution_count": 19,
   "metadata": {},
   "outputs": [],
   "source": [
    "x_spline = passing[inputs]\n",
    "\n",
    "bs = BSplines(x_spline, df = df_iter, degree = degrees)"
   ]
  },
  {
   "cell_type": "code",
   "execution_count": 20,
   "metadata": {},
   "outputs": [],
   "source": [
    "pass_gam = GLMGam.from_formula(f, data = pass_mdl_data, smoother = bs)"
   ]
  },
  {
   "cell_type": "code",
   "execution_count": 26,
   "metadata": {},
   "outputs": [
    {
     "ename": "PerfectSeparationError",
     "evalue": "Perfect separation detected, results not available",
     "output_type": "error",
     "traceback": [
      "\u001b[1;31m---------------------------------------------------------------------------\u001b[0m",
      "\u001b[1;31mPerfectSeparationError\u001b[0m                    Traceback (most recent call last)",
      "\u001b[1;32m<ipython-input-26-82370c095fd3>\u001b[0m in \u001b[0;36m<module>\u001b[1;34m\u001b[0m\n\u001b[1;32m----> 1\u001b[1;33m \u001b[0mpass_results\u001b[0m \u001b[1;33m=\u001b[0m \u001b[0mpass_gam\u001b[0m\u001b[1;33m.\u001b[0m\u001b[0mfit\u001b[0m\u001b[1;33m(\u001b[0m\u001b[1;33m)\u001b[0m\u001b[1;33m\u001b[0m\u001b[1;33m\u001b[0m\u001b[0m\n\u001b[0m",
      "\u001b[1;32m~\\.julia\\conda\\3\\lib\\site-packages\\statsmodels\\gam\\generalized_additive_model.py\u001b[0m in \u001b[0;36mfit\u001b[1;34m(self, start_params, maxiter, method, tol, scale, cov_type, cov_kwds, use_t, full_output, disp, max_start_irls, **kwargs)\u001b[0m\n\u001b[0;32m    642\u001b[0m                                   \u001b[0mmaxiter\u001b[0m\u001b[1;33m=\u001b[0m\u001b[0mmaxiter\u001b[0m\u001b[1;33m,\u001b[0m \u001b[0mtol\u001b[0m\u001b[1;33m=\u001b[0m\u001b[0mtol\u001b[0m\u001b[1;33m,\u001b[0m \u001b[0mscale\u001b[0m\u001b[1;33m=\u001b[0m\u001b[0mscale\u001b[0m\u001b[1;33m,\u001b[0m\u001b[1;33m\u001b[0m\u001b[1;33m\u001b[0m\u001b[0m\n\u001b[0;32m    643\u001b[0m                                   \u001b[0mcov_type\u001b[0m\u001b[1;33m=\u001b[0m\u001b[0mcov_type\u001b[0m\u001b[1;33m,\u001b[0m \u001b[0mcov_kwds\u001b[0m\u001b[1;33m=\u001b[0m\u001b[0mcov_kwds\u001b[0m\u001b[1;33m,\u001b[0m\u001b[1;33m\u001b[0m\u001b[1;33m\u001b[0m\u001b[0m\n\u001b[1;32m--> 644\u001b[1;33m                                   use_t=use_t, **kwargs)\n\u001b[0m\u001b[0;32m    645\u001b[0m         \u001b[1;32melse\u001b[0m\u001b[1;33m:\u001b[0m\u001b[1;33m\u001b[0m\u001b[1;33m\u001b[0m\u001b[0m\n\u001b[0;32m    646\u001b[0m             \u001b[1;32mif\u001b[0m \u001b[0mmax_start_irls\u001b[0m \u001b[1;33m>\u001b[0m \u001b[1;36m0\u001b[0m \u001b[1;32mand\u001b[0m \u001b[1;33m(\u001b[0m\u001b[0mstart_params\u001b[0m \u001b[1;32mis\u001b[0m \u001b[1;32mNone\u001b[0m\u001b[1;33m)\u001b[0m\u001b[1;33m:\u001b[0m\u001b[1;33m\u001b[0m\u001b[1;33m\u001b[0m\u001b[0m\n",
      "\u001b[1;32m~\\.julia\\conda\\3\\lib\\site-packages\\statsmodels\\gam\\generalized_additive_model.py\u001b[0m in \u001b[0;36m_fit_pirls\u001b[1;34m(self, alpha, start_params, maxiter, tol, scale, cov_type, cov_kwds, use_t, weights)\u001b[0m\n\u001b[0;32m    741\u001b[0m             \u001b[1;32mif\u001b[0m \u001b[0mendog\u001b[0m\u001b[1;33m.\u001b[0m\u001b[0msqueeze\u001b[0m\u001b[1;33m(\u001b[0m\u001b[1;33m)\u001b[0m\u001b[1;33m.\u001b[0m\u001b[0mndim\u001b[0m \u001b[1;33m==\u001b[0m \u001b[1;36m1\u001b[0m \u001b[1;32mand\u001b[0m \u001b[0mnp\u001b[0m\u001b[1;33m.\u001b[0m\u001b[0mallclose\u001b[0m\u001b[1;33m(\u001b[0m\u001b[0mmu\u001b[0m \u001b[1;33m-\u001b[0m \u001b[0mendog\u001b[0m\u001b[1;33m,\u001b[0m \u001b[1;36m0\u001b[0m\u001b[1;33m)\u001b[0m\u001b[1;33m:\u001b[0m\u001b[1;33m\u001b[0m\u001b[1;33m\u001b[0m\u001b[0m\n\u001b[0;32m    742\u001b[0m                 \u001b[0mmsg\u001b[0m \u001b[1;33m=\u001b[0m \u001b[1;34m\"Perfect separation detected, results not available\"\u001b[0m\u001b[1;33m\u001b[0m\u001b[1;33m\u001b[0m\u001b[0m\n\u001b[1;32m--> 743\u001b[1;33m                 \u001b[1;32mraise\u001b[0m \u001b[0mPerfectSeparationError\u001b[0m\u001b[1;33m(\u001b[0m\u001b[0mmsg\u001b[0m\u001b[1;33m)\u001b[0m\u001b[1;33m\u001b[0m\u001b[1;33m\u001b[0m\u001b[0m\n\u001b[0m\u001b[0;32m    744\u001b[0m \u001b[1;33m\u001b[0m\u001b[0m\n\u001b[0;32m    745\u001b[0m             \u001b[1;31m# TODO need atol, rtol\u001b[0m\u001b[1;33m\u001b[0m\u001b[1;33m\u001b[0m\u001b[1;33m\u001b[0m\u001b[0m\n",
      "\u001b[1;31mPerfectSeparationError\u001b[0m: Perfect separation detected, results not available"
     ]
    }
   ],
   "source": [
    "pass_results = pass_gam.fit()"
   ]
  },
  {
   "cell_type": "code",
   "execution_count": 21,
   "metadata": {},
   "outputs": [
    {
     "data": {
      "text/html": [
       "<div>\n",
       "<style scoped>\n",
       "    .dataframe tbody tr th:only-of-type {\n",
       "        vertical-align: middle;\n",
       "    }\n",
       "\n",
       "    .dataframe tbody tr th {\n",
       "        vertical-align: top;\n",
       "    }\n",
       "\n",
       "    .dataframe thead th {\n",
       "        text-align: right;\n",
       "    }\n",
       "</style>\n",
       "<table border=\"1\" class=\"dataframe\">\n",
       "  <thead>\n",
       "    <tr style=\"text-align: right;\">\n",
       "      <th></th>\n",
       "      <th>passing_fantasy_pts</th>\n",
       "      <th>lag3_Yds</th>\n",
       "      <th>lag3_TD</th>\n",
       "      <th>lag3_Rate</th>\n",
       "      <th>lag3_passing_fantasy_pts</th>\n",
       "      <th>lag1_Yds</th>\n",
       "      <th>lag1_TD</th>\n",
       "      <th>lag1_Rate</th>\n",
       "      <th>lag1_passing_fantasy_pts</th>\n",
       "      <th>yds_ratio</th>\n",
       "      <th>rate_ratio</th>\n",
       "      <th>fantasy_pts_ratio</th>\n",
       "    </tr>\n",
       "  </thead>\n",
       "  <tbody>\n",
       "    <tr>\n",
       "      <th>0</th>\n",
       "      <td>24.72</td>\n",
       "      <td>418.0</td>\n",
       "      <td>2.0</td>\n",
       "      <td>106.5</td>\n",
       "      <td>24.72</td>\n",
       "      <td>418.0</td>\n",
       "      <td>2.0</td>\n",
       "      <td>106.5</td>\n",
       "      <td>24.72</td>\n",
       "      <td>1.0</td>\n",
       "      <td>1.0</td>\n",
       "      <td>1.0</td>\n",
       "    </tr>\n",
       "    <tr>\n",
       "      <th>1</th>\n",
       "      <td>32.20</td>\n",
       "      <td>405.0</td>\n",
       "      <td>4.0</td>\n",
       "      <td>158.3</td>\n",
       "      <td>32.20</td>\n",
       "      <td>405.0</td>\n",
       "      <td>4.0</td>\n",
       "      <td>158.3</td>\n",
       "      <td>32.20</td>\n",
       "      <td>1.0</td>\n",
       "      <td>1.0</td>\n",
       "      <td>1.0</td>\n",
       "    </tr>\n",
       "    <tr>\n",
       "      <th>2</th>\n",
       "      <td>27.40</td>\n",
       "      <td>385.0</td>\n",
       "      <td>3.0</td>\n",
       "      <td>110.0</td>\n",
       "      <td>27.40</td>\n",
       "      <td>385.0</td>\n",
       "      <td>3.0</td>\n",
       "      <td>110.0</td>\n",
       "      <td>27.40</td>\n",
       "      <td>1.0</td>\n",
       "      <td>1.0</td>\n",
       "      <td>1.0</td>\n",
       "    </tr>\n",
       "    <tr>\n",
       "      <th>3</th>\n",
       "      <td>27.20</td>\n",
       "      <td>380.0</td>\n",
       "      <td>3.0</td>\n",
       "      <td>117.6</td>\n",
       "      <td>27.20</td>\n",
       "      <td>380.0</td>\n",
       "      <td>3.0</td>\n",
       "      <td>117.6</td>\n",
       "      <td>27.20</td>\n",
       "      <td>1.0</td>\n",
       "      <td>1.0</td>\n",
       "      <td>1.0</td>\n",
       "    </tr>\n",
       "    <tr>\n",
       "      <th>4</th>\n",
       "      <td>27.12</td>\n",
       "      <td>378.0</td>\n",
       "      <td>3.0</td>\n",
       "      <td>143.2</td>\n",
       "      <td>27.12</td>\n",
       "      <td>378.0</td>\n",
       "      <td>3.0</td>\n",
       "      <td>143.2</td>\n",
       "      <td>27.12</td>\n",
       "      <td>1.0</td>\n",
       "      <td>1.0</td>\n",
       "      <td>1.0</td>\n",
       "    </tr>\n",
       "  </tbody>\n",
       "</table>\n",
       "</div>"
      ],
      "text/plain": [
       "   passing_fantasy_pts  lag3_Yds  lag3_TD  lag3_Rate  \\\n",
       "0                24.72     418.0      2.0      106.5   \n",
       "1                32.20     405.0      4.0      158.3   \n",
       "2                27.40     385.0      3.0      110.0   \n",
       "3                27.20     380.0      3.0      117.6   \n",
       "4                27.12     378.0      3.0      143.2   \n",
       "\n",
       "   lag3_passing_fantasy_pts  lag1_Yds  lag1_TD  lag1_Rate  \\\n",
       "0                     24.72     418.0      2.0      106.5   \n",
       "1                     32.20     405.0      4.0      158.3   \n",
       "2                     27.40     385.0      3.0      110.0   \n",
       "3                     27.20     380.0      3.0      117.6   \n",
       "4                     27.12     378.0      3.0      143.2   \n",
       "\n",
       "   lag1_passing_fantasy_pts  yds_ratio  rate_ratio  fantasy_pts_ratio  \n",
       "0                     24.72        1.0         1.0                1.0  \n",
       "1                     32.20        1.0         1.0                1.0  \n",
       "2                     27.40        1.0         1.0                1.0  \n",
       "3                     27.20        1.0         1.0                1.0  \n",
       "4                     27.12        1.0         1.0                1.0  "
      ]
     },
     "execution_count": 21,
     "metadata": {},
     "output_type": "execute_result"
    }
   ],
   "source": [
    "pass_mdl_data.head()"
   ]
  },
  {
   "cell_type": "code",
   "execution_count": 25,
   "metadata": {},
   "outputs": [
    {
     "data": {
      "text/plain": [
       "<statsmodels.gam.generalized_additive_model.GLMGam at 0x1c2f022fac8>"
      ]
     },
     "execution_count": 25,
     "metadata": {},
     "output_type": "execute_result"
    }
   ],
   "source": [
    "pass_gam."
   ]
  },
  {
   "cell_type": "markdown",
   "metadata": {},
   "source": [
    "#### Using pyGAM to fit the GAM"
   ]
  },
  {
   "cell_type": "code",
   "execution_count": null,
   "metadata": {},
   "outputs": [],
   "source": [
    "from pygam import linearnGAM\n",
    "from sklearn.model_selection import train_test_split\n",
    "from sklearn.metrics import accuracy_score\n",
    "from sklearn.metrics import log_loss"
   ]
  },
  {
   "cell_type": "code",
   "execution_count": null,
   "metadata": {},
   "outputs": [],
   "source": [
    "#tuning grid bs \n",
    "lams = np.random.rand(100, 11)\n",
    "lams = lams * 11 - 3\n",
    "lams = np.exp(lams)\n",
    "splines = [2, 4, 6, 10, 12]\n",
    "constraint_sets = ['monotonic_inc', 'concave', 'None']"
   ]
  },
  {
   "cell_type": "code",
   "execution_count": null,
   "metadata": {},
   "outputs": [],
   "source": [
    "#setting up the data \n",
    "x = "
   ]
  }
 ],
 "metadata": {
  "kernelspec": {
   "display_name": "Python 3",
   "language": "python",
   "name": "python3"
  },
  "language_info": {
   "codemirror_mode": {
    "name": "ipython",
    "version": 3
   },
   "file_extension": ".py",
   "mimetype": "text/x-python",
   "name": "python",
   "nbconvert_exporter": "python",
   "pygments_lexer": "ipython3",
   "version": "3.6.9"
  }
 },
 "nbformat": 4,
 "nbformat_minor": 4
}
