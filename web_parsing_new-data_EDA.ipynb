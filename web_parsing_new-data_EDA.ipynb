{
 "cells": [
  {
   "cell_type": "markdown",
   "metadata": {},
   "source": [
    "## Web Scraping and Writing to Google Sheets\n",
    "    1. Get the data and parse with requests, lxml and Beatiful Soup \n",
    "    2. Data wrange into dictionaries \n",
    "    3. Create Pandas DF and clean the data\n",
    "    4. Write to Google Sheets "
   ]
  },
  {
   "cell_type": "code",
   "execution_count": null,
   "metadata": {},
   "outputs": [],
   "source": [
    "from requests import get \n",
    "import lxml.html as lh\n",
    "import pandas as pd\n",
    "from bs4 import BeautifulSoup "
   ]
  },
  {
   "cell_type": "code",
   "execution_count": null,
   "metadata": {},
   "outputs": [],
   "source": [
    "#imputing URL and creating header creds for parsing \n",
    "url = 'http://www.nfl.com/stats/weeklyleaders?week=15&season=2019&showCategory=Passing'\n",
    "my_header = {'User-Agent': 'Mozilla/5.0 (Windows NT 10.0; Win64; x64) AppleWebKit/537.36 (KHTML, like Gecko) Chrome/78.0.3904.97 Safari/537.36'}\n"
   ]
  },
  {
   "cell_type": "code",
   "execution_count": null,
   "metadata": {},
   "outputs": [],
   "source": [
    "#grabbing the HTML and getting text \n",
    "fantasy_page = get(url, headers = my_header)\n",
    "\n",
    "doc = lh.fromstring(fantasy_page.content)"
   ]
  },
  {
   "cell_type": "code",
   "execution_count": null,
   "metadata": {},
   "outputs": [],
   "source": [
    "print(fantasy_page)"
   ]
  },
  {
   "cell_type": "markdown",
   "metadata": {},
   "source": [
    "Response == 200 means the page scraped successfully "
   ]
  },
  {
   "cell_type": "code",
   "execution_count": null,
   "metadata": {},
   "outputs": [],
   "source": [
    "#parsing table elements in the HTML inside the pattern \"//tr\" --> this is a table element \n",
    "\n",
    "table_elements = doc.xpath('//tr')"
   ]
  },
  {
   "cell_type": "code",
   "execution_count": null,
   "metadata": {},
   "outputs": [],
   "source": [
    "#[len(T) for T in table_elements[:-1]]"
   ]
  },
  {
   "cell_type": "code",
   "execution_count": null,
   "metadata": {},
   "outputs": [],
   "source": [
    "title = doc.xpath('//tr//th')"
   ]
  },
  {
   "cell_type": "code",
   "execution_count": null,
   "metadata": {},
   "outputs": [],
   "source": [
    "colnames = []\n",
    "\n",
    "n = len(title)\n",
    "\n",
    "for i in range(0, n):\n",
    "    name = title[i].text_content()\n",
    "    colnames.append(name)\n",
    "    #print(i) \n"
   ]
  },
  {
   "cell_type": "code",
   "execution_count": null,
   "metadata": {},
   "outputs": [],
   "source": [
    "colnames"
   ]
  },
  {
   "cell_type": "code",
   "execution_count": null,
   "metadata": {},
   "outputs": [],
   "source": [
    "#creating an empty array to insert the table elements \n",
    "cols = []\n",
    "\n",
    "i = 0 #setting the increment \n",
    "\n",
    "for j in range(0, len(colnames)):\n",
    "    i+1\n",
    "    name = colnames[j] #getting the column name from the HTML table \n",
    "    #print('%d:\"%s\"'% (i, name))\n",
    "    cols.append((name, []))\n",
    "    "
   ]
  },
  {
   "cell_type": "code",
   "execution_count": null,
   "metadata": {},
   "outputs": [],
   "source": [
    "#Since out first row is the header, data is stored on the second row onwards\n",
    "\n",
    "for j in range(1,len(table_elements)):\n",
    "    #T is our j'th row\n",
    "    T=table_elements[j]\n",
    "    \n",
    "    #If row is not of size 24, the //tr data is not from our table \n",
    "    if len(T)!=12:\n",
    "        break\n",
    "    \n",
    "    #i is the index of our column\n",
    "    i=0\n",
    "    \n",
    "    #Iterate through each element of the row\n",
    "    for t in T.iterchildren():\n",
    "        data=t.text_content() \n",
    "\n",
    "        #Append the data to the empty list of the i'th column\n",
    "        cols[i][1].append(data)\n",
    "        #Increment i for the next column\n",
    "        i+=1"
   ]
  },
  {
   "cell_type": "code",
   "execution_count": null,
   "metadata": {},
   "outputs": [],
   "source": [
    "#creating a dictionary for the columns in the parsed table \n",
    "Dict={title:column for (title,column) in cols}\n",
    "\n",
    "df=pd.DataFrame(Dict)"
   ]
  },
  {
   "cell_type": "code",
   "execution_count": null,
   "metadata": {},
   "outputs": [],
   "source": [
    "df"
   ]
  },
  {
   "cell_type": "markdown",
   "metadata": {},
   "source": [
    "### Light data cleaning \n",
    "    1. Dropping the \"Rk\" row because it is empty \n",
    "    2. Dropping a blank column used for formatting in the HTML "
   ]
  },
  {
   "cell_type": "code",
   "execution_count": null,
   "metadata": {},
   "outputs": [],
   "source": [
    "escapes = ''.join([chr(char) for char in range(1, 32)])\n",
    "\n",
    "translator = str.maketrans('', '', escapes)"
   ]
  },
  {
   "cell_type": "code",
   "execution_count": null,
   "metadata": {},
   "outputs": [],
   "source": [
    "df.columns = df.columns.str.translate(translator)"
   ]
  },
  {
   "cell_type": "code",
   "execution_count": null,
   "metadata": {},
   "outputs": [],
   "source": [
    "fixed = ['Name', 'Team', 'Opp', 'Score']\n",
    "\n",
    "for i in fixed:\n",
    "    df.loc[:, i] = df.loc[:, i].str.translate(translator)"
   ]
  },
  {
   "cell_type": "code",
   "execution_count": null,
   "metadata": {},
   "outputs": [],
   "source": [
    "df"
   ]
  },
  {
   "cell_type": "markdown",
   "metadata": {},
   "source": [
    "#### Data Validation with Pydantic "
   ]
  },
  {
   "cell_type": "code",
   "execution_count": null,
   "metadata": {},
   "outputs": [],
   "source": [
    "df.columns"
   ]
  },
  {
   "cell_type": "code",
   "execution_count": null,
   "metadata": {},
   "outputs": [],
   "source": [
    "from pydantic import BaseModel\n",
    "\n",
    "class scrapped_passing(BaseModel):\n",
    "    Name: str\n",
    "    Team: str\n",
    "    Opp: str \n",
    "    Score: str \n",
    "    Comp: int \n",
    "    Att: int \n",
    "    Yds: float\n",
    "    TD: int \n",
    "    Int: int\n",
    "    Sck: int\n",
    "    FUM: int\n",
    "    Rate: float\n",
    "\n",
    "class scrapped_recieving(BaseModel):\n",
    "    Name: str\n",
    "    Team: str\n",
    "    Opp: str \n",
    "    Score: str\n",
    "    Rec: int \n",
    "    Yds: float\n",
    "    Avg: float \n",
    "    TD: int\n",
    "    Fum: int \n",
    "        \n",
    "class scrapped_rushing(BaseModel):\n",
    "    Name: str\n",
    "    Team: str\n",
    "    Opp: str \n",
    "    Score: str\n",
    "    Rec: int \n",
    "    Yds: float\n",
    "    Avg: float \n",
    "    TD: int\n",
    "    Fum: int "
   ]
  },
  {
   "cell_type": "code",
   "execution_count": null,
   "metadata": {},
   "outputs": [],
   "source": [
    "scraped_passing(Name = df.loc[:, 'Name'],\n",
    "               Team = df.loc[:, 'Team'],\n",
    "               Opp = df.loc[:, 'Opp'],\n",
    "               Score = df.loc[:, 'Score'],\n",
    "               Comp = df.loc[:, 'Comp'],\n",
    "               Att = df.loc[:, 'Att'],\n",
    "               Tds = df.loc[:, 'Yds'],\n",
    "               TD = df.loc[:, 'TD'],\n",
    "               Int = df.loc[:, 'Int'],\n",
    "               Sck = df.loc[:, 'Sck'],\n",
    "               FUM = df.loc[:, 'FUM'],\n",
    "               Rate = df.loc[:, 'Rate'])"
   ]
  },
  {
   "cell_type": "code",
   "execution_count": null,
   "metadata": {},
   "outputs": [],
   "source": [
    "df.dtypes"
   ]
  },
  {
   "cell_type": "code",
   "execution_count": null,
   "metadata": {},
   "outputs": [],
   "source": [
    "#Grapping Parameters for looping \n",
    "n_rows = df.shape[0]\n",
    "n_cols = df.shape[1]"
   ]
  },
  {
   "cell_type": "code",
   "execution_count": null,
   "metadata": {},
   "outputs": [],
   "source": [
    "#import library\n",
    "import gspread \n",
    "#Service client credential from oauth2client\n",
    "from oauth2client.service_account import ServiceAccountCredentials\n",
    "# Print nicely\n",
    "import pprint\n",
    "#Create scope\n",
    "scope = ['https://spreadsheets.google.com/feeds', 'https://www.googleapis.com/auth/drive']\n",
    "#create some credential using that scope and content of startup_funding.json\n",
    "creds = ServiceAccountCredentials.from_json_keyfile_name('quickstart/g_sheet_creds.json',scope)\n",
    "#create gspread authorize using that credential\n",
    "client = gspread.authorize(creds)"
   ]
  },
  {
   "cell_type": "code",
   "execution_count": null,
   "metadata": {},
   "outputs": [],
   "source": [
    "# creating a new sheet to drop the data \n",
    "#new_sheet = client.create('target_sheet')\n",
    "\n",
    "#new_sheet.share('players@fantasy-data-build.iam.gserviceaccount.com', perm_type='user', role='writer')"
   ]
  },
  {
   "cell_type": "code",
   "execution_count": null,
   "metadata": {},
   "outputs": [],
   "source": [
    "#sheet = client.open('target_sheet')\n",
    "\n",
    "#ws = sheet.get_worksheet(0)"
   ]
  },
  {
   "cell_type": "code",
   "execution_count": null,
   "metadata": {},
   "outputs": [],
   "source": [
    "#Now will can access our google sheets we call client.open on StartupName\n",
    "test_url = 'ttps://docs.google.com/spreadsheets/d/1253330Gq5L7fnSb9e7rz0ka7fjXGfe4F9I2AzUkkz3w/edit?folder=0AHsp7iQa2x1DUk9PVA#gid=0'\n",
    "sheet = client.open_by_url(test_url)\n",
    "\n",
    "ws = sheet.get_worksheet(0)\n",
    "\n",
    "#Access all of the record inside that\n",
    "#result = sheet.get_all_record()\n",
    "\n",
    "shaped_data = df.transpose()\n",
    "\n",
    "ws.insert_row(df.columns.tolist(), 1)\n",
    "\n",
    "for i in range(1, n_rows): \n",
    "    row = df.iloc[i-1].tolist()\n",
    "    index = i+1\n",
    "    ws.insert_row(row, index)\n",
    "    print(i)\n"
   ]
  },
  {
   "cell_type": "code",
   "execution_count": null,
   "metadata": {},
   "outputs": [],
   "source": []
  }
 ],
 "metadata": {
  "kernelspec": {
   "display_name": "Python 3",
   "language": "python",
   "name": "python3"
  },
  "language_info": {
   "codemirror_mode": {
    "name": "ipython",
    "version": 3
   },
   "file_extension": ".py",
   "mimetype": "text/x-python",
   "name": "python",
   "nbconvert_exporter": "python",
   "pygments_lexer": "ipython3",
   "version": "3.6.9"
  }
 },
 "nbformat": 4,
 "nbformat_minor": 4
}
