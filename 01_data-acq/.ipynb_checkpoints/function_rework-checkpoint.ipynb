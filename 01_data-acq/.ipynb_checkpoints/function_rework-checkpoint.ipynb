{
 "cells": [
  {
   "cell_type": "markdown",
   "metadata": {},
   "source": [
    "### Breaking Scraping and Writing into two steps "
   ]
  },
  {
   "cell_type": "code",
   "execution_count": 18,
   "metadata": {},
   "outputs": [],
   "source": [
    "from requests import get \n",
    "import lxml.html as lh\n",
    "import pandas as pd\n",
    "from bs4 import BeautifulSoup "
   ]
  },
  {
   "cell_type": "markdown",
   "metadata": {},
   "source": [
    "### Getting source urls "
   ]
  },
  {
   "cell_type": "code",
   "execution_count": 19,
   "metadata": {},
   "outputs": [],
   "source": [
    "base_url = 'http://www.nfl.com/stats/weeklyleaders'\n",
    "\n",
    "weeks = [x for x in range(1,18)]\n",
    "\n",
    "stat_cat = ['Passing', 'Rushing', 'Receiving']\n",
    "\n",
    "urls = []\n",
    "\n",
    "names =[]\n",
    "\n",
    "for i in weeks:\n",
    "    for j in stat_cat:\n",
    "        full_url = base_url + '?week=' + str(i) + '&season=2019' + '&showCategory=' + j\n",
    "        urls.append(full_url)\n",
    "        name = '2019_' + 'week_' + str(i) + '_' + j\n",
    "        names.append(name)"
   ]
  },
  {
   "cell_type": "code",
   "execution_count": 20,
   "metadata": {},
   "outputs": [],
   "source": [
    "def get_url(url):\n",
    "    #grabbing the HTML and getting text \n",
    "    my_header = {'User-Agent': 'Mozilla/5.0 (Windows NT 10.0; Win64; x64) AppleWebKit/537.36 (KHTML, like Gecko) Chrome/78.0.3904.97 Safari/537.36'}\n",
    "    fantasy_page = get(url, headers = my_header)\n",
    "    \n",
    "    return(fantasy_page)"
   ]
  },
  {
   "cell_type": "code",
   "execution_count": 21,
   "metadata": {},
   "outputs": [],
   "source": [
    "def get_headers(html):\n",
    "    \n",
    "    doc = lh.fromstring(html.content)\n",
    "    \n",
    "    #getting column names \n",
    "    title = doc.xpath('//tr//th')\n",
    "    \n",
    "    colnames = []\n",
    "\n",
    "    n = len(title)\n",
    "\n",
    "    for i in range(0, n):\n",
    "        name = title[i].text_content()\n",
    "        colnames.append(name)\n",
    "    \n",
    "    return(colnames)     "
   ]
  },
  {
   "cell_type": "code",
   "execution_count": 22,
   "metadata": {},
   "outputs": [],
   "source": [
    "def get_table_data(html, colnames):\n",
    "     \n",
    "    #parsing table elements in the HTML inside the pattern \"//tr\" --> this is a table element \n",
    "    doc = lh.fromstring(html.content)\n",
    "    table_elements = doc.xpath('//tr')\n",
    "    \n",
    "    #creating an empty array to insert the table elements \n",
    "    cols = []\n",
    "\n",
    "    for j in range(0, len(colnames)):\n",
    "        name = colnames[j] #getting the column name from the HTML table \n",
    "        #print('%d:\"%s\"'% (i, name))\n",
    "        cols.append((name, []))\n",
    "\n",
    "   #Since out first row is the header, data is stored on the second row onwards\n",
    "\n",
    "    for j in range(1,len(table_elements)):\n",
    "        #T is our j'th row\n",
    "        T=table_elements[j]\n",
    "\n",
    "        #If row is not of size 24, the //tr data is not from our table \n",
    "        if len(T)!=len(colnames):\n",
    "            break\n",
    "\n",
    "        #i is the index of our column\n",
    "        i=0\n",
    "\n",
    "        #Iterate through each element of the row\n",
    "        for t in T.iterchildren():\n",
    "            data=t.text_content() \n",
    "\n",
    "            #Append the data to the empty list of the i'th column\n",
    "            cols[i][1].append(data)\n",
    "            #Increment i for the next column\n",
    "            i+=1\n",
    "    return(cols)"
   ]
  },
  {
   "cell_type": "code",
   "execution_count": 35,
   "metadata": {},
   "outputs": [],
   "source": [
    "def create_df(cols):\n",
    "    #creating a dictionary for the columns in the parsed table \n",
    "    Dict={title:column for (title,column) in cols}\n",
    "\n",
    "    df=pd.DataFrame(Dict)\n",
    "    return(df)"
   ]
  },
  {
   "cell_type": "code",
   "execution_count": 40,
   "metadata": {},
   "outputs": [],
   "source": [
    "def clean_df(df, page_url):\n",
    "    #data cleaning \n",
    "    escapes = ''.join([chr(char) for char in range(1, 32)])\n",
    "    translator = str.maketrans('', '', escapes)\n",
    "    df.columns = df.columns.str.translate(translator)\n",
    "    \n",
    "    #fixing escape charaters\n",
    "    fixed = ['Name', 'Team', 'Opp', 'Score']\n",
    "    for i in fixed:\n",
    "        df.loc[:, i] = df.loc[:, i].astype(str).str.translate(translator)\n",
    "    \n",
    "    #inputing the season week \n",
    "    week = page_url.split('week=', 1)[1][0]\n",
    "    \n",
    "    df.insert(1, 'Week', week)\n",
    "    \n",
    "    #returning the df\n",
    "    return(df)"
   ]
  },
  {
   "cell_type": "code",
   "execution_count": 9,
   "metadata": {},
   "outputs": [],
   "source": [
    "def writer(df, sheet_name, share_email):\n",
    "    #Grapping Parameters for looping \n",
    "    n_rows = df.shape[0]\n",
    "    n_cols = df.shape[1]\n",
    "    \n",
    "    #writing to google sheets \n",
    "    import time \n",
    "\n",
    "    #Now will can access our google sheets we call client.open on StartupName\n",
    "    sheet = client.create(sheet_name) #2019-q4_fantasy-web-scraping/passing\n",
    "\n",
    "    sheet.share(share_email,  perm_type='user', role='writer') #sharing my email \n",
    "    \n",
    "    #writing data to the worksheet\n",
    "    ws = sheet.get_worksheet(0)\n",
    "\n",
    "    shaped_data = df.transpose()\n",
    "\n",
    "    ws.insert_row(df.columns.tolist(), 1)\n",
    "\n",
    "    for i in range(1, n_rows+1): \n",
    "        row = df.iloc[i-1].tolist()\n",
    "        index = i+1\n",
    "        if i%100 == 0: #printing the step in the loop\n",
    "            print(i)  \n",
    "            time.sleep(60)\n",
    "            \n",
    "        ws.insert_row(row, index) #writing the data \n",
    "    \n",
    "    print('row ', i, ' end of file')"
   ]
  },
  {
   "cell_type": "markdown",
   "metadata": {},
   "source": [
    "### Looping through URLs to create dataframes"
   ]
  },
  {
   "cell_type": "code",
   "execution_count": 10,
   "metadata": {},
   "outputs": [],
   "source": [
    "#making empty dataframes\n",
    "passing = pd.DataFrame()\n",
    "receiving = pd.DataFrame()\n",
    "rushing = pd.DataFrame()"
   ]
  },
  {
   "cell_type": "code",
   "execution_count": 11,
   "metadata": {},
   "outputs": [
    {
     "name": "stdout",
     "output_type": "stream",
     "text": [
      "<Response [200]>\n",
      "<Response [200]>\n",
      "<Response [200]>\n",
      "<Response [200]>\n",
      "<Response [200]>\n",
      "<Response [200]>\n",
      "<Response [200]>\n",
      "<Response [200]>\n",
      "<Response [200]>\n",
      "<Response [200]>\n",
      "<Response [200]>\n",
      "<Response [200]>\n",
      "<Response [200]>\n",
      "<Response [200]>\n",
      "<Response [200]>\n",
      "<Response [200]>\n",
      "<Response [200]>\n",
      "<Response [200]>\n",
      "<Response [200]>\n",
      "<Response [200]>\n",
      "<Response [200]>\n",
      "<Response [200]>\n",
      "<Response [200]>\n",
      "<Response [200]>\n",
      "<Response [200]>\n",
      "<Response [200]>\n",
      "<Response [200]>\n",
      "<Response [200]>\n",
      "<Response [200]>\n",
      "<Response [200]>\n",
      "<Response [200]>\n",
      "<Response [200]>\n",
      "<Response [200]>\n",
      "<Response [200]>\n",
      "<Response [200]>\n",
      "<Response [200]>\n",
      "<Response [200]>\n",
      "<Response [200]>\n",
      "<Response [200]>\n",
      "<Response [200]>\n",
      "<Response [200]>\n",
      "<Response [200]>\n",
      "<Response [200]>\n",
      "<Response [200]>\n",
      "<Response [200]>\n",
      "<Response [200]>\n",
      "<Response [200]>\n",
      "<Response [200]>\n",
      "<Response [200]>\n",
      "<Response [200]>\n",
      "<Response [200]>\n"
     ]
    }
   ],
   "source": [
    "for i in range(0, len(urls)): \n",
    "    source_html = get_url(urls[i])\n",
    "    colnames = get_headers(source_html)\n",
    "    table_data = get_table_data(source_html, colnames)\n",
    "    raw_df = create_df(table_data)\n",
    "    df = clean_df(raw_df, urls[i])\n",
    "    \n",
    "    if 'Passing' in urls[i]: \n",
    "        passing = pd.concat([passing, df])\n",
    "    \n",
    "    elif 'Receiving' in urls[i]: \n",
    "        receiving = pd.concat([receiving, df])\n",
    "        \n",
    "    else: \n",
    "        rushing = pd.concat([rushing, df])\n",
    "    "
   ]
  },
  {
   "cell_type": "code",
   "execution_count": 12,
   "metadata": {},
   "outputs": [
    {
     "name": "stdout",
     "output_type": "stream",
     "text": [
      "Passing (621, 13)\n",
      "Receiving (4101, 10)\n",
      "Rushing (2061, 10)\n"
     ]
    }
   ],
   "source": [
    "print('Passing', passing.shape)\n",
    "\n",
    "print('Receiving', receiving.shape)\n",
    "\n",
    "print('Rushing', rushing.shape)"
   ]
  },
  {
   "cell_type": "code",
   "execution_count": 21,
   "metadata": {},
   "outputs": [
    {
     "data": {
      "text/plain": [
       "(621, 13)"
      ]
     },
     "execution_count": 21,
     "metadata": {},
     "output_type": "execute_result"
    }
   ],
   "source": [
    "passing.shape"
   ]
  },
  {
   "cell_type": "markdown",
   "metadata": {},
   "source": [
    "### Writing the data "
   ]
  },
  {
   "cell_type": "code",
   "execution_count": 19,
   "metadata": {},
   "outputs": [],
   "source": [
    "#import library\n",
    "import gspread \n",
    "#Service client credential from oauth2client\n",
    "from oauth2client.service_account import ServiceAccountCredentials\n",
    "# Print nicely\n",
    "import pprint\n",
    "#Create scope\n",
    "scope = ['https://spreadsheets.google.com/feeds', 'https://www.googleapis.com/auth/drive']\n",
    "#create some credential using that scope and content of startup_funding.json\n",
    "creds = ServiceAccountCredentials.from_json_keyfile_name('../quickstart/g_sheet_creds.json',scope)\n",
    "#create gspread authorize using that credential\n",
    "client = gspread.authorize(creds)\n",
    "my_email = 'matthewjchristy66@gmail.com'"
   ]
  },
  {
   "cell_type": "code",
   "execution_count": 31,
   "metadata": {},
   "outputs": [],
   "source": [
    "sheet = client.create('batch_test') #2019-q4_fantasy-web-scraping/passing\n",
    "\n",
    "sheet.share('matthewjchristy66@gmail.com',  perm_type='user', role='writer') #sharing my email    "
   ]
  },
  {
   "cell_type": "code",
   "execution_count": 32,
   "metadata": {},
   "outputs": [],
   "source": [
    "import string\n",
    "end_col = string.ascii_uppercase[13]"
   ]
  },
  {
   "cell_type": "code",
   "execution_count": 37,
   "metadata": {},
   "outputs": [
    {
     "name": "stdout",
     "output_type": "stream",
     "text": [
      "'A1:N621'\n"
     ]
    }
   ],
   "source": [
    "sheet_range = \"'\" + 'A1:'+ end_col + str(passing.shape[0]) + \"'\"\n",
    "print(sheet_range)"
   ]
  },
  {
   "cell_type": "code",
   "execution_count": 40,
   "metadata": {},
   "outputs": [
    {
     "ename": "AttributeError",
     "evalue": "'str' object has no attribute 'row'",
     "output_type": "error",
     "traceback": [
      "\u001b[1;31m---------------------------------------------------------------------------\u001b[0m",
      "\u001b[1;31mAttributeError\u001b[0m                            Traceback (most recent call last)",
      "\u001b[1;32m<ipython-input-40-2812d71fa7d7>\u001b[0m in \u001b[0;36m<module>\u001b[1;34m\u001b[0m\n\u001b[0;32m      1\u001b[0m \u001b[0mws\u001b[0m \u001b[1;33m=\u001b[0m \u001b[0msheet\u001b[0m\u001b[1;33m.\u001b[0m\u001b[0mget_worksheet\u001b[0m\u001b[1;33m(\u001b[0m\u001b[1;36m0\u001b[0m\u001b[1;33m)\u001b[0m\u001b[1;33m\u001b[0m\u001b[1;33m\u001b[0m\u001b[0m\n\u001b[0;32m      2\u001b[0m \u001b[1;33m\u001b[0m\u001b[0m\n\u001b[1;32m----> 3\u001b[1;33m \u001b[0mws\u001b[0m\u001b[1;33m.\u001b[0m\u001b[0mupdate_cells\u001b[0m\u001b[1;33m(\u001b[0m\u001b[1;34m'A1:N621'\u001b[0m\u001b[1;33m,\u001b[0m \u001b[0mpassing\u001b[0m\u001b[1;33m.\u001b[0m\u001b[0mT\u001b[0m\u001b[1;33m.\u001b[0m\u001b[0mreset_index\u001b[0m\u001b[1;33m(\u001b[0m\u001b[1;33m)\u001b[0m\u001b[1;33m.\u001b[0m\u001b[0mT\u001b[0m\u001b[1;33m.\u001b[0m\u001b[0mvalues\u001b[0m\u001b[1;33m.\u001b[0m\u001b[0mtolist\u001b[0m\u001b[1;33m(\u001b[0m\u001b[1;33m)\u001b[0m\u001b[1;33m)\u001b[0m\u001b[1;33m\u001b[0m\u001b[1;33m\u001b[0m\u001b[0m\n\u001b[0m",
      "\u001b[1;32m~\\.julia\\conda\\3\\lib\\site-packages\\gspread\\models.py\u001b[0m in \u001b[0;36mupdate_cells\u001b[1;34m(self, cell_list, value_input_option)\u001b[0m\n\u001b[0;32m    767\u001b[0m         \"\"\"\n\u001b[0;32m    768\u001b[0m \u001b[1;33m\u001b[0m\u001b[0m\n\u001b[1;32m--> 769\u001b[1;33m         \u001b[0mvalues_rect\u001b[0m \u001b[1;33m=\u001b[0m \u001b[0mcell_list_to_rect\u001b[0m\u001b[1;33m(\u001b[0m\u001b[0mcell_list\u001b[0m\u001b[1;33m)\u001b[0m\u001b[1;33m\u001b[0m\u001b[1;33m\u001b[0m\u001b[0m\n\u001b[0m\u001b[0;32m    770\u001b[0m \u001b[1;33m\u001b[0m\u001b[0m\n\u001b[0;32m    771\u001b[0m         \u001b[0mstart\u001b[0m \u001b[1;33m=\u001b[0m \u001b[0mrowcol_to_a1\u001b[0m\u001b[1;33m(\u001b[0m\u001b[0mmin\u001b[0m\u001b[1;33m(\u001b[0m\u001b[0mc\u001b[0m\u001b[1;33m.\u001b[0m\u001b[0mrow\u001b[0m \u001b[1;32mfor\u001b[0m \u001b[0mc\u001b[0m \u001b[1;32min\u001b[0m \u001b[0mcell_list\u001b[0m\u001b[1;33m)\u001b[0m\u001b[1;33m,\u001b[0m \u001b[0mmin\u001b[0m\u001b[1;33m(\u001b[0m\u001b[0mc\u001b[0m\u001b[1;33m.\u001b[0m\u001b[0mcol\u001b[0m \u001b[1;32mfor\u001b[0m \u001b[0mc\u001b[0m \u001b[1;32min\u001b[0m \u001b[0mcell_list\u001b[0m\u001b[1;33m)\u001b[0m\u001b[1;33m)\u001b[0m\u001b[1;33m\u001b[0m\u001b[1;33m\u001b[0m\u001b[0m\n",
      "\u001b[1;32m~\\.julia\\conda\\3\\lib\\site-packages\\gspread\\utils.py\u001b[0m in \u001b[0;36mcell_list_to_rect\u001b[1;34m(cell_list)\u001b[0m\n\u001b[0;32m    231\u001b[0m     \u001b[0mrows\u001b[0m \u001b[1;33m=\u001b[0m \u001b[0mdefaultdict\u001b[0m\u001b[1;33m(\u001b[0m\u001b[1;32mlambda\u001b[0m\u001b[1;33m:\u001b[0m \u001b[1;33m{\u001b[0m\u001b[1;33m}\u001b[0m\u001b[1;33m)\u001b[0m\u001b[1;33m\u001b[0m\u001b[1;33m\u001b[0m\u001b[0m\n\u001b[0;32m    232\u001b[0m \u001b[1;33m\u001b[0m\u001b[0m\n\u001b[1;32m--> 233\u001b[1;33m     \u001b[0mrow_offset\u001b[0m \u001b[1;33m=\u001b[0m \u001b[0mcell_list\u001b[0m\u001b[1;33m[\u001b[0m\u001b[1;36m0\u001b[0m\u001b[1;33m]\u001b[0m\u001b[1;33m.\u001b[0m\u001b[0mrow\u001b[0m\u001b[1;33m\u001b[0m\u001b[1;33m\u001b[0m\u001b[0m\n\u001b[0m\u001b[0;32m    234\u001b[0m     \u001b[0mcol_offset\u001b[0m \u001b[1;33m=\u001b[0m \u001b[0mcell_list\u001b[0m\u001b[1;33m[\u001b[0m\u001b[1;36m0\u001b[0m\u001b[1;33m]\u001b[0m\u001b[1;33m.\u001b[0m\u001b[0mcol\u001b[0m\u001b[1;33m\u001b[0m\u001b[1;33m\u001b[0m\u001b[0m\n\u001b[0;32m    235\u001b[0m \u001b[1;33m\u001b[0m\u001b[0m\n",
      "\u001b[1;31mAttributeError\u001b[0m: 'str' object has no attribute 'row'"
     ]
    }
   ],
   "source": [
    "ws = sheet.get_worksheet(0)\n",
    "\n",
    "ws.update_cells('A1:N621', passing.T.reset_index().T.values.tolist())"
   ]
  },
  {
   "cell_type": "code",
   "execution_count": 47,
   "metadata": {},
   "outputs": [
    {
     "ename": "TypeError",
     "evalue": "upload() got an unexpected keyword argument 'spreadsheet_key'",
     "output_type": "error",
     "traceback": [
      "\u001b[1;31m---------------------------------------------------------------------------\u001b[0m",
      "\u001b[1;31mTypeError\u001b[0m                                 Traceback (most recent call last)",
      "\u001b[1;32m<ipython-input-47-b877f50dc821>\u001b[0m in \u001b[0;36m<module>\u001b[1;34m\u001b[0m\n\u001b[0;32m      1\u001b[0m \u001b[0mwks_name\u001b[0m \u001b[1;33m=\u001b[0m \u001b[1;34m'Sheet1'\u001b[0m\u001b[1;33m\u001b[0m\u001b[1;33m\u001b[0m\u001b[0m\n\u001b[1;32m----> 2\u001b[1;33m \u001b[0md2g\u001b[0m\u001b[1;33m.\u001b[0m\u001b[0mupload\u001b[0m\u001b[1;33m(\u001b[0m\u001b[0mdf\u001b[0m\u001b[1;33m,\u001b[0m \u001b[0mspreadsheet_key\u001b[0m \u001b[1;33m=\u001b[0m \u001b[1;34m'1vlVBXccA1tiJ6PpAeUX0LuYuHgLws91gNqf1lWRX9p4'\u001b[0m\u001b[1;33m,\u001b[0m \u001b[0mwks_name\u001b[0m \u001b[1;33m=\u001b[0m \u001b[1;34m'batch_test'\u001b[0m\u001b[1;33m,\u001b[0m \u001b[0mcredentials\u001b[0m\u001b[1;33m=\u001b[0m\u001b[0mcreds\u001b[0m\u001b[1;33m,\u001b[0m \u001b[0mrow_names\u001b[0m\u001b[1;33m=\u001b[0m\u001b[1;32mFalse\u001b[0m\u001b[1;33m)\u001b[0m\u001b[1;33m\u001b[0m\u001b[1;33m\u001b[0m\u001b[0m\n\u001b[0m",
      "\u001b[1;31mTypeError\u001b[0m: upload() got an unexpected keyword argument 'spreadsheet_key'"
     ]
    }
   ],
   "source": [
    "wks_name = 'Sheet1'\n",
    "d2g.upload(df, spreadsheet_key = '1vlVBXccA1tiJ6PpAeUX0LuYuHgLws91gNqf1lWRX9p4', wks_name = 'batch_test', credentials=creds, row_names=False)"
   ]
  },
  {
   "cell_type": "code",
   "execution_count": 45,
   "metadata": {},
   "outputs": [
    {
     "ename": "NameError",
     "evalue": "name 'batch_test' is not defined",
     "output_type": "error",
     "traceback": [
      "\u001b[1;31m---------------------------------------------------------------------------\u001b[0m",
      "\u001b[1;31mNameError\u001b[0m                                 Traceback (most recent call last)",
      "\u001b[1;32m<ipython-input-45-04ae0b202582>\u001b[0m in \u001b[0;36m<module>\u001b[1;34m\u001b[0m\n\u001b[1;32m----> 1\u001b[1;33m \u001b[0mbatch_test\u001b[0m\u001b[1;33m.\u001b[0m\u001b[0msheet\u001b[0m\u001b[1;33m.\u001b[0m\u001b[0mshare\u001b[0m\u001b[1;33m(\u001b[0m\u001b[1;34m'matthewjchristy66@gmail.com'\u001b[0m\u001b[1;33m,\u001b[0m  \u001b[0mperm_type\u001b[0m\u001b[1;33m=\u001b[0m\u001b[1;34m'user'\u001b[0m\u001b[1;33m,\u001b[0m \u001b[0mrole\u001b[0m\u001b[1;33m=\u001b[0m\u001b[1;34m'writer'\u001b[0m\u001b[1;33m)\u001b[0m\u001b[1;33m\u001b[0m\u001b[1;33m\u001b[0m\u001b[0m\n\u001b[0m",
      "\u001b[1;31mNameError\u001b[0m: name 'batch_test' is not defined"
     ]
    }
   ],
   "source": [
    "batch_test.sheet.share('matthewjchristy66@gmail.com',  perm_type='user', role='writer') "
   ]
  },
  {
   "cell_type": "code",
   "execution_count": null,
   "metadata": {},
   "outputs": [],
   "source": [
    "#writer(passing, 'passing', share_email = my_email) done "
   ]
  },
  {
   "cell_type": "code",
   "execution_count": null,
   "metadata": {},
   "outputs": [],
   "source": [
    "writer(receiving, 'receiving', share_email = my_email)"
   ]
  },
  {
   "cell_type": "code",
   "execution_count": null,
   "metadata": {},
   "outputs": [],
   "source": [
    "\n",
    "writer(rushing, 'rushing', share_email = my_email)"
   ]
  }
 ],
 "metadata": {
  "kernelspec": {
   "display_name": "Python 3",
   "language": "python",
   "name": "python3"
  },
  "language_info": {
   "codemirror_mode": {
    "name": "ipython",
    "version": 3
   },
   "file_extension": ".py",
   "mimetype": "text/x-python",
   "name": "python",
   "nbconvert_exporter": "python",
   "pygments_lexer": "ipython3",
   "version": "3.6.9"
  }
 },
 "nbformat": 4,
 "nbformat_minor": 4
}
