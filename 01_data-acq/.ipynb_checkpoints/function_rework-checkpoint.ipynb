{
 "cells": [
  {
   "cell_type": "markdown",
   "metadata": {},
   "source": [
    "### Breaking Scraping and Writing into two steps "
   ]
  },
  {
   "cell_type": "code",
   "execution_count": 1,
   "metadata": {},
   "outputs": [],
   "source": [
    "from requests import get \n",
    "import lxml.html as lh\n",
    "import pandas as pd\n",
    "from bs4 import BeautifulSoup "
   ]
  },
  {
   "cell_type": "markdown",
   "metadata": {},
   "source": [
    "### Getting source urls "
   ]
  },
  {
   "cell_type": "code",
   "execution_count": 2,
   "metadata": {},
   "outputs": [],
   "source": [
    "base_url = 'http://www.nfl.com/stats/weeklyleaders'\n",
    "\n",
    "weeks = [x for x in range(1,17)]\n",
    "\n",
    "stat_cat = ['Passing', 'Rushing', 'Receiving']\n",
    "\n",
    "urls = []\n",
    "\n",
    "names =[]\n",
    "\n",
    "for i in weeks:\n",
    "    for j in stat_cat:\n",
    "        full_url = base_url + '?week=' + str(i) + '&season=2019' + '&showCategory=' + j\n",
    "        urls.append(full_url)\n",
    "        name = '2019_' + 'week_' + str(i) + '_' + j\n",
    "        names.append(name)"
   ]
  },
  {
   "cell_type": "code",
   "execution_count": 36,
   "metadata": {},
   "outputs": [
    {
     "data": {
      "text/plain": [
       "'1'"
      ]
     },
     "execution_count": 36,
     "metadata": {},
     "output_type": "execute_result"
    }
   ],
   "source": [
    "n.split('week_', 1)[1][0]"
   ]
  },
  {
   "cell_type": "code",
   "execution_count": 41,
   "metadata": {},
   "outputs": [
    {
     "data": {
      "text/plain": [
       "'1'"
      ]
     },
     "execution_count": 41,
     "metadata": {},
     "output_type": "execute_result"
    }
   ],
   "source": [
    "urls[0].split('week=',1)[1][0]"
   ]
  },
  {
   "cell_type": "code",
   "execution_count": 3,
   "metadata": {},
   "outputs": [],
   "source": [
    "def scrape(page_url): \n",
    "    my_header = {'User-Agent': 'Mozilla/5.0 (Windows NT 10.0; Win64; x64) AppleWebKit/537.36 (KHTML, like Gecko) Chrome/78.0.3904.97 Safari/537.36'}\n",
    "    \n",
    "    #grabbing the HTML and getting text \n",
    "    fantasy_page = get(page_url, headers = my_header)\n",
    "\n",
    "    doc = lh.fromstring(fantasy_page.content)\n",
    "    \n",
    "    print(fantasy_page)\n",
    "    \n",
    "    #parsing table elements in the HTML inside the pattern \"//tr\" --> this is a table element \n",
    "\n",
    "    table_elements = doc.xpath('//tr')\n",
    "    \n",
    "    #getting column names \n",
    "    title = doc.xpath('//tr//th')\n",
    "    \n",
    "    colnames = []\n",
    "\n",
    "    n = len(title)\n",
    "\n",
    "    for i in range(0, n):\n",
    "        name = title[i].text_content()\n",
    "        colnames.append(name)\n",
    "            \n",
    "  #creating an empty array to insert the table elements \n",
    "    cols = []\n",
    "\n",
    "    i = 0 #setting the increment \n",
    "\n",
    "    for j in range(0, len(colnames)):\n",
    "        i+1\n",
    "        name = colnames[j] #getting the column name from the HTML table \n",
    "        #print('%d:\"%s\"'% (i, name))\n",
    "        cols.append((name, []))\n",
    "\n",
    "   #Since out first row is the header, data is stored on the second row onwards\n",
    "\n",
    "    for j in range(1,len(table_elements)):\n",
    "        #T is our j'th row\n",
    "        T=table_elements[j]\n",
    "\n",
    "        #If row is not of size 24, the //tr data is not from our table \n",
    "        if len(T)!=len(colnames):\n",
    "            break\n",
    "\n",
    "        #i is the index of our column\n",
    "        i=0\n",
    "\n",
    "        #Iterate through each element of the row\n",
    "        for t in T.iterchildren():\n",
    "            data=t.text_content() \n",
    "\n",
    "            #Append the data to the empty list of the i'th column\n",
    "            cols[i][1].append(data)\n",
    "            #Increment i for the next column\n",
    "            i+=1\n",
    "        \n",
    "    #creating a dictionary for the columns in the parsed table \n",
    "    Dict={title:column for (title,column) in cols}\n",
    "\n",
    "    df=pd.DataFrame(Dict)\n",
    "    \n",
    "    #data cleaning \n",
    "    escapes = ''.join([chr(char) for char in range(1, 32)])\n",
    "    translator = str.maketrans('', '', escapes)\n",
    "    df.columns = df.columns.str.translate(translator)\n",
    "    \n",
    "    #fixing escape charaters\n",
    "    fixed = ['Name', 'Team', 'Opp', 'Score']\n",
    "    for i in fixed:\n",
    "        df.loc[:, i] = df.loc[:, i].astype(str).str.translate(translator)\n",
    "    \n",
    "    #inputing the season week \n",
    "    week = page_url.split('week=', 1)[1][0]\n",
    "    \n",
    "    df.insert(1, 'Week', week)\n",
    "    \n",
    "    #returning the df\n",
    "    return(df)\n",
    "        "
   ]
  },
  {
   "cell_type": "code",
   "execution_count": 4,
   "metadata": {},
   "outputs": [],
   "source": [
    "def writer(df, sheet_name, share_email):\n",
    "    #Grapping Parameters for looping \n",
    "    n_rows = df.shape[0]\n",
    "    n_cols = df.shape[1]\n",
    "    \n",
    "    #writing to google sheets \n",
    "    import time \n",
    "\n",
    "    #Now will can access our google sheets we call client.open on StartupName\n",
    "    sheet = client.create(sheet_name) #2019-q4_fantasy-web-scraping/passing\n",
    "\n",
    "    sheet.share(share_email,  perm_type='user', role='writer') #sharing my email \n",
    "    \n",
    "    #writing data to the worksheet\n",
    "    ws = sheet.get_worksheet(0)\n",
    "\n",
    "    shaped_data = df.transpose()\n",
    "\n",
    "    ws.insert_row(df.columns.tolist(), 1)\n",
    "\n",
    "    for i in range(1, n_rows+1): \n",
    "        row = df.iloc[i-1].tolist()\n",
    "        index = i+1\n",
    "        if i%10 == 0: #printing the step in the loop\n",
    "            print(i)  \n",
    "            time.sleep(20)\n",
    "            \n",
    "        ws.insert_row(row, index) #writing the data \n",
    "    \n",
    "    print('row ', i, ' end of file')"
   ]
  },
  {
   "cell_type": "markdown",
   "metadata": {},
   "source": [
    "### Looping through URLs to create dataframes"
   ]
  },
  {
   "cell_type": "code",
   "execution_count": 5,
   "metadata": {},
   "outputs": [],
   "source": [
    "#making empty dataframes\n",
    "\n",
    "passing = pd.DataFrame()\n",
    "receiving = pd.DataFrame()\n",
    "rushing = pd.DataFrame()"
   ]
  },
  {
   "cell_type": "code",
   "execution_count": 6,
   "metadata": {},
   "outputs": [
    {
     "name": "stdout",
     "output_type": "stream",
     "text": [
      "<Response [200]>\n",
      "<Response [200]>\n",
      "<Response [200]>\n",
      "<Response [200]>\n",
      "<Response [200]>\n",
      "<Response [200]>\n",
      "<Response [200]>\n",
      "<Response [200]>\n",
      "<Response [200]>\n",
      "<Response [200]>\n",
      "<Response [200]>\n",
      "<Response [200]>\n",
      "<Response [200]>\n",
      "<Response [200]>\n",
      "<Response [200]>\n",
      "<Response [200]>\n",
      "<Response [200]>\n",
      "<Response [200]>\n",
      "<Response [200]>\n",
      "<Response [200]>\n",
      "<Response [200]>\n",
      "<Response [200]>\n",
      "<Response [200]>\n",
      "<Response [200]>\n",
      "<Response [200]>\n",
      "<Response [200]>\n",
      "<Response [200]>\n",
      "<Response [200]>\n",
      "<Response [200]>\n",
      "<Response [200]>\n",
      "<Response [200]>\n",
      "<Response [200]>\n",
      "<Response [200]>\n",
      "<Response [200]>\n",
      "<Response [200]>\n",
      "<Response [200]>\n",
      "<Response [200]>\n",
      "<Response [200]>\n",
      "<Response [200]>\n",
      "<Response [200]>\n",
      "<Response [200]>\n",
      "<Response [200]>\n",
      "<Response [200]>\n",
      "<Response [200]>\n",
      "<Response [200]>\n",
      "<Response [200]>\n",
      "<Response [200]>\n",
      "<Response [200]>\n"
     ]
    }
   ],
   "source": [
    "for i in range(0, len(urls)): \n",
    "    df = scrape(urls[i])\n",
    "    \n",
    "    if 'Passing' in urls[i]: \n",
    "        passing = pd.concat([passing, df])\n",
    "    \n",
    "    elif 'Receiving' in urls[i]: \n",
    "        receiving = pd.concat([receiving, df])\n",
    "        \n",
    "    else: \n",
    "        rushing = pd.concat([rushing, df])\n",
    "    "
   ]
  },
  {
   "cell_type": "code",
   "execution_count": 10,
   "metadata": {},
   "outputs": [
    {
     "name": "stdout",
     "output_type": "stream",
     "text": [
      "Passing (581, 12)\n",
      "Receiving (3851, 9)\n",
      "Rushing (1920, 9)\n"
     ]
    }
   ],
   "source": [
    "print('Passing', passing.shape)\n",
    "\n",
    "print('Receiving', receiving.shape)\n",
    "\n",
    "print('Rushing', rushing.shape)"
   ]
  },
  {
   "cell_type": "code",
   "execution_count": 19,
   "metadata": {},
   "outputs": [
    {
     "data": {
      "text/plain": [
       "Name     Jacob Hollister\n",
       "Team                 SEA\n",
       "Opp                vs TB\n",
       "Score           W 40-34 \n",
       "Rec                    4\n",
       "Yds                   37\n",
       "Avg                  9.2\n",
       "TD                     2\n",
       "FUM                    0\n",
       "Name: 75, dtype: object"
      ]
     },
     "execution_count": 19,
     "metadata": {},
     "output_type": "execute_result"
    }
   ],
   "source": [
    "receiving.iloc[2000, :]"
   ]
  },
  {
   "cell_type": "code",
   "execution_count": 17,
   "metadata": {},
   "outputs": [
    {
     "data": {
      "text/plain": [
       "Name     Nick Foles\n",
       "Team            JAX\n",
       "Opp           vs TB\n",
       "Score      L 11-28 \n",
       "Att               1\n",
       "Yds               3\n",
       "Avg             3.0\n",
       "TD                0\n",
       "FUM               2\n",
       "Name: 98, dtype: object"
      ]
     },
     "execution_count": 17,
     "metadata": {},
     "output_type": "execute_result"
    }
   ],
   "source": [
    "rushing.iloc[1500, :]"
   ]
  },
  {
   "cell_type": "markdown",
   "metadata": {},
   "source": [
    "### Writing the data "
   ]
  },
  {
   "cell_type": "code",
   "execution_count": 14,
   "metadata": {},
   "outputs": [],
   "source": [
    "#import library\n",
    "import gspread \n",
    "#Service client credential from oauth2client\n",
    "from oauth2client.service_account import ServiceAccountCredentials\n",
    "# Print nicely\n",
    "import pprint\n",
    "#Create scope\n",
    "scope = ['https://spreadsheets.google.com/feeds', 'https://www.googleapis.com/auth/drive']\n",
    "#create some credential using that scope and content of startup_funding.json\n",
    "creds = ServiceAccountCredentials.from_json_keyfile_name('../quickstart/g_sheet_creds.json',scope)\n",
    "#create gspread authorize using that credential\n",
    "client = gspread.authorize(creds)\n",
    "my_email = 'matthewjchristy66@gmail.com'"
   ]
  },
  {
   "cell_type": "code",
   "execution_count": null,
   "metadata": {},
   "outputs": [],
   "source": [
    "#writer(passing, 'passing', share_email = my_email) done "
   ]
  },
  {
   "cell_type": "code",
   "execution_count": 20,
   "metadata": {},
   "outputs": [
    {
     "name": "stdout",
     "output_type": "stream",
     "text": [
      "10\n",
      "20\n",
      "30\n",
      "40\n",
      "50\n",
      "60\n",
      "70\n",
      "80\n",
      "90\n",
      "100\n",
      "110\n",
      "120\n",
      "130\n",
      "140\n",
      "150\n",
      "160\n",
      "170\n",
      "180\n",
      "190\n",
      "200\n",
      "210\n",
      "220\n",
      "230\n",
      "240\n",
      "250\n",
      "260\n",
      "270\n",
      "280\n",
      "290\n",
      "300\n",
      "310\n",
      "320\n",
      "330\n",
      "340\n",
      "350\n",
      "360\n",
      "370\n",
      "380\n",
      "390\n",
      "400\n",
      "410\n",
      "420\n",
      "430\n",
      "440\n",
      "450\n",
      "460\n",
      "470\n",
      "480\n",
      "490\n",
      "500\n",
      "510\n",
      "520\n",
      "530\n",
      "540\n",
      "550\n",
      "560\n",
      "570\n",
      "580\n",
      "590\n",
      "600\n",
      "610\n",
      "620\n",
      "630\n",
      "640\n",
      "650\n",
      "660\n",
      "670\n",
      "680\n",
      "690\n",
      "700\n",
      "710\n",
      "720\n",
      "730\n",
      "740\n",
      "750\n",
      "760\n",
      "770\n",
      "780\n",
      "790\n",
      "800\n",
      "810\n",
      "820\n",
      "830\n",
      "840\n"
     ]
    },
    {
     "ename": "KeyboardInterrupt",
     "evalue": "",
     "output_type": "error",
     "traceback": [
      "\u001b[1;31m---------------------------------------------------------------------------\u001b[0m",
      "\u001b[1;31mKeyboardInterrupt\u001b[0m                         Traceback (most recent call last)",
      "\u001b[1;32m<ipython-input-20-96cf99380536>\u001b[0m in \u001b[0;36m<module>\u001b[1;34m\u001b[0m\n\u001b[1;32m----> 1\u001b[1;33m \u001b[0mwriter\u001b[0m\u001b[1;33m(\u001b[0m\u001b[0mreceiving\u001b[0m\u001b[1;33m,\u001b[0m \u001b[1;34m'receiving'\u001b[0m\u001b[1;33m,\u001b[0m \u001b[0mshare_email\u001b[0m \u001b[1;33m=\u001b[0m \u001b[0mmy_email\u001b[0m\u001b[1;33m)\u001b[0m\u001b[1;33m\u001b[0m\u001b[1;33m\u001b[0m\u001b[0m\n\u001b[0m",
      "\u001b[1;32m<ipython-input-4-ec3600804197>\u001b[0m in \u001b[0;36mwriter\u001b[1;34m(df, sheet_name, share_email)\u001b[0m\n\u001b[0;32m     24\u001b[0m         \u001b[1;32mif\u001b[0m \u001b[0mi\u001b[0m\u001b[1;33m%\u001b[0m\u001b[1;36m10\u001b[0m \u001b[1;33m==\u001b[0m \u001b[1;36m0\u001b[0m\u001b[1;33m:\u001b[0m \u001b[1;31m#printing the step in the loop\u001b[0m\u001b[1;33m\u001b[0m\u001b[1;33m\u001b[0m\u001b[0m\n\u001b[0;32m     25\u001b[0m             \u001b[0mprint\u001b[0m\u001b[1;33m(\u001b[0m\u001b[0mi\u001b[0m\u001b[1;33m)\u001b[0m\u001b[1;33m\u001b[0m\u001b[1;33m\u001b[0m\u001b[0m\n\u001b[1;32m---> 26\u001b[1;33m             \u001b[0mtime\u001b[0m\u001b[1;33m.\u001b[0m\u001b[0msleep\u001b[0m\u001b[1;33m(\u001b[0m\u001b[1;36m20\u001b[0m\u001b[1;33m)\u001b[0m\u001b[1;33m\u001b[0m\u001b[1;33m\u001b[0m\u001b[0m\n\u001b[0m\u001b[0;32m     27\u001b[0m \u001b[1;33m\u001b[0m\u001b[0m\n\u001b[0;32m     28\u001b[0m         \u001b[0mws\u001b[0m\u001b[1;33m.\u001b[0m\u001b[0minsert_row\u001b[0m\u001b[1;33m(\u001b[0m\u001b[0mrow\u001b[0m\u001b[1;33m,\u001b[0m \u001b[0mindex\u001b[0m\u001b[1;33m)\u001b[0m \u001b[1;31m#writing the data\u001b[0m\u001b[1;33m\u001b[0m\u001b[1;33m\u001b[0m\u001b[0m\n",
      "\u001b[1;31mKeyboardInterrupt\u001b[0m: "
     ]
    }
   ],
   "source": [
    "writer(receiving, 'receiving', share_email = my_email)"
   ]
  },
  {
   "cell_type": "code",
   "execution_count": null,
   "metadata": {},
   "outputs": [],
   "source": [
    "\n",
    "writer(rushing, 'rushing', share_email = my_email)"
   ]
  }
 ],
 "metadata": {
  "kernelspec": {
   "display_name": "Python 3",
   "language": "python",
   "name": "python3"
  },
  "language_info": {
   "codemirror_mode": {
    "name": "ipython",
    "version": 3
   },
   "file_extension": ".py",
   "mimetype": "text/x-python",
   "name": "python",
   "nbconvert_exporter": "python",
   "pygments_lexer": "ipython3",
   "version": "3.6.9"
  }
 },
 "nbformat": 4,
 "nbformat_minor": 4
}
